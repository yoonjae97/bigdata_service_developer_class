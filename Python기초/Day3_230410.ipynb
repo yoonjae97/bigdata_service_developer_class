{
 "cells": [
  {
   "cell_type": "markdown",
   "id": "ede8610e",
   "metadata": {},
   "source": [
    "## 리스트, 튜플"
   ]
  },
  {
   "cell_type": "code",
   "execution_count": 2,
   "id": "35395553",
   "metadata": {},
   "outputs": [
    {
     "name": "stdout",
     "output_type": "stream",
     "text": [
      "2\n",
      "9\n",
      "17\n"
     ]
    }
   ],
   "source": [
    "list1 = [2, 5, 7, 9, 10]\n",
    "print(list1[0])\n",
    "print(list1[3])\n",
    "print(list1[2] + list1[-1])"
   ]
  },
  {
   "cell_type": "code",
   "execution_count": 8,
   "id": "69db549f",
   "metadata": {},
   "outputs": [
    {
     "name": "stdout",
     "output_type": "stream",
     "text": [
      "['a', 'b', 'c']\n",
      "b\n"
     ]
    }
   ],
   "source": [
    "list2 = [1, 2, 3, ['a', 'b', 'c']]\n",
    "temp = list2[-1]\n",
    "print(temp)\n",
    "print(list2[-1][1])"
   ]
  },
  {
   "cell_type": "code",
   "execution_count": 9,
   "id": "a1f50120",
   "metadata": {},
   "outputs": [
    {
     "data": {
      "text/plain": [
       "[1, 2]"
      ]
     },
     "execution_count": 9,
     "metadata": {},
     "output_type": "execute_result"
    }
   ],
   "source": [
    "list3 = [0, 1, 2, 3, 4]\n",
    "list3[1:3]"
   ]
  },
  {
   "cell_type": "code",
   "execution_count": 10,
   "id": "69414795",
   "metadata": {},
   "outputs": [
    {
     "data": {
      "text/plain": [
       "[0, 1]"
      ]
     },
     "execution_count": 10,
     "metadata": {},
     "output_type": "execute_result"
    }
   ],
   "source": [
    "list3[:2]"
   ]
  },
  {
   "cell_type": "code",
   "execution_count": 13,
   "id": "e2b8c26a",
   "metadata": {},
   "outputs": [
    {
     "data": {
      "text/plain": [
       "[3, 4]"
      ]
     },
     "execution_count": 13,
     "metadata": {},
     "output_type": "execute_result"
    }
   ],
   "source": [
    "list3[3:]"
   ]
  },
  {
   "cell_type": "code",
   "execution_count": 12,
   "id": "e844af7c",
   "metadata": {},
   "outputs": [
    {
     "data": {
      "text/plain": [
       "[3]"
      ]
     },
     "execution_count": 12,
     "metadata": {},
     "output_type": "execute_result"
    }
   ],
   "source": [
    "list3[3:4]"
   ]
  },
  {
   "cell_type": "code",
   "execution_count": 14,
   "id": "4fbf7b78",
   "metadata": {},
   "outputs": [
    {
     "data": {
      "text/plain": [
       "[1, 2, 3, 3, 4, 5, 6]"
      ]
     },
     "execution_count": 14,
     "metadata": {},
     "output_type": "execute_result"
    }
   ],
   "source": [
    "list4 = [1, 2, 3]\n",
    "list5 = [3, 4, 5, 6]\n",
    "list4 + list5"
   ]
  },
  {
   "cell_type": "code",
   "execution_count": 15,
   "id": "9fa97322",
   "metadata": {},
   "outputs": [
    {
     "data": {
      "text/plain": [
       "[0, 1, 2, 3, 4, 5]"
      ]
     },
     "execution_count": 15,
     "metadata": {},
     "output_type": "execute_result"
    }
   ],
   "source": [
    "list5 = [0, 1, 2, 3, 4]\n",
    "list5.append(5)\n",
    "list5"
   ]
  },
  {
   "cell_type": "code",
   "execution_count": 16,
   "id": "b7e38228",
   "metadata": {},
   "outputs": [
    {
     "data": {
      "text/plain": [
       "[0, 1, 2, 3, 4, 5, 6]"
      ]
     },
     "execution_count": 16,
     "metadata": {},
     "output_type": "execute_result"
    }
   ],
   "source": [
    "list5.append(6)\n",
    "list5"
   ]
  },
  {
   "cell_type": "code",
   "execution_count": 22,
   "id": "c51946ff",
   "metadata": {},
   "outputs": [
    {
     "name": "stdout",
     "output_type": "stream",
     "text": [
      "['사과', '오렌지', '수박']\n"
     ]
    }
   ],
   "source": [
    "list_ = ['사과', '포도', ['수박', '멜론'], '복숭아', '딸기', '오렌지']\n",
    "\n",
    "apple = list_[0]\n",
    "water_melon = list_[2][0]\n",
    "orange = list_[-1]\n",
    "choice_list = []\n",
    "\n",
    "choice_list.append(apple)\n",
    "choice_list.append(orange)\n",
    "choice_list.append(water_melon)\n",
    "# choice_list.extend([apple, orange, water_melon])\n",
    "\n",
    "print(choice_list)"
   ]
  },
  {
   "cell_type": "code",
   "execution_count": 23,
   "id": "c859128e",
   "metadata": {},
   "outputs": [
    {
     "data": {
      "text/plain": [
       "[0, 5, 1, 2, 3, 4]"
      ]
     },
     "execution_count": 23,
     "metadata": {},
     "output_type": "execute_result"
    }
   ],
   "source": [
    "list5 = [0, 1, 2, 3, 4]\n",
    "list5.insert(1, 5)\n",
    "list5"
   ]
  },
  {
   "cell_type": "code",
   "execution_count": 24,
   "id": "d402f256",
   "metadata": {},
   "outputs": [
    {
     "data": {
      "text/plain": [
       "[0, 5, 1, 2, 3, 6, 4]"
      ]
     },
     "execution_count": 24,
     "metadata": {},
     "output_type": "execute_result"
    }
   ],
   "source": [
    "list5.insert(5, 6)\n",
    "list5"
   ]
  },
  {
   "cell_type": "code",
   "execution_count": 27,
   "id": "413b7b9d",
   "metadata": {},
   "outputs": [
    {
     "name": "stdout",
     "output_type": "stream",
     "text": [
      "[['Kitsch', '아이브'], ['심', 'DK(디셈버)'], ['Hype boy', '뉴진스'], ['파이팅 해야지', '부석순'], ['사건의 지평선', '윤하']]\n"
     ]
    }
   ],
   "source": [
    "music_list = [['Kitsch', '아이브'],\n",
    "             ['Hype boy', '뉴진스'],\n",
    "             ['사건의 지평선', '윤하']]\n",
    "music_list.insert(1, ['심', 'DK(디셈버)'])\n",
    "music_list.insert(3, ['파이팅 해야지', '부석순'])\n",
    "print(music_list)"
   ]
  },
  {
   "cell_type": "code",
   "execution_count": 28,
   "id": "569323ed",
   "metadata": {},
   "outputs": [
    {
     "name": "stdout",
     "output_type": "stream",
     "text": [
      "인덱스 입력 >> 4\n",
      "노래 제목 >> 흩어지지않게\n",
      "가수명 >> 엠씨더맥스\n",
      "[['Kitsch', '아이브'], ['심', 'DK(디셈버)'], ['Hype boy', '뉴진스'], ['파이팅 해야지', '부석순'], ['흩어지지않게', '엠씨더맥스'], ['사건의 지평선', '윤하']]\n"
     ]
    }
   ],
   "source": [
    "index_value = int(input(\"인덱스 입력 >> \"))\n",
    "song = input(\"노래 제목 >> \")\n",
    "singer = input(\"가수명 >> \")\n",
    "\n",
    "music_list.insert(index_value, [song, singer])\n",
    "print(music_list)"
   ]
  },
  {
   "cell_type": "code",
   "execution_count": 34,
   "id": "33b7e084",
   "metadata": {},
   "outputs": [
    {
     "name": "stdout",
     "output_type": "stream",
     "text": [
      "수정 전 : 1\n",
      "수정 후 : 7\n"
     ]
    },
    {
     "data": {
      "text/plain": [
       "[0, 7, 2, 3, 4]"
      ]
     },
     "execution_count": 34,
     "metadata": {},
     "output_type": "execute_result"
    }
   ],
   "source": [
    "list6 = [0, 1, 2, 3, 4]\n",
    "list6\n",
    "\n",
    "print('수정 전 :', list6[1])\n",
    "list6[1] = 7\n",
    "print('수정 후 :', list6[1])\n",
    "\n",
    "list6"
   ]
  },
  {
   "cell_type": "code",
   "execution_count": 35,
   "id": "03928602",
   "metadata": {},
   "outputs": [
    {
     "name": "stdout",
     "output_type": "stream",
     "text": [
      "[2, 3, 4]\n"
     ]
    },
    {
     "data": {
      "text/plain": [
       "[0, 7, 7, 8]"
      ]
     },
     "execution_count": 35,
     "metadata": {},
     "output_type": "execute_result"
    }
   ],
   "source": [
    "print(list6[2:5])\n",
    "list6[2:4] = [7]\n",
    "list6"
   ]
  },
  {
   "cell_type": "code",
   "execution_count": 36,
   "id": "931e2849",
   "metadata": {},
   "outputs": [
    {
     "data": {
      "text/plain": [
       "[0, 2, 3, 4, 5]"
      ]
     },
     "execution_count": 36,
     "metadata": {},
     "output_type": "execute_result"
    }
   ],
   "source": [
    "list7 = [0, 1, 2, 3, 4, 5]\n",
    "del list7[1]\n",
    "list7"
   ]
  },
  {
   "cell_type": "code",
   "execution_count": 37,
   "id": "efd49696",
   "metadata": {},
   "outputs": [
    {
     "name": "stdout",
     "output_type": "stream",
     "text": [
      "[0, 5]\n"
     ]
    }
   ],
   "source": [
    "list7 = [0, 1, 2, 3, 4, 5]\n",
    "del list7[1:5]\n",
    "print(list7)"
   ]
  },
  {
   "cell_type": "code",
   "execution_count": 43,
   "id": "10a1f3c3",
   "metadata": {},
   "outputs": [
    {
     "name": "stdout",
     "output_type": "stream",
     "text": [
      "['a', 'c', 'd', 'b']\n"
     ]
    }
   ],
   "source": [
    "list7 = ['a', 'b', 'c', 'd', 'b']\n",
    "list7.remove('b')\n",
    "print(list7)"
   ]
  },
  {
   "cell_type": "code",
   "execution_count": null,
   "id": "2cea3b16",
   "metadata": {},
   "outputs": [],
   "source": [
    "list7.remove('d')"
   ]
  },
  {
   "cell_type": "code",
   "execution_count": 45,
   "id": "e95d4f50",
   "metadata": {},
   "outputs": [
    {
     "name": "stdout",
     "output_type": "stream",
     "text": [
      "[9, 77, 13, 51, 100, 3]\n",
      "[3, 9, 13, 51, 77, 100]\n"
     ]
    }
   ],
   "source": [
    "list8 = [9, 77, 13 ,51, 100, 3]\n",
    "print(list8)\n",
    "\n",
    "list8.sort()\n",
    "print(list8)"
   ]
  },
  {
   "cell_type": "code",
   "execution_count": 49,
   "id": "eeca042e",
   "metadata": {},
   "outputs": [
    {
     "name": "stdout",
     "output_type": "stream",
     "text": [
      "[9, 77, 13, 51, 100, 3]\n",
      "[3, 100, 51, 13, 77, 9]\n"
     ]
    }
   ],
   "source": [
    "list9 = [9, 77, 13, 51, 100, 3]\n",
    "print(list9)\n",
    "\n",
    "list9.reverse()\n",
    "print(list9)"
   ]
  },
  {
   "cell_type": "code",
   "execution_count": 50,
   "id": "3ccd61c1",
   "metadata": {},
   "outputs": [
    {
     "name": "stdout",
     "output_type": "stream",
     "text": [
      "[9, 77, 13, 51, 100, 3]\n",
      "[3, 9, 13, 51, 77, 100]\n",
      "[100, 77, 51, 13, 9, 3]\n"
     ]
    }
   ],
   "source": [
    "list10 = [9, 77, 13, 51, 100, 3]\n",
    "print(list10)\n",
    "\n",
    "list10.sort()\n",
    "print(list10)\n",
    "\n",
    "list10.sort(reverse=True)\n",
    "print(list10)"
   ]
  },
  {
   "cell_type": "code",
   "execution_count": 52,
   "id": "e5f667c4",
   "metadata": {},
   "outputs": [
    {
     "data": {
      "text/plain": [
       "2"
      ]
     },
     "execution_count": 52,
     "metadata": {},
     "output_type": "execute_result"
    }
   ],
   "source": [
    "list11 = ['a', 'b', 'c', 'd', 'e', 'f']\n",
    "list11.index('c')"
   ]
  },
  {
   "cell_type": "code",
   "execution_count": 53,
   "id": "1f083e0e",
   "metadata": {},
   "outputs": [
    {
     "name": "stdout",
     "output_type": "stream",
     "text": [
      "['a', 'b', 'c', 'd', 'e']\n"
     ]
    }
   ],
   "source": [
    "list12 = ['a', 'b', 'c', 'd', 'e', 'f']\n",
    "list12.pop()\n",
    "\n",
    "print(list12)"
   ]
  },
  {
   "cell_type": "code",
   "execution_count": 54,
   "id": "a5190576",
   "metadata": {},
   "outputs": [
    {
     "name": "stdout",
     "output_type": "stream",
     "text": [
      "3\n"
     ]
    }
   ],
   "source": [
    "list13 = [0, 1, 2]\n",
    "print(len(list13))"
   ]
  },
  {
   "cell_type": "code",
   "execution_count": 55,
   "id": "0cce4c44",
   "metadata": {},
   "outputs": [
    {
     "name": "stdout",
     "output_type": "stream",
     "text": [
      "6\n"
     ]
    }
   ],
   "source": [
    "list14 = ['a', 'b', 'c', 'd', 'e', 'f']\n",
    "print(len(list14))"
   ]
  },
  {
   "cell_type": "code",
   "execution_count": null,
   "id": "730c78d9",
   "metadata": {},
   "outputs": [],
   "source": [
    "tuple1 = (0, 1, 2, 3, ('a', 'b', 'c'), 5)\n",
    "tuple1[0] = 3"
   ]
  },
  {
   "cell_type": "code",
   "execution_count": 60,
   "id": "6e250bcd",
   "metadata": {},
   "outputs": [
    {
     "name": "stdout",
     "output_type": "stream",
     "text": [
      "True\n",
      "False\n"
     ]
    }
   ],
   "source": [
    "str1 = '파이썬 최고'\n",
    " \n",
    "print(\"파이썬\" in str1)\n",
    "print('파이썬' not in str1)"
   ]
  },
  {
   "cell_type": "code",
   "execution_count": 59,
   "id": "ab597993",
   "metadata": {},
   "outputs": [
    {
     "name": "stdout",
     "output_type": "stream",
     "text": [
      "False\n",
      "True\n"
     ]
    }
   ],
   "source": [
    "list1 = [77, 38, 10]\n",
    "print(33 in list1)\n",
    "print(33 not in list1)"
   ]
  },
  {
   "cell_type": "code",
   "execution_count": 68,
   "id": "1104abda",
   "metadata": {},
   "outputs": [
    {
     "name": "stdout",
     "output_type": "stream",
     "text": [
      "검색할 문자를 입력하세요 : i\n",
      "i는 2번 들어있네유!\n"
     ]
    }
   ],
   "source": [
    "s = 'Hi, My name is SeongWoo'\n",
    "\n",
    "a = input('검색할 문자를 입력하세요 : ')\n",
    "b = s.count(a)\n",
    "\n",
    "if b < 1:\n",
    "    print(f\"{a}는 들어있지 않네유...\")\n",
    "\n",
    "else:\n",
    "    print(f\"{a}는 {b}번 들어있네유!\")"
   ]
  },
  {
   "cell_type": "markdown",
   "id": "a8dbf436",
   "metadata": {},
   "source": [
    "## 반복문"
   ]
  },
  {
   "cell_type": "code",
   "execution_count": 71,
   "id": "b94c7864",
   "metadata": {},
   "outputs": [
    {
     "name": "stdout",
     "output_type": "stream",
     "text": [
      "1\n",
      "2\n",
      "3\n"
     ]
    }
   ],
   "source": [
    "number = 1\n",
    "while number <= 3:\n",
    "    print(number)\n",
    "    number += 1"
   ]
  },
  {
   "cell_type": "code",
   "execution_count": 73,
   "id": "13594906",
   "metadata": {},
   "outputs": [
    {
     "name": "stdout",
     "output_type": "stream",
     "text": [
      "파이썬 최고 !!\n",
      "파이썬 최고 !!\n",
      "파이썬 최고 !!\n",
      "파이썬 최고 !!\n",
      "파이썬 최고 !!\n",
      "파이썬 최고 !!\n",
      "파이썬 최고 !!\n",
      "파이썬 최고 !!\n",
      "파이썬 최고 !!\n",
      "파이썬 최고 !!\n"
     ]
    }
   ],
   "source": [
    "num = 0\n",
    "\n",
    "while num < 10:\n",
    "    print('파이썬 최고 !!')\n",
    "    num += 1"
   ]
  },
  {
   "cell_type": "code",
   "execution_count": null,
   "id": "e87c0f37",
   "metadata": {},
   "outputs": [],
   "source": [
    "while True:\n",
    "    print('무한루프')"
   ]
  },
  {
   "cell_type": "code",
   "execution_count": 75,
   "id": "073617af",
   "metadata": {},
   "outputs": [
    {
     "name": "stdout",
     "output_type": "stream",
     "text": [
      "1\n",
      "2\n",
      "3\n"
     ]
    }
   ],
   "source": [
    "num = 1\n",
    "\n",
    "while True:\n",
    "    print(num)\n",
    "    num += 1\n",
    "    \n",
    "    if num > 3:\n",
    "        break"
   ]
  },
  {
   "cell_type": "code",
   "execution_count": null,
   "id": "2da6e112",
   "metadata": {},
   "outputs": [],
   "source": [
    "num = 1\n",
    "\n",
    "while num <= 10:\n",
    "    print(f\"{num}번째 반복중..\")\n",
    "    \n",
    "    if num >= 4:\n",
    "        print('여기서 부터는 num이 증가하지 않습니당..')\n",
    "        continue\n",
    "    \n",
    "    num += 1"
   ]
  },
  {
   "cell_type": "code",
   "execution_count": 78,
   "id": "00e4c591",
   "metadata": {},
   "outputs": [
    {
     "name": "stdout",
     "output_type": "stream",
     "text": [
      "이름 입력 >> 신희진\n",
      "신희진 최고!\n",
      "이름 입력 >> 서민국\n",
      "서민국 최고!\n",
      "이름 입력 >> 김민지\n",
      "김민지 최고!\n",
      "이름 입력 >> 최성우\n",
      "최성우 멋지다!\n"
     ]
    }
   ],
   "source": [
    "while True:\n",
    "    name = input(\"이름 입력 >> \")\n",
    "    \n",
    "    if name == '최성우':\n",
    "        print(f\"{name} 멋지다!\")\n",
    "        break\n",
    "    \n",
    "    print(f'{name} 최고!')"
   ]
  },
  {
   "cell_type": "code",
   "execution_count": 93,
   "id": "728567c5",
   "metadata": {},
   "outputs": [
    {
     "name": "stdout",
     "output_type": "stream",
     "text": [
      "첫 번째 정수 입력 >> 1\n",
      "두 번째 정수 입력 >> 2\n",
      "두 정수의 합 : 3\n",
      "첫 번째 정수 입력 >> 0\n",
      "두 번째 정수 입력 >> 00\n",
      "프로그램이 종료되었습니다.\n"
     ]
    }
   ],
   "source": [
    "while True:\n",
    "    \n",
    "    a = int(input(\"첫 번째 정수 입력 >> \"))\n",
    "    b = int(input(\"두 번째 정수 입력 >> \"))\n",
    "    \n",
    "    if a == 0 and b == 0:\n",
    "        print('프로그램이 종료되었습니다.')\n",
    "        break\n",
    "        \n",
    "    print(f'두 정수의 합 : {a + b}')"
   ]
  },
  {
   "cell_type": "code",
   "execution_count": 98,
   "id": "2a64d820",
   "metadata": {},
   "outputs": [
    {
     "name": "stdout",
     "output_type": "stream",
     "text": [
      "현재 몸무게 : 80\n",
      "목표 몸무게 : 70\n",
      "1주차 감량 몸무게 : 2\n",
      "2주차 감량 몸무게 : 3\n",
      "3주차 감량 몸무게 : 4\n",
      "4주차 감량 몸무게 : 5\n",
      "66 kg 달성!! 축하합니다!\n"
     ]
    }
   ],
   "source": [
    "now = int(input('현재 몸무게 : '))\n",
    "goal = int(input('목표 몸무게 : '))\n",
    "i = 1\n",
    "\n",
    "while True:\n",
    "\n",
    "    week = int(input(f\"{i}주차 감량 몸무게 : \"))\n",
    "    now -= week\n",
    "    \n",
    "    if now <= goal:\n",
    "        print(f\"{now} kg 달성!! 축하합니다!\")\n",
    "        break\n",
    "    \n",
    "    i += 1\n",
    "    "
   ]
  },
  {
   "cell_type": "code",
   "execution_count": 100,
   "id": "c4fdb030",
   "metadata": {},
   "outputs": [
    {
     "name": "stdout",
     "output_type": "stream",
     "text": [
      "숫자를 입력하세요 >> 25\n",
      "25보다 작은 수 입니다.\n",
      "숫자를 입력하세요 >> 13\n",
      "13보다 작은 수 입니다.\n",
      "숫자를 입력하세요 >> 5\n",
      "정답을 맞추셨습니다.\n"
     ]
    }
   ],
   "source": [
    "import random\n",
    "\n",
    "ans = random.randint(1, 50)\n",
    "\n",
    "while True:\n",
    "    num = int(input(\"숫자를 입력하세요 >> \"))\n",
    "    \n",
    "    if num > ans:\n",
    "        print(f\"{num}보다 작은 수 입니다.\")\n",
    "        \n",
    "    elif num < ans:\n",
    "        print(f\"{num}보다 큰 수 입니다\")\n",
    "        \n",
    "    else:\n",
    "        print(\"정답을 맞추셨습니다.\")\n",
    "        break"
   ]
  }
 ],
 "metadata": {
  "kernelspec": {
   "display_name": "Python 3 (ipykernel)",
   "language": "python",
   "name": "python3"
  },
  "language_info": {
   "codemirror_mode": {
    "name": "ipython",
    "version": 3
   },
   "file_extension": ".py",
   "mimetype": "text/x-python",
   "name": "python",
   "nbconvert_exporter": "python",
   "pygments_lexer": "ipython3",
   "version": "3.10.9"
  }
 },
 "nbformat": 4,
 "nbformat_minor": 5
}
