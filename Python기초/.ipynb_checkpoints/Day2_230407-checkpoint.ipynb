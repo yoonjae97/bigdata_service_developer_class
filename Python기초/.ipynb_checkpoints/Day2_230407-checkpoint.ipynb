{
 "cells": [
  {
   "cell_type": "markdown",
   "id": "2cad1fd4",
   "metadata": {},
   "source": [
    "## 연산자"
   ]
  },
  {
   "cell_type": "code",
   "execution_count": 1,
   "id": "bafa8f9a",
   "metadata": {},
   "outputs": [
    {
     "name": "stdout",
     "output_type": "stream",
     "text": [
      "30\n"
     ]
    }
   ],
   "source": [
    "num = 27\n",
    "\n",
    "num += 3\n",
    "print(num)"
   ]
  },
  {
   "cell_type": "code",
   "execution_count": 2,
   "id": "8cd00d85",
   "metadata": {},
   "outputs": [
    {
     "name": "stdout",
     "output_type": "stream",
     "text": [
      "45\n"
     ]
    }
   ],
   "source": [
    "num = 100\n",
    "\n",
    "num -= 55\n",
    "print(num)"
   ]
  },
  {
   "cell_type": "code",
   "execution_count": 3,
   "id": "f0a18655",
   "metadata": {},
   "outputs": [
    {
     "name": "stdout",
     "output_type": "stream",
     "text": [
      "36\n"
     ]
    }
   ],
   "source": [
    "num = 27\n",
    "\n",
    "num += 3\n",
    "num += 3\n",
    "num += 3\n",
    "print(num)"
   ]
  },
  {
   "cell_type": "code",
   "execution_count": 4,
   "id": "a61d6718",
   "metadata": {},
   "outputs": [
    {
     "data": {
      "text/plain": [
       "25.0"
      ]
     },
     "execution_count": 4,
     "metadata": {},
     "output_type": "execute_result"
    }
   ],
   "source": [
    "num = 100\n",
    "\n",
    "num /= 2\n",
    "num /= 2\n",
    "num"
   ]
  },
  {
   "cell_type": "code",
   "execution_count": 5,
   "id": "b9865675",
   "metadata": {},
   "outputs": [
    {
     "name": "stdout",
     "output_type": "stream",
     "text": [
      "False\n",
      "True\n",
      "False\n",
      "True\n"
     ]
    }
   ],
   "source": [
    "a = 3\n",
    "b = 7\n",
    "\n",
    "print(a > b)\n",
    "print(a <= b)\n",
    "print(a == b)\n",
    "print(a != b)"
   ]
  },
  {
   "cell_type": "code",
   "execution_count": 6,
   "id": "765252f9",
   "metadata": {},
   "outputs": [
    {
     "name": "stdout",
     "output_type": "stream",
     "text": [
      "a:5, b:7\n",
      "False\n",
      "True\n",
      "False\n",
      "True\n"
     ]
    }
   ],
   "source": [
    "import random\n",
    "\n",
    "a = random.randint(1, 10)\n",
    "b = random.randint(1, 10)\n",
    "print(\"a:{}, b:{}\".format(a, b))\n",
    "\n",
    "print(a > b)\n",
    "print(a < b)\n",
    "print(a == b)\n",
    "print(a != b)"
   ]
  },
  {
   "cell_type": "code",
   "execution_count": 7,
   "id": "bbdf0314",
   "metadata": {},
   "outputs": [
    {
     "data": {
      "text/plain": [
       "False"
      ]
     },
     "execution_count": 7,
     "metadata": {},
     "output_type": "execute_result"
    }
   ],
   "source": [
    "a = 3\n",
    "b = 7\n",
    "not a < b"
   ]
  },
  {
   "cell_type": "code",
   "execution_count": 8,
   "id": "4f6bbdf7",
   "metadata": {},
   "outputs": [
    {
     "data": {
      "text/plain": [
       "True"
      ]
     },
     "execution_count": 8,
     "metadata": {},
     "output_type": "execute_result"
    }
   ],
   "source": [
    "a = 3\n",
    "b = 7\n",
    "not a == b"
   ]
  },
  {
   "cell_type": "code",
   "execution_count": 9,
   "id": "8a13b44e",
   "metadata": {},
   "outputs": [
    {
     "data": {
      "text/plain": [
       "False"
      ]
     },
     "execution_count": 9,
     "metadata": {},
     "output_type": "execute_result"
    }
   ],
   "source": [
    "3 > 5 and 10 == 20"
   ]
  },
  {
   "cell_type": "code",
   "execution_count": 10,
   "id": "715b0760",
   "metadata": {},
   "outputs": [
    {
     "data": {
      "text/plain": [
       "False"
      ]
     },
     "execution_count": 10,
     "metadata": {},
     "output_type": "execute_result"
    }
   ],
   "source": [
    "3 > 5 and 10 < 20"
   ]
  },
  {
   "cell_type": "code",
   "execution_count": 12,
   "id": "e19ae3f3",
   "metadata": {},
   "outputs": [
    {
     "data": {
      "text/plain": [
       "True"
      ]
     },
     "execution_count": 12,
     "metadata": {},
     "output_type": "execute_result"
    }
   ],
   "source": [
    "3 < 5 and 10 < 20"
   ]
  },
  {
   "cell_type": "code",
   "execution_count": 13,
   "id": "ac4475cc",
   "metadata": {},
   "outputs": [
    {
     "data": {
      "text/plain": [
       "False"
      ]
     },
     "execution_count": 13,
     "metadata": {},
     "output_type": "execute_result"
    }
   ],
   "source": [
    "3 > 5 or 10 == 20"
   ]
  },
  {
   "cell_type": "code",
   "execution_count": 14,
   "id": "5a9e0ffc",
   "metadata": {},
   "outputs": [
    {
     "data": {
      "text/plain": [
       "True"
      ]
     },
     "execution_count": 14,
     "metadata": {},
     "output_type": "execute_result"
    }
   ],
   "source": [
    "3 > 5 or 10 < 20"
   ]
  },
  {
   "cell_type": "code",
   "execution_count": 15,
   "id": "aa6de42b",
   "metadata": {},
   "outputs": [
    {
     "data": {
      "text/plain": [
       "True"
      ]
     },
     "execution_count": 15,
     "metadata": {},
     "output_type": "execute_result"
    }
   ],
   "source": [
    "3 < 5 or 10 < 20"
   ]
  },
  {
   "cell_type": "code",
   "execution_count": 16,
   "id": "d229fafe",
   "metadata": {},
   "outputs": [
    {
     "data": {
      "text/plain": [
       "'합격'"
      ]
     },
     "execution_count": 16,
     "metadata": {},
     "output_type": "execute_result"
    }
   ],
   "source": [
    "score = 80\n",
    "\"합격\" if score >= 60 else \"불합격\""
   ]
  },
  {
   "cell_type": "code",
   "execution_count": 17,
   "id": "df592614",
   "metadata": {},
   "outputs": [
    {
     "data": {
      "text/plain": [
       "'불합격'"
      ]
     },
     "execution_count": 17,
     "metadata": {},
     "output_type": "execute_result"
    }
   ],
   "source": [
    "score = 50\n",
    "\"합격\" if score >= 60 else \"불합격\""
   ]
  },
  {
   "cell_type": "code",
   "execution_count": 26,
   "id": "b9f8dea5",
   "metadata": {},
   "outputs": [
    {
     "name": "stdout",
     "output_type": "stream",
     "text": [
      "정수입력 >> 3\n",
      "정수입력 >> 10\n",
      "b: 10\n"
     ]
    }
   ],
   "source": [
    "a = int(input(\"정수입력 >> \"))\n",
    "b = int(input(\"정수입력 >> \"))\n",
    "\n",
    "print(f\"a: {a}\") if a > b else print(f\"b: {b}\") if a < b else print(\"a, b는 같다\")"
   ]
  },
  {
   "cell_type": "code",
   "execution_count": 30,
   "id": "df8b75bf",
   "metadata": {},
   "outputs": [
    {
     "name": "stdout",
     "output_type": "stream",
     "text": [
      "첫 번째 정수입력 >> 33\n",
      "두 번째 정수입력 >> 5\n",
      "두 수의 차 : 28\n"
     ]
    }
   ],
   "source": [
    "a = int(input(\"첫 번째 정수입력 >> \"))\n",
    "b = int(input(\"두 번째 정수입력 >> \"))\n",
    "print(f\"두 수의 차 : {a - b}\") if a > b else print(f\"두 수의 차 : {b - a}\") if a < b else print(f\"두 수의 차 : 0\")"
   ]
  },
  {
   "cell_type": "code",
   "execution_count": 34,
   "id": "dfe80bba",
   "metadata": {},
   "outputs": [
    {
     "name": "stdout",
     "output_type": "stream",
     "text": [
      "정수 입력 >> 33\n",
      "33는(은) 홀수입니다\n"
     ]
    }
   ],
   "source": [
    "num = int(input(\"정수 입력 >> \"))\n",
    "print(f\"{num}는(은) \\\n",
    "      짝수입니다\") if num % 2 == 0 else print(f\"{num}는(은) 홀수입니다\")"
   ]
  },
  {
   "cell_type": "markdown",
   "id": "b29178cc",
   "metadata": {},
   "source": [
    "## 조건문"
   ]
  },
  {
   "cell_type": "code",
   "execution_count": 35,
   "id": "a88dcece",
   "metadata": {},
   "outputs": [
    {
     "name": "stdout",
     "output_type": "stream",
     "text": [
      "실행문장 실행\n",
      "if문 밖에 있는 실행문장\n"
     ]
    }
   ],
   "source": [
    "if True:\n",
    "    print(\"실행문장 실행\")\n",
    "print(\"if문 밖에 있는 실행문장\")"
   ]
  },
  {
   "cell_type": "code",
   "execution_count": 36,
   "id": "29927b80",
   "metadata": {},
   "outputs": [
    {
     "name": "stdout",
     "output_type": "stream",
     "text": [
      "if문 밖에 있는 실행문장\n"
     ]
    }
   ],
   "source": [
    "if False:\n",
    "    print(\"실행문장 실행\")\n",
    "print(\"if문 밖에 있는 실행문장\")"
   ]
  },
  {
   "cell_type": "code",
   "execution_count": 38,
   "id": "3f3566a7",
   "metadata": {},
   "outputs": [
    {
     "name": "stdout",
     "output_type": "stream",
     "text": [
      "택시를 탄다\n"
     ]
    }
   ],
   "source": [
    "money = 11000\n",
    "\n",
    "if money >= 10000:\n",
    "    print(\"택시를 탄다\")"
   ]
  },
  {
   "cell_type": "code",
   "execution_count": 39,
   "id": "6075d0bf",
   "metadata": {},
   "outputs": [],
   "source": [
    "money = 9000\n",
    "\n",
    "if money >= 10000:\n",
    "    print(\"택시를 탄다\")"
   ]
  },
  {
   "cell_type": "code",
   "execution_count": 43,
   "id": "163f1a99",
   "metadata": {},
   "outputs": [
    {
     "name": "stdout",
     "output_type": "stream",
     "text": [
      "실행문장1\n"
     ]
    }
   ],
   "source": [
    "if True:\n",
    "    print(\"실행문장1\")\n",
    "else:\n",
    "    print(\"실행문장2\")"
   ]
  },
  {
   "cell_type": "code",
   "execution_count": 44,
   "id": "340c429a",
   "metadata": {},
   "outputs": [
    {
     "name": "stdout",
     "output_type": "stream",
     "text": [
      "실행문장2\n"
     ]
    }
   ],
   "source": [
    "if False:\n",
    "    print(\"실행문장1\")\n",
    "else:\n",
    "    print(\"실행문장2\")"
   ]
  },
  {
   "cell_type": "code",
   "execution_count": 46,
   "id": "efae718d",
   "metadata": {},
   "outputs": [
    {
     "name": "stdout",
     "output_type": "stream",
     "text": [
      "9000\n",
      "버스를 탄다\n"
     ]
    }
   ],
   "source": [
    "money = int(input())\n",
    "\n",
    "if money >= 10000:\n",
    "    print('택시를 탄다')\n",
    "else:\n",
    "    print(\"버스를 탄다\")"
   ]
  },
  {
   "cell_type": "code",
   "execution_count": 50,
   "id": "dd74fb52",
   "metadata": {},
   "outputs": [
    {
     "name": "stdout",
     "output_type": "stream",
     "text": [
      "정수 입력 >> 30\n",
      "3과 5의 배수입니다.\n"
     ]
    }
   ],
   "source": [
    "num = int(input(\"정수 입력 >> \"))\n",
    "\n",
    "if (num % 3 == 0) and (num % 5 == 0):\n",
    "    print('3과 5의 배수입니다.')\n",
    "    \n",
    "else:\n",
    "    print('3과 5의 배수가 아닙니다.')"
   ]
  },
  {
   "cell_type": "code",
   "execution_count": 58,
   "id": "94c95a24",
   "metadata": {},
   "outputs": [
    {
     "name": "stdout",
     "output_type": "stream",
     "text": [
      "주민등록번호 뒷자리 입력 >> 2523523\n",
      "당신은 여자 입니다 ^^7\n"
     ]
    }
   ],
   "source": [
    "a = input(\"주민등록번호 뒷자리 입력 >> \")\n",
    "\n",
    "if a[0] in ('1', '3'):\n",
    "    print('당신은 남자 입니다 ^^7')\n",
    "else:\n",
    "    print('당신은 여자 입니다 ^^7')"
   ]
  },
  {
   "cell_type": "code",
   "execution_count": 78,
   "id": "70a3efdd",
   "metadata": {},
   "outputs": [
    {
     "name": "stdout",
     "output_type": "stream",
     "text": [
      "name 입력 >> 성우\n",
      "age 입력 >> 18\n",
      "age 소지 여부(소지, 미소지) >> 소지\n",
      "성우님은 입장료 15750원에 예약되셨습니다.\n"
     ]
    }
   ],
   "source": [
    "name = input(\"name 입력 >> \")\n",
    "age = int(input(\"age 입력 >> \"))\n",
    "card = input('age 소지 여부(소지, 미소지) >> ')\n",
    "fee = 35000\n",
    "\n",
    "if age >= 19:\n",
    "    if card == '소지':\n",
    "        fee *= 0.7\n",
    "        \n",
    "else:\n",
    "    fee *= 0.5\n",
    "    if card == '소지':\n",
    "        fee *= 0.9\n",
    "        \n",
    "print(f\"{name}님은 입장료 {int(fee)}원에 예약되셨습니다.\")"
   ]
  },
  {
   "cell_type": "code",
   "execution_count": 116,
   "id": "8338ecaa",
   "metadata": {},
   "outputs": [
    {
     "name": "stdout",
     "output_type": "stream",
     "text": [
      "마스크 개수 입력 >> 46\n",
      "8개들이 포장지 개수 : 5\n",
      "5개들이 포장지 개수 : 2\n"
     ]
    }
   ],
   "source": [
    "countOfMask = int(input('마스크 개수 입력 >> '))\n",
    "countOfPack8, countOfPack5 = 0, 0\n",
    "\n",
    "countOfPack8 += (countOfMask // 8)\n",
    "countOfMask %= 8\n",
    "\n",
    "if 0 < countOfMask <= 5:\n",
    "    countOfPack5 += 1\n",
    "    \n",
    "elif 5 < countOfMask:\n",
    "    countOfPack5 += 2\n",
    "\n",
    "print(f\"8개들이 포장지 개수 : {countOfPack8}\")\n",
    "print(f\"5개들이 포장지 개수 : {countOfPack5}\")"
   ]
  },
  {
   "cell_type": "code",
   "execution_count": 117,
   "id": "e1977b11",
   "metadata": {},
   "outputs": [
    {
     "name": "stdout",
     "output_type": "stream",
     "text": [
      "실행문장1\n"
     ]
    }
   ],
   "source": [
    "if True:\n",
    "    print('실행문장1')\n",
    "elif True:\n",
    "    print(\"실행문장2\")"
   ]
  },
  {
   "cell_type": "code",
   "execution_count": 118,
   "id": "3faaf381",
   "metadata": {},
   "outputs": [
    {
     "name": "stdout",
     "output_type": "stream",
     "text": [
      "실행문장2\n"
     ]
    }
   ],
   "source": [
    "if False:\n",
    "    print('실행문장1')\n",
    "elif True:\n",
    "    print(\"실행문장2\")"
   ]
  },
  {
   "cell_type": "code",
   "execution_count": 123,
   "id": "b941b768",
   "metadata": {},
   "outputs": [
    {
     "name": "stdout",
     "output_type": "stream",
     "text": [
      "첫 번째 정수 입력 >> 7\n",
      "두 번째 정수 입력 >> 7\n",
      "두 수가 똑같습니다.\n"
     ]
    }
   ],
   "source": [
    "num1 = int(input(\"첫 번째 정수 입력 >> \"))\n",
    "num2 = int(input(\"두 번째 정수 입력 >> \"))\n",
    "\n",
    "if num1 > num2:\n",
    "    print(\"첫 번째 정수가 더 큽니다.\")\n",
    "elif num1 < num2:\n",
    "    print(\"두 번째 정수가 더 큽니다.\")\n",
    "else:\n",
    "    print(\"두 수가 똑같습니다.\")"
   ]
  },
  {
   "cell_type": "code",
   "execution_count": 126,
   "id": "e0786015",
   "metadata": {},
   "outputs": [
    {
     "name": "stdout",
     "output_type": "stream",
     "text": [
      "점수 입력 >> 36\n",
      "36점은 F학점 입니다.\n"
     ]
    }
   ],
   "source": [
    "score = int(input(\"점수 입력 >> \"))\n",
    "\n",
    "if 90 <= score:\n",
    "    grade = 'A'\n",
    "elif 80 <= score:\n",
    "    grade = 'B'\n",
    "elif 70 <= score:\n",
    "    grade = 'C'\n",
    "elif 60 <= score:\n",
    "    grade = 'D'\n",
    "else:\n",
    "    grade = 'F'\n",
    "\n",
    "print(f\"{score}점은 {grade}학점 입니다.\")"
   ]
  },
  {
   "cell_type": "code",
   "execution_count": null,
   "id": "9c9c1abf",
   "metadata": {},
   "outputs": [],
   "source": [
    "7\n",
    "1"
   ]
  },
  {
   "cell_type": "code",
   "execution_count": 136,
   "id": "6e5a7073",
   "metadata": {},
   "outputs": [
    {
     "name": "stdout",
     "output_type": "stream",
     "text": [
      "x값을 입력하세요 : 12\n",
      "y값을 입력하세요 : -5\n",
      "좌표 (12. -5)는 4사분면 입니다. \n"
     ]
    }
   ],
   "source": [
    "x = int(input(\"x값을 입력하세요 : \"))\n",
    "y = int(input(\"y값을 입력하세요 : \"))\n",
    "\n",
    "quadrant = 4\n",
    "\n",
    "if x > 0 and y > 0:\n",
    "    quadrant = 1\n",
    "\n",
    "if x < 0 and y > 0:\n",
    "    quadrant = 2\n",
    "\n",
    "if x < 0 and y < 0:\n",
    "    quadrant = 3\n",
    "\n",
    "print(f\"좌표 ({x}. {y})는 {quadrant}사분면 입니다. \")"
   ]
  },
  {
   "cell_type": "code",
   "execution_count": 132,
   "id": "8d92f8fd",
   "metadata": {},
   "outputs": [
    {
     "name": "stdout",
     "output_type": "stream",
     "text": [
      "x값을 입력하세요 : -12\n",
      "y값을 입력하세요 : 5\n",
      "좌표 (-12. 5)는 2사분면 입니다. \n"
     ]
    }
   ],
   "source": [
    "x = int(input(\"x값을 입력하세요 : \"))\n",
    "y = int(input(\"y값을 입력하세요 : \"))\n",
    "\n",
    "if x > 0 and y > 0:\n",
    "    quadrant = 1\n",
    "\n",
    "elif x < 0 and y > 0:\n",
    "    quadrant = 2\n",
    "\n",
    "elif x < 0 and y < 0:\n",
    "    quadrant = 3\n",
    "\n",
    "else:\n",
    "    quadrant = 4\n",
    "\n",
    "print(f\"좌표 ({x}. {y})는 {quadrant}사분면 입니다. \")"
   ]
  },
  {
   "cell_type": "code",
   "execution_count": 142,
   "id": "b9dec456",
   "metadata": {},
   "outputs": [
    {
     "name": "stdout",
     "output_type": "stream",
     "text": [
      "나이 입력 >> 19\n",
      "요금은 1125원 입니다.\n"
     ]
    }
   ],
   "source": [
    "age = int(input(\"나이 입력 >> \"))\n",
    "fee = 1500\n",
    "\n",
    "if age < 5:\n",
    "    fee *= 0.5\n",
    "\n",
    "if 5 <= age < 20:\n",
    "    fee *= 0.75\n",
    "\n",
    "if 65 <= age:\n",
    "    fee *= 0.25\n",
    "    \n",
    "print(f\"요금은 {int(fee)}원 입니다.\")"
   ]
  },
  {
   "cell_type": "code",
   "execution_count": 148,
   "id": "21bbc21f",
   "metadata": {},
   "outputs": [
    {
     "name": "stdout",
     "output_type": "stream",
     "text": [
      "나이 입력 >> 35\n",
      "요금은 1500원 입니다.\n"
     ]
    }
   ],
   "source": [
    "age = int(input(\"나이 입력 >> \"))\n",
    "fee = 1500\n",
    "\n",
    "if age < 5:\n",
    "    fee *= 0.5\n",
    "\n",
    "elif age < 20:\n",
    "    fee *= 0.75\n",
    "\n",
    "elif 65 <= age:\n",
    "    fee *= 0.25\n",
    "    \n",
    "print(f\"요금은 {int(fee)}원 입니다.\")"
   ]
  },
  {
   "cell_type": "code",
   "execution_count": 172,
   "id": "c87828e6",
   "metadata": {
    "scrolled": true
   },
   "outputs": [
    {
     "name": "stdout",
     "output_type": "stream",
     "text": [
      "============================================================\n",
      "======================---- 자판기 ----======================\n",
      "============================================================\n",
      "==1.콜라==2.사이다== 3.물 ===============insert=============\n",
      "==------==--------==-----=============------================\n",
      "== 600  ==   800  == 1000 ===========5====  000원============\n",
      "======================================------================\n",
      "==++++++++++++++++++++++++++++++++++++++++++++++++++++++++==\n",
      "==++++++++++++++++++++++++++++++++++++++++++++++++++++++++==\n",
      "==++++++++++++++++++++++++++++++++++++++++++++++++++++++++==\n",
      "==+++++++++++++++++++++              +++++++++++++++++++++==\n",
      "==+++++++++++++++++++++     SMHRD    +++++++++++++++++++++==\n",
      "==+++++++++++++++++++++              +++++++++++++++++++++==\n",
      "==++++++++++++++++++++++++++++++++++++++++++++++++++++++++==\n",
      "==++++++++++++++++++++++++++++++++++++++++++++++++++++++++==\n",
      "============================================================\n",
      "============================================================\n",
      "  ===                                                  ===  \n",
      "  ===                                                  ===  \n",
      "\n",
      "insert coin >> 5000\n",
      "메뉴 선택 >> 3\n",
      "잔돈 >> 1000원 4개, 500원 0개, 100원 0개\n"
     ]
    }
   ],
   "source": [
    "print('='* 60)\n",
    "print('='*22+'-'*4+' 자판기 '+'-'*4+'='*22)\n",
    "print('='* 60)\n",
    "\n",
    "print('=='+'1.콜라'+'=='+'2.사이다'+'=='+' 3.물 '+'===============insert=============')\n",
    "print('==------==--------==-----=============------================')\n",
    "print('=='+' 600  '+'=='+'   800  '+'=='+' 1000 '+f'===========5====  000원============')\n",
    "print('======================================------================')    \n",
    "\n",
    "print('==++++++++++++++++++++++++++++++++++++++++++++++++++++++++==') \n",
    "print('==++++++++++++++++++++++++++++++++++++++++++++++++++++++++==')\n",
    "print('==++++++++++++++++++++++++++++++++++++++++++++++++++++++++==')\n",
    "\n",
    "print('==+++++++++++++++++++++              +++++++++++++++++++++==')\n",
    "print('==+++++++++++++++++++++     SMHRD    +++++++++++++++++++++==')\n",
    "print('==+++++++++++++++++++++              +++++++++++++++++++++==')\n",
    "\n",
    "print('==++++++++++++++++++++++++++++++++++++++++++++++++++++++++==')\n",
    "print('==++++++++++++++++++++++++++++++++++++++++++++++++++++++++==')\n",
    "\n",
    "print('============================================================')\n",
    "print('============================================================')\n",
    "\n",
    "print('  ===                                                  ===  ')\n",
    "print('  ===                                                  ===  ')\n",
    "print()\n",
    "\n",
    "money = int(input(\"insert coin >> \"))\n",
    "if money < 600:\n",
    "      print(\"돈을 더 넣어주세요\")\n",
    "\n",
    "ch = int(input(\"메뉴 선택 >> \"))\n",
    "\n",
    "if ch == 1:\n",
    "    if money < 600:\n",
    "        print('잔액 부족')\n",
    "    else:\n",
    "        money -= 600\n",
    "        \n",
    "elif ch == 2:\n",
    "    if money < 800:\n",
    "        print('잔액부족')\n",
    "    else:\n",
    "        money -= 800\n",
    "\n",
    "elif ch == 3:\n",
    "    if money < 1000:\n",
    "        print('잔액부족')\n",
    "    else:\n",
    "        money -= 1000\n",
    "\n",
    "else:\n",
    "      print('잘못된 메뉴 입니다.')\n",
    "        \n",
    "print(f\"잔돈 >> 1000원 {money//1000}개, 500원 {money%1000//500}개, 100원 {money%1000%500//100}개\")"
   ]
  },
  {
   "cell_type": "code",
   "execution_count": 201,
   "id": "babef0ca",
   "metadata": {},
   "outputs": [
    {
     "name": "stdout",
     "output_type": "stream",
     "text": [
      "insert coin >> 5000\n",
      "============================================================\n",
      "======================---- 자판기 ----======================\n",
      "============================================================\n",
      "==1.콜라==2.사이다== 3.물 ===============insert=============\n",
      "==------==--------==-----=============------================\n",
      "== 600  ==   800  == 1000 ===========5==== 5000원===========\n",
      "======================================------================\n",
      "==++++++++++++++++++++++++++++++++++++++++++++++++++++++++==\n",
      "==++++++++++++++++++++++++++++++++++++++++++++++++++++++++==\n",
      "==++++++++++++++++++++++++++++++++++++++++++++++++++++++++==\n",
      "==+++++++++++++++++++++              +++++++++++++++++++++==\n",
      "==+++++++++++++++++++++     SMHRD    +++++++++++++++++++++==\n",
      "==+++++++++++++++++++++              +++++++++++++++++++++==\n",
      "==++++++++++++++++++++++++++++++++++++++++++++++++++++++++==\n",
      "==++++++++++++++++++++++++++++++++++++++++++++++++++++++++==\n",
      "============================================================\n",
      "============================================================\n",
      "  ===                                                  ===  \n",
      "  ===                                                  ===  \n",
      "\n",
      "메뉴 선택(0은 종료) >> 3\n",
      "잔돈 >> 1000원 4개, 500원 0개, 100원 0개\n",
      "메뉴 선택(0은 종료) >> 2\n",
      "잔돈 >> 1000원 3개, 500원 0개, 100원 2개\n",
      "메뉴 선택(0은 종료) >> 0\n",
      "잔돈을 반환합니다\n",
      "\n"
     ]
    },
    {
     "data": {
      "text/plain": [
       "'잔돈 >> 1000원 3개, 500원 0개, 100원 2개'"
      ]
     },
     "execution_count": 201,
     "metadata": {},
     "output_type": "execute_result"
    }
   ],
   "source": [
    "   \n",
    "def func1():\n",
    "    money = int(input(\"insert coin >> \"))\n",
    "    \n",
    "    print('='* 60)\n",
    "    print('='*22+'-'*4+' 자판기 '+'-'*4+'='*22)\n",
    "    print('='* 60)\n",
    "\n",
    "    print('=='+'1.콜라'+'=='+'2.사이다'+'=='+' 3.물 '+'===============insert=============')\n",
    "    print('==------==--------==-----=============------================')\n",
    "    print('=='+' 600  '+'=='+'   800  '+'=='+' 1000 '+f'===========5==== 0000원===========')\n",
    "    print('======================================------================')    \n",
    "\n",
    "    print('==++++++++++++++++++++++++++++++++++++++++++++++++++++++++==') \n",
    "    print('==++++++++++++++++++++++++++++++++++++++++++++++++++++++++==')\n",
    "    print('==++++++++++++++++++++++++++++++++++++++++++++++++++++++++==')\n",
    "\n",
    "    print('==+++++++++++++++++++++              +++++++++++++++++++++==')\n",
    "    print('==+++++++++++++++++++++     SMHRD    +++++++++++++++++++++==')\n",
    "    print('==+++++++++++++++++++++              +++++++++++++++++++++==')\n",
    "\n",
    "    print('==++++++++++++++++++++++++++++++++++++++++++++++++++++++++==')\n",
    "    print('==++++++++++++++++++++++++++++++++++++++++++++++++++++++++==')\n",
    "\n",
    "    print('============================================================')\n",
    "    print('============================================================')\n",
    "\n",
    "    print('  ===                                                  ===  ')\n",
    "    print('  ===                                                  ===  ')\n",
    "    print()\n",
    "    \n",
    "    if money < 600:\n",
    "          print (\"돈을 더 넣어주세요\")\n",
    "            \n",
    "    while money >= 600:\n",
    "        \n",
    "        ch = int(input(\"메뉴 선택(0은 종료) >> \"))\n",
    "\n",
    "        if ch == 1:\n",
    "            if money < 600:\n",
    "                print('잔액 부족')\n",
    "                break\n",
    "                \n",
    "            else:\n",
    "                money -= 600\n",
    "                print (f\"잔돈 >> 1000원 {money//1000}개, 500원 {money%1000//500}개, 100원 {money%1000%500//100}개\")\n",
    "                continue\n",
    "\n",
    "        elif ch == 2:\n",
    "            if money < 800:\n",
    "                print('잔액부족')\n",
    "                break\n",
    "                \n",
    "            else:\n",
    "                money -= 800\n",
    "                print (f\"잔돈 >> 1000원 {money//1000}개, 500원 {money%1000//500}개, 100원 {money%1000%500//100}개\")\n",
    "                continue\n",
    "\n",
    "        elif ch == 3:\n",
    "            if money < 1000:\n",
    "                print('잔액부족')\n",
    "                break\n",
    "                \n",
    "            else:\n",
    "                money -= 1000\n",
    "                print (f\"잔돈 >> 1000원 {money//1000}개, 500원 {money%1000//500}개, 100원 {money%1000%500//100}개\")\n",
    "                continue\n",
    "                \n",
    "        elif ch == 0:\n",
    "            print('잔돈을 반환합니다')\n",
    "            break\n",
    "        \n",
    "        else:\n",
    "            print('잘못된 메뉴 입니다.')\n",
    "            print (f\"잔돈 >> 1000원 {money//1000}개, 500원 {money%1000//500}개, 100원 {money%1000%500//100}개\")\n",
    "            continue\n",
    "    print()\n",
    "    return (f\"잔돈 >> 1000원 {money//1000}개, 500원 {money%1000//500}개, 100원 {money%1000%500//100}개\")\n",
    "\n",
    "func1()"
   ]
  },
  {
   "cell_type": "markdown",
   "id": "48d1f77a",
   "metadata": {},
   "source": [
    "##### "
   ]
  },
  {
   "cell_type": "code",
   "execution_count": null,
   "id": "9a4af994",
   "metadata": {},
   "outputs": [],
   "source": []
  }
 ],
 "metadata": {
  "kernelspec": {
   "display_name": "Python 3 (ipykernel)",
   "language": "python",
   "name": "python3"
  },
  "language_info": {
   "codemirror_mode": {
    "name": "ipython",
    "version": 3
   },
   "file_extension": ".py",
   "mimetype": "text/x-python",
   "name": "python",
   "nbconvert_exporter": "python",
   "pygments_lexer": "ipython3",
   "version": "3.10.9"
  }
 },
 "nbformat": 4,
 "nbformat_minor": 5
}
