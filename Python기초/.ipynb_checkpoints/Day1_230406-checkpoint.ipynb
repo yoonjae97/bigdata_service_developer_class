{
 "cells": [
  {
   "cell_type": "markdown",
   "id": "fb5765b5",
   "metadata": {},
   "source": [
    "##### 단축키\n",
    "- dd 삭제\n",
    "- b 아래 셀 추가\n",
    "- a 위 셀 추가\n",
    "- x 잘라내기\n",
    "- c 복사\n",
    "- v 붙여넣기\n",
    "- shift + m 셀 합치기\n",
    "- ctrl + shift + - 셀 분할\n",
    "- ctrl + a 셀 전체 선택\n",
    "- ctrl + d 현재 행 삭제"
   ]
  },
  {
   "cell_type": "code",
   "execution_count": 1,
   "id": "4b776cf9",
   "metadata": {},
   "outputs": [],
   "source": [
    "code = 1 # 주석"
   ]
  },
  {
   "cell_type": "code",
   "execution_count": 11,
   "id": "9f1e60ff",
   "metadata": {},
   "outputs": [
    {
     "name": "stdout",
     "output_type": "stream",
     "text": [
      "13\n",
      "25\n",
      "77\n",
      "<class 'int'>\n"
     ]
    }
   ],
   "source": [
    "# 자료형 (정수)\n",
    "num1 = 13\n",
    "print(num1)\n",
    "\n",
    "num2 = 25\n",
    "print(num2)\n",
    "\n",
    "num2 = 77\n",
    "print(num2)\n",
    "\n",
    "print(type(num2))"
   ]
  },
  {
   "cell_type": "code",
   "execution_count": 10,
   "id": "c540d80f",
   "metadata": {},
   "outputs": [
    {
     "name": "stdout",
     "output_type": "stream",
     "text": [
      "3.1425\n",
      "1.25\n",
      "3.12\n",
      "<class 'float'>\n"
     ]
    }
   ],
   "source": [
    "# 자료형 (실수)\n",
    "num3 = 3.1425\n",
    "print(num3)\n",
    "\n",
    "num4 = 1.25\n",
    "print(num4)\n",
    "\n",
    "num4 = 3.12\n",
    "print(num4)\n",
    "\n",
    "print(type(num4))"
   ]
  },
  {
   "cell_type": "code",
   "execution_count": 12,
   "id": "5fa598ff",
   "metadata": {},
   "outputs": [
    {
     "name": "stdout",
     "output_type": "stream",
     "text": [
      "Funny python\n",
      "Easy python\n",
      "<class 'str'>\n"
     ]
    }
   ],
   "source": [
    "# 자료형 (문자열)\n",
    "str1 = \"Funny python\"\n",
    "print(str1)\n",
    "\n",
    "str2 = \"Easy python\"\n",
    "print(str2)\n",
    "\n",
    "print(type(str2))"
   ]
  },
  {
   "cell_type": "code",
   "execution_count": 22,
   "id": "d3d79139",
   "metadata": {},
   "outputs": [
    {
     "ename": "SyntaxError",
     "evalue": "invalid decimal literal (3097680436.py, line 12)",
     "output_type": "error",
     "traceback": [
      "\u001b[1;36m  Cell \u001b[1;32mIn[22], line 12\u001b[1;36m\u001b[0m\n\u001b[1;33m    1a = 10\u001b[0m\n\u001b[1;37m    ^\u001b[0m\n\u001b[1;31mSyntaxError\u001b[0m\u001b[1;31m:\u001b[0m invalid decimal literal\n"
     ]
    }
   ],
   "source": [
    "# 변수명 규칙\n",
    "# 영문자, 숫자, 언더바 사용가능 (대소문자 구분)\n",
    "number = 10\n",
    "Number = 20\n",
    "print(f\"number : {number}\")\n",
    "print(f\"Number : {Number}\")\n",
    "\n",
    "num1_num2 = 10\n",
    "num1_num2\n",
    "\n",
    "# 숫자로 시작 불가능\n",
    "# ex) 1a = 10\n"
   ]
  },
  {
   "cell_type": "code",
   "execution_count": null,
   "id": "359f1901",
   "metadata": {},
   "outputs": [],
   "source": []
  }
 ],
 "metadata": {
  "kernelspec": {
   "display_name": "Python 3 (ipykernel)",
   "language": "python",
   "name": "python3"
  },
  "language_info": {
   "codemirror_mode": {
    "name": "ipython",
    "version": 3
   },
   "file_extension": ".py",
   "mimetype": "text/x-python",
   "name": "python",
   "nbconvert_exporter": "python",
   "pygments_lexer": "ipython3",
   "version": "3.10.9"
  }
 },
 "nbformat": 4,
 "nbformat_minor": 5
}
