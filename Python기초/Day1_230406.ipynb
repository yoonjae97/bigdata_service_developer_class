{
 "cells": [
  {
   "cell_type": "markdown",
   "id": "fb5765b5",
   "metadata": {},
   "source": [
    "##### 단축키\n",
    "- dd : 삭제\n",
    "- b : 아래 셀 추가\n",
    "- a :위 셀 추가\n",
    "- x : 잘라내기\n",
    "- c :복사\n",
    "- v : 붙여넣기\n",
    "- shift + m : 셀 합치기\n",
    "- ctrl + shift + - : 셀 분할\n",
    "- ctrl + a : 셀 전체 선택\n",
    "- ctrl + d : 현재 행 삭제"
   ]
  },
  {
   "cell_type": "markdown",
   "id": "4c326d86",
   "metadata": {},
   "source": [
    "## 변수"
   ]
  },
  {
   "cell_type": "code",
   "execution_count": null,
   "id": "4b776cf9",
   "metadata": {},
   "outputs": [],
   "source": [
    "code = 1 # 주석"
   ]
  },
  {
   "cell_type": "code",
   "execution_count": null,
   "id": "9f1e60ff",
   "metadata": {},
   "outputs": [],
   "source": [
    "# 자료형 (정수)\n",
    "num1 = 13\n",
    "print(num1)\n",
    "\n",
    "num2 = 25\n",
    "print(num2)\n",
    "\n",
    "num2 = 77\n",
    "print(num2)\n",
    "\n",
    "print(type(num2))"
   ]
  },
  {
   "cell_type": "code",
   "execution_count": null,
   "id": "c540d80f",
   "metadata": {},
   "outputs": [],
   "source": [
    "# 자료형 (실수)\n",
    "num3 = 3.1425\n",
    "print(num3)\n",
    "\n",
    "num4 = 1.25\n",
    "print(num4)\n",
    "\n",
    "num4 = 3.12\n",
    "print(num4)\n",
    "\n",
    "print(type(num4))"
   ]
  },
  {
   "cell_type": "code",
   "execution_count": null,
   "id": "5fa598ff",
   "metadata": {},
   "outputs": [],
   "source": [
    "# 자료형 (문자열)\n",
    "str1 = \"Funny python\"\n",
    "print(str1)\n",
    "\n",
    "str2 = \"Easy python\"\n",
    "print(str2)\n",
    "\n",
    "print(type(str2))"
   ]
  },
  {
   "cell_type": "code",
   "execution_count": null,
   "id": "d3d79139",
   "metadata": {},
   "outputs": [],
   "source": [
    "# 변수명 규칙\n",
    "# 영문자, 숫자, 언더바 사용가능 (대소문자 구분)\n",
    "number = 10\n",
    "Number = 20\n",
    "print(f\"number : {number}\")\n",
    "print(f\"Number : {Number}\")\n",
    "\n",
    "num1_num2 = 10\n",
    "num1_num2\n",
    "\n",
    "# 숫자로 시작 불가능\n",
    "# ex) 1a = 10\n",
    "\n",
    "# 예약어, 명령어 사용 불가능\n",
    "# ex) def, print 등\n",
    "\n",
    "# 변수명 규칙 종류\n",
    "# 카멜 표기법 numberList\n",
    "# 파스칼 표기법 NumberList\n",
    "# 스네이크 표기법 number_list"
   ]
  },
  {
   "cell_type": "code",
   "execution_count": null,
   "id": "359f1901",
   "metadata": {},
   "outputs": [],
   "source": [
    "# 예약어 종류\n",
    "import keyword\n",
    "keyword.kwlist"
   ]
  },
  {
   "cell_type": "code",
   "execution_count": null,
   "id": "96a0560d",
   "metadata": {},
   "outputs": [],
   "source": [
    "# x = 100\n",
    "# y = 200\n",
    "# sum = x + y\n",
    "# print(sum)"
   ]
  },
  {
   "cell_type": "markdown",
   "id": "6539268c",
   "metadata": {},
   "source": [
    "## 문자열"
   ]
  },
  {
   "cell_type": "code",
   "execution_count": 5,
   "id": "8d4a4eac",
   "metadata": {},
   "outputs": [
    {
     "data": {
      "text/plain": [
       "\"she's gone\""
      ]
     },
     "execution_count": 5,
     "metadata": {},
     "output_type": "execute_result"
    }
   ],
   "source": [
    "# 문자열 안에 따옴표 포함시킬 떄\n",
    "s = \"she's gone\"\n",
    "s = \"she\\'s gone\"\n",
    "s"
   ]
  },
  {
   "cell_type": "code",
   "execution_count": 6,
   "id": "d3f4abb7",
   "metadata": {},
   "outputs": [
    {
     "name": "stdout",
     "output_type": "stream",
     "text": [
      "여러줄로 구성된 \n",
      "문자열을 하나로 대입할 때\n"
     ]
    }
   ],
   "source": [
    "# 여러 줄인 문자열을 변수에 대입할 때\n",
    "s = '여러줄로 구성된 \\n문자열을 하나로 대입할 때'\n",
    "print(s)"
   ]
  },
  {
   "cell_type": "code",
   "execution_count": 9,
   "id": "0100da99",
   "metadata": {},
   "outputs": [
    {
     "name": "stdout",
     "output_type": "stream",
     "text": [
      "여러줄로 구성된\n",
      "문자열을 하나로\n",
      "대입할 때\n"
     ]
    }
   ],
   "source": [
    "# 따옴표 3개 연속으로 사용\n",
    "s = \"\"\"여러줄로 구성된\n",
    "문자열을 하나로\n",
    "대입할 때\"\"\"\n",
    "print(s)"
   ]
  },
  {
   "cell_type": "code",
   "execution_count": 11,
   "id": "616765d7",
   "metadata": {},
   "outputs": [
    {
     "name": "stdout",
     "output_type": "stream",
     "text": [
      "오늘은 즐거운 파이썬 \t 수업 시간입니다\n"
     ]
    }
   ],
   "source": [
    "s = \"오늘은 즐거운 파이썬 \\t 수업 시간입니다\"\n",
    "print(s)"
   ]
  },
  {
   "cell_type": "markdown",
   "id": "3e72fdec",
   "metadata": {},
   "source": [
    "#### 이스케이프 코드\n",
    "- \\n : 개행\n",
    "- \\t : 수평 탭\n",
    "- \\\\ : 문자 \\\n",
    "- \\' : 작은 따옴표\n",
    "- \\\" : 큰 따옴표"
   ]
  },
  {
   "cell_type": "code",
   "execution_count": 12,
   "id": "50ddff44",
   "metadata": {},
   "outputs": [
    {
     "name": "stdout",
     "output_type": "stream",
     "text": [
      "M\n",
      "i\n"
     ]
    }
   ],
   "source": [
    "# 문자열 인덱싱과 슬라이싱\n",
    "s = \"My name is SW\"\n",
    "print(s[0])\n",
    "print(s[8])"
   ]
  },
  {
   "cell_type": "code",
   "execution_count": 13,
   "id": "a7cd6fcd",
   "metadata": {},
   "outputs": [
    {
     "name": "stdout",
     "output_type": "stream",
     "text": [
      "S\n",
      "W\n"
     ]
    }
   ],
   "source": [
    "s = \"My name is SW\"\n",
    "print(s[-2])\n",
    "print(s[-1])"
   ]
  },
  {
   "cell_type": "code",
   "execution_count": 14,
   "id": "888162cf",
   "metadata": {},
   "outputs": [
    {
     "name": "stdout",
     "output_type": "stream",
     "text": [
      "My\n",
      "name\n",
      "is\n"
     ]
    }
   ],
   "source": [
    "s = \"My name is SW\"\n",
    "print(s[0:2])\n",
    "print(s[3:7])\n",
    "print(s[8:10])"
   ]
  },
  {
   "cell_type": "code",
   "execution_count": 16,
   "id": "7e34a451",
   "metadata": {},
   "outputs": [
    {
     "name": "stdout",
     "output_type": "stream",
     "text": [
      "My name\n",
      "My name\n",
      "My name\n"
     ]
    }
   ],
   "source": [
    "s = \"My name is SW\"\n",
    "print(s[0:7])\n",
    "print(s[:7])\n",
    "print(s[:-6])"
   ]
  },
  {
   "cell_type": "code",
   "execution_count": 17,
   "id": "930063aa",
   "metadata": {},
   "outputs": [
    {
     "name": "stdout",
     "output_type": "stream",
     "text": [
      "is SW\n",
      "is SW\n",
      "is SW\n"
     ]
    }
   ],
   "source": [
    "s = \"My name is SW\"\n",
    "print(s[8:13])\n",
    "print(s[8:])\n",
    "print(s[-5:])"
   ]
  },
  {
   "cell_type": "code",
   "execution_count": 20,
   "id": "e8399ba0",
   "metadata": {},
   "outputs": [
    {
     "name": "stdout",
     "output_type": "stream",
     "text": [
      "My name is SW\n",
      "My name is SW\n"
     ]
    }
   ],
   "source": [
    "s = \"My name is SW\"\n",
    "print(s[0:])\n",
    "print(s)"
   ]
  },
  {
   "cell_type": "code",
   "execution_count": 28,
   "id": "fd0ccfa9",
   "metadata": {},
   "outputs": [
    {
     "name": "stdout",
     "output_type": "stream",
     "text": [
      "날짜 : 2020년 3월 3일\n",
      "날씨 : 맑음\n"
     ]
    }
   ],
   "source": [
    "s = '2020년 3월 3일의 날씨는 맑음입니다'\n",
    "print(f\"날짜 : {s[:11]}\")\n",
    "print(f\"날씨 : {s[-5:-3]}\" )"
   ]
  },
  {
   "cell_type": "code",
   "execution_count": 31,
   "id": "50831f51",
   "metadata": {},
   "outputs": [
    {
     "name": "stdout",
     "output_type": "stream",
     "text": [
      "오늘은 7월 7일 입니다.\n",
      "오늘은 7월 8일 입니다.\n"
     ]
    }
   ],
   "source": [
    "# 문자열 포맷팅\n",
    "# % 사용\n",
    "day = 7\n",
    "s = \"오늘은 7월 %d일 입니다.\"%day\n",
    "print(s)\n",
    "\n",
    "day = 8\n",
    "s = \"오늘은 7월 %d일 입니다.\"%day\n",
    "print(s)"
   ]
  },
  {
   "cell_type": "markdown",
   "id": "63eedb9d",
   "metadata": {},
   "source": [
    "#### 문자열 포맷 코드\n",
    "- %s : 문자열\n",
    "- %c : 문자 1개\n",
    "- %d : 0-9까지 정수\n",
    "- %f : 실수\n",
    "- %% : Literal %"
   ]
  },
  {
   "cell_type": "code",
   "execution_count": 32,
   "id": "abb198cb",
   "metadata": {},
   "outputs": [
    {
     "name": "stdout",
     "output_type": "stream",
     "text": [
      "오늘은 7월 7일 입니다.\n"
     ]
    }
   ],
   "source": [
    "# 2개 이상 값 포맷팅\n",
    "month = 7\n",
    "day = 7\n",
    "s = \"오늘은 %d월 %d일 입니다.\"%(month, day)\n",
    "print(s)"
   ]
  },
  {
   "cell_type": "code",
   "execution_count": 33,
   "id": "24058ffc",
   "metadata": {},
   "outputs": [
    {
     "name": "stdout",
     "output_type": "stream",
     "text": [
      "오늘은 7월 7일 입니다.\n"
     ]
    }
   ],
   "source": [
    "# format 함수 사용 포맷팅\n",
    "month = 7\n",
    "day = 7\n",
    "s = \"오늘은 {}월 {}일 입니다.\".format(month, day)\n",
    "print(s)"
   ]
  },
  {
   "cell_type": "code",
   "execution_count": 34,
   "id": "b3904c31",
   "metadata": {},
   "outputs": [
    {
     "name": "stdout",
     "output_type": "stream",
     "text": [
      "오늘은 7월 7일 입니다.\n"
     ]
    }
   ],
   "source": [
    "# f-string 포맷팅\n",
    "month = 7\n",
    "day = 7\n",
    "s = f\"오늘은 {month}월 {day}일 입니다.\"\n",
    "print(s)"
   ]
  },
  {
   "cell_type": "code",
   "execution_count": 40,
   "id": "17b359bb",
   "metadata": {
    "scrolled": true
   },
   "outputs": [
    {
     "name": "stdout",
     "output_type": "stream",
     "text": [
      "100과 200의 합은 300입니다.\n",
      "100과 200의 합은 300입니다.\n",
      "100과 200의 합은 300입니다.\n"
     ]
    }
   ],
   "source": [
    "x = 100\n",
    "y = 200\n",
    "sum2 = x + y\n",
    "print(f\"{x}과 {y}의 합은 {sum2}입니다.\")\n",
    "print(\"{}과 {}의 합은 {}입니다.\".format(x, y, sum2))\n",
    "print(\"%d과 %d의 합은 %d입니다.\"%(x, y, sum2))"
   ]
  },
  {
   "attachments": {
    "image.png": {
     "image/png": "[encoded data removed]"
    }
   },
   "cell_type": "markdown",
   "id": "dd38fda5",
   "metadata": {},
   "source": [
    "![image.png](attachment:image.png)"
   ]
  },
  {
   "cell_type": "code",
   "execution_count": 41,
   "id": "53760093",
   "metadata": {},
   "outputs": [
    {
     "data": {
      "text/plain": [
       "2"
      ]
     },
     "execution_count": 41,
     "metadata": {},
     "output_type": "execute_result"
    }
   ],
   "source": [
    "# count 함수\n",
    "s = '오늘은 파이썬 수업날입니다. 파이썬 너무 재밌네요!'\n",
    "s.count(\"파이썬\")"
   ]
  },
  {
   "cell_type": "code",
   "execution_count": 46,
   "id": "8b48160b",
   "metadata": {},
   "outputs": [
    {
     "data": {
      "text/plain": [
       "4"
      ]
     },
     "execution_count": 46,
     "metadata": {},
     "output_type": "execute_result"
    }
   ],
   "source": [
    "# find 함수\n",
    "s = '오늘은 파이썬 수업날입니다. 파이썬 너무 재밌네요!'\n",
    "s.find(\"파\")"
   ]
  },
  {
   "cell_type": "code",
   "execution_count": 47,
   "id": "adb875b1",
   "metadata": {},
   "outputs": [
    {
     "data": {
      "text/plain": [
       "'오늘 점심 메뉴 추천좀!'"
      ]
     },
     "execution_count": 47,
     "metadata": {},
     "output_type": "execute_result"
    }
   ],
   "source": [
    "# 구분자 join 함수\n",
    "' '.join(['오늘', '점심 메뉴', '추천좀!'])"
   ]
  },
  {
   "cell_type": "code",
   "execution_count": 51,
   "id": "93b9650c",
   "metadata": {},
   "outputs": [
    {
     "name": "stdout",
     "output_type": "stream",
     "text": [
      "I'M STILL HUNGRY\n"
     ]
    }
   ],
   "source": [
    "# upper 함수\n",
    "s = 'I\\'m Still Hungry'\n",
    "print(s.upper())"
   ]
  },
  {
   "cell_type": "code",
   "execution_count": 52,
   "id": "f0213a06",
   "metadata": {},
   "outputs": [
    {
     "name": "stdout",
     "output_type": "stream",
     "text": [
      "i'm still hungry\n"
     ]
    }
   ],
   "source": [
    "# lower 함수\n",
    "s = 'I\\'m Still Hungry'\n",
    "print(s.lower())"
   ]
  },
  {
   "cell_type": "code",
   "execution_count": 54,
   "id": "d9958fdd",
   "metadata": {},
   "outputs": [
    {
     "name": "stdout",
     "output_type": "stream",
     "text": [
      "   I'm Still Hungry\n",
      "I'm Still Hungry   \n",
      "I'm Still Hungry\n"
     ]
    }
   ],
   "source": [
    "# strip 함수\n",
    "s = '   I\\'m Still Hungry   '\n",
    "print(s.rstrip())\n",
    "print(s.lstrip())\n",
    "print(s.strip())"
   ]
  },
  {
   "cell_type": "code",
   "execution_count": 56,
   "id": "fe677212",
   "metadata": {},
   "outputs": [
    {
     "data": {
      "text/plain": [
       "\"   I'm Still Happy   \""
      ]
     },
     "execution_count": 56,
     "metadata": {},
     "output_type": "execute_result"
    }
   ],
   "source": [
    "# replace 함수\n",
    "s.replace('Hungry', 'Happy')"
   ]
  },
  {
   "cell_type": "code",
   "execution_count": 58,
   "id": "c03a24c7",
   "metadata": {},
   "outputs": [
    {
     "data": {
      "text/plain": [
       "['옆에 공사 현장이 참', ' 시끄럽네요ㅠ']"
      ]
     },
     "execution_count": 58,
     "metadata": {},
     "output_type": "execute_result"
    }
   ],
   "source": [
    "# split 함수\n",
    "s = '옆에 공사 현장이 참. 시끄럽네요ㅠ'\n",
    "s.split('.')"
   ]
  },
  {
   "cell_type": "markdown",
   "id": "d2ce9459",
   "metadata": {},
   "source": [
    "## 연산자"
   ]
  },
  {
   "attachments": {
    "image.png": {
     "image/png": "[encoded data removed]"
    }
   },
   "cell_type": "markdown",
   "id": "14fdfa64",
   "metadata": {},
   "source": [
    "![image.png](attachment:image.png)"
   ]
  },
  {
   "cell_type": "code",
   "execution_count": 59,
   "id": "ff337c90",
   "metadata": {},
   "outputs": [
    {
     "name": "stdout",
     "output_type": "stream",
     "text": [
      "1.4285714285714286\n",
      "3\n",
      "1\n"
     ]
    }
   ],
   "source": [
    "num1 = 10\n",
    "num2 = 7\n",
    "\n",
    "print(num1/num2)\n",
    "print(num1%num2)\n",
    "print(num1//num2)"
   ]
  },
  {
   "cell_type": "code",
   "execution_count": 60,
   "id": "03e31dd1",
   "metadata": {},
   "outputs": [
    {
     "name": "stdout",
     "output_type": "stream",
     "text": [
      "안녕하세요\n"
     ]
    }
   ],
   "source": [
    "str1 = \"안녕\"\n",
    "str2 = \"하세요\"\n",
    "\n",
    "print(str1 + str2)"
   ]
  },
  {
   "cell_type": "code",
   "execution_count": 61,
   "id": "bea5469b",
   "metadata": {},
   "outputs": [
    {
     "name": "stdout",
     "output_type": "stream",
     "text": [
      "107\n"
     ]
    }
   ],
   "source": [
    "str1 = \"10\"\n",
    "str2 = \"7\"\n",
    "\n",
    "print(str1 + str2)"
   ]
  },
  {
   "cell_type": "code",
   "execution_count": 63,
   "id": "8ce04775",
   "metadata": {},
   "outputs": [
    {
     "name": "stdout",
     "output_type": "stream",
     "text": [
      "107\n",
      "17\n"
     ]
    }
   ],
   "source": [
    "num1 = 10\n",
    "str2 = '7'\n",
    "print(str(num1) + str2)\n",
    "print(num1 + int(str2))"
   ]
  },
  {
   "cell_type": "code",
   "execution_count": 64,
   "id": "d8a5af18",
   "metadata": {},
   "outputs": [
    {
     "name": "stdout",
     "output_type": "stream",
     "text": [
      "더하기 결과 : 26\n",
      "빼기 결과 : 20\n",
      "곱하기 결과 : 69\n",
      "나누기 결과 : 7.666666666666667\n"
     ]
    }
   ],
   "source": [
    "num1 = 23\n",
    "num2 = 3\n",
    "\n",
    "print(f'더하기 결과 : {num1 + num2}')\n",
    "print(f'빼기 결과 : {num1 - num2}')\n",
    "print(f'곱하기 결과 : {num1 * num2}')\n",
    "print(f'나누기 결과 : {num1 / num2}')"
   ]
  },
  {
   "cell_type": "code",
   "execution_count": 67,
   "id": "71832966",
   "metadata": {},
   "outputs": [
    {
     "name": "stdout",
     "output_type": "stream",
     "text": [
      "num1 값 입력 :10\n",
      "num2 값 입력 :5\n",
      "더하기 결과 : 15\n",
      "빼기 결과 : 5\n",
      "곱하기 결과 : 50\n",
      "나누기 결과 : 2.0\n"
     ]
    }
   ],
   "source": [
    "num1 = int(input('num1 값 입력 :'))\n",
    "num2 = int(input('num2 값 입력 :'))\n",
    "\n",
    "print(f'더하기 결과 : {num1 + num2}')\n",
    "print(f'빼기 결과 : {num1 - num2}')\n",
    "print(f'곱하기 결과 : {num1 * num2}')\n",
    "print(f'나누기 결과 : {num1 / num2}')"
   ]
  },
  {
   "cell_type": "code",
   "execution_count": 71,
   "id": "d971d09b",
   "metadata": {
    "scrolled": true
   },
   "outputs": [
    {
     "name": "stdout",
     "output_type": "stream",
     "text": [
      "정수를 입력하세요 >> 15\n",
      "15\n",
      "<class 'int'>\n"
     ]
    }
   ],
   "source": [
    "num = int(input('정수를 입력하세요 >> '))\n",
    "print(num)\n",
    "print(type(num))"
   ]
  },
  {
   "cell_type": "code",
   "execution_count": 72,
   "id": "d08ceeda",
   "metadata": {},
   "outputs": [
    {
     "name": "stdout",
     "output_type": "stream",
     "text": [
      "정수를 입력하세요 >> 3\n",
      "정수를 입력하세요 >> 7\n",
      "더하기 결과 : 10\n",
      "빼기 결과 : -4\n",
      "곱하기 결과 : 21\n",
      "나누기 결과 : 0.42857142857142855\n"
     ]
    }
   ],
   "source": [
    "num1 = int(input('정수를 입력하세요 >> '))\n",
    "num2 = int(input('정수를 입력하세요 >> '))\n",
    "\n",
    "print(f'더하기 결과 : {num1 + num2}')\n",
    "print(f'빼기 결과 : {num1 - num2}')\n",
    "print(f'곱하기 결과 : {num1 * num2}')\n",
    "print(f'나누기 결과 : {num1 / num2}')"
   ]
  },
  {
   "cell_type": "code",
   "execution_count": 80,
   "id": "f8dfc6ce",
   "metadata": {},
   "outputs": [
    {
     "name": "stdout",
     "output_type": "stream",
     "text": [
      "python 점수 입력 >> 100\n",
      "머신러닝 점수 입력 >> 80\n",
      "딥러닝 점수 입력 >> 60\n",
      "합계 : 240\n",
      "평균 : 80.0\n"
     ]
    }
   ],
   "source": [
    "py = int(input('python 점수 입력 >> '))\n",
    "ml = int(input('머신러닝 점수 입력 >> '))\n",
    "dl = int(input('딥러닝 점수 입력 >> '))\n",
    "\n",
    "print(f\"합계 : {py + ml + dl}\")\n",
    "print(f\"평균 : {(py + ml + dl)/3}\")"
   ]
  },
  {
   "cell_type": "code",
   "execution_count": 85,
   "id": "b4081efe",
   "metadata": {},
   "outputs": [
    {
     "name": "stdout",
     "output_type": "stream",
     "text": [
      "시간 입력(초) >>7533\n",
      "2시간 5분 33초\n"
     ]
    }
   ],
   "source": [
    "time = int(input(\"시간 입력(초) >>\"))\n",
    "\n",
    "hour = time // 3600\n",
    "minute = (time % 3600) // 60\n",
    "second = (time % 3600) % 60\n",
    "\n",
    "print(f\"{hour}시간 {minute}분 {second}초\")"
   ]
  },
  {
   "cell_type": "code",
   "execution_count": 92,
   "id": "c6b68679",
   "metadata": {},
   "outputs": [
    {
     "name": "stdout",
     "output_type": "stream",
     "text": [
      "xxxxxxxxxx\n"
     ]
    }
   ],
   "source": [
    "s = \"x\"\n",
    "print(s * 10)"
   ]
  },
  {
   "cell_type": "code",
   "execution_count": 93,
   "id": "65a48341",
   "metadata": {},
   "outputs": [
    {
     "name": "stdout",
     "output_type": "stream",
     "text": [
      "안녕하세요안녕하세요\n"
     ]
    }
   ],
   "source": [
    "s = '안녕하세요'\n",
    "print(s * 2)"
   ]
  },
  {
   "cell_type": "code",
   "execution_count": 101,
   "id": "f0858c46",
   "metadata": {},
   "outputs": [
    {
     "name": "stdout",
     "output_type": "stream",
     "text": [
      "********** 연산하기 **********\n",
      "정수입력 >> 10\n",
      "정수입력 >> 20\n",
      "+연산자 입력 >> +\n",
      "10 + 20 = 30\n"
     ]
    }
   ],
   "source": [
    "print(\"*\"*10, '연산하기', \"*\"*10)\n",
    "num1 = int(input(\"정수입력 >> \"))\n",
    "num2 = int(input(\"정수입력 >> \"))\n",
    "cal = input(\"+연산자 입력 >> \")\n",
    "print(f'{num1} {cal} {num2} = {num1 + num2}')"
   ]
  },
  {
   "cell_type": "code",
   "execution_count": 103,
   "id": "32ea74e1",
   "metadata": {},
   "outputs": [
    {
     "name": "stdout",
     "output_type": "stream",
     "text": [
      "정수 입력 >>2\n",
      "지수 입력 >>3\n",
      "2의 3승은 8입니다.\n"
     ]
    }
   ],
   "source": [
    "num = int(input(\"정수 입력 >>\"))\n",
    "power = int(input('지수 입력 >>'))\n",
    "print(\"{}의 {}승은 {}입니다.\".format(num, power, num**power))"
   ]
  },
  {
   "cell_type": "code",
   "execution_count": null,
   "id": "a1d41d39",
   "metadata": {},
   "outputs": [],
   "source": []
  }
 ],
 "metadata": {
  "kernelspec": {
   "display_name": "Python 3 (ipykernel)",
   "language": "python",
   "name": "python3"
  },
  "language_info": {
   "codemirror_mode": {
    "name": "ipython",
    "version": 3
   },
   "file_extension": ".py",
   "mimetype": "text/x-python",
   "name": "python",
   "nbconvert_exporter": "python",
   "pygments_lexer": "ipython3",
   "version": "3.10.9"
  }
 },
 "nbformat": 4,
 "nbformat_minor": 5
}
