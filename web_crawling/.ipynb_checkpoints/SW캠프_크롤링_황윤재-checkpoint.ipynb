{
 "cells": [
  {
   "cell_type": "code",
   "execution_count": 19,
   "id": "a5cf2bf9",
   "metadata": {},
   "outputs": [],
   "source": [
    "from selenium import webdriver as wb\n",
    "from selenium.webdriver.common.by import By\n",
    "from selenium.webdriver.common.keys import Keys\n",
    "from tqdm import tqdm\n",
    "from bs4 import BeautifulSoup as bs\n",
    "\n",
    "import requests as req\n",
    "import time\n",
    "import pandas as pd"
   ]
  },
  {
   "cell_type": "markdown",
   "id": "b1a9368d",
   "metadata": {},
   "source": [
    "# Question 1"
   ]
  },
  {
   "cell_type": "markdown",
   "id": "4300f1e0",
   "metadata": {},
   "source": [
    "# 문제 1"
   ]
  },
  {
   "cell_type": "markdown",
   "id": "6d6961f4",
   "metadata": {},
   "source": [
    "- 1번 답: 로그수집\n",
    "- 2번 답: 크롤링\n",
    "- 3번 답: 오픈API\n",
    "- 4번 답: 센서수집"
   ]
  },
  {
   "cell_type": "markdown",
   "id": "cbeb4b35",
   "metadata": {},
   "source": [
    "# 문제 2"
   ]
  },
  {
   "cell_type": "markdown",
   "id": "5ab4b82f",
   "metadata": {},
   "source": [
    "크롤링이란 : 파이썬 등의 프로그램을 이용하여 웹페이지로부터 필요한 데이터를 수집하는 방법\n",
    "\n",
    "필요성 : 직접 웹페이지를 클릭해가며 데이터를 입력, 수집하는 방식에는 한계가 존재. 따라서 손쉽게 대용량의 데이터를 수집하기 위한 방법으로 크롤링이 필요"
   ]
  },
  {
   "cell_type": "markdown",
   "id": "6a2a09e5",
   "metadata": {},
   "source": [
    "# 문제 3"
   ]
  },
  {
   "cell_type": "markdown",
   "id": "3cdbdf02",
   "metadata": {},
   "source": [
    "BeautifulSoup란 html 문서 내 데이터에 접근할 수 있도록 변환해주는 라이브러리를 의미하며, 웹페이지에서 원하는 데이터를 추출, 가공하기 쉬운 형태로 변환해주는 기능이 있다."
   ]
  },
  {
   "cell_type": "markdown",
   "id": "85380d57",
   "metadata": {},
   "source": [
    "# 문제 4"
   ]
  },
  {
   "cell_type": "markdown",
   "id": "dd963afe",
   "metadata": {},
   "source": [
    "- find_element는 입력한 클래스에 해당하는 값을 1개만 가져오는 것이고 find_elements는 존재하는 값을 모두 가져오는 점에서 차이가 있다. \n",
    "- 따라서 img-lazy클래스에 해당하는 값이 여러개일 경우를 가정할 때 1번은 1개만을 가져오고 2번은 여러개를 가져온다."
   ]
  },
  {
   "cell_type": "markdown",
   "id": "0b6ab4ed",
   "metadata": {},
   "source": [
    "# 문제 5"
   ]
  },
  {
   "cell_type": "code",
   "execution_count": null,
   "id": "3083c039",
   "metadata": {},
   "outputs": [],
   "source": [
    "url = '웹페이지 url'\n",
    "res_url = req.get(url)\n",
    "bs_url = bs(res_url.text, 'lxml')\n",
    "\n",
    "result = bs_url.select_one('span#this_span').text"
   ]
  },
  {
   "cell_type": "markdown",
   "id": "cdefd372",
   "metadata": {},
   "source": [
    "# Question 2"
   ]
  },
  {
   "cell_type": "markdown",
   "id": "33870b91",
   "metadata": {},
   "source": [
    "# 문제 2"
   ]
  },
  {
   "cell_type": "code",
   "execution_count": 72,
   "id": "4ad2a315",
   "metadata": {},
   "outputs": [],
   "source": [
    "# 문제 5-2\n",
    "driver = wb.Chrome()\n",
    "driver.get('https://www.naver.com')\n",
    "driver.maximize_window()\n",
    "\n",
    "search = driver.find_element(By.XPATH, '//*[@id=\"query\"]')\n",
    "search.send_keys('크롤링')\n",
    "search.send_keys(Keys.ENTER)"
   ]
  },
  {
   "cell_type": "markdown",
   "id": "1c3596d7",
   "metadata": {},
   "source": [
    "# Question 3"
   ]
  },
  {
   "cell_type": "markdown",
   "id": "114e6872",
   "metadata": {},
   "source": [
    "# 문제 3"
   ]
  },
  {
   "cell_type": "code",
   "execution_count": 73,
   "id": "70eb5dc9",
   "metadata": {},
   "outputs": [
    {
     "name": "stderr",
     "output_type": "stream",
     "text": [
      "100%|██████████████████████████████████████████████████████████████████████████████████| 20/20 [02:02<00:00,  6.11s/it]\n"
     ]
    },
    {
     "data": {
      "text/html": [
       "<div>\n",
       "<style scoped>\n",
       "    .dataframe tbody tr th:only-of-type {\n",
       "        vertical-align: middle;\n",
       "    }\n",
       "\n",
       "    .dataframe tbody tr th {\n",
       "        vertical-align: top;\n",
       "    }\n",
       "\n",
       "    .dataframe thead th {\n",
       "        text-align: right;\n",
       "    }\n",
       "</style>\n",
       "<table border=\"1\" class=\"dataframe\">\n",
       "  <thead>\n",
       "    <tr style=\"text-align: right;\">\n",
       "      <th></th>\n",
       "      <th>title</th>\n",
       "      <th>price</th>\n",
       "    </tr>\n",
       "  </thead>\n",
       "  <tbody>\n",
       "    <tr>\n",
       "      <th>0</th>\n",
       "      <td>스포츠 쿨링 세트 1+1 팔토시 쿨워머 등산 라이딩 낚시 자외선차단</td>\n",
       "      <td>10,500원</td>\n",
       "    </tr>\n",
       "    <tr>\n",
       "      <th>1</th>\n",
       "      <td>미즈노 쿠션 미드 5족</td>\n",
       "      <td>11,900원</td>\n",
       "    </tr>\n",
       "    <tr>\n",
       "      <th>2</th>\n",
       "      <td>제스프리 골드키위 2kg 공식인증 점보</td>\n",
       "      <td>23,200원</td>\n",
       "    </tr>\n",
       "    <tr>\n",
       "      <th>3</th>\n",
       "      <td>추추추어탕 500g 5팩 국내산 미꾸라지만 사용</td>\n",
       "      <td>15,390원</td>\n",
       "    </tr>\n",
       "    <tr>\n",
       "      <th>4</th>\n",
       "      <td>(신세계강남점) 단독 더블웨어 파운데이션 세트 (+프라이머 정품)</td>\n",
       "      <td>67,830원</td>\n",
       "    </tr>\n",
       "    <tr>\n",
       "      <th>5</th>\n",
       "      <td>산지직송 꿀달달 성주 참외 5kg (혼합과)</td>\n",
       "      <td>18,900원</td>\n",
       "    </tr>\n",
       "    <tr>\n",
       "      <th>6</th>\n",
       "      <td>한우물 주먹밥 15개 세트구성 ( 참치김치 5 + 참치마요 5 + 소불고기 5)</td>\n",
       "      <td>15,770원</td>\n",
       "    </tr>\n",
       "    <tr>\n",
       "      <th>7</th>\n",
       "      <td>(VER SET / JEWEL SET) JOOHONEY THE 1ST MINI AL...</td>\n",
       "      <td>89,100원</td>\n",
       "    </tr>\n",
       "    <tr>\n",
       "      <th>8</th>\n",
       "      <td>(VER SET) JOOHONEY THE 1ST MINI ALBUM LIGHTS</td>\n",
       "      <td>53,400원</td>\n",
       "    </tr>\n",
       "    <tr>\n",
       "      <th>9</th>\n",
       "      <td>진라면 매운맛 40봉</td>\n",
       "      <td>23,600원</td>\n",
       "    </tr>\n",
       "    <tr>\n",
       "      <th>10</th>\n",
       "      <td>에어프라이어 치킨 떴닭 로스트치킨 1kg+1kg / 100%국내산</td>\n",
       "      <td>15,200원</td>\n",
       "    </tr>\n",
       "    <tr>\n",
       "      <th>11</th>\n",
       "      <td>RHK+토토북 오싹오싹 시리즈 (전3권)</td>\n",
       "      <td>40,000원</td>\n",
       "    </tr>\n",
       "    <tr>\n",
       "      <th>12</th>\n",
       "      <td>나이키外 인기 신상 반팔티/반바지/쇼트/운동복 모음</td>\n",
       "      <td>10,500원</td>\n",
       "    </tr>\n",
       "    <tr>\n",
       "      <th>13</th>\n",
       "      <td>우르오스 스킨워시 500ml x 2개_A (5/4 스킨밀크 15ml 2개 증정)</td>\n",
       "      <td>28,360원</td>\n",
       "    </tr>\n",
       "    <tr>\n",
       "      <th>14</th>\n",
       "      <td>(특가) 아울북 그리스 로마 신화 낱권 선택 구매</td>\n",
       "      <td>10,500원</td>\n",
       "    </tr>\n",
       "    <tr>\n",
       "      <th>15</th>\n",
       "      <td>(신세계강남점)네파 (역시즌) 남여 공용 C-TR 숏 푸퍼 구스 다운 자켓 7HF2063</td>\n",
       "      <td>57,910원</td>\n",
       "    </tr>\n",
       "    <tr>\n",
       "      <th>16</th>\n",
       "      <td>기프트코드 10만원 / 구글 기프트카드</td>\n",
       "      <td>95,000원</td>\n",
       "    </tr>\n",
       "    <tr>\n",
       "      <th>17</th>\n",
       "      <td>압타밀 프로푸트라 프레 800g 6통 세트 독일내수용 / 최신제품 / 안전배송</td>\n",
       "      <td>223,000원</td>\n",
       "    </tr>\n",
       "    <tr>\n",
       "      <th>18</th>\n",
       "      <td>(메가박스)일반예매권2D-주중/주말</td>\n",
       "      <td>9,300원</td>\n",
       "    </tr>\n",
       "    <tr>\n",
       "      <th>19</th>\n",
       "      <td>(옵션선택) 시서례 초등 국어 독해력 비타민 / 어린이 훈민정음 / 나의 생각 글쓰...</td>\n",
       "      <td>10,000원</td>\n",
       "    </tr>\n",
       "  </tbody>\n",
       "</table>\n",
       "</div>"
      ],
      "text/plain": [
       "                                                title     price\n",
       "0               스포츠 쿨링 세트 1+1 팔토시 쿨워머 등산 라이딩 낚시 자외선차단   10,500원\n",
       "1                                        미즈노 쿠션 미드 5족   11,900원\n",
       "2                               제스프리 골드키위 2kg 공식인증 점보   23,200원\n",
       "3                          추추추어탕 500g 5팩 국내산 미꾸라지만 사용   15,390원\n",
       "4                (신세계강남점) 단독 더블웨어 파운데이션 세트 (+프라이머 정품)   67,830원\n",
       "5                            산지직송 꿀달달 성주 참외 5kg (혼합과)   18,900원\n",
       "6        한우물 주먹밥 15개 세트구성 ( 참치김치 5 + 참치마요 5 + 소불고기 5)   15,770원\n",
       "7   (VER SET / JEWEL SET) JOOHONEY THE 1ST MINI AL...   89,100원\n",
       "8        (VER SET) JOOHONEY THE 1ST MINI ALBUM LIGHTS   53,400원\n",
       "9                                         진라면 매운맛 40봉   23,600원\n",
       "10               에어프라이어 치킨 떴닭 로스트치킨 1kg+1kg / 100%국내산   15,200원\n",
       "11                             RHK+토토북 오싹오싹 시리즈 (전3권)   40,000원\n",
       "12                       나이키外 인기 신상 반팔티/반바지/쇼트/운동복 모음   10,500원\n",
       "13       우르오스 스킨워시 500ml x 2개_A (5/4 스킨밀크 15ml 2개 증정)   28,360원\n",
       "14                        (특가) 아울북 그리스 로마 신화 낱권 선택 구매   10,500원\n",
       "15  (신세계강남점)네파 (역시즌) 남여 공용 C-TR 숏 푸퍼 구스 다운 자켓 7HF2063   57,910원\n",
       "16                              기프트코드 10만원 / 구글 기프트카드   95,000원\n",
       "17        압타밀 프로푸트라 프레 800g 6통 세트 독일내수용 / 최신제품 / 안전배송  223,000원\n",
       "18                                (메가박스)일반예매권2D-주중/주말    9,300원\n",
       "19  (옵션선택) 시서례 초등 국어 독해력 비타민 / 어린이 훈민정음 / 나의 생각 글쓰...   10,000원"
      ]
     },
     "execution_count": 73,
     "metadata": {},
     "output_type": "execute_result"
    }
   ],
   "source": [
    "driver = wb.Chrome()\n",
    "driver.get('https://www.gmarket.co.kr/?jaehuid=200011415&gclid=Cj0KCQjwr82iBhCuARIsAO0EAZwtma36-MnaAkkfXetjaI_N_j4QJ-SE1uJJAutjpluINtHSkxDpMt0aAsaQEALw_wcB')\n",
    "\n",
    "best_button = driver.find_element(By.XPATH, '//*[@id=\"desktop_layout-header\"]/div/div/div[2]/div[2]/ul/li[1]/a')\n",
    "best_button.click()\n",
    "\n",
    "driver.maximize_window()\n",
    "\n",
    "titles = []\n",
    "prices = []\n",
    "\n",
    "for i in tqdm(range(20)):\n",
    "    imgs = driver.find_elements(By.CLASS_NAME, 'image__lazy.image__load')\n",
    "\n",
    "    imgs[i].click()\n",
    "    \n",
    "    time.sleep(1)\n",
    "    title = driver.find_element(By.CLASS_NAME, 'itemtit')\n",
    "    titles.append(title.text)\n",
    "    \n",
    "    price = driver.find_element(By.CLASS_NAME, 'price_real')\n",
    "    prices.append(price.text)\n",
    "    \n",
    "    driver.back()\n",
    "    time.sleep(1)\n",
    "    \n",
    "driver.quit()\n",
    "\n",
    "gmarket_df = pd.DataFrame({'title':titles, 'price':prices})\n",
    "gmarket_df"
   ]
  },
  {
   "cell_type": "markdown",
   "id": "a1ab0956",
   "metadata": {},
   "source": [
    "# Question 4"
   ]
  },
  {
   "cell_type": "markdown",
   "id": "cbc73531",
   "metadata": {},
   "source": [
    "# 문제 1"
   ]
  },
  {
   "cell_type": "code",
   "execution_count": 76,
   "id": "e472db9c",
   "metadata": {},
   "outputs": [
    {
     "data": {
      "text/html": [
       "<div>\n",
       "<style scoped>\n",
       "    .dataframe tbody tr th:only-of-type {\n",
       "        vertical-align: middle;\n",
       "    }\n",
       "\n",
       "    .dataframe tbody tr th {\n",
       "        vertical-align: top;\n",
       "    }\n",
       "\n",
       "    .dataframe thead th {\n",
       "        text-align: right;\n",
       "    }\n",
       "</style>\n",
       "<table border=\"1\" class=\"dataframe\">\n",
       "  <thead>\n",
       "    <tr style=\"text-align: right;\">\n",
       "      <th></th>\n",
       "      <th>title</th>\n",
       "      <th>artist</th>\n",
       "    </tr>\n",
       "  </thead>\n",
       "  <tbody>\n",
       "    <tr>\n",
       "      <th>1</th>\n",
       "      <td>I AM</td>\n",
       "      <td>IVE (아이브)</td>\n",
       "    </tr>\n",
       "    <tr>\n",
       "      <th>2</th>\n",
       "      <td>Kitsch</td>\n",
       "      <td>IVE (아이브)</td>\n",
       "    </tr>\n",
       "    <tr>\n",
       "      <th>3</th>\n",
       "      <td>UNFORGIVEN (feat. Nile Rodgers)</td>\n",
       "      <td>LE SSERAFIM (르세라핌)</td>\n",
       "    </tr>\n",
       "    <tr>\n",
       "      <th>4</th>\n",
       "      <td>꽃</td>\n",
       "      <td>지수 (JISOO)</td>\n",
       "    </tr>\n",
       "    <tr>\n",
       "      <th>5</th>\n",
       "      <td>손오공</td>\n",
       "      <td>세븐틴 (SEVENTEEN)</td>\n",
       "    </tr>\n",
       "    <tr>\n",
       "      <th>...</th>\n",
       "      <td>...</td>\n",
       "      <td>...</td>\n",
       "    </tr>\n",
       "    <tr>\n",
       "      <th>96</th>\n",
       "      <td>Say My Name</td>\n",
       "      <td>Say Yes!</td>\n",
       "    </tr>\n",
       "    <tr>\n",
       "      <th>97</th>\n",
       "      <td>모든 날, 모든 순간 (Every day, Every Moment)</td>\n",
       "      <td>폴킴</td>\n",
       "    </tr>\n",
       "    <tr>\n",
       "      <th>98</th>\n",
       "      <td>나의 마음에 (Seed)</td>\n",
       "      <td>태양</td>\n",
       "    </tr>\n",
       "    <tr>\n",
       "      <th>99</th>\n",
       "      <td>빙글빙글 (Prod. R.Tee)</td>\n",
       "      <td>헤이즈 (Heize)</td>\n",
       "    </tr>\n",
       "    <tr>\n",
       "      <th>100</th>\n",
       "      <td>그중에 그대를 만나</td>\n",
       "      <td>김호중</td>\n",
       "    </tr>\n",
       "  </tbody>\n",
       "</table>\n",
       "<p>100 rows × 2 columns</p>\n",
       "</div>"
      ],
      "text/plain": [
       "                                     title              artist\n",
       "1                                     I AM           IVE (아이브)\n",
       "2                                   Kitsch           IVE (아이브)\n",
       "3          UNFORGIVEN (feat. Nile Rodgers)  LE SSERAFIM (르세라핌)\n",
       "4                                        꽃          지수 (JISOO)\n",
       "5                                      손오공     세븐틴 (SEVENTEEN)\n",
       "..                                     ...                 ...\n",
       "96                             Say My Name            Say Yes!\n",
       "97   모든 날, 모든 순간 (Every day, Every Moment)                  폴킴\n",
       "98                           나의 마음에 (Seed)                  태양\n",
       "99                      빙글빙글 (Prod. R.Tee)         헤이즈 (Heize)\n",
       "100                             그중에 그대를 만나                 김호중\n",
       "\n",
       "[100 rows x 2 columns]"
      ]
     },
     "execution_count": 76,
     "metadata": {},
     "output_type": "execute_result"
    }
   ],
   "source": [
    "url = 'https://www.melon.com/chart/index.htm'\n",
    "head = {'User-Agent' : 'Mozilla/5.0 (Windows NT 10.0; Win64; x64) AppleWebKit/537.36 (KHTML, like Gecko) Chrome/112.0.0.0 Safari/537.36'}\n",
    "\n",
    "res_melon = req.get(url, headers = head)\n",
    "bs_melon = bs(res_melon.text, 'lxml')\n",
    "\n",
    "\n",
    "ranks = pd.Series([i.text for i in bs_melon.select('span.rank')])\n",
    "title = pd.Series([i.text for i in bs_melon.select('div.ellipsis.rank01 > span > a')])\n",
    "artist = pd.Series([i.text for i in bs_melon.select('div.ellipsis.rank02 > span')])\n",
    "\n",
    "melon_df = pd.DataFrame({'title':title, 'artist':artist})\n",
    "melon_df.index = ranks[1:]\n",
    "\n",
    "melon_df.to_csv('melon_df.csv', encoding='euc-kr', index=False)\n",
    "melon_df"
   ]
  },
  {
   "cell_type": "markdown",
   "id": "58018ce2",
   "metadata": {},
   "source": [
    "# 문제 2"
   ]
  },
  {
   "cell_type": "code",
   "execution_count": 90,
   "id": "375f296b",
   "metadata": {},
   "outputs": [
    {
     "name": "stdout",
     "output_type": "stream",
     "text": [
      "검색 키워드 입력: 우왁굳\n"
     ]
    },
    {
     "data": {
      "text/html": [
       "<div>\n",
       "<style scoped>\n",
       "    .dataframe tbody tr th:only-of-type {\n",
       "        vertical-align: middle;\n",
       "    }\n",
       "\n",
       "    .dataframe tbody tr th {\n",
       "        vertical-align: top;\n",
       "    }\n",
       "\n",
       "    .dataframe thead th {\n",
       "        text-align: right;\n",
       "    }\n",
       "</style>\n",
       "<table border=\"1\" class=\"dataframe\">\n",
       "  <thead>\n",
       "    <tr style=\"text-align: right;\">\n",
       "      <th></th>\n",
       "      <th>제목</th>\n",
       "      <th>조회수</th>\n",
       "    </tr>\n",
       "  </thead>\n",
       "  <tbody>\n",
       "    <tr>\n",
       "      <th>0</th>\n",
       "      <td>고멤들 스트리머 데뷔 시켰습니다.</td>\n",
       "      <td>조회수 98회</td>\n",
       "    </tr>\n",
       "    <tr>\n",
       "      <th>1</th>\n",
       "      <td>마크도 계급사회다. 눕은 눕끼리 살아야 합니다.</td>\n",
       "      <td>조회수 22만회</td>\n",
       "    </tr>\n",
       "    <tr>\n",
       "      <th>2</th>\n",
       "      <td>거울 상대로 이겨보려고 했던 썰</td>\n",
       "      <td>조회수 64만회</td>\n",
       "    </tr>\n",
       "    <tr>\n",
       "      <th>3</th>\n",
       "      <td>레디 오어 낫을 해보았습니다</td>\n",
       "      <td>조회수 21만회</td>\n",
       "    </tr>\n",
       "    <tr>\n",
       "      <th>4</th>\n",
       "      <td>고세구의 괴담 읽기 - 이세돌 핫클립</td>\n",
       "      <td>조회수 2.4만회</td>\n",
       "    </tr>\n",
       "    <tr>\n",
       "      <th>...</th>\n",
       "      <td>...</td>\n",
       "      <td>...</td>\n",
       "    </tr>\n",
       "    <tr>\n",
       "      <th>111</th>\n",
       "      <td>미니모르즈비가 관에 들어간 날</td>\n",
       "      <td>조회수 119만회</td>\n",
       "    </tr>\n",
       "    <tr>\n",
       "      <th>112</th>\n",
       "      <td>교수님 우왁굳도 보시나보네 ㅋㅋ | 융터르 커버 #shorts</td>\n",
       "      <td>조회수 6.4만회</td>\n",
       "    </tr>\n",
       "    <tr>\n",
       "      <th>113</th>\n",
       "      <td>강도가 들었을 때 대처법 - 왁굳의 노가리</td>\n",
       "      <td>조회수 36만회</td>\n",
       "    </tr>\n",
       "    <tr>\n",
       "      <th>114</th>\n",
       "      <td>만화책을 보고 계신게 아니라 마인크래프트 입니다. - 눕프로해커 원펀맨 가로우</td>\n",
       "      <td>조회수 10만회</td>\n",
       "    </tr>\n",
       "    <tr>\n",
       "      <th>115</th>\n",
       "      <td>어떠한 영상도 남아 있지 않은 전설의 컨텐츠..</td>\n",
       "      <td>조회수 5.7만회</td>\n",
       "    </tr>\n",
       "  </tbody>\n",
       "</table>\n",
       "<p>116 rows × 2 columns</p>\n",
       "</div>"
      ],
      "text/plain": [
       "                                              제목        조회수\n",
       "0                             고멤들 스트리머 데뷔 시켰습니다.    조회수 98회\n",
       "1                     마크도 계급사회다. 눕은 눕끼리 살아야 합니다.   조회수 22만회\n",
       "2                              거울 상대로 이겨보려고 했던 썰   조회수 64만회\n",
       "3                                레디 오어 낫을 해보았습니다   조회수 21만회\n",
       "4                           고세구의 괴담 읽기 - 이세돌 핫클립  조회수 2.4만회\n",
       "..                                           ...        ...\n",
       "111                             미니모르즈비가 관에 들어간 날  조회수 119만회\n",
       "112           교수님 우왁굳도 보시나보네 ㅋㅋ | 융터르 커버 #shorts  조회수 6.4만회\n",
       "113                      강도가 들었을 때 대처법 - 왁굳의 노가리   조회수 36만회\n",
       "114  만화책을 보고 계신게 아니라 마인크래프트 입니다. - 눕프로해커 원펀맨 가로우   조회수 10만회\n",
       "115                   어떠한 영상도 남아 있지 않은 전설의 컨텐츠..  조회수 5.7만회\n",
       "\n",
       "[116 rows x 2 columns]"
      ]
     },
     "execution_count": 90,
     "metadata": {},
     "output_type": "execute_result"
    }
   ],
   "source": [
    "driver = wb.Chrome()\n",
    "search_keyword = input('검색 키워드 입력: ')\n",
    "driver.get(f'https://www.youtube.com/results?search_query={search_keyword}')\n",
    "driver.maximize_window()\n",
    "time.sleep(1)\n",
    "\n",
    "while len(titles) < 100:\n",
    "    body = driver.find_element(By.TAG_NAME, 'body')\n",
    "    body.send_keys(Keys.END)\n",
    "    time.sleep(2)\n",
    "\n",
    "    titles = driver.find_elements(By.XPATH, '//*[@id=\"video-title\"]/yt-formatted-string')\n",
    "\n",
    "titles = driver.find_elements(By.XPATH, '//*[@id=\"video-title\"]/yt-formatted-string')\n",
    "view_cnt = driver.find_elements(By.XPATH, '//*[@id=\"metadata-line\"]/span[1]')\n",
    "\n",
    "title_lst = []\n",
    "view_lst = []\n",
    "\n",
    "for i in range(len(titles)):\n",
    "    title_lst.append(titles[i].text)\n",
    "    view_lst.append(view_cnt[i].text)\n",
    "\n",
    "driver.quit()\n",
    "\n",
    "youtube_df = pd.DataFrame({'제목':title_lst, '조회수':view_lst})\n",
    "youtube_df.to_csv('youtube_df.csv', encoding='euc-kr', index=False)\n",
    "\n",
    "youtube_df"
   ]
  }
 ],
 "metadata": {
  "kernelspec": {
   "display_name": "Python 3 (ipykernel)",
   "language": "python",
   "name": "python3"
  },
  "language_info": {
   "codemirror_mode": {
    "name": "ipython",
    "version": 3
   },
   "file_extension": ".py",
   "mimetype": "text/x-python",
   "name": "python",
   "nbconvert_exporter": "python",
   "pygments_lexer": "ipython3",
   "version": "3.10.9"
  }
 },
 "nbformat": 4,
 "nbformat_minor": 5
}
