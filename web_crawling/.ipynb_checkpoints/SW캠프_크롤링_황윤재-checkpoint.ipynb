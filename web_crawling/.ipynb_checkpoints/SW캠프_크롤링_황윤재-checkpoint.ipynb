{
 "cells": [
  {
   "cell_type": "code",
   "execution_count": null,
   "id": "a5cf2bf9",
   "metadata": {},
   "outputs": [],
   "source": [
    "from selenium import webdriver as wb\n",
    "from selenium.webdriver.common.by import By\n",
    "from selenium.webdriver.common.keys import Keys\n",
    "from tqdm import tqdm\n",
    "from bs4 import BeautifulSoup as bs\n",
    "\n",
    "import requests as req\n",
    "import time\n",
    "import pandas as pd"
   ]
  },
  {
   "cell_type": "markdown",
   "id": "b1a9368d",
   "metadata": {},
   "source": [
    "# Question 1"
   ]
  },
  {
   "cell_type": "markdown",
   "id": "4300f1e0",
   "metadata": {},
   "source": [
    "# 문제 1"
   ]
  },
  {
   "cell_type": "markdown",
   "id": "6d6961f4",
   "metadata": {},
   "source": [
    "- 1번 답: 로그수집\n",
    "- 2번 답: 크롤링\n",
    "- 3번 답: 오픈API\n",
    "- 4번 답: 센서수집"
   ]
  },
  {
   "cell_type": "markdown",
   "id": "cbeb4b35",
   "metadata": {},
   "source": [
    "# 문제 2"
   ]
  },
  {
   "cell_type": "markdown",
   "id": "5ab4b82f",
   "metadata": {},
   "source": [
    "크롤링이란 : 파이썬 등의 프로그램을 이용하여 웹페이지로부터 필요한 데이터를 수집하는 방법\n",
    "\n",
    "필요성 : 직접 웹페이지를 클릭해가며 데이터를 입력, 수집하는 방식에는 한계가 존재. 따라서 손쉽게 대용량의 데이터를 수집하기 위한 방법으로 크롤링이 필요"
   ]
  },
  {
   "cell_type": "markdown",
   "id": "6a2a09e5",
   "metadata": {},
   "source": [
    "# 문제 3"
   ]
  },
  {
   "cell_type": "markdown",
   "id": "3cdbdf02",
   "metadata": {},
   "source": [
    "BeautifulSoup란 html 문서 내 데이터에 접근할 수 있도록 변환해주는 라이브러리를 의미하며, 웹페이지에서 원하는 데이터를 추출, 가공하기 쉬운 형태로 변환해주는 기능이 있다."
   ]
  },
  {
   "cell_type": "markdown",
   "id": "85380d57",
   "metadata": {},
   "source": [
    "# 문제 4"
   ]
  },
  {
   "cell_type": "markdown",
   "id": "dd963afe",
   "metadata": {},
   "source": [
    "- find_element는 입력한 클래스에 해당하는 값을 1개만 가져오는 것이고 find_elements는 존재하는 값을 모두 가져오는 점에서 차이가 있다. \n",
    "- 따라서 img-lazy클래스에 해당하는 값이 여러개일 경우를 가정할 때 1번은 1개만을 가져오고 2번은 여러개를 가져온다."
   ]
  },
  {
   "cell_type": "markdown",
   "id": "0b6ab4ed",
   "metadata": {},
   "source": [
    "# 문제 5"
   ]
  },
  {
   "cell_type": "code",
   "execution_count": null,
   "id": "3083c039",
   "metadata": {},
   "outputs": [],
   "source": [
    "url = '웹페이지 url'\n",
    "res_url = req.get(url)\n",
    "bs_url = bs(res_url.text, 'lxml')\n",
    "\n",
    "result = bs_url.select_one('span#this_span').text"
   ]
  },
  {
   "cell_type": "markdown",
   "id": "cdefd372",
   "metadata": {},
   "source": [
    "# Question 2"
   ]
  },
  {
   "cell_type": "markdown",
   "id": "33870b91",
   "metadata": {},
   "source": [
    "# 문제 2"
   ]
  },
  {
   "cell_type": "code",
   "execution_count": null,
   "id": "4ad2a315",
   "metadata": {},
   "outputs": [],
   "source": [
    "# 문제 5-2\n",
    "driver = wb.Chrome()\n",
    "driver.get('https://www.naver.com')\n",
    "driver.maximize_window()\n",
    "\n",
    "search = driver.find_element(By.XPATH, '//*[@id=\"query\"]')\n",
    "search.send_keys('크롤링')\n",
    "search.send_keys(Keys.ENTER)"
   ]
  },
  {
   "cell_type": "markdown",
   "id": "1c3596d7",
   "metadata": {},
   "source": [
    "# Question 3"
   ]
  },
  {
   "cell_type": "markdown",
   "id": "114e6872",
   "metadata": {},
   "source": [
    "# 문제 3"
   ]
  },
  {
   "cell_type": "code",
   "execution_count": null,
   "id": "70eb5dc9",
   "metadata": {},
   "outputs": [],
   "source": [
    "driver = wb.Chrome()\n",
    "driver.get('https://www.gmarket.co.kr/?jaehuid=200011415&gclid=Cj0KCQjwr82iBhCuARIsAO0EAZwtma36-MnaAkkfXetjaI_N_j4QJ-SE1uJJAutjpluINtHSkxDpMt0aAsaQEALw_wcB')\n",
    "\n",
    "best_button = driver.find_element(By.XPATH, '//*[@id=\"desktop_layout-header\"]/div/div/div[2]/div[2]/ul/li[1]/a')\n",
    "best_button.click()\n",
    "\n",
    "driver.maximize_window()\n",
    "\n",
    "titles = []\n",
    "prices = []\n",
    "\n",
    "for i in tqdm(range(20)):\n",
    "    imgs = driver.find_elements(By.CLASS_NAME, 'image__lazy.image__load')\n",
    "\n",
    "    imgs[i].click()\n",
    "    \n",
    "    time.sleep(1)\n",
    "    title = driver.find_element(By.CLASS_NAME, 'itemtit')\n",
    "    titles.append(title.text)\n",
    "    \n",
    "    price = driver.find_element(By.CLASS_NAME, 'price_real')\n",
    "    prices.append(price.text)\n",
    "    \n",
    "    driver.back()\n",
    "    time.sleep(1)\n",
    "    \n",
    "driver.quit()\n",
    "\n",
    "gmarket_df = pd.DataFrame({'title':titles, 'price':prices})\n",
    "gmarket_df"
   ]
  },
  {
   "cell_type": "markdown",
   "id": "a1ab0956",
   "metadata": {},
   "source": [
    "# Question 4"
   ]
  },
  {
   "cell_type": "markdown",
   "id": "cbc73531",
   "metadata": {},
   "source": [
    "# 문제 1"
   ]
  },
  {
   "cell_type": "code",
   "execution_count": null,
   "id": "e472db9c",
   "metadata": {},
   "outputs": [],
   "source": [
    "url = 'https://www.melon.com/chart/index.htm'\n",
    "head = {'User-Agent' : 'Mozilla/5.0 (Windows NT 10.0; Win64; x64) AppleWebKit/537.36 (KHTML, like Gecko) Chrome/112.0.0.0 Safari/537.36'}\n",
    "\n",
    "res_melon = req.get(url, headers = head)\n",
    "bs_melon = bs(res_melon.text, 'lxml')\n",
    "\n",
    "\n",
    "ranks = pd.Series([i.text for i in bs_melon.select('span.rank')])\n",
    "title = pd.Series([i.text for i in bs_melon.select('div.ellipsis.rank01 > span > a')])\n",
    "artist = pd.Series([i.text for i in bs_melon.select('div.ellipsis.rank02 > span')])\n",
    "\n",
    "melon_df = pd.DataFrame({'title':title, 'artist':artist})\n",
    "melon_df.index = ranks[1:]\n",
    "\n",
    "melon_df.to_csv('melon_df.csv', encoding='euc-kr', index=False)\n",
    "melon_df"
   ]
  },
  {
   "cell_type": "markdown",
   "id": "58018ce2",
   "metadata": {},
   "source": [
    "# 문제 2"
   ]
  },
  {
   "cell_type": "code",
   "execution_count": null,
   "id": "375f296b",
   "metadata": {},
   "outputs": [],
   "source": [
    "driver = wb.Chrome()\n",
    "search_keyword = input('검색 키워드 입력: ')\n",
    "driver.get(f'https://www.youtube.com/results?search_query={search_keyword}')\n",
    "driver.maximize_window()\n",
    "time.sleep(1)\n",
    "\n",
    "titles = driver.find_elements(By.XPATH, '//*[@id=\"video-title\"]/yt-formatted-string')\n",
    "view_cnt = driver.find_elements(By.XPATH, '//*[@id=\"metadata-line\"]/span[1]')\n",
    "\n",
    "while len(titles) < 100:\n",
    "    body = driver.find_element(By.TAG_NAME, 'body')\n",
    "    body.send_keys(Keys.END)\n",
    "    time.sleep(2)\n",
    "\n",
    "    titles = driver.find_elements(By.XPATH, '//*[@id=\"video-title\"]/yt-formatted-string')\n",
    "\n",
    "title_lst = []\n",
    "view_lst = []\n",
    "\n",
    "for i in range(len(titles)):\n",
    "    title_lst.append(titles[i].text)\n",
    "    view_lst.append(view_cnt[i].text)\n",
    "\n",
    "# driver.quit()\n",
    "\n",
    "# youtube_df = pd.DataFrame({'제목':title_lst, '조회수':view_lst})\n",
    "# youtube_df.to_csv('youtube_df.csv', encoding='euc-kr', index=False)\n",
    "\n",
    "youtube_df"
   ]
  },
  {
   "cell_type": "code",
   "execution_count": null,
   "id": "ffe2821d",
   "metadata": {},
   "outputs": [],
   "source": []
  }
 ],
 "metadata": {
  "kernelspec": {
   "display_name": "Python 3 (ipykernel)",
   "language": "python",
   "name": "python3"
  },
  "language_info": {
   "codemirror_mode": {
    "name": "ipython",
    "version": 3
   },
   "file_extension": ".py",
   "mimetype": "text/x-python",
   "name": "python",
   "nbconvert_exporter": "python",
   "pygments_lexer": "ipython3",
   "version": "3.10.9"
  }
 },
 "nbformat": 4,
 "nbformat_minor": 5
}
