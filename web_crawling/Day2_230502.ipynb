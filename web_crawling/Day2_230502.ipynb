{
 "cells": [
  {
   "cell_type": "code",
   "execution_count": 1,
   "id": "a6109feb",
   "metadata": {},
   "outputs": [],
   "source": [
    "import pandas as pd\n",
    "import requests as req\n",
    "import time\n",
    "\n",
    "from bs4 import BeautifulSoup as bs"
   ]
  },
  {
   "cell_type": "markdown",
   "id": "1e185dbe",
   "metadata": {},
   "source": [
    "### 5. Beautifulsoup_practice_cadillac"
   ]
  },
  {
   "cell_type": "code",
   "execution_count": 5,
   "id": "3d71a098",
   "metadata": {},
   "outputs": [],
   "source": [
    "url = 'https://www.cadillac.co.kr/crossovers-suvs/escalade#styling'\n",
    "\n",
    "res_cad = req.get('https://www.cadillac.co.kr/crossovers-suvs/escalade#styling')\n",
    "bs_cad = bs(res_cad.text, 'lxml')"
   ]
  },
  {
   "cell_type": "code",
   "execution_count": 67,
   "id": "5eaa7b0e",
   "metadata": {},
   "outputs": [
    {
     "data": {
      "text/plain": [
       "'SPORT PLATINUM'"
      ]
     },
     "execution_count": 67,
     "metadata": {},
     "output_type": "execute_result"
    }
   ],
   "source": [
    "SUV_names = bs_cad.select('h4.q-headline.none-margin')\n",
    "SUV_name = SUV_names[1].text.strip()\n",
    "SUV_name"
   ]
  },
  {
   "cell_type": "code",
   "execution_count": 109,
   "id": "c57410f1",
   "metadata": {
    "collapsed": true
   },
   "outputs": [
    {
     "data": {
      "text/plain": [
       "['38인치 커브드 OLED 디스플레이',\n",
       " 'AKG® 스튜디오 레퍼런스 사운드 시스템 (36개 스피커)',\n",
       " '듀얼 12.6인치 디스플레이 리어 엔터테인먼트 시스템',\n",
       " '액티브 에어 댐 디플랙터',\n",
       " '리어 카메라 미러',\n",
       " '콘솔 쿨러 (냉동기능 포함)',\n",
       " '파노라마 선루프',\n",
       " '전동식 사이드 스텝',\n",
       " '에어라이드 어댑티브 서스펜션',\n",
       " '어댑티브 크루즈 컨트롤',\n",
       " '풀컬러 헤드업 디스플레이1)',\n",
       " 'HD 서라운드 비전1)',\n",
       " '나이트 비전1)',\n",
       " '인핸스드 자동 주차 보조 시스템1)',\n",
       " '갈바노 : 그릴, 전면 페시아 트림, 루프 랙, 윈도우 트림, 도어 핸들, 바디 사이드 몰딩, 리프트게이트 트림 및 배기구 베젤',\n",
       " '22인치 10-스포크 폴리쉬 알로이 휠 (다크 안드로이드 마감 레이져 에칭)',\n",
       " '38인치 커브드 OLED 디스플레이',\n",
       " 'AKG® 스튜디오 레퍼런스 사운드 시스템 (36개 스피커)',\n",
       " '듀얼 12.6인치 디스플레이 리어 엔터테인먼트 시스템',\n",
       " '액티브 에어 댐 디플랙터',\n",
       " '리어 카메라 미러',\n",
       " '콘솔 쿨러 (냉동기능 포함)',\n",
       " '파노라마 선루프',\n",
       " '전동식 사이드 스텝',\n",
       " '에어라이드 어댑티브 서스펜션',\n",
       " '어댑티브 크루즈 컨트롤',\n",
       " '풀컬러 헤드업 디스플레이1)',\n",
       " 'HD 서라운드 비전1)',\n",
       " '나이트 비전1)',\n",
       " '인핸스드 자동 주차 보조 시스템1)',\n",
       " '글로스-블랙 : 그릴, 전면 페시아 트림, 루프 랙, 윈도우 트림, (바디 컬러) 도어 핸들, 바디 사이드 몰딩, 리프트게이트 트림 및 배기구 베젤',\n",
       " '22인치 12-스포크 폴리쉬 알로이 휠 (다크 안드로이드 마감)']"
      ]
     },
     "execution_count": 109,
     "metadata": {},
     "output_type": "execute_result"
    }
   ],
   "source": [
    "features = bs_cad.select('div.none-margin li')\n",
    "suv_feature = []\n",
    "for i in features:\n",
    "    suv_feature.append(i.text.strip())\n",
    "    \n",
    "suv_feature"
   ]
  },
  {
   "cell_type": "code",
   "execution_count": 115,
   "id": "4d0f2dfb",
   "metadata": {
    "scrolled": true
   },
   "outputs": [],
   "source": [
    "lst = []\n",
    "\n",
    "for i in bs_cad.select('adv-grid.none-margin.grid-sm-jc-center > adv-col:nth-child(2) li'):\n",
    "    lst.append(i.text.strip())"
   ]
  },
  {
   "cell_type": "code",
   "execution_count": 124,
   "id": "f3a94dd5",
   "metadata": {},
   "outputs": [
    {
     "data": {
      "text/html": [
       "<div>\n",
       "<style scoped>\n",
       "    .dataframe tbody tr th:only-of-type {\n",
       "        vertical-align: middle;\n",
       "    }\n",
       "\n",
       "    .dataframe tbody tr th {\n",
       "        vertical-align: top;\n",
       "    }\n",
       "\n",
       "    .dataframe thead th {\n",
       "        text-align: right;\n",
       "    }\n",
       "</style>\n",
       "<table border=\"1\" class=\"dataframe\">\n",
       "  <thead>\n",
       "    <tr style=\"text-align: right;\">\n",
       "      <th></th>\n",
       "      <th>SPORT PLATINUM</th>\n",
       "    </tr>\n",
       "  </thead>\n",
       "  <tbody>\n",
       "    <tr>\n",
       "      <th>0</th>\n",
       "      <td>38인치 커브드 OLED 디스플레이</td>\n",
       "    </tr>\n",
       "    <tr>\n",
       "      <th>1</th>\n",
       "      <td>AKG® 스튜디오 레퍼런스 사운드 시스템 (36개 스피커)</td>\n",
       "    </tr>\n",
       "    <tr>\n",
       "      <th>2</th>\n",
       "      <td>듀얼 12.6인치 디스플레이 리어 엔터테인먼트 시스템</td>\n",
       "    </tr>\n",
       "    <tr>\n",
       "      <th>3</th>\n",
       "      <td>액티브 에어 댐 디플랙터</td>\n",
       "    </tr>\n",
       "    <tr>\n",
       "      <th>4</th>\n",
       "      <td>리어 카메라 미러</td>\n",
       "    </tr>\n",
       "    <tr>\n",
       "      <th>5</th>\n",
       "      <td>콘솔 쿨러 (냉동기능 포함)</td>\n",
       "    </tr>\n",
       "    <tr>\n",
       "      <th>6</th>\n",
       "      <td>파노라마 선루프</td>\n",
       "    </tr>\n",
       "    <tr>\n",
       "      <th>7</th>\n",
       "      <td>전동식 사이드 스텝</td>\n",
       "    </tr>\n",
       "    <tr>\n",
       "      <th>8</th>\n",
       "      <td>에어라이드 어댑티브 서스펜션</td>\n",
       "    </tr>\n",
       "    <tr>\n",
       "      <th>9</th>\n",
       "      <td>어댑티브 크루즈 컨트롤</td>\n",
       "    </tr>\n",
       "    <tr>\n",
       "      <th>10</th>\n",
       "      <td>풀컬러 헤드업 디스플레이1)</td>\n",
       "    </tr>\n",
       "    <tr>\n",
       "      <th>11</th>\n",
       "      <td>HD 서라운드 비전1)</td>\n",
       "    </tr>\n",
       "    <tr>\n",
       "      <th>12</th>\n",
       "      <td>나이트 비전1)</td>\n",
       "    </tr>\n",
       "    <tr>\n",
       "      <th>13</th>\n",
       "      <td>인핸스드 자동 주차 보조 시스템1)</td>\n",
       "    </tr>\n",
       "    <tr>\n",
       "      <th>14</th>\n",
       "      <td>글로스-블랙 : 그릴, 전면 페시아 트림, 루프 랙, 윈도우 트림, (바디 컬러) ...</td>\n",
       "    </tr>\n",
       "    <tr>\n",
       "      <th>15</th>\n",
       "      <td>22인치 12-스포크 폴리쉬 알로이 휠 (다크 안드로이드 마감)</td>\n",
       "    </tr>\n",
       "  </tbody>\n",
       "</table>\n",
       "</div>"
      ],
      "text/plain": [
       "                                       SPORT PLATINUM\n",
       "0                                 38인치 커브드 OLED 디스플레이\n",
       "1                    AKG® 스튜디오 레퍼런스 사운드 시스템 (36개 스피커)\n",
       "2                       듀얼 12.6인치 디스플레이 리어 엔터테인먼트 시스템\n",
       "3                                       액티브 에어 댐 디플랙터\n",
       "4                                           리어 카메라 미러\n",
       "5                                     콘솔 쿨러 (냉동기능 포함)\n",
       "6                                            파노라마 선루프\n",
       "7                                          전동식 사이드 스텝\n",
       "8                                     에어라이드 어댑티브 서스펜션\n",
       "9                                        어댑티브 크루즈 컨트롤\n",
       "10                                    풀컬러 헤드업 디스플레이1)\n",
       "11                                       HD 서라운드 비전1)\n",
       "12                                           나이트 비전1)\n",
       "13                                인핸스드 자동 주차 보조 시스템1)\n",
       "14  글로스-블랙 : 그릴, 전면 페시아 트림, 루프 랙, 윈도우 트림, (바디 컬러) ...\n",
       "15                22인치 12-스포크 폴리쉬 알로이 휠 (다크 안드로이드 마감)"
      ]
     },
     "execution_count": 124,
     "metadata": {},
     "output_type": "execute_result"
    }
   ],
   "source": [
    "suv_df = pd.DataFrame({SUV_name:lst})\n",
    "suv_df"
   ]
  },
  {
   "cell_type": "code",
   "execution_count": 125,
   "id": "42049290",
   "metadata": {},
   "outputs": [],
   "source": [
    "suv_df.to_csv('suv_df', encoding='euc-kr', index=False)"
   ]
  },
  {
   "cell_type": "markdown",
   "id": "80cbc320",
   "metadata": {},
   "source": [
    "### 5. beautifulsoup_practice_extra_oneroommaking"
   ]
  },
  {
   "cell_type": "code",
   "execution_count": 126,
   "id": "4f63a4d9",
   "metadata": {},
   "outputs": [],
   "source": [
    "# 요청을 할 때, 지연시간을 주기 위한 라이브러리\n",
    "import time"
   ]
  },
  {
   "cell_type": "code",
   "execution_count": 132,
   "id": "7135c52b",
   "metadata": {},
   "outputs": [],
   "source": [
    "url = 'https://oneroommaking.com/product/detail.html?product_no=1911&cate_no=61&display_group=1&crema-product-reviews-2-page=2&page_6=2#use_qna#use_review'\n",
    "head = {'User-Agent' : 'Mozilla/5.0 (Windows NT 10.0; Win64; x64) AppleWebKit/537.36 (KHTML, like Gecko) Chrome/112.0.0.0 Safari/537.36'}\n",
    "\n",
    "res_url = req.get(url, headers=head)\n",
    "soup = bs(res_url.text, 'lxml')"
   ]
  },
  {
   "cell_type": "markdown",
   "id": "8c8555fc",
   "metadata": {},
   "source": [
    "#### iframe이란?\n",
    "- 기존 페이지 내에 새로운 페이지를 삽입하는 태그"
   ]
  },
  {
   "cell_type": "code",
   "execution_count": 3,
   "id": "fa0a1252",
   "metadata": {},
   "outputs": [
    {
     "name": "stdout",
     "output_type": "stream",
     "text": [
      "조립 쉽고 간편해여오피스텔에서 공간나누기 용으로 쓰고 있어요\n",
      "조립도 쉽고 튼튼한것 같아서 좋아요(2022-08-07 11:31:14 에 등록된 네이버 페이 구매평)\n",
      "튼튼하고 예뻐요! 오래 사용할 것 같아요\n",
      "수납 많이 되고 좋아요 하나 더사려구요\n",
      "조립은 혼자는 어렵고 한명이 잡아줘야되요원룸에 딱일듯해요 아이가 원룸형으로 꾸미고싶데서 구입했어요\n"
     ]
    }
   ],
   "source": [
    "url_iframe = 'https://review7.cre.ma/oneroommaking.com/products/reviews?product_code=1911&iframe_id=crema-product-reviews-2&widget_style=&app=0&parent_url=https%3A%2F%2Foneroommaking.com%2Fproduct%2Fdetail.html%3Fproduct_no%3D1911%26cate_no%3D61%26display_group%3D1%26crema-product-reviews-2-page%3D2%26page_6%3D2%23use_qna%23use_review&nonmember_token=&secure_device_token=V291fb4fd30eba8befb2a5b85d892226e1d295febc7fd8e0c29a89921750b5cddbc8fd1e529aee4d965469cf89792f1bcc&page=2&iframe=1'\n",
    "head = {'User-Agent' : 'Mozilla/5.0 (Windows NT 10.0; Win64; x64) AppleWebKit/537.36 (KHTML, like Gecko) Chrome/112.0.0.0 Safari/537.36'}\n",
    "\n",
    "res_oneroom = req.get(url_iframe, headers=head)\n",
    "soup = bs(res_oneroom.text, 'lxml')\n",
    "\n",
    "for i in soup.select('div.review_list_v2__message.js-collapsed-review-content.js-translate-text'):\n",
    "    print(i.text.strip())"
   ]
  },
  {
   "cell_type": "code",
   "execution_count": 5,
   "id": "526904e3",
   "metadata": {},
   "outputs": [
    {
     "name": "stdout",
     "output_type": "stream",
     "text": [
      "1\n",
      "책뿐만 아니라 다양한 물품 두기에 좋네요 인테리에도 좋습니다\n",
      "2\n",
      "조립하는데 대략 30분걸렸네요! 생각보다 작은 감이 없지 않아 있네요! 그래도 만족합니다\n",
      "3\n",
      "손가락을 잃고 책장을 얻었다…. 뿌듯 근데 제품이 조금 까져서 왔더라구요… 괜춘괜춘합니다 ㅠㅡㅠ  하나 더 부를 거 같은데 이번에만 안까져서 오길 ㅎ ㅡㅎ\n",
      "4\n",
      "조립 무조건 둘이서 하세요 혼자 하니까 두 시간 걸렸어요.. 못할 수준은 아닌데 둘이서 하면 30분정도면 끝냈을 듯..ㅠㅠ\n",
      "5\n",
      "깔끔하고 죠습니다컬렉션 올려놓기 딱 좋네요\n"
     ]
    }
   ],
   "source": [
    "iframe = 'https://review7.cre.ma/oneroommaking.com/products/reviews?product_code=1911&iframe_id=crema-product-reviews-2&widget_style=&app=0&parent_url=https%3A%2F%2Foneroommaking.com%2Fproduct%2Fdetail.html%3Fproduct_no%3D1911%26cate_no%3D61%26display_group%3D1&nonmember_token=&secure_device_token=V2fc98f6259c654f126d62766e4ecf3f776c5f2b2aabadcc811e8b6e4ab1e67c01b3553921dea8a20d687711b910f76fc6&iframe=1'\n",
    "head = {'user-agent': 'Mozilla/5.0 (Windows NT 10.0; Win64; x64) AppleWebKit/537.36 (KHTML, like Gecko) Chrome/112.0.0.0 Safari/537.36'}\n",
    "res_oneroom = req.get(iframe, headers = head)\n",
    "bs_oneroom = bs(res_oneroom.text, 'lxml')\n",
    "\n",
    "review_data =  bs_oneroom.select('div.review_list_v2__message.js-collapsed-review-content.js-translate-text')\n",
    "\n",
    "cnt = 1\n",
    "for i in range(len(review_data)):\n",
    "    print(f'{cnt}'')\n",
    "    print(review_data[i].text.strip())\n",
    "    cnt += 1"
   ]
  },
  {
   "cell_type": "code",
   "execution_count": 10,
   "id": "c6c7b33a",
   "metadata": {
    "scrolled": false
   },
   "outputs": [
    {
     "name": "stdout",
     "output_type": "stream",
     "text": [
      "[현재 페이지 번호 : 1]\n",
      "책뿐만 아니라 다양한 물품 두기에 좋네요 인테리에도 좋습니다\n",
      "\n",
      "조립하는데 대략 30분걸렸네요! 생각보다 작은 감이 없지 않아 있네요! 그래도 만족합니다\n",
      "\n",
      "손가락을 잃고 책장을 얻었다…. 뿌듯 근데 제품이 조금 까져서 왔더라구요… 괜춘괜춘합니다 ㅠㅡㅠ  하나 더 부를 거 같은데 이번에만 안까져서 오길 ㅎ ㅡㅎ\n",
      "\n",
      "조립 무조건 둘이서 하세요 혼자 하니까 두 시간 걸렸어요.. 못할 수준은 아닌데 둘이서 하면 30분정도면 끝냈을 듯..ㅠㅠ\n",
      "\n",
      "깔끔하고 죠습니다컬렉션 올려놓기 딱 좋네요\n",
      "\n",
      "[현재 페이지 번호 : 2]\n",
      "조립 쉽고 간편해여오피스텔에서 공간나누기 용으로 쓰고 있어요\n",
      "\n",
      "조립도 쉽고 튼튼한것 같아서 좋아요(2022-08-07 11:31:14 에 등록된 네이버 페이 구매평)\n",
      "\n",
      "튼튼하고 예뻐요! 오래 사용할 것 같아요\n",
      "\n",
      "수납 많이 되고 좋아요 하나 더사려구요\n",
      "\n",
      "조립은 혼자는 어렵고 한명이 잡아줘야되요원룸에 딱일듯해요 아이가 원룸형으로 꾸미고싶데서 구입했어요\n",
      "\n",
      "[현재 페이지 번호 : 3]\n",
      "생각외로 공간도 넓고, 튼튼해서 책을 많이 올려놓아도 괜찮습니다! 이 가격에 이정도면 매우 추천!\n",
      "\n",
      "조립하는데 조금 힘들었지만 물건 올려두기에 너무 좋은거같아요(2021-11-28 11:12:09 에 등록된 네이버 페이 구매평)\n",
      "\n",
      "선물로 사준거라 사진은 없지만 엄청나게 만족한다고 합니다!!이거를 처음으로 쭉 구매하겠습니다~\n",
      "\n",
      "책장이 필요해서 여러군데 돌아보던중에 우연히 알게된 원룸만들기에서 맘에 드는 책장 발견 바로 신청했습니다.배송도 빠르고 받았을때 생각보다 묵직해서 조립하고 나니 너무 예쁘네요.조립도 어렵지 않았고 무엇보다 책까지 정리했더니 너무 만족스럽습니다!!\n",
      "\n",
      "두번째 구매이고 아이방에 딱이네요(2021-08-07 19:37:03 에 등록된 네이버 페이 구매평)\n",
      "\n",
      "[현재 페이지 번호 : 4]\n",
      "책장이 너무나 좋습니다 만족스러워요 ㅎㅎ\n",
      "\n",
      "뭐 만족하면서 쓰고있습니다~!(2021-07-20 12:54:28 에 등록된 네이버 페이 구매평)\n",
      "\n",
      "철제 선반만 두번째 구매에요! 하나는 키친에 하나는 발코니에 뒀는데 흔들거리지도 않고 아주 튼튼하고 좋아요. 특히 이번에 구입한 것은 가장 키 큰 선반이었는데 안정적이어서 더 만족스러워요.\n",
      "\n",
      "예쁘고 가성비 좋음 조립하기 귀찮긴 하지만 하고나면 뿌듯 저 철 부분이 뜯어졌길래 ( 내가 조립하다가 뜯음) 그냥  철 뺐는데 훨씬 나음\n",
      "\n",
      "배송 흠집 없이 잘 왔고요 조립도 혼자 어려움 없이 가능 했습니다\n",
      "\n",
      "[현재 페이지 번호 : 5]\n",
      "주방 정리 하려고 구매했구요, 여러군데 비교해서 샀는데 가격도 괜찮고 정말 튼튼해요! 그래서 이번에 하나 더 사서 다른 방 정리하는데도 쓰려고 합니다\n",
      "\n",
      "오자마자포장해체대한민국 종특으로 인해 조립설명서(가 뭔데?)따위는 그냥 지나치고다리 못 볼트 너트 판자 확인후 조립남자 혼자서 10분만에 조립나무판자 코팅도 생각보다 깔끔하고철제 목조치고는 생각보다 무겁다 느낌은 아닌데가격치고는 튼튼하다는 느낌조립하실때 나무판자 너무 꽉조이지 말고 3~4바퀴 남겨놓고한층씩 나무판자 모두 끼운 후에 마지막에 조이세요 그래야 조립하기 수월합니다댓츠잇\n",
      "\n",
      "조립은 여자혼자하기 힘들지않아요 손에 힘이조금 들어갈뿐설명서도 처음에는 어려웠지만 금방 조립했어요가게에 진열장이 필요했는데 딱좋아요나무판자가 무거워서 살짝 버거웠지만 오히려 안정감있네요한개더 구매할 예정입니다\n",
      "\n",
      "갠춘삼춘함 튼튼하고 좋네여\n",
      "\n",
      "배송도빠르고 마음에들엇니 두번샀어영\n",
      "\n"
     ]
    }
   ],
   "source": [
    "# review_lst = []\n",
    "\n",
    "for i in range(1, 6):\n",
    "    iframe = f'https://review7.cre.ma/oneroommaking.com/products/reviews?product_code=1911&iframe_id=crema-product-reviews-2&widget_style=&app=0&parent_url=https%3A%2F%2Foneroommaking.com%2Fproduct%2Fdetail.html%3Fproduct_no%3D1911%26cate_no%3D61%26display_group%3D1%26crema-product-reviews-2-page%3D2%26page_6%3D2%23use_qna%23use_review&nonmember_token=&secure_device_token=V291fb4fd30eba8befb2a5b85d892226e1d295febc7fd8e0c29a89921750b5cddbc8fd1e529aee4d965469cf89792f1bcc&page={i}&iframe=1'   \n",
    "    res_oneroom = req.get(iframe, headers = head)\n",
    "    bs_oneroom = bs(res_oneroom.text, 'lxml')\n",
    "\n",
    "    review_data =  bs_oneroom.select('div.review_list_v2__message.js-collapsed-review-content.js-translate-text')\n",
    "    \n",
    "    print(f'[현재 페이지 번호 : {i}]')\n",
    "    for i in review_data:\n",
    "        print(i.text.strip())\n",
    "        print()\n",
    "        \n",
    "    time.sleep(3)\n",
    "#     for i in review_data:\n",
    "#         review_lst.append(i.text.strip())\n",
    "        \n",
    "#     time.sleep(3)\n",
    "    \n",
    "# review_lst"
   ]
  },
  {
   "cell_type": "code",
   "execution_count": 16,
   "id": "f378664c",
   "metadata": {
    "collapsed": true
   },
   "outputs": [
    {
     "name": "stdout",
     "output_type": "stream",
     "text": [
      "[1]\n",
      "https://review7.cre.ma/oneroommaking.com/products/reviews?app=0&iframe=1&iframe_id=crema-product-reviews-2&parent_url=https%3A%2F%2Foneroommaking.com%2Fproduct%2Fdetail.html%3Fproduct_no%3D1911%26cate_no%3D61%26display_group%3D1&product_code=1911&secure_device_token=V2fdea91d9154a1650500dd8e1efb74b14a4608f8a425a825f0658acf664bbd925f5a3deadcfa5bf8f9928c6d18579a1c6&widget_env=100&widget_style=&page=1\n",
      "[2]\n",
      "https://review7.cre.ma/oneroommaking.com/products/reviews?app=0&iframe=1&iframe_id=crema-product-reviews-2&parent_url=https%3A%2F%2Foneroommaking.com%2Fproduct%2Fdetail.html%3Fproduct_no%3D1911%26cate_no%3D61%26display_group%3D1&product_code=1911&secure_device_token=V2fdea91d9154a1650500dd8e1efb74b14a4608f8a425a825f0658acf664bbd925f5a3deadcfa5bf8f9928c6d18579a1c6&widget_env=100&widget_style=&page=2\n",
      "[3]\n",
      "https://review7.cre.ma/oneroommaking.com/products/reviews?app=0&iframe=1&iframe_id=crema-product-reviews-2&parent_url=https%3A%2F%2Foneroommaking.com%2Fproduct%2Fdetail.html%3Fproduct_no%3D1911%26cate_no%3D61%26display_group%3D1&product_code=1911&secure_device_token=V2fdea91d9154a1650500dd8e1efb74b14a4608f8a425a825f0658acf664bbd925f5a3deadcfa5bf8f9928c6d18579a1c6&widget_env=100&widget_style=&page=3\n",
      "[4]\n",
      "https://review7.cre.ma/oneroommaking.com/products/reviews?app=0&iframe=1&iframe_id=crema-product-reviews-2&parent_url=https%3A%2F%2Foneroommaking.com%2Fproduct%2Fdetail.html%3Fproduct_no%3D1911%26cate_no%3D61%26display_group%3D1&product_code=1911&secure_device_token=V2fdea91d9154a1650500dd8e1efb74b14a4608f8a425a825f0658acf664bbd925f5a3deadcfa5bf8f9928c6d18579a1c6&widget_env=100&widget_style=&page=4\n",
      "[5]\n",
      "https://review7.cre.ma/oneroommaking.com/products/reviews?app=0&iframe=1&iframe_id=crema-product-reviews-2&parent_url=https%3A%2F%2Foneroommaking.com%2Fproduct%2Fdetail.html%3Fproduct_no%3D1911%26cate_no%3D61%26display_group%3D1&product_code=1911&secure_device_token=V2fdea91d9154a1650500dd8e1efb74b14a4608f8a425a825f0658acf664bbd925f5a3deadcfa5bf8f9928c6d18579a1c6&widget_env=100&widget_style=&page=5\n"
     ]
    }
   ],
   "source": [
    "# params 매개변수 사용하여 간단하게 쿼리 스트링 추가하는 방법\n",
    "# url 끝에 ?를 포함하여 요청 매개변수 request parameter를 전달하기 위한 방법\n",
    "\n",
    "for pageNo in range(1, 6):\n",
    "    \n",
    "    print(f'[{pageNo}]')\n",
    "    \n",
    "    url2 = 'https://review7.cre.ma/oneroommaking.com/products/reviews?app=0&iframe=1&iframe_id=crema-product-reviews-2&parent_url=https%3A%2F%2Foneroommaking.com%2Fproduct%2Fdetail.html%3Fproduct_no%3D1911%26cate_no%3D61%26display_group%3D1&product_code=1911&secure_device_token=V2fdea91d9154a1650500dd8e1efb74b14a4608f8a425a825f0658acf664bbd925f5a3deadcfa5bf8f9928c6d18579a1c6&widget_env=100&widget_style='\n",
    "    \n",
    "    res2 = req.get(url2, headers = head, params = {'page': pageNo})\n",
    "\n",
    "    # params는 딕셔너리로 정리\n",
    "    # key = page=의 page로 정리\n",
    "    # value = page=3의 3\n",
    "\n",
    "    bs_oneroom = bs(res2.text, 'lxml')\n",
    "\n",
    "    review_data =  bs_oneroom.select('div.review_list_v2__message.js-collapsed-review-content.js-translate-text')\n",
    "    \n",
    "    for i in review_data:\n",
    "        print(i.text.strip())\n",
    "        print()\n",
    "        \n",
    "    time.sleep(2)"
   ]
  },
  {
   "cell_type": "code",
   "execution_count": 19,
   "id": "3e9a2e3b",
   "metadata": {},
   "outputs": [],
   "source": [
    "# 파일 생성, 열고 작성\n",
    "\n",
    "f = open('review.txt', 'w', encoding='euc-kr')\n",
    "\n",
    "\n",
    "for i in range(1, 6):\n",
    "    iframe = f'https://review7.cre.ma/oneroommaking.com/products/reviews?product_code=1911&iframe_id=crema-product-reviews-2&widget_style=&app=0&parent_url=https%3A%2F%2Foneroommaking.com%2Fproduct%2Fdetail.html%3Fproduct_no%3D1911%26cate_no%3D61%26display_group%3D1%26crema-product-reviews-2-page%3D2%26page_6%3D2%23use_qna%23use_review&nonmember_token=&secure_device_token=V291fb4fd30eba8befb2a5b85d892226e1d295febc7fd8e0c29a89921750b5cddbc8fd1e529aee4d965469cf89792f1bcc&page={i}&iframe=1'   \n",
    "    res_oneroom = req.get(iframe, headers = head)\n",
    "    bs_oneroom = bs(res_oneroom.text, 'lxml')\n",
    "\n",
    "    review_data =  bs_oneroom.select('div.review_list_v2__message.js-collapsed-review-content.js-translate-text')\n",
    "    \n",
    "    for i in review_data:\n",
    "        f.write(i.text.strip()+'\\n')\n",
    "        \n",
    "    time.sleep(2)\n",
    "\n",
    "f.close()"
   ]
  },
  {
   "cell_type": "markdown",
   "id": "6dfd9f04",
   "metadata": {},
   "source": [
    "# Selenium"
   ]
  },
  {
   "cell_type": "code",
   "execution_count": 20,
   "id": "f1e3f802",
   "metadata": {
    "collapsed": true
   },
   "outputs": [
    {
     "name": "stdout",
     "output_type": "stream",
     "text": [
      "Collecting selenium\n",
      "  Downloading selenium-4.9.0-py3-none-any.whl (6.5 MB)\n",
      "     ---------------------------------------- 6.5/6.5 MB 11.6 MB/s eta 0:00:00\n",
      "Collecting trio-websocket~=0.9\n",
      "  Downloading trio_websocket-0.10.2-py3-none-any.whl (17 kB)\n",
      "Requirement already satisfied: urllib3[socks]~=1.26 in c:\\users\\user21\\anaconda3\\lib\\site-packages (from selenium) (1.26.14)\n",
      "Requirement already satisfied: certifi>=2021.10.8 in c:\\users\\user21\\anaconda3\\lib\\site-packages (from selenium) (2022.12.7)\n",
      "Collecting trio~=0.17\n",
      "  Downloading trio-0.22.0-py3-none-any.whl (384 kB)\n",
      "     ------------------------------------- 384.9/384.9 kB 11.7 MB/s eta 0:00:00\n",
      "Requirement already satisfied: sniffio in c:\\users\\user21\\anaconda3\\lib\\site-packages (from trio~=0.17->selenium) (1.2.0)\n",
      "Requirement already satisfied: idna in c:\\users\\user21\\anaconda3\\lib\\site-packages (from trio~=0.17->selenium) (3.4)\n",
      "Requirement already satisfied: attrs>=19.2.0 in c:\\users\\user21\\anaconda3\\lib\\site-packages (from trio~=0.17->selenium) (22.1.0)\n",
      "Requirement already satisfied: cffi>=1.14 in c:\\users\\user21\\anaconda3\\lib\\site-packages (from trio~=0.17->selenium) (1.15.1)\n",
      "Collecting outcome\n",
      "  Downloading outcome-1.2.0-py2.py3-none-any.whl (9.7 kB)\n",
      "Requirement already satisfied: sortedcontainers in c:\\users\\user21\\anaconda3\\lib\\site-packages (from trio~=0.17->selenium) (2.4.0)\n",
      "Collecting async-generator>=1.9\n",
      "  Downloading async_generator-1.10-py3-none-any.whl (18 kB)\n",
      "Collecting exceptiongroup>=1.0.0rc9\n",
      "  Downloading exceptiongroup-1.1.1-py3-none-any.whl (14 kB)\n",
      "Collecting wsproto>=0.14\n",
      "  Downloading wsproto-1.2.0-py3-none-any.whl (24 kB)\n",
      "Requirement already satisfied: PySocks!=1.5.7,<2.0,>=1.5.6 in c:\\users\\user21\\anaconda3\\lib\\site-packages (from urllib3[socks]~=1.26->selenium) (1.7.1)\n",
      "Requirement already satisfied: pycparser in c:\\users\\user21\\anaconda3\\lib\\site-packages (from cffi>=1.14->trio~=0.17->selenium) (2.21)\n",
      "Collecting h11<1,>=0.9.0\n",
      "  Downloading h11-0.14.0-py3-none-any.whl (58 kB)\n",
      "     ---------------------------------------- 58.3/58.3 kB ? eta 0:00:00\n",
      "Installing collected packages: outcome, h11, exceptiongroup, async-generator, wsproto, trio, trio-websocket, selenium\n",
      "Successfully installed async-generator-1.10 exceptiongroup-1.1.1 h11-0.14.0 outcome-1.2.0 selenium-4.9.0 trio-0.22.0 trio-websocket-0.10.2 wsproto-1.2.0\n"
     ]
    }
   ],
   "source": [
    "# !pip install selenium"
   ]
  },
  {
   "cell_type": "code",
   "execution_count": 22,
   "id": "29f5b2d3",
   "metadata": {},
   "outputs": [],
   "source": [
    "# 컴퓨터용 브라우저 할당\n",
    "from selenium import webdriver as wb\n",
    "\n",
    "# 컴퓨터용 키보드 할당\n",
    "from selenium.webdriver.common.keys import Keys\n",
    "\n",
    "# 구분자 역할을 해줌\n",
    "from selenium.webdriver.common.by import By"
   ]
  },
  {
   "cell_type": "code",
   "execution_count": 33,
   "id": "942cce62",
   "metadata": {},
   "outputs": [],
   "source": [
    "driver = wb.Chrome()"
   ]
  },
  {
   "cell_type": "code",
   "execution_count": 34,
   "id": "8bf37ca4",
   "metadata": {},
   "outputs": [],
   "source": [
    "driver.get('https://www.naver.com')"
   ]
  },
  {
   "cell_type": "code",
   "execution_count": 35,
   "id": "2b5f3b3c",
   "metadata": {},
   "outputs": [],
   "source": [
    "gmail = driver.find_element('xpath', '//*[@id=\"NM_FAVORITE\"]/div[1]/ul[1]/li[2]/a')\n",
    "gmail.click()"
   ]
  },
  {
   "cell_type": "code",
   "execution_count": null,
   "id": "14109252",
   "metadata": {},
   "outputs": [],
   "source": []
  },
  {
   "cell_type": "code",
   "execution_count": null,
   "id": "eb7d6a1c",
   "metadata": {},
   "outputs": [],
   "source": []
  },
  {
   "cell_type": "code",
   "execution_count": null,
   "id": "2a44e17a",
   "metadata": {},
   "outputs": [],
   "source": []
  },
  {
   "cell_type": "code",
   "execution_count": null,
   "id": "b7e95d3f",
   "metadata": {},
   "outputs": [],
   "source": []
  },
  {
   "cell_type": "code",
   "execution_count": null,
   "id": "3878e5af",
   "metadata": {},
   "outputs": [],
   "source": []
  }
 ],
 "metadata": {
  "kernelspec": {
   "display_name": "Python 3 (ipykernel)",
   "language": "python",
   "name": "python3"
  },
  "language_info": {
   "codemirror_mode": {
    "name": "ipython",
    "version": 3
   },
   "file_extension": ".py",
   "mimetype": "text/x-python",
   "name": "python",
   "nbconvert_exporter": "python",
   "pygments_lexer": "ipython3",
   "version": "3.10.9"
  }
 },
 "nbformat": 4,
 "nbformat_minor": 5
}
