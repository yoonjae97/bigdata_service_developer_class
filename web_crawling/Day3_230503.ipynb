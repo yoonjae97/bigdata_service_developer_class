{
 "cells": [
  {
   "cell_type": "code",
   "execution_count": 102,
   "id": "f9b86cf5",
   "metadata": {},
   "outputs": [],
   "source": [
    "# 컴퓨터용 브라우저 할당\n",
    "from selenium import webdriver as wb\n",
    "\n",
    "# 컴퓨터용 키보드 할당\n",
    "from selenium.webdriver.common.keys import Keys\n",
    "\n",
    "# 구분자 역할을 해줌\n",
    "from selenium.webdriver.common.by import By\n",
    "\n",
    "import pandas as pd"
   ]
  },
  {
   "cell_type": "markdown",
   "id": "ff233c58",
   "metadata": {},
   "source": [
    "## 네이버에서 검색어 입력 후, Enter까지 해보자"
   ]
  },
  {
   "cell_type": "code",
   "execution_count": 15,
   "id": "cb4405c5",
   "metadata": {},
   "outputs": [],
   "source": [
    "driver = wb.Chrome()"
   ]
  },
  {
   "cell_type": "code",
   "execution_count": null,
   "id": "79dde024",
   "metadata": {},
   "outputs": [],
   "source": [
    "# User-Agent가 필요하지 않은가>\n",
    "# 셀레니움에서 브라우저 - 브라우저로 요청하고 있기에 불필요"
   ]
  },
  {
   "cell_type": "code",
   "execution_count": 16,
   "id": "5a27df11",
   "metadata": {},
   "outputs": [],
   "source": [
    "driver.get('https://www.naver.com')"
   ]
  },
  {
   "cell_type": "markdown",
   "id": "435ab1a5",
   "metadata": {},
   "source": [
    "## 검색창으로 접근"
   ]
  },
  {
   "cell_type": "code",
   "execution_count": 17,
   "id": "951997ea",
   "metadata": {},
   "outputs": [],
   "source": [
    "# find_element / find_elements\n",
    "\n",
    "# Xpath 절대 경로\n",
    "# 경로 설명에 대한 주석처리 필요\n",
    "search = driver.find_element(By.XPATH, '//*[@id=\"query\"]')"
   ]
  },
  {
   "cell_type": "code",
   "execution_count": 18,
   "id": "24a6ac53",
   "metadata": {},
   "outputs": [],
   "source": [
    "search.send_keys('날씨')"
   ]
  },
  {
   "cell_type": "code",
   "execution_count": 19,
   "id": "8cf0ca8b",
   "metadata": {},
   "outputs": [],
   "source": [
    "search.send_keys(Keys.ENTER)"
   ]
  },
  {
   "cell_type": "markdown",
   "id": "8d1471ed",
   "metadata": {},
   "source": [
    "## 뒤로 가기"
   ]
  },
  {
   "cell_type": "code",
   "execution_count": 20,
   "id": "813e4626",
   "metadata": {},
   "outputs": [],
   "source": [
    "# html 코드가 아닌, 브라우저 제공 기능\n",
    "driver.back()"
   ]
  },
  {
   "cell_type": "markdown",
   "id": "585e9d96",
   "metadata": {},
   "source": [
    "## NAVER에서 검색버튼을 클릭해보자"
   ]
  },
  {
   "cell_type": "code",
   "execution_count": 25,
   "id": "6399c45b",
   "metadata": {},
   "outputs": [],
   "source": [
    "driver = wb.Chrome()\n",
    "driver.get('https://www.naver.com')\n",
    "\n",
    "search = driver.find_element(By.XPATH, '//*[@id=\"query\"]')\n",
    "search.send_keys('날씨')\n",
    "\n",
    "search_button = driver.find_element(By.XPATH, '//*[@id=\"search_btn\"]')\n",
    "search_button.click()"
   ]
  },
  {
   "cell_type": "code",
   "execution_count": 23,
   "id": "a019ff98",
   "metadata": {},
   "outputs": [],
   "source": [
    "driver.quit()"
   ]
  },
  {
   "cell_type": "markdown",
   "id": "b83fb801",
   "metadata": {},
   "source": [
    "## 끝까지 스크롤 해보기"
   ]
  },
  {
   "cell_type": "code",
   "execution_count": 30,
   "id": "7763a891",
   "metadata": {},
   "outputs": [],
   "source": [
    "body = driver.find_element(By.TAG_NAME, 'body')\n",
    "\n",
    "body.send_keys(Keys.END)"
   ]
  },
  {
   "cell_type": "markdown",
   "id": "db700489",
   "metadata": {},
   "source": [
    "## 크롬브라우저 종료"
   ]
  },
  {
   "cell_type": "code",
   "execution_count": null,
   "id": "1399db16",
   "metadata": {},
   "outputs": [],
   "source": [
    "# 방법 1 : 현재 열려있는 창을 닫되, 모든 webDriver 인스턴스와 관련된 \n",
    "# 모든 창, 탭, 프로세스, 메모리 종료\n",
    "driver.quit()\n",
    "\n",
    "# 방법 2 : 현재 열려있는 창을 닫습니다.\n",
    "driver.close()"
   ]
  },
  {
   "cell_type": "markdown",
   "id": "55b5fc27",
   "metadata": {},
   "source": [
    "## 개인 실습 - 01\n",
    "1. 크롬 브라우저를 키고\n",
    "2. 네이버로 접속\n",
    "3. 검색창을 CSS_SELECTOR로 잡기 - 원하는 검색어 입력 (ENTER 키가 아닌 돋보기 아이콘 클릭)\n",
    "4. 스크롤 끝까지 내릭\n",
    "5. 뒤로 가기 버튼을 눌러서 다시 메인으로 이동\n",
    "6. 크롬창 종료 - 메모리 누수까지 신경쓸 것!"
   ]
  },
  {
   "cell_type": "code",
   "execution_count": 46,
   "id": "c09e14c4",
   "metadata": {},
   "outputs": [],
   "source": [
    "import time"
   ]
  },
  {
   "cell_type": "code",
   "execution_count": 49,
   "id": "44bdbf9c",
   "metadata": {},
   "outputs": [],
   "source": [
    "driver = wb.Chrome()\n",
    "driver.get('https://www.naver.com')\n",
    "\n",
    "search_input = driver.find_element(By.CSS_SELECTOR,'input#query')\n",
    "search_input.send_keys('날씨')\n",
    "\n",
    "button = driver.find_element(By.CSS_SELECTOR, 'button#search_btn')\n",
    "button.click()\n",
    "\n",
    "body = driver.find_element(By.CSS_SELECTOR, 'body')\n",
    "body.send_keys(Keys.END)\n",
    "\n",
    "time.sleep(2)\n",
    "\n",
    "driver.back()\n",
    "driver.quit()"
   ]
  },
  {
   "cell_type": "markdown",
   "id": "8adad006",
   "metadata": {},
   "source": [
    "## 개인 실습 - 02\n",
    "1. 크롬 브라우저를 켜고\n",
    "2. 네이버로 접속\n",
    "3. 검색창을 CSS_SELECTOR로 잡기 - 원하는 검색어 입력 (ENTER 키 사용)\n",
    "4. 검색 후 '이미지 탭' 클릭 (CSS_SELECTOR 혹은 다른 방법 사용 가능)\n",
    "5. 뒤로가기\n",
    "6. 메인에서 '뉴스 탭'클릭해서 들어가기 (CSS_SELECTOR 혹은 다른 방법 사용 가능)\n",
    "7. 뒤로 가기 버튼을 눌러서 다시 메인으로 이동\n",
    "8. 크롬창 종료 - 메모리 누수까지 신경쓸 것"
   ]
  },
  {
   "cell_type": "code",
   "execution_count": 55,
   "id": "ff990446",
   "metadata": {},
   "outputs": [],
   "source": [
    "driver = wb.Chrome()\n",
    "driver.get('https://www.naver.com')\n",
    "\n",
    "search_input = driver.find_element(By.CSS_SELECTOR,'input#query')\n",
    "search_input.send_keys('날씨')\n",
    "search_input.send_keys(Keys.ENTER)\n",
    "\n",
    "img_tab = driver.find_element('xpath', '//*[@id=\"lnb\"]/div[1]/div/ul/li[3]/a')\n",
    "img_tab.click()\n",
    "\n",
    "time.sleep(1)\n",
    "\n",
    "# driver.back()\n",
    "driver.back()\n",
    "\n",
    "news_tab = driver.find_element('xpath', '//*[@id=\"lnb\"]/div[1]/div/ul/li[8]/a')\n",
    "news_tab.click()\n",
    "\n",
    "time.sleep(1)\n",
    "\n",
    "driver.back()\n",
    "\n",
    "time.sleep(1)\n",
    "\n",
    "driver.quit()"
   ]
  },
  {
   "cell_type": "markdown",
   "id": "ae18d492",
   "metadata": {},
   "source": [
    "### 7. Selenium_practice2_GMARKET (상품명 | 상품 가격)"
   ]
  },
  {
   "cell_type": "code",
   "execution_count": 57,
   "id": "cb0fd149",
   "metadata": {},
   "outputs": [],
   "source": [
    "from tqdm import tqdm"
   ]
  },
  {
   "cell_type": "code",
   "execution_count": 90,
   "id": "eb7556a4",
   "metadata": {},
   "outputs": [],
   "source": [
    "driver = wb.Chrome()\n",
    "driver.get('https://corners.gmarket.co.kr/bestsellers')\n",
    "\n",
    "# 웹페이지 축소 시, 구조 변경의 위험성 존재\n",
    "# 따라서 최대 크기의 창으로 진행 권장\n",
    "driver.maximize_window()"
   ]
  },
  {
   "cell_type": "code",
   "execution_count": 91,
   "id": "f94782d6",
   "metadata": {},
   "outputs": [
    {
     "data": {
      "text/plain": [
       "20"
      ]
     },
     "execution_count": 91,
     "metadata": {},
     "output_type": "execute_result"
    }
   ],
   "source": [
    "# //*[@id=\"gBestWrap\"]/div[2]/ul/li[1]/div[1]/a/img\n",
    "# //*[@id=\"gBestWrap\"]/div[2]/ul/li[9]/div[1]/a/img\n",
    "\n",
    "imgs = driver.find_elements(By.CLASS_NAME, 'image__lazy.image__load')\n",
    "\n",
    "# 이미지 클릭\n",
    "imgs[0].click()\n",
    "\n",
    "len(imgs)"
   ]
  },
  {
   "cell_type": "markdown",
   "id": "ee5c5cb0",
   "metadata": {},
   "source": [
    "### 상품명 수집"
   ]
  },
  {
   "cell_type": "code",
   "execution_count": 92,
   "id": "91e43c52",
   "metadata": {},
   "outputs": [
    {
     "name": "stdout",
     "output_type": "stream",
     "text": [
      "하남쭈꾸미쭈꾸미볶음 500g 3팩\n"
     ]
    }
   ],
   "source": [
    "title_test = driver.find_elements(By.CLASS_NAME, 'itemtit')\n",
    "\n",
    "for i in title_test:\n",
    "    print(i.text)"
   ]
  },
  {
   "cell_type": "code",
   "execution_count": 93,
   "id": "09a363ef",
   "metadata": {},
   "outputs": [
    {
     "data": {
      "text/plain": [
       "'하남쭈꾸미쭈꾸미볶음 500g 3팩'"
      ]
     },
     "execution_count": 93,
     "metadata": {},
     "output_type": "execute_result"
    }
   ],
   "source": [
    "title_test = driver.find_element(By.CLASS_NAME, 'itemtit')\n",
    "title_test.text"
   ]
  },
  {
   "cell_type": "markdown",
   "id": "08259862",
   "metadata": {},
   "source": [
    "### 상품 가격을 수집"
   ]
  },
  {
   "cell_type": "code",
   "execution_count": 95,
   "id": "a572383c",
   "metadata": {},
   "outputs": [
    {
     "name": "stdout",
     "output_type": "stream",
     "text": [
      "33,900원\n",
      "28,820원\n"
     ]
    }
   ],
   "source": [
    "price_test = driver.find_elements(By.CLASS_NAME, 'price_real')\n",
    "\n",
    "for i in price_test:\n",
    "    print(i.text)"
   ]
  },
  {
   "cell_type": "code",
   "execution_count": 96,
   "id": "edc0b602",
   "metadata": {},
   "outputs": [
    {
     "data": {
      "text/plain": [
       "'33,900원'"
      ]
     },
     "execution_count": 96,
     "metadata": {},
     "output_type": "execute_result"
    }
   ],
   "source": [
    "price = driver.find_element(By.CLASS_NAME, 'price_real')\n",
    "price.text"
   ]
  },
  {
   "cell_type": "code",
   "execution_count": 97,
   "id": "ab6c13f7",
   "metadata": {},
   "outputs": [],
   "source": [
    "driver.back()"
   ]
  },
  {
   "cell_type": "code",
   "execution_count": null,
   "id": "b3375b00",
   "metadata": {},
   "outputs": [],
   "source": [
    "driver = wb.Chrome()\n",
    "driver.get('https://corners.gmarket.co.kr/bestsellers')\n",
    "\n",
    "titles = []\n",
    "prices = []\n",
    "\n",
    "driver.maximize_window()\n",
    "\n",
    "for i in tqdm(range(10)):\n",
    "    imgs = driver.find_elements(By.CLASS_NAME, 'image__lazy.image__load')\n",
    "\n",
    "    imgs[i].click()\n",
    "    \n",
    "    time.sleep(3)\n",
    "    title = driver.find_element(By.CLASS_NAME, 'itemtit')\n",
    "    titles.append(title.text)\n",
    "    \n",
    "    price = driver.find_element(By.CLASS_NAME, 'price_real')\n",
    "    prices.append(price.text)\n",
    "    \n",
    "    driver.back()\n",
    "    time.sleep(3)\n",
    "    \n",
    "driver.quit()\n",
    "    \n",
    "gmarket_df = pd.DataFrame({'title':titles, 'price':prices})\n",
    "gmarket_df.to_csv('gmarket10.csv', encoding='euc-kr', index=False)"
   ]
  },
  {
   "cell_type": "code",
   "execution_count": 109,
   "id": "7328c497",
   "metadata": {
    "collapsed": true
   },
   "outputs": [
    {
     "data": {
      "text/html": [
       "<div>\n",
       "<style scoped>\n",
       "    .dataframe tbody tr th:only-of-type {\n",
       "        vertical-align: middle;\n",
       "    }\n",
       "\n",
       "    .dataframe tbody tr th {\n",
       "        vertical-align: top;\n",
       "    }\n",
       "\n",
       "    .dataframe thead th {\n",
       "        text-align: right;\n",
       "    }\n",
       "</style>\n",
       "<table border=\"1\" class=\"dataframe\">\n",
       "  <thead>\n",
       "    <tr style=\"text-align: right;\">\n",
       "      <th></th>\n",
       "      <th>title</th>\n",
       "      <th>price</th>\n",
       "    </tr>\n",
       "  </thead>\n",
       "  <tbody>\n",
       "    <tr>\n",
       "      <th>0</th>\n",
       "      <td>하남쭈꾸미쭈꾸미볶음 500g 3팩</td>\n",
       "      <td>33,900원</td>\n",
       "    </tr>\n",
       "    <tr>\n",
       "      <th>1</th>\n",
       "      <td>국내산 재료로 담근 총각김치 알타리 3kg /HACCP인증/당일제조</td>\n",
       "      <td>17,500원</td>\n",
       "    </tr>\n",
       "    <tr>\n",
       "      <th>2</th>\n",
       "      <td>(쿠폰적용필수)(첫구매/웰컴백 고객 대상) (CGV) 가디언즈 오브 갤럭시 전용 예매권</td>\n",
       "      <td>15,000원</td>\n",
       "    </tr>\n",
       "    <tr>\n",
       "      <th>3</th>\n",
       "      <td>초특가 비비고 한섬만두 320g8팩</td>\n",
       "      <td>25,000원</td>\n",
       "    </tr>\n",
       "    <tr>\n",
       "      <th>4</th>\n",
       "      <td>탱글탱글 생 새우살 200g x 3봉 / 쿠폰가 12400 (5/3하루특가)</td>\n",
       "      <td>15,500원</td>\n",
       "    </tr>\n",
       "    <tr>\n",
       "      <th>5</th>\n",
       "      <td>항공직송 남독마이 햇 생망고 4kg내외(8-12과)</td>\n",
       "      <td>40,890원</td>\n",
       "    </tr>\n",
       "    <tr>\n",
       "      <th>6</th>\n",
       "      <td>펩시콜라 제로 210ml x 30캔/탄산음료/제로콜라/음료수/펩시제로</td>\n",
       "      <td>17,900원</td>\n",
       "    </tr>\n",
       "    <tr>\n",
       "      <th>7</th>\n",
       "      <td>스윗마토 스테비아 방울 토마토 /망고향 달콤 토마토 500g X 4팩</td>\n",
       "      <td>21,900원</td>\n",
       "    </tr>\n",
       "    <tr>\n",
       "      <th>8</th>\n",
       "      <td>(스마일클럽)일반예매권2D-주중/주말</td>\n",
       "      <td>8,900원</td>\n",
       "    </tr>\n",
       "    <tr>\n",
       "      <th>9</th>\n",
       "      <td>목우촌주부9단 로스구이 500g+130g x 3개</td>\n",
       "      <td>25,700원</td>\n",
       "    </tr>\n",
       "  </tbody>\n",
       "</table>\n",
       "</div>"
      ],
      "text/plain": [
       "                                              title    price\n",
       "0                                하남쭈꾸미쭈꾸미볶음 500g 3팩  33,900원\n",
       "1             국내산 재료로 담근 총각김치 알타리 3kg /HACCP인증/당일제조  17,500원\n",
       "2  (쿠폰적용필수)(첫구매/웰컴백 고객 대상) (CGV) 가디언즈 오브 갤럭시 전용 예매권  15,000원\n",
       "3                               초특가 비비고 한섬만두 320g8팩  25,000원\n",
       "4        탱글탱글 생 새우살 200g x 3봉 / 쿠폰가 12400 (5/3하루특가)  15,500원\n",
       "5                      항공직송 남독마이 햇 생망고 4kg내외(8-12과)  40,890원\n",
       "6            펩시콜라 제로 210ml x 30캔/탄산음료/제로콜라/음료수/펩시제로  17,900원\n",
       "7            스윗마토 스테비아 방울 토마토 /망고향 달콤 토마토 500g X 4팩  21,900원\n",
       "8                              (스마일클럽)일반예매권2D-주중/주말   8,900원\n",
       "9                       목우촌주부9단 로스구이 500g+130g x 3개  25,700원"
      ]
     },
     "execution_count": 109,
     "metadata": {},
     "output_type": "execute_result"
    }
   ],
   "source": [
    "gmarket_df"
   ]
  },
  {
   "cell_type": "markdown",
   "id": "3c2c401c",
   "metadata": {},
   "source": [
    "### 8. Selenium_practice3_hansot\n",
    "1. selenium method 활용\n",
    "2. 메뉴이름, 가격 수집\n",
    "3. 더보기 자동적으로 클릭\n",
    "4. DataFrame"
   ]
  },
  {
   "cell_type": "code",
   "execution_count": 112,
   "id": "9f5d7b03",
   "metadata": {},
   "outputs": [],
   "source": [
    "from selenium import webdriver as wb\n",
    "from selenium.webdriver.common.by import By\n",
    "from selenium.webdriver.common.keys import Keys\n",
    "\n",
    "import time\n",
    "import pandas as pd"
   ]
  },
  {
   "cell_type": "code",
   "execution_count": 143,
   "id": "242e75b0",
   "metadata": {},
   "outputs": [],
   "source": [
    "driver = wb.Chrome()\n",
    "driver.get('https://www.hsd.co.kr/')\n",
    "\n",
    "driver.maximize_window()\n",
    "\n",
    "pop_up = driver.find_element('xpath', '//*[@id=\"pop\"]/div[1]/div/div[2]/span[1]')\n",
    "if pop_up:\n",
    "    pop_up.click()\n",
    "    \n",
    "menu = driver.find_element('xpath', '//*[@id=\"gnb\"]/div[2]/ul/li[3]/p/a')\n",
    "menu_all = driver.find_element(By.XPATH, '//*[@id=\"gnb\"]/div[2]/ul/li[3]/div/ul/li[1]/a')"
   ]
  },
  {
   "cell_type": "markdown",
   "id": "5b7f7781",
   "metadata": {},
   "source": [
    "## Action Chain이란?\n",
    "- selenium에서 제공하는 기능 중 하나, 마우스 키보드의 액션 생성 가능"
   ]
  },
  {
   "cell_type": "code",
   "execution_count": 124,
   "id": "866650ae",
   "metadata": {},
   "outputs": [],
   "source": [
    "from selenium.webdriver.common.action_chains import ActionChains"
   ]
  },
  {
   "cell_type": "code",
   "execution_count": 144,
   "id": "d7a8a00a",
   "metadata": {},
   "outputs": [],
   "source": [
    "action = ActionChains(driver)\n",
    "\n",
    "# 첫번째 관문, 메뉴로 이동\n",
    "# menu 버튼 위로 커서 이동\n",
    "action.move_to_element(menu)\n",
    "time.sleep(1)\n",
    "\n",
    "# 두번째 관문, 전체 메뉴 클릭\n",
    "action.click(menu_all)\n",
    "\n",
    "# 해당 작업 수행\n",
    "action.perform()"
   ]
  },
  {
   "cell_type": "code",
   "execution_count": 145,
   "id": "2e1be8a8",
   "metadata": {},
   "outputs": [
    {
     "name": "stdout",
     "output_type": "stream",
     "text": [
      "송정식 떡갈비 도시락\n",
      "카츠카츠 도시락\n",
      "아보카도 훈제 닭가슴살 명란 비빔밥\n",
      "아보카도 소불고기 명란 비빔밥\n",
      "새후마요\n",
      "숯불직화구이 두부강된장\n",
      "해바라기\n",
      "매화\n",
      "진달래\n",
      "개나리\n",
      "돈까스도련님고기고기\n",
      "탕수육도련님고기고기\n",
      "새치 고기고기\n",
      "돈치 고기고기\n",
      "숯불직화구이\n",
      "소불고기\n",
      "메가치킨제육\n",
      "칠리 찹쌀탕수육도련님\n",
      "동백\n",
      "치킨제육\n",
      "돈까스도련님\n",
      "제육볶음\n",
      "돈치스팸 도시락\n",
      "제육 김치찌개 정식\n",
      "제육 김치 부대찌개 정식\n",
      "돈치스팸 김치 부대찌개 정식\n",
      "빅치킨마요 김치 부대찌개 정식\n",
      "치킨마요 김치 부대찌개 정식\n",
      "빅치킨마요 김치찌개 정식\n",
      "치킨마요 김치찌개 정식\n",
      "메가스팸마요\n",
      "스팸마요\n",
      "메가치킨마요\n",
      "왕치킨마요\n",
      "빅치킨마요\n",
      "치킨마요\n",
      "참치마요\n",
      "돈치마요\n",
      "돈까스 카레\n",
      "스팸 김치볶음밥\n",
      "김치볶음밥\n",
      "스팸철판볶음밥\n",
      "소불고기 철판볶음밥\n",
      "나시고랭\n",
      "묵은지 김치찌개\n",
      "김치 부대찌개\n",
      "숯불직화구이 덮밥\n",
      "마파두부 덮밥\n",
      "왕카레돈까스덮밥\n",
      "새우돈까스 덮밥\n",
      "돈까스 덮밥\n",
      "소불고기 감초고추장 비빔밥\n",
      "시골제육 두부강된장 비빔밥\n",
      "참치야채 감초고추장\n",
      "튼튼도시락\n",
      "토네이도 소세지 파스타\n",
      "트리플 치즈 파스타\n",
      "토마토 미트 파스타\n",
      "반찬 묵은지김치찌개\n",
      "반찬 카레\n",
      "반찬 순살 고등어 간장구이\n",
      "반찬 김치 부대찌개\n",
      "반찬 치킨\n",
      "반찬 고기고기\n",
      "반찬 돈까스 도련님\n",
      "반찬 제육볶음\n",
      "반찬 토네이도 소세지\n",
      "반찬 반달돈까스\n",
      "치즈버터 해시 포테이토 스틱\n",
      "허니버터 해시 포테이토 스틱\n",
      "해시 포테이토 스틱\n",
      "뉴 감자고로케\n",
      "미니 찹쌀핫도그\n",
      "미니 찹쌀탕수육\n",
      "케이준후라이\n",
      "통현미 닭강정(소)\n",
      "통현미 닭강정(중)\n",
      "후라이드 순살(중)\n",
      "후라이드 순살(소)_양념치킨소스\n",
      "후라이드 순살(소)_케이준소스\n",
      "오리지널 닭강정(중)\n",
      "오리지널 닭강정(소)\n",
      "반찬 무생채\n",
      "3종 미니반찬B\n",
      "3종 미니반찬A\n",
      "오징어젓갈\n",
      "한솥 두부강된장소스\n",
      "한솥 감초볶음고추장소스\n",
      "볶음김치\n",
      "김치\n",
      "무말랭이 무침\n",
      "한솥밥\n",
      "현미밥\n",
      "리얼 티라미수 찰떡\n",
      "리얼꿀 미니호떡\n"
     ]
    }
   ],
   "source": [
    "more = driver.find_element('xpath', '//*[@id=\"btn_more\"]/span/a')\n",
    "\n",
    "while more:\n",
    "    time.sleep(1)\n",
    "    try:\n",
    "        more.click()\n",
    "    except:\n",
    "        break\n",
    "\n",
    "titles = driver.find_elements(By.CSS_SELECTOR, 'h4.h.fz_03')\n",
    "\n",
    "for i in titles:\n",
    "    print(i.text)"
   ]
  },
  {
   "cell_type": "code",
   "execution_count": null,
   "id": "b598dff4",
   "metadata": {},
   "outputs": [],
   "source": []
  },
  {
   "cell_type": "code",
   "execution_count": null,
   "id": "c3a5d6d3",
   "metadata": {},
   "outputs": [],
   "source": []
  }
 ],
 "metadata": {
  "kernelspec": {
   "display_name": "Python 3 (ipykernel)",
   "language": "python",
   "name": "python3"
  },
  "language_info": {
   "codemirror_mode": {
    "name": "ipython",
    "version": 3
   },
   "file_extension": ".py",
   "mimetype": "text/x-python",
   "name": "python",
   "nbconvert_exporter": "python",
   "pygments_lexer": "ipython3",
   "version": "3.10.9"
  }
 },
 "nbformat": 4,
 "nbformat_minor": 5
}
