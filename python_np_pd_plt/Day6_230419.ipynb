{
 "cells": [
  {
   "cell_type": "markdown",
   "id": "08edcebc",
   "metadata": {},
   "source": [
    "### Numpy\n",
    "- 복잡한 빅데이터의 수학적, 과학적 계산을 위해 만들어진 라이브러리\n",
    "- 반복문 없이 전체 데이터 배열 연산이 가능한 표준 수학함수를 제공함\n",
    "- 배열(array): 같은 자료형의 원소들이 연속적인 형태로 구성된 자료 구조로 다향의 데이터를 그룹으로 관리하기 위해 사용함"
   ]
  },
  {
   "cell_type": "code",
   "execution_count": 1,
   "id": "69639679",
   "metadata": {},
   "outputs": [],
   "source": [
    "import numpy as np"
   ]
  },
  {
   "cell_type": "code",
   "execution_count": 2,
   "id": "c57e51b9",
   "metadata": {},
   "outputs": [
    {
     "data": {
      "text/plain": [
       "[1, 2, 3, 4, 5]"
      ]
     },
     "execution_count": 2,
     "metadata": {},
     "output_type": "execute_result"
    }
   ],
   "source": [
    "list_ = [1, 2, 3, 4, 5]\n",
    "list_"
   ]
  },
  {
   "cell_type": "code",
   "execution_count": 3,
   "id": "7577d542",
   "metadata": {},
   "outputs": [
    {
     "data": {
      "text/plain": [
       "list"
      ]
     },
     "execution_count": 3,
     "metadata": {},
     "output_type": "execute_result"
    }
   ],
   "source": [
    "type(list_)"
   ]
  },
  {
   "cell_type": "code",
   "execution_count": 5,
   "id": "638fbf3d",
   "metadata": {},
   "outputs": [
    {
     "data": {
      "text/plain": [
       "array([1, 2, 3, 4, 5])"
      ]
     },
     "execution_count": 5,
     "metadata": {},
     "output_type": "execute_result"
    }
   ],
   "source": [
    "arr = np.array(list_)    # () 안쪽에 리스트를 넣어줘야 함\n",
    "arr"
   ]
  },
  {
   "cell_type": "code",
   "execution_count": 6,
   "id": "9a0e676c",
   "metadata": {},
   "outputs": [
    {
     "data": {
      "text/plain": [
       "numpy.ndarray"
      ]
     },
     "execution_count": 6,
     "metadata": {},
     "output_type": "execute_result"
    }
   ],
   "source": [
    "type(arr)\n",
    "# n-dimension: 다차원"
   ]
  },
  {
   "cell_type": "code",
   "execution_count": 7,
   "id": "3d0cc935",
   "metadata": {},
   "outputs": [
    {
     "data": {
      "text/plain": [
       "array([2, 3, 4, 5, 6])"
      ]
     },
     "execution_count": 7,
     "metadata": {},
     "output_type": "execute_result"
    }
   ],
   "source": [
    "# 배열은 사칙연산 가능(내부 모든 값에 직접 연산됨)\n",
    "arr + 1"
   ]
  },
  {
   "cell_type": "code",
   "execution_count": 8,
   "id": "e241923d",
   "metadata": {},
   "outputs": [
    {
     "data": {
      "text/plain": [
       "array([-9, -8, -7, -6, -5])"
      ]
     },
     "execution_count": 8,
     "metadata": {},
     "output_type": "execute_result"
    }
   ],
   "source": [
    "arr - 10"
   ]
  },
  {
   "cell_type": "code",
   "execution_count": 9,
   "id": "86088090",
   "metadata": {},
   "outputs": [
    {
     "data": {
      "text/plain": [
       "array([ 2,  4,  6,  8, 10])"
      ]
     },
     "execution_count": 9,
     "metadata": {},
     "output_type": "execute_result"
    }
   ],
   "source": [
    "arr * 2"
   ]
  },
  {
   "cell_type": "code",
   "execution_count": 10,
   "id": "e38980c2",
   "metadata": {},
   "outputs": [
    {
     "data": {
      "text/plain": [
       "array([0.5, 1. , 1.5, 2. , 2.5])"
      ]
     },
     "execution_count": 10,
     "metadata": {},
     "output_type": "execute_result"
    }
   ],
   "source": [
    "arr / 2     # 실수형태(float)로 출력"
   ]
  },
  {
   "cell_type": "code",
   "execution_count": 12,
   "id": "6d5241a6",
   "metadata": {},
   "outputs": [
    {
     "data": {
      "text/plain": [
       "array([[1, 2, 3],\n",
       "       [4, 5, 6]])"
      ]
     },
     "execution_count": 12,
     "metadata": {},
     "output_type": "execute_result"
    }
   ],
   "source": [
    "# 2차원 배열\n",
    "arr2 = np.array([[1, 2, 3], [4, 5, 6]])\n",
    "arr2"
   ]
  },
  {
   "cell_type": "code",
   "execution_count": 15,
   "id": "e0d18cc6",
   "metadata": {},
   "outputs": [
    {
     "data": {
      "text/plain": [
       "array([[2, 3, 4],\n",
       "       [5, 6, 7]])"
      ]
     },
     "execution_count": 15,
     "metadata": {},
     "output_type": "execute_result"
    }
   ],
   "source": [
    "arr2 + 1\n",
    "# 차원에 상관없이 내부 모든 값에 직접 연산됨"
   ]
  },
  {
   "cell_type": "code",
   "execution_count": 16,
   "id": "45c3be43",
   "metadata": {},
   "outputs": [
    {
     "data": {
      "text/plain": [
       "(2, 3)"
      ]
     },
     "execution_count": 16,
     "metadata": {},
     "output_type": "execute_result"
    }
   ],
   "source": [
    "# 배열의 형태(행, 열)\n",
    "arr2.shape"
   ]
  },
  {
   "cell_type": "code",
   "execution_count": 17,
   "id": "d4c5dcb9",
   "metadata": {},
   "outputs": [
    {
     "data": {
      "text/plain": [
       "6"
      ]
     },
     "execution_count": 17,
     "metadata": {},
     "output_type": "execute_result"
    }
   ],
   "source": [
    "# 배열의 요소 전체 개수(shape 내부의 수치들의 곱)\n",
    "arr2.size"
   ]
  },
  {
   "cell_type": "code",
   "execution_count": 18,
   "id": "c403a4d1",
   "metadata": {},
   "outputs": [
    {
     "data": {
      "text/plain": [
       "dtype('int32')"
      ]
     },
     "execution_count": 18,
     "metadata": {},
     "output_type": "execute_result"
    }
   ],
   "source": [
    "# 배열 내 데이터의 타입(자료형 확인)\n",
    "arr2.dtype             \n",
    "\n",
    "# 32 = 32bit(가장 작은 단위) -> 2의 32승(기계가 표현할 수 있는 범위)    +    8bit = 1byte\n",
    "\n",
    "# int8 -> 2^8 = 258(-128 ~ 127)\n",
    "# int32 -> 2^32(-2,147,483,648 ~ 2,147,483,647)"
   ]
  },
  {
   "cell_type": "code",
   "execution_count": 19,
   "id": "b959a2ee",
   "metadata": {},
   "outputs": [
    {
     "data": {
      "text/plain": [
       "2"
      ]
     },
     "execution_count": 19,
     "metadata": {},
     "output_type": "execute_result"
    }
   ],
   "source": [
    "# 배열의 차원 확인\n",
    "arr2.ndim"
   ]
  },
  {
   "cell_type": "code",
   "execution_count": 20,
   "id": "abec6484",
   "metadata": {},
   "outputs": [
    {
     "data": {
      "text/plain": [
       "array([[[1, 2],\n",
       "        [3, 4]],\n",
       "\n",
       "       [[5, 6],\n",
       "        [7, 8]]])"
      ]
     },
     "execution_count": 20,
     "metadata": {},
     "output_type": "execute_result"
    }
   ],
   "source": [
    "arr3 = np.array([[[1,2],[3,4]],[[5,6],[7,8]]])\n",
    "arr3"
   ]
  },
  {
   "cell_type": "code",
   "execution_count": 25,
   "id": "e8b9fbcc",
   "metadata": {},
   "outputs": [
    {
     "name": "stdout",
     "output_type": "stream",
     "text": [
      "3\n",
      "(2, 2, 2)\n",
      "8\n"
     ]
    }
   ],
   "source": [
    "print(arr3.ndim)\n",
    "print(arr3.shape)      # 3차원\n",
    "print(arr3.size)       # 안쪽에 들어 있는 배열의 개수, 배열 안쪽에 들어있는 행, 배열 안쪽에 들어있는 열"
   ]
  },
  {
   "cell_type": "code",
   "execution_count": 28,
   "id": "429e317b",
   "metadata": {},
   "outputs": [
    {
     "data": {
      "text/plain": [
       "array([[0., 0., 0., 0.],\n",
       "       [0., 0., 0., 0.],\n",
       "       [0., 0., 0., 0.]])"
      ]
     },
     "execution_count": 28,
     "metadata": {},
     "output_type": "execute_result"
    }
   ],
   "source": [
    "# 0으로 배열 생성\n",
    "arr_zeros = np.zeros((3,4))\n",
    "arr_zeros"
   ]
  },
  {
   "cell_type": "code",
   "execution_count": 29,
   "id": "cc8a63c6",
   "metadata": {},
   "outputs": [
    {
     "data": {
      "text/plain": [
       "array([[[1., 1., 1.],\n",
       "        [1., 1., 1.],\n",
       "        [1., 1., 1.],\n",
       "        [1., 1., 1.]],\n",
       "\n",
       "       [[1., 1., 1.],\n",
       "        [1., 1., 1.],\n",
       "        [1., 1., 1.],\n",
       "        [1., 1., 1.]]])"
      ]
     },
     "execution_count": 29,
     "metadata": {},
     "output_type": "execute_result"
    }
   ],
   "source": [
    "# 1로 배열 생성\n",
    "arr_ones = np.ones((2,4,3))\n",
    "arr_ones"
   ]
  },
  {
   "cell_type": "code",
   "execution_count": 30,
   "id": "65065085",
   "metadata": {},
   "outputs": [
    {
     "data": {
      "text/plain": [
       "array([[2, 2, 2, 2, 2],\n",
       "       [2, 2, 2, 2, 2],\n",
       "       [2, 2, 2, 2, 2],\n",
       "       [2, 2, 2, 2, 2],\n",
       "       [2, 2, 2, 2, 2]])"
      ]
     },
     "execution_count": 30,
     "metadata": {},
     "output_type": "execute_result"
    }
   ],
   "source": [
    "# 특정값으로 배열 생성하기\n",
    "arr_full = np.full((5,5),2)            # 5행 5열의 배열을 2로 채워주세요\n",
    "arr_full"
   ]
  },
  {
   "cell_type": "markdown",
   "id": "9007e591",
   "metadata": {},
   "source": [
    "### 다차원 배열 생성에 유용한 함수\n",
    " - arange 함수: 연속된 수치로 배열 생성\n",
    " - reshape 함수: 생성된 배열의 shape를 재설정"
   ]
  },
  {
   "cell_type": "code",
   "execution_count": 33,
   "id": "4d644fff",
   "metadata": {},
   "outputs": [
    {
     "data": {
      "text/plain": [
       "array([ 1,  2,  3,  4,  5,  6,  7,  8,  9, 10, 11, 12, 13, 14, 15, 16, 17,\n",
       "       18, 19, 20, 21, 22, 23, 24, 25, 26, 27, 28, 29, 30, 31, 32, 33, 34,\n",
       "       35, 36, 37, 38, 39, 40, 41, 42, 43, 44, 45, 46, 47, 48, 49, 50])"
      ]
     },
     "execution_count": 33,
     "metadata": {},
     "output_type": "execute_result"
    }
   ],
   "source": [
    "list_ = []\n",
    "\n",
    "for i in range(1, 51, 1):\n",
    "    list_.append(i)\n",
    "list_\n",
    "np.array(list_)"
   ]
  },
  {
   "cell_type": "code",
   "execution_count": 35,
   "id": "f4a6597f",
   "metadata": {},
   "outputs": [
    {
     "data": {
      "text/plain": [
       "array([ 1,  2,  3,  4,  5,  6,  7,  8,  9, 10, 11, 12, 13, 14, 15, 16, 17,\n",
       "       18, 19, 20, 21, 22, 23, 24, 25, 26, 27, 28, 29, 30, 31, 32, 33, 34,\n",
       "       35, 36, 37, 38, 39, 40, 41, 42, 43, 44, 45, 46, 47, 48, 49, 50])"
      ]
     },
     "execution_count": 35,
     "metadata": {},
     "output_type": "execute_result"
    }
   ],
   "source": [
    "# 반복문 사용 없이 순서대로인 값을 배열로 생성(끝값은 미포함)\n",
    "arr5 = np.arange(1, 51, 1)        # (시작, 끝, 증감량)\n",
    "arr5"
   ]
  },
  {
   "cell_type": "code",
   "execution_count": 36,
   "id": "69765a79",
   "metadata": {},
   "outputs": [
    {
     "data": {
      "text/plain": [
       "array([ 1, 11, 21, 31, 41])"
      ]
     },
     "execution_count": 36,
     "metadata": {},
     "output_type": "execute_result"
    }
   ],
   "source": [
    "arr6 = np.arange(1, 51, 10)\n",
    "arr6"
   ]
  },
  {
   "cell_type": "code",
   "execution_count": 37,
   "id": "d9fa0ff2",
   "metadata": {},
   "outputs": [
    {
     "data": {
      "text/plain": [
       "array([ 1,  2,  3,  4,  5,  6,  7,  8,  9, 10, 11, 12, 13, 14, 15, 16, 17,\n",
       "       18, 19, 20, 21, 22, 23, 24, 25, 26, 27, 28, 29, 30, 31, 32, 33, 34,\n",
       "       35, 36, 37, 38, 39, 40, 41, 42, 43, 44, 45, 46, 47, 48, 49, 50])"
      ]
     },
     "execution_count": 37,
     "metadata": {},
     "output_type": "execute_result"
    }
   ],
   "source": [
    "arr7 = np.arange(1, 51)              # 증감량 생략 가능\n",
    "arr7 "
   ]
  },
  {
   "cell_type": "code",
   "execution_count": 39,
   "id": "225024e3",
   "metadata": {},
   "outputs": [
    {
     "data": {
      "text/plain": [
       "array([[ 1,  2,  3,  4,  5,  6,  7,  8,  9, 10],\n",
       "       [11, 12, 13, 14, 15, 16, 17, 18, 19, 20],\n",
       "       [21, 22, 23, 24, 25, 26, 27, 28, 29, 30],\n",
       "       [31, 32, 33, 34, 35, 36, 37, 38, 39, 40],\n",
       "       [41, 42, 43, 44, 45, 46, 47, 48, 49, 50]])"
      ]
     },
     "execution_count": 39,
     "metadata": {},
     "output_type": "execute_result"
    }
   ],
   "source": [
    "# reshape: 배열의 행과 열(shape)을 재설정 -> 데이터 자체를 변경하는 게 아니라 보이는 것만 재설정\n",
    "arr7.reshape(5, 10)"
   ]
  },
  {
   "cell_type": "code",
   "execution_count": 40,
   "id": "dcbee7aa",
   "metadata": {},
   "outputs": [
    {
     "ename": "ValueError",
     "evalue": "cannot reshape array of size 50 into shape (5,11)",
     "output_type": "error",
     "traceback": [
      "\u001b[1;31m---------------------------------------------------------------------------\u001b[0m",
      "\u001b[1;31mValueError\u001b[0m                                Traceback (most recent call last)",
      "Cell \u001b[1;32mIn[40], line 1\u001b[0m\n\u001b[1;32m----> 1\u001b[0m \u001b[43marr7\u001b[49m\u001b[38;5;241;43m.\u001b[39;49m\u001b[43mreshape\u001b[49m\u001b[43m(\u001b[49m\u001b[38;5;241;43m5\u001b[39;49m\u001b[43m,\u001b[49m\u001b[38;5;241;43m11\u001b[39;49m\u001b[43m)\u001b[49m\n",
      "\u001b[1;31mValueError\u001b[0m: cannot reshape array of size 50 into shape (5,11)"
     ]
    }
   ],
   "source": [
    "arr7.reshape(5, 11)       # 값의 개수를 넘어서면 에러\n",
    "# 전체 크기가 맞지 않는 경우에는 reshape를 활용할 수 없음\n",
    "# 배열 내 전체 요소 개수와 reshape내의 값의 곱이 같아야 함"
   ]
  },
  {
   "cell_type": "code",
   "execution_count": 42,
   "id": "051e2e97",
   "metadata": {},
   "outputs": [
    {
     "data": {
      "text/plain": [
       "array([[ 1,  2,  3,  4,  5,  6,  7,  8,  9, 10, 11, 12, 13, 14, 15, 16,\n",
       "        17, 18, 19, 20, 21, 22, 23, 24, 25],\n",
       "       [26, 27, 28, 29, 30, 31, 32, 33, 34, 35, 36, 37, 38, 39, 40, 41,\n",
       "        42, 43, 44, 45, 46, 47, 48, 49, 50]])"
      ]
     },
     "execution_count": 42,
     "metadata": {},
     "output_type": "execute_result"
    }
   ],
   "source": [
    "arr7.reshape(2, 25)"
   ]
  },
  {
   "cell_type": "code",
   "execution_count": 43,
   "id": "7ae32ca9",
   "metadata": {},
   "outputs": [
    {
     "data": {
      "text/plain": [
       "array([1.2, 2.3, 3.7])"
      ]
     },
     "execution_count": 43,
     "metadata": {},
     "output_type": "execute_result"
    }
   ],
   "source": [
    "arr8 = np.array([1.2, 2.3, 3.7])\n",
    "arr8"
   ]
  },
  {
   "cell_type": "code",
   "execution_count": 45,
   "id": "ebd18693",
   "metadata": {},
   "outputs": [
    {
     "data": {
      "text/plain": [
       "array([1, 2, 3], dtype=int64)"
      ]
     },
     "execution_count": 45,
     "metadata": {},
     "output_type": "execute_result"
    }
   ],
   "source": [
    "# 데이터 타입 변경\n",
    "arr8 = np.array([1.2, 2.3, 3.7],dtype = np.int64)   # 실수를 정수 형태로 변환\n",
    "arr8"
   ]
  },
  {
   "cell_type": "code",
   "execution_count": 46,
   "id": "44b634b7",
   "metadata": {},
   "outputs": [
    {
     "data": {
      "text/plain": [
       "array([1., 2., 3.], dtype=float32)"
      ]
     },
     "execution_count": 46,
     "metadata": {},
     "output_type": "execute_result"
    }
   ],
   "source": [
    "arr9 = np.array([1, 2, 3],dtype = np.float32)      # 정수를 실수 형태로 변환\n",
    "arr9  "
   ]
  },
  {
   "cell_type": "code",
   "execution_count": 47,
   "id": "d6063a9c",
   "metadata": {},
   "outputs": [
    {
     "data": {
      "text/plain": [
       "dtype('<U1')"
      ]
     },
     "execution_count": 47,
     "metadata": {},
     "output_type": "execute_result"
    }
   ],
   "source": [
    "# U : 유니코드 문자열\n",
    "arr10 = np.array(['1', '2', '3'])\n",
    "arr10.dtype"
   ]
  },
  {
   "cell_type": "code",
   "execution_count": 48,
   "id": "61c0f494",
   "metadata": {},
   "outputs": [
    {
     "data": {
      "text/plain": [
       "dtype('int32')"
      ]
     },
     "execution_count": 48,
     "metadata": {},
     "output_type": "execute_result"
    }
   ],
   "source": [
    "arr10 = np.array(['1', '2', '3'],dtype = np.int32)\n",
    "arr10.dtype"
   ]
  },
  {
   "cell_type": "markdown",
   "id": "a5113bd1",
   "metadata": {},
   "source": [
    "### 랜덤 값(난수) 생성"
   ]
  },
  {
   "cell_type": "code",
   "execution_count": 66,
   "id": "90901338",
   "metadata": {},
   "outputs": [
    {
     "data": {
      "text/plain": [
       "array([[0.41554406, 0.86758319, 0.42824125],\n",
       "       [0.98932721, 0.80260584, 0.81388312]])"
      ]
     },
     "execution_count": 66,
     "metadata": {},
     "output_type": "execute_result"
    }
   ],
   "source": [
    "# 랜덤 값 배열 생성하기\n",
    "# rand : 0~1  사이의 난수값 생성\n",
    "arr10 = np.random.rand(2,3)           # 2행 3열의 array에 0~1 사이값을 랜덤하게 출력\n",
    "arr10"
   ]
  },
  {
   "cell_type": "code",
   "execution_count": 80,
   "id": "2464998e",
   "metadata": {},
   "outputs": [
    {
     "data": {
      "text/plain": [
       "9"
      ]
     },
     "execution_count": 80,
     "metadata": {},
     "output_type": "execute_result"
    }
   ],
   "source": [
    "# 랜덤한 정수값 배열 생성하기\n",
    "arr11 = np.random.randint(10)            # 0~9까지의 10개의 숫자 중 랜덤하게 정수가 출력 \n",
    "arr11\n",
    "\n",
    "# 그냥 random라이브러리의 randint는 끝 값 포함이지만 numpy는 끝 값 미포함"
   ]
  },
  {
   "cell_type": "code",
   "execution_count": 88,
   "id": "dc0d58ea",
   "metadata": {},
   "outputs": [
    {
     "data": {
      "text/plain": [
       "array([1, 3, 3, 4, 4, 2, 0, 1, 3, 1])"
      ]
     },
     "execution_count": 88,
     "metadata": {},
     "output_type": "execute_result"
    }
   ],
   "source": [
    "# 0~4 사이의 값 중에서 랜덤으로 10개의 값을 1차원 array로 생성\n",
    "arr12 = np.random.randint(5, size = 10)            \n",
    "arr12"
   ]
  },
  {
   "cell_type": "code",
   "execution_count": 91,
   "id": "a72648d6",
   "metadata": {},
   "outputs": [
    {
     "data": {
      "text/plain": [
       "array([[4, 4, 3],\n",
       "       [4, 4, 4]])"
      ]
     },
     "execution_count": 91,
     "metadata": {},
     "output_type": "execute_result"
    }
   ],
   "source": [
    "arr13 = np.random.randint(5, size = (2,3))            \n",
    "arr13"
   ]
  },
  {
   "cell_type": "markdown",
   "id": "389a866a",
   "metadata": {},
   "source": [
    "#### 랜덤시드(random seed) 설정\n",
    "- 과연 이 세상에 진정한 랜덤이 있을까?\n",
    "- 컴퓨터는 완전한 랜덤이라는 난수를 구현하지 못함\n",
    "- 유사 난수 개념을 사용(난수가 나오는 것을 흉내내는 복잡한 알고리즘으로 만들어진 숫자)"
   ]
  },
  {
   "cell_type": "code",
   "execution_count": 105,
   "id": "74ab88e8",
   "metadata": {},
   "outputs": [
    {
     "data": {
      "text/plain": [
       "array([[0, 0, 3],\n",
       "       [2, 3, 0]])"
      ]
     },
     "execution_count": 105,
     "metadata": {},
     "output_type": "execute_result"
    }
   ],
   "source": [
    "np.random.seed(2)\n",
    "np.random.randint(5, size = (2,3))"
   ]
  },
  {
   "cell_type": "markdown",
   "id": "dc00a114",
   "metadata": {},
   "source": [
    "## array 연산"
   ]
  },
  {
   "cell_type": "code",
   "execution_count": 106,
   "id": "b590171a",
   "metadata": {},
   "outputs": [
    {
     "data": {
      "text/plain": [
       "array([[1, 2],\n",
       "       [3, 4]])"
      ]
     },
     "execution_count": 106,
     "metadata": {},
     "output_type": "execute_result"
    }
   ],
   "source": [
    "arr14 = np.array([[1,2], [3,4]])\n",
    "arr14"
   ]
  },
  {
   "cell_type": "code",
   "execution_count": 107,
   "id": "1980ecf4",
   "metadata": {},
   "outputs": [
    {
     "data": {
      "text/plain": [
       "array([[2, 4],\n",
       "       [6, 8]])"
      ]
     },
     "execution_count": 107,
     "metadata": {},
     "output_type": "execute_result"
    }
   ],
   "source": [
    "arr14 + arr14          # 같은 위치에 있는 값들끼리 연산"
   ]
  },
  {
   "cell_type": "code",
   "execution_count": 108,
   "id": "74590366",
   "metadata": {},
   "outputs": [
    {
     "data": {
      "text/plain": [
       "array([[ 1,  4],\n",
       "       [ 9, 16]])"
      ]
     },
     "execution_count": 108,
     "metadata": {},
     "output_type": "execute_result"
    }
   ],
   "source": [
    "arr14 * arr14"
   ]
  },
  {
   "cell_type": "code",
   "execution_count": 109,
   "id": "36eedbf1",
   "metadata": {},
   "outputs": [
    {
     "data": {
      "text/plain": [
       "array([[1., 1.],\n",
       "       [1., 1.]])"
      ]
     },
     "execution_count": 109,
     "metadata": {},
     "output_type": "execute_result"
    }
   ],
   "source": [
    "arr14 / arr14"
   ]
  },
  {
   "cell_type": "code",
   "execution_count": 110,
   "id": "81072750",
   "metadata": {},
   "outputs": [
    {
     "data": {
      "text/plain": [
       "array([[0, 0],\n",
       "       [0, 0]])"
      ]
     },
     "execution_count": 110,
     "metadata": {},
     "output_type": "execute_result"
    }
   ],
   "source": [
    "arr14 % arr14"
   ]
  },
  {
   "cell_type": "markdown",
   "id": "ac1e7fb0",
   "metadata": {},
   "source": [
    "### array의 접근은 어떻게 해야 할까?\n",
    "- array는 파이썬 리스트와 마찬가지로 인덱싱, 슬라이싱을 지원함"
   ]
  },
  {
   "cell_type": "code",
   "execution_count": 111,
   "id": "9e0208cf",
   "metadata": {},
   "outputs": [
    {
     "data": {
      "text/plain": [
       "array([[1, 2, 3],\n",
       "       [4, 5, 6]])"
      ]
     },
     "execution_count": 111,
     "metadata": {},
     "output_type": "execute_result"
    }
   ],
   "source": [
    "# array 인덱싱\n",
    "arr16 = np.array([[1,2,3], [4,5,6]])\n",
    "arr16"
   ]
  },
  {
   "cell_type": "code",
   "execution_count": 113,
   "id": "639e426a",
   "metadata": {},
   "outputs": [
    {
     "data": {
      "text/plain": [
       "array([1, 2, 3])"
      ]
     },
     "execution_count": 113,
     "metadata": {},
     "output_type": "execute_result"
    }
   ],
   "source": [
    "arr16[0]"
   ]
  },
  {
   "cell_type": "code",
   "execution_count": 112,
   "id": "2302ae3b",
   "metadata": {},
   "outputs": [
    {
     "data": {
      "text/plain": [
       "2"
      ]
     },
     "execution_count": 112,
     "metadata": {},
     "output_type": "execute_result"
    }
   ],
   "source": [
    "arr16[0][1]"
   ]
  },
  {
   "cell_type": "code",
   "execution_count": 114,
   "id": "057f0e59",
   "metadata": {},
   "outputs": [
    {
     "data": {
      "text/plain": [
       "5"
      ]
     },
     "execution_count": 114,
     "metadata": {},
     "output_type": "execute_result"
    }
   ],
   "source": [
    "arr16[1][1]"
   ]
  },
  {
   "cell_type": "code",
   "execution_count": 115,
   "id": "d60adf9f",
   "metadata": {},
   "outputs": [
    {
     "data": {
      "text/plain": [
       "array([0, 1, 2, 3, 4, 5, 6, 7, 8, 9])"
      ]
     },
     "execution_count": 115,
     "metadata": {},
     "output_type": "execute_result"
    }
   ],
   "source": [
    "# array 슬라이싱\n",
    "arr17 = np.arange(10)\n",
    "arr17"
   ]
  },
  {
   "cell_type": "code",
   "execution_count": 116,
   "id": "1bc68baa",
   "metadata": {},
   "outputs": [
    {
     "data": {
      "text/plain": [
       "array([3, 4, 5, 6, 7])"
      ]
     },
     "execution_count": 116,
     "metadata": {},
     "output_type": "execute_result"
    }
   ],
   "source": [
    "arr17[3:8]        # 끝 값은 포함 x"
   ]
  },
  {
   "cell_type": "code",
   "execution_count": 118,
   "id": "c37af99c",
   "metadata": {},
   "outputs": [
    {
     "data": {
      "text/plain": [
       "array([ 0,  1,  2, 10,  1,  4,  7,  9,  8,  9])"
      ]
     },
     "execution_count": 118,
     "metadata": {},
     "output_type": "execute_result"
    }
   ],
   "source": [
    "arr17[3:8] = [10, 1, 4, 7, 9]\n",
    "arr17"
   ]
  },
  {
   "cell_type": "code",
   "execution_count": 120,
   "id": "99905390",
   "metadata": {
    "scrolled": false
   },
   "outputs": [
    {
     "data": {
      "text/plain": [
       "array([[ 0,  1,  2,  3,  4,  5,  6,  7,  8,  9],\n",
       "       [10, 11, 12, 13, 14, 15, 16, 17, 18, 19],\n",
       "       [20, 21, 22, 23, 24, 25, 26, 27, 28, 29],\n",
       "       [30, 31, 32, 33, 34, 35, 36, 37, 38, 39],\n",
       "       [40, 41, 42, 43, 44, 45, 46, 47, 48, 49]])"
      ]
     },
     "execution_count": 120,
     "metadata": {},
     "output_type": "execute_result"
    }
   ],
   "source": [
    "arr18 = np.arange(50).reshape(5,10)\n",
    "arr18                                     # 행과 열은 각각 0부터 시작하는 인덱스를 가짐"
   ]
  },
  {
   "cell_type": "code",
   "execution_count": 121,
   "id": "a64c3ecb",
   "metadata": {},
   "outputs": [
    {
     "data": {
      "text/plain": [
       "array([[ 0,  1,  2,  3,  4,  5,  6,  7,  8,  9],\n",
       "       [10, 11, 12, 13, 14, 15, 16, 17, 18, 19]])"
      ]
     },
     "execution_count": 121,
     "metadata": {},
     "output_type": "execute_result"
    }
   ],
   "source": [
    "# arr18[행의 범위, 열의 범위]\n",
    "arr18[0:2, :]     "
   ]
  },
  {
   "cell_type": "code",
   "execution_count": 122,
   "id": "f201b496",
   "metadata": {},
   "outputs": [
    {
     "data": {
      "text/plain": [
       "array([ 0, 10, 20, 30, 40])"
      ]
     },
     "execution_count": 122,
     "metadata": {},
     "output_type": "execute_result"
    }
   ],
   "source": [
    "arr18[:, 0]    # 모든 행의 0번 인덱스 컬럼을 출력"
   ]
  },
  {
   "cell_type": "code",
   "execution_count": 123,
   "id": "fb96722f",
   "metadata": {},
   "outputs": [
    {
     "data": {
      "text/plain": [
       "array([[ 0,  1],\n",
       "       [10, 11],\n",
       "       [20, 21],\n",
       "       [30, 31],\n",
       "       [40, 41]])"
      ]
     },
     "execution_count": 123,
     "metadata": {},
     "output_type": "execute_result"
    }
   ],
   "source": [
    "arr18[:, 0:2] "
   ]
  },
  {
   "cell_type": "code",
   "execution_count": 124,
   "id": "7244a04f",
   "metadata": {},
   "outputs": [
    {
     "data": {
      "text/plain": [
       "array([[ 0,  1,  2,  3,  4,  5],\n",
       "       [ 6,  7,  8,  9, 10, 11],\n",
       "       [12, 13, 14, 15, 16, 17]])"
      ]
     },
     "execution_count": 124,
     "metadata": {},
     "output_type": "execute_result"
    }
   ],
   "source": [
    "arr19 = np.arange(18).reshape(3,6)\n",
    "arr19"
   ]
  },
  {
   "cell_type": "code",
   "execution_count": 126,
   "id": "e8ab4151",
   "metadata": {},
   "outputs": [
    {
     "data": {
      "text/plain": [
       "array([[1, 2, 3],\n",
       "       [7, 8, 9]])"
      ]
     },
     "execution_count": 126,
     "metadata": {},
     "output_type": "execute_result"
    }
   ],
   "source": [
    "arr19[:2, 1:4]"
   ]
  },
  {
   "cell_type": "code",
   "execution_count": 133,
   "id": "021deebb",
   "metadata": {},
   "outputs": [
    {
     "data": {
      "text/plain": [
       "(array([ 7, 13]), array([ 9, 15]), array([11, 17]))"
      ]
     },
     "execution_count": 133,
     "metadata": {},
     "output_type": "execute_result"
    }
   ],
   "source": [
    "list = []\n",
    "arr19[1:, 1], arr19[1:, 3], arr19[1:, 5]"
   ]
  },
  {
   "cell_type": "code",
   "execution_count": 135,
   "id": "9bec239a",
   "metadata": {},
   "outputs": [
    {
     "data": {
      "text/plain": [
       "array([[ 7,  9, 11],\n",
       "       [13, 15, 17]])"
      ]
     },
     "execution_count": 135,
     "metadata": {},
     "output_type": "execute_result"
    }
   ],
   "source": [
    "# 방법1\n",
    "arr19[1:,[1,3,5]]"
   ]
  },
  {
   "cell_type": "code",
   "execution_count": 136,
   "id": "b378994d",
   "metadata": {},
   "outputs": [
    {
     "data": {
      "text/plain": [
       "array([[ 7,  9, 11],\n",
       "       [13, 15, 17]])"
      ]
     },
     "execution_count": 136,
     "metadata": {},
     "output_type": "execute_result"
    }
   ],
   "source": [
    "# 방법2\n",
    "arr19[1: , 1::2]"
   ]
  },
  {
   "cell_type": "code",
   "execution_count": 137,
   "id": "73b246fe",
   "metadata": {},
   "outputs": [
    {
     "data": {
      "text/plain": [
       "array([[ 0,  1,  2,  3,  4,  5],\n",
       "       [ 6,  7,  8,  9, 10, 11],\n",
       "       [12, 13, 14, 15, 16, 17]])"
      ]
     },
     "execution_count": 137,
     "metadata": {},
     "output_type": "execute_result"
    }
   ],
   "source": [
    "arr19"
   ]
  },
  {
   "cell_type": "code",
   "execution_count": 138,
   "id": "5f6e3619",
   "metadata": {},
   "outputs": [
    {
     "data": {
      "text/plain": [
       "array([[ 0,  6, 12],\n",
       "       [ 1,  7, 13],\n",
       "       [ 2,  8, 14],\n",
       "       [ 3,  9, 15],\n",
       "       [ 4, 10, 16],\n",
       "       [ 5, 11, 17]])"
      ]
     },
     "execution_count": 138,
     "metadata": {},
     "output_type": "execute_result"
    }
   ],
   "source": [
    "# 전치(transposition): 배열의 행과 열을 바꿔줌특, 보여지는 것만 바꿔줌\n",
    "arr19.T     # (3,6) -> (6,3)"
   ]
  },
  {
   "cell_type": "code",
   "execution_count": 141,
   "id": "1f468e17",
   "metadata": {},
   "outputs": [
    {
     "data": {
      "text/plain": [
       "array([[ 0,  1,  2,  3,  4,  5],\n",
       "       [ 6,  7,  8,  9, 10, 11],\n",
       "       [12, 13, 14, 15, 16, 17]])"
      ]
     },
     "execution_count": 141,
     "metadata": {},
     "output_type": "execute_result"
    }
   ],
   "source": [
    "arr19     "
   ]
  },
  {
   "cell_type": "markdown",
   "id": "43da2d8f",
   "metadata": {},
   "source": [
    "### numpy 불리언(Boolean) 인덱싱***\n",
    "- 특정한 조건에 맞으면 True, 아니면 False값으로 배열을 만들어서 True인 값에 접급하는 인덱싱 방법"
   ]
  },
  {
   "cell_type": "code",
   "execution_count": 145,
   "id": "4a673bfd",
   "metadata": {},
   "outputs": [
    {
     "data": {
      "text/plain": [
       "array([93, 89, 88, 92, 83, 53, 55, 74])"
      ]
     },
     "execution_count": 145,
     "metadata": {},
     "output_type": "execute_result"
    }
   ],
   "source": [
    "# 50~99까 8개 값을 가지는 1차원 배열을 생성\n",
    "arr20 = np.array(np.random.randint(50,100, size = 8))\n",
    "arr20"
   ]
  },
  {
   "cell_type": "code",
   "execution_count": 146,
   "id": "fc385332",
   "metadata": {},
   "outputs": [
    {
     "data": {
      "text/plain": [
       "array([ True,  True,  True,  True,  True, False, False,  True])"
      ]
     },
     "execution_count": 146,
     "metadata": {},
     "output_type": "execute_result"
    }
   ],
   "source": [
    "# Boolean: True(참) 또는 False(거짓)으로 출력되는 자료 형태\n",
    "arr20 >= 70"
   ]
  },
  {
   "cell_type": "code",
   "execution_count": 147,
   "id": "e7577cd8",
   "metadata": {},
   "outputs": [
    {
     "data": {
      "text/plain": [
       "array([ True,  True,  True,  True,  True,  True, False,  True])"
      ]
     },
     "execution_count": 147,
     "metadata": {},
     "output_type": "execute_result"
    }
   ],
   "source": [
    "arr20 != 55"
   ]
  },
  {
   "cell_type": "code",
   "execution_count": 148,
   "id": "359d684c",
   "metadata": {},
   "outputs": [
    {
     "data": {
      "text/plain": [
       "array([False, False,  True,  True, False, False, False,  True])"
      ]
     },
     "execution_count": 148,
     "metadata": {},
     "output_type": "execute_result"
    }
   ],
   "source": [
    "#arr20 배열에서 짝수인 값 판단\n",
    "arr20 % 2 == 0"
   ]
  },
  {
   "cell_type": "code",
   "execution_count": 149,
   "id": "dba7e695",
   "metadata": {},
   "outputs": [
    {
     "data": {
      "text/plain": [
       "array([88, 92, 74])"
      ]
     },
     "execution_count": 149,
     "metadata": {},
     "output_type": "execute_result"
    }
   ],
   "source": [
    "# True,False로의 출력이 아닌 True인 실제 값들을 보고 싶을 경우\n",
    "# ★배열명[배열 내에서 찾고자 하는 조건식]★\n",
    "arr20[arr20 % 2 == 0]    # 조건을 인덱싱 안에 넣어주면 True인 값이 출력"
   ]
  },
  {
   "cell_type": "code",
   "execution_count": 151,
   "id": "99fdf064",
   "metadata": {
    "scrolled": true
   },
   "outputs": [
    {
     "data": {
      "text/plain": [
       "array([[6, 9, 6, 8, 7],\n",
       "       [2, 3, 5, 4, 1]])"
      ]
     },
     "execution_count": 151,
     "metadata": {},
     "output_type": "execute_result"
    }
   ],
   "source": [
    "arr = np.array([[6,9,6,8,7], [2,3,5,4,1]])\n",
    "arr"
   ]
  },
  {
   "cell_type": "code",
   "execution_count": 154,
   "id": "57809ab8",
   "metadata": {},
   "outputs": [
    {
     "data": {
      "text/plain": [
       "array([[0, 9, 0, 0, 7],\n",
       "       [0, 3, 5, 0, 1]])"
      ]
     },
     "execution_count": 154,
     "metadata": {},
     "output_type": "execute_result"
    }
   ],
   "source": [
    "# 위 array 배열에서 값이 짝수면 모두 0으로 변경하는 코드를 작성해보세요-!\n",
    "arr[arr % 2 == 0] = 0\n",
    "arr"
   ]
  },
  {
   "cell_type": "code",
   "execution_count": null,
   "id": "d16fe147",
   "metadata": {},
   "outputs": [],
   "source": [
    "# 예제1) BMI 지수 확인 및 인덱싱"
   ]
  },
  {
   "cell_type": "code",
   "execution_count": 157,
   "id": "b19a247a",
   "metadata": {},
   "outputs": [
    {
     "data": {
      "text/plain": [
       "array([[175.2, 180.3, 175. , 169.2, 185.2, 188. , 177.6, 178.2, 177. ,\n",
       "        179. ],\n",
       "       [ 65.6,  88. ,  79.2,  69.3,  55. ,  71.2,  73. ,  68.9,  74. ,\n",
       "         82. ]])"
      ]
     },
     "execution_count": 157,
     "metadata": {},
     "output_type": "execute_result"
    }
   ],
   "source": [
    "# delimiter\n",
    "data = np.loadtxt('data/height_weight.txt', delimiter = ',')\n",
    "data\n",
    "# 키는 cm\n",
    "# 몸무게는 kg"
   ]
  },
  {
   "cell_type": "code",
   "execution_count": 160,
   "id": "8d42b894",
   "metadata": {},
   "outputs": [
    {
     "name": "stdout",
     "output_type": "stream",
     "text": [
      "(2, 10)\n",
      "20\n",
      "2\n"
     ]
    }
   ],
   "source": [
    "print(data.shape)\n",
    "print(data.size)\n",
    "print(data.ndim)"
   ]
  },
  {
   "cell_type": "markdown",
   "id": "7ca7739d",
   "metadata": {},
   "source": [
    "#### 배열 데이터에서 키와 몸무게 데이터들을 각각의 변수에 넣기"
   ]
  },
  {
   "cell_type": "code",
   "execution_count": 166,
   "id": "313ab191",
   "metadata": {
    "scrolled": true
   },
   "outputs": [
    {
     "name": "stdout",
     "output_type": "stream",
     "text": [
      "[175.2 180.3 175.  169.2 185.2 188.  177.6 178.2 177.  179. ]\n",
      "[65.6 88.  79.2 69.3 55.  71.2 73.  68.9 74.  82. ]\n"
     ]
    }
   ],
   "source": [
    "height = data[0, :]     # = data[0]\n",
    "weight = data[1, :]     # = data[1]\n",
    "print(height)\n",
    "print(weight)"
   ]
  },
  {
   "attachments": {
    "image.png": {
     "image/png": "[encoded data removed]"
    }
   },
   "cell_type": "markdown",
   "id": "29181811",
   "metadata": {},
   "source": [
    "![image.png](attachment:image.png)"
   ]
  },
  {
   "cell_type": "code",
   "execution_count": 171,
   "id": "9e1eaaab",
   "metadata": {},
   "outputs": [
    {
     "data": {
      "text/plain": [
       "array([21.37153104, 27.07018468, 25.86122449, 24.20652885, 16.03543423,\n",
       "       20.14486193, 23.14392095, 21.69720651, 23.62028791, 25.59220998])"
      ]
     },
     "execution_count": 171,
     "metadata": {},
     "output_type": "execute_result"
    }
   ],
   "source": [
    "height_m = height / 100\n",
    "bmi = weight / (height_m * height_m)\n",
    "bmi"
   ]
  },
  {
   "cell_type": "code",
   "execution_count": 172,
   "id": "5e910c63",
   "metadata": {},
   "outputs": [
    {
     "data": {
      "text/plain": [
       "array([27.07018468, 25.86122449, 24.20652885, 23.14392095, 23.62028791,\n",
       "       25.59220998])"
      ]
     },
     "execution_count": 172,
     "metadata": {},
     "output_type": "execute_result"
    }
   ],
   "source": [
    "bmi[bmi >= 23]"
   ]
  },
  {
   "cell_type": "markdown",
   "id": "14f63a36",
   "metadata": {},
   "source": [
    "- 논리연산자(and, or, not) 사용 x\n",
    "- 비트연산자(&, |, ~) 사용"
   ]
  },
  {
   "cell_type": "code",
   "execution_count": 181,
   "id": "bb9cd07b",
   "metadata": {},
   "outputs": [
    {
     "data": {
      "text/plain": [
       "3"
      ]
     },
     "execution_count": 181,
     "metadata": {},
     "output_type": "execute_result"
    }
   ],
   "source": [
    "len(bmi[(bmi >= 23) & (bmi <= 25)])"
   ]
  },
  {
   "cell_type": "markdown",
   "id": "383c042e",
   "metadata": {},
   "source": [
    "## numpy 배열 관련 유용한 함수들"
   ]
  },
  {
   "cell_type": "code",
   "execution_count": 1,
   "id": "8dea0d23",
   "metadata": {},
   "outputs": [
    {
     "data": {
      "text/plain": [
       "array([[1, 9, 8, 6, 7, 2, 9],\n",
       "       [4, 8, 7, 8, 7, 7, 4],\n",
       "       [2, 8, 4, 3, 2, 6, 3],\n",
       "       [3, 9, 3, 3, 2, 6, 7]])"
      ]
     },
     "execution_count": 1,
     "metadata": {},
     "output_type": "execute_result"
    }
   ],
   "source": [
    "import numpy as np\n",
    "arr21 = np.random.randint(1, 10, size=(4,7))\n",
    "arr21"
   ]
  },
  {
   "cell_type": "code",
   "execution_count": 5,
   "id": "648f925a",
   "metadata": {},
   "outputs": [
    {
     "name": "stdout",
     "output_type": "stream",
     "text": [
      "148\n",
      "148\n"
     ]
    }
   ],
   "source": [
    "# sum함수\n",
    "print(np.sum(arr21))\n",
    "print(arr21.sum())"
   ]
  },
  {
   "cell_type": "code",
   "execution_count": 6,
   "id": "bd19dff6",
   "metadata": {},
   "outputs": [
    {
     "name": "stdout",
     "output_type": "stream",
     "text": [
      "5.285714285714286\n",
      "5.285714285714286\n"
     ]
    }
   ],
   "source": [
    "# mean 함수\n",
    "print(np.mean(arr21))\n",
    "print(arr21.mean())"
   ]
  },
  {
   "cell_type": "code",
   "execution_count": 7,
   "id": "cefbc2bd",
   "metadata": {},
   "outputs": [
    {
     "data": {
      "text/plain": [
       "array([1, 4, 7])"
      ]
     },
     "execution_count": 7,
     "metadata": {},
     "output_type": "execute_result"
    }
   ],
   "source": [
    "arr22 = np.arange(1, 10, 3)\n",
    "arr22"
   ]
  },
  {
   "cell_type": "code",
   "execution_count": 8,
   "id": "c01f34a5",
   "metadata": {},
   "outputs": [
    {
     "data": {
      "text/plain": [
       "4.0"
      ]
     },
     "execution_count": 8,
     "metadata": {},
     "output_type": "execute_result"
    }
   ],
   "source": [
    "# median 함수\n",
    "np.median(arr22)"
   ]
  },
  {
   "cell_type": "code",
   "execution_count": 9,
   "id": "2e6da2cd",
   "metadata": {},
   "outputs": [
    {
     "data": {
      "text/plain": [
       "array([1.        , 2.        , 2.64575131])"
      ]
     },
     "execution_count": 9,
     "metadata": {},
     "output_type": "execute_result"
    }
   ],
   "source": [
    "# sqrt 함수\n",
    "np.sqrt(arr22)"
   ]
  },
  {
   "cell_type": "code",
   "execution_count": 10,
   "id": "f42f69f7",
   "metadata": {},
   "outputs": [
    {
     "data": {
      "text/plain": [
       "array([-1,  2, -3,  4, -5])"
      ]
     },
     "execution_count": 10,
     "metadata": {},
     "output_type": "execute_result"
    }
   ],
   "source": [
    "arr23 = np.array([-1, 2, -3, 4, -5])\n",
    "arr23"
   ]
  },
  {
   "cell_type": "code",
   "execution_count": 11,
   "id": "faae8971",
   "metadata": {},
   "outputs": [
    {
     "data": {
      "text/plain": [
       "array([1, 2, 3, 4, 5])"
      ]
     },
     "execution_count": 11,
     "metadata": {},
     "output_type": "execute_result"
    }
   ],
   "source": [
    "# abs 함수\n",
    "np.abs(arr23)"
   ]
  },
  {
   "cell_type": "markdown",
   "id": "7082c291",
   "metadata": {},
   "source": [
    "### 예제2) 어떤 영화가 좋은 평점을 받았는지 분석해보자!"
   ]
  },
  {
   "cell_type": "markdown",
   "id": "200690df",
   "metadata": {},
   "source": [
    "#### 1. 데이터 로드"
   ]
  },
  {
   "cell_type": "code",
   "execution_count": 13,
   "id": "e7192677",
   "metadata": {},
   "outputs": [],
   "source": [
    "movie = np.genfromtxt('ratings.dat', delimiter='::', dtype=np.int64)\n",
    "movie\n",
    "\n",
    "# 열\n",
    "# 사용자아이디, 영화아이디, 영화평점(1-5점), 입력시간"
   ]
  },
  {
   "cell_type": "markdown",
   "id": "37e86906",
   "metadata": {},
   "source": [
    "#### 2. 데이터 속성 확인\n",
    "- 배열 형태\n",
    "- 배열 차원수\n",
    "- 배열 전체 요소 수"
   ]
  },
  {
   "cell_type": "code",
   "execution_count": 22,
   "id": "86b23770",
   "metadata": {},
   "outputs": [
    {
     "name": "stdout",
     "output_type": "stream",
     "text": [
      "(1000209, 4)\n",
      "2\n",
      "4000836\n"
     ]
    }
   ],
   "source": [
    "print(movie.shape)\n",
    "print(movie.ndim)\n",
    "print(movie.size)"
   ]
  },
  {
   "cell_type": "markdown",
   "id": "b8777d81",
   "metadata": {},
   "source": [
    "#### 3. 전체 영화 평점의 평균 구하기"
   ]
  },
  {
   "cell_type": "code",
   "execution_count": 25,
   "id": "b2dbe1d5",
   "metadata": {},
   "outputs": [
    {
     "data": {
      "text/plain": [
       "3.581564453029317"
      ]
     },
     "execution_count": 25,
     "metadata": {},
     "output_type": "execute_result"
    }
   ],
   "source": [
    "ratings = movie[:, 2]\n",
    "np.mean(ratings)"
   ]
  },
  {
   "cell_type": "markdown",
   "id": "a6fa8704",
   "metadata": {},
   "source": [
    "#### 4. 1번 사용자가 매긴 평점의 평균 구하기\n",
    "- 사용자 아이디의 유일한 값 (유니크 값) 확인\n",
    "- 사용자 아이디의 유니크 값 개수\n",
    "- 1번 사용자의 데이터 접근\n",
    "- 1번 사용자가 매긴 평점에 접근\n",
    "- 평점의 평균 구하기"
   ]
  },
  {
   "cell_type": "code",
   "execution_count": 37,
   "id": "72060885",
   "metadata": {},
   "outputs": [
    {
     "name": "stdout",
     "output_type": "stream",
     "text": [
      "[   1    2    3 ... 6038 6039 6040]\n",
      "6040\n"
     ]
    }
   ],
   "source": [
    "user_id = np.unique(movie[:, 0])\n",
    "print(user_id)\n",
    "print(len(user_id))"
   ]
  },
  {
   "cell_type": "code",
   "execution_count": 38,
   "id": "bb434cce",
   "metadata": {},
   "outputs": [
    {
     "name": "stdout",
     "output_type": "stream",
     "text": [
      "53\n",
      "[5 3 3 4 5 3 5 5 4 4 5 4 4 4 5 4 3 4 5 4 3 3 5 5 3 5 4 4 4 3 4 4 4 4 4 4 5\n",
      " 5 4 5 5 5 4 4 4 5 5 4 5 4 4 4 4]\n",
      "4.188679245283019\n"
     ]
    }
   ],
   "source": [
    "arr1 = movie[movie[:, 0]==1][:, 2]\n",
    "print(len(arr1))\n",
    "print(arr1)\n",
    "print(np.mean(arr1))"
   ]
  },
  {
   "cell_type": "markdown",
   "id": "8a597ce8",
   "metadata": {},
   "source": [
    "#### 5. 각 사용자가 매긴 평점들의 평균 구하기"
   ]
  },
  {
   "cell_type": "code",
   "execution_count": 40,
   "id": "74958a91",
   "metadata": {
    "collapsed": true
   },
   "outputs": [
    {
     "name": "stdout",
     "output_type": "stream",
     "text": [
      "[[1, 4.188679245283019], [2, 3.7131782945736433], [3, 3.9019607843137254], [4, 4.190476190476191], [5, 3.1464646464646466], [6, 3.9014084507042255], [7, 4.32258064516129], [8, 3.884892086330935], [9, 3.7358490566037736], [10, 4.114713216957606], [11, 3.2773722627737225], [12, 3.8260869565217392], [13, 3.388888888888889], [14, 3.32], [15, 3.3233830845771144], [16, 3.0285714285714285], [17, 4.075829383886256], [18, 3.6491803278688524], [19, 3.5725490196078433], [20, 4.083333333333333], [21, 2.909090909090909], [22, 3.0673400673400675], [23, 3.3157894736842106], [24, 3.948529411764706], [25, 3.7411764705882353], [26, 2.96], [27, 4.171428571428572], [28, 3.7570093457943927], [29, 3.5833333333333335], [30, 3.488372093023256], [31, 3.73109243697479], [32, 3.625], [33, 3.498721227621483], [34, 3.8658536585365852], [35, 3.54040404040404], [36, 4.199430199430199], [37, 3.69811320754717], [38, 3.58], [39, 3.564516129032258], [40, 3.4479166666666665], [41, 3.48], [42, 3.74025974025974], [43, 4.125], [44, 3.6321243523316062], [45, 2.946127946127946], [46, 4.219512195121951], [47, 3.909090909090909], [48, 3.068561872909699], [49, 3.712962962962963], [50, 3.0697674418604652], [51, 3.825], [52, 3.5569620253164556], [53, 4.2368421052631575], [54, 4.025], [55, 4.12], [56, 3.970149253731343], [57, 2.90625], [58, 3.9725400457665905], [59, 3.4741784037558685], [60, 3.414285714285714], [61, 2.7777777777777777], [62, 3.566265060240964], [63, 3.4285714285714284], [64, 4.148148148148148], [65, 4.347107438016529], [66, 3.8461538461538463], [67, 4.296875], [68, 3.75], [69, 4.153846153846154], [70, 3.7037037037037037], [71, 3.7586206896551726], [72, 3.697674418604651], [73, 3.364705882352941], [74, 4.046511627906977], [75, 4.005714285714285], [76, 4.172413793103448], [77, 2.948717948717949], [78, 3.657142857142857], [79, 3.6451612903225805], [80, 3.8958333333333335], [81, 4.4186046511627906], [82, 4.016949152542373], [83, 3.5757575757575757], [84, 3.838709677419355], [85, 3.1025641025641026], [86, 4.3125], [87, 2.8135593220338984], [88, 4.147058823529412], [89, 3.238095238095238], [90, 3.511111111111111], [91, 4.704545454545454], [92, 2.7581395348837208], [93, 2.9727272727272727], [94, 3.857142857142857], [95, 3.595959595959596], [96, 3.6049382716049383], [97, 4.474025974025974], [98, 3.8], [99, 3.2149532710280373], [100, 3.026315789473684], [101, 4.679245283018868], [102, 3.128787878787879], [103, 4.052173913043478], [104, 3.347826086956522], [105, 4.295081967213115], [106, 4.0212765957446805], [107, 3.743801652892562], [108, 3.135135135135135], [109, 4.0], [110, 3.25], [111, 3.7282608695652173], [112, 4.183333333333334], [113, 3.5], [114, 3.693877551020408], [115, 3.8421052631578947], [116, 3.802325581395349], [117, 3.299009900990099], [118, 3.767857142857143], [119, 3.5428571428571427], [120, 3.619047619047619], [121, 4.416666666666667], [122, 2.9649122807017543], [123, 3.401315789473684], [124, 4.173913043478261], [125, 4.098591549295775], [126, 4.0], [127, 3.8448275862068964], [128, 4.363636363636363], [129, 4.025316455696203], [130, 4.311111111111111], [131, 3.3966101694915256], [132, 3.966292134831461], [133, 3.7705882352941176], [134, 2.7158469945355193], [135, 3.657142857142857], [136, 3.074074074074074], [137, 3.611940298507463], [138, 4.492307692307692], [139, 3.8816326530612244], [140, 3.8181818181818183], [141, 3.6956521739130435], [142, 3.3404255319148937], [143, 3.5441176470588234], [144, 3.46875], [145, 3.0], [146, 3.7699530516431925], [147, 3.5026737967914436], [148, 3.733974358974359], [149, 3.9408783783783785], [150, 4.021551724137931], [151, 3.653927813163482], [152, 4.125], [153, 4.076923076923077], [154, 3.090909090909091], [155, 2.96875], [156, 4.236486486486487], [157, 3.718969555035129], [158, 4.0], [159, 3.7777777777777777], [160, 3.5], [161, 4.4713804713804715], [162, 4.121495327102804], [163, 2.1828793774319064], [164, 4.384615384615385], [165, 3.981818181818182], [166, 3.6878048780487807], [167, 2.9310344827586206], [168, 3.8461538461538463], [169, 3.5670289855072466], [170, 3.9885057471264367], [171, 4.0], [172, 3.608695652173913], [173, 3.9679144385026737], [174, 3.649484536082474], [175, 3.9810725552050474], [176, 3.6153846153846154], [177, 4.113636363636363], [178, 3.8434782608695652], [179, 2.6545454545454548], [180, 3.694915254237288], [181, 3.604651162790698], [182, 3.8313253012048194], [183, 4.099009900990099], [184, 4.083333333333333], [185, 3.588235294117647], [186, 4.254098360655738], [187, 4.083932853717027], [188, 3.1690140845070425], [189, 4.0], [190, 3.6993464052287583], [191, 3.3333333333333335], [192, 3.0914285714285716], [193, 3.677685950413223], [194, 3.983050847457627], [195, 3.889294403892944], [196, 4.0625], [197, 3.909090909090909], [198, 3.7493403693931397], [199, 3.2761194029850746], [200, 3.423076923076923], [201, 3.954022988505747], [202, 3.2492537313432837], [203, 2.2913385826771653], [204, 3.5560538116591927], [205, 4.0588235294117645], [206, 3.066666666666667], [207, 3.5217391304347827], [208, 3.652173913043478], [209, 3.16], [210, 4.027272727272727], [211, 3.857142857142857], [212, 3.8545454545454545], [213, 4.2272727272727275], [214, 3.1626506024096384], [215, 4.5588235294117645], [216, 3.2317380352644838], [217, 3.7], [218, 3.0930232558139537], [219, 3.3333333333333335], [220, 4.215686274509804], [221, 3.2413793103448274], [222, 4.0875], [223, 3.44140625], [224, 3.4019607843137254], [225, 3.4330708661417324], [226, 3.5714285714285716], [227, 3.2857142857142856], [228, 4.0], [229, 3.4292452830188678], [230, 4.094972067039106], [231, 4.22680412371134], [232, 3.566666666666667], [233, 4.584905660377358], [234, 4.310344827586207], [235, 4.086363636363636], [236, 3.693548387096774], [237, 3.4036144578313254], [238, 3.7868217054263567], [239, 4.140845070422535], [240, 3.300699300699301], [241, 3.9649122807017543], [242, 3.2051282051282053], [243, 3.606060606060606], [244, 4.105882352941176], [245, 2.6714659685863875], [246, 4.0], [247, 3.935483870967742], [248, 4.205882352941177], [249, 3.9454545454545453], [250, 3.75], [251, 3.5753424657534247], [252, 4.016666666666667], [253, 3.9245283018867925], [254, 3.782608695652174], [255, 4.016393442622951], [256, 3.8526315789473684], [257, 4.452830188679245], [258, 3.717241379310345], [259, 4.0359712230215825], [260, 3.311688311688312], [261, 3.5762711864406778], [262, 3.330188679245283], [263, 3.6630434782608696], [264, 2.785416666666667], [265, 4.1938775510204085], [266, 4.52], [267, 3.3893129770992365], [268, 3.3946360153256707], [269, 3.8], [270, 4.198412698412699], [271, 3.9583333333333335], [272, 3.6535269709543567], [273, 3.727272727272727], [274, 4.243243243243243], [275, 4.247191011235955], [276, 3.5217391304347827], [277, 3.727272727272727], [278, 3.9646464646464645], [279, 2.872340425531915], [280, 3.94], [281, 3.891891891891892], [282, 3.5172413793103448], [283, 4.962962962962963], [284, 3.021231422505308], [285, 4.16546762589928], [286, 3.883720930232558], [287, 3.70873786407767], [288, 4.589285714285714], [289, 3.9054054054054053], [290, 3.303030303030303], [291, 4.137254901960785], [292, 3.7560975609756095], [293, 3.2460567823343847], [294, 3.489795918367347], [295, 3.764397905759162], [296, 3.597938144329897], [297, 4.0], [298, 3.925925925925926], [299, 4.163461538461538], [300, 4.180722891566265], [301, 3.8011204481792715], [302, 2.8692893401015227], [303, 3.861244019138756], [304, 3.5555555555555554], [305, 2.5605095541401273], [306, 3.937823834196891], [307, 4.593406593406593], [308, 3.385996409335727], [309, 4.040650406504065], [310, 3.4260089686098656], [311, 4.15], [312, 3.736842105263158], [313, 4.038461538461538], [314, 3.696245733788396], [315, 3.8636363636363638], [316, 4.116883116883117], [317, 3.8095238095238093], [318, 3.9523809523809526], [319, 3.263522884882108], [320, 4.238095238095238], [321, 3.2612612612612613], [322, 4.45], [323, 3.788135593220339], [324, 3.3289473684210527], [325, 4.046511627906977], [326, 3.3350923482849604], [327, 3.669491525423729], [328, 3.032258064516129], [329, 2.7264397905759163], [330, 4.0131578947368425], [331, 3.7654109589041096], [332, 4.2835820895522385], [333, 3.352422907488987], [334, 3.9508196721311477], [335, 2.5], [336, 4.308411214953271], [337, 3.525252525252525], [338, 3.665745856353591], [339, 4.024193548387097], [340, 3.5277777777777777], [341, 4.2], [342, 3.6910569105691056], [343, 4.047138047138047], [344, 2.9555555555555557], [345, 4.4], [346, 4.307420494699647], [347, 3.878787878787879], [348, 3.78], [349, 3.25], [350, 3.9375], [351, 3.7572815533980584], [352, 3.4793103448275864], [353, 3.9166666666666665], [354, 3.586206896551724], [355, 3.4463007159904535], [356, 4.380952380952381], [357, 3.293103448275862], [358, 3.8472222222222223], [359, 3.857142857142857], [360, 3.6417910447761193], [361, 3.5384615384615383], [362, 3.290909090909091], [363, 3.744186046511628], [364, 3.142857142857143], [365, 3.3404255319148937], [366, 4.06949806949807], [367, 4.25], [368, 3.78125], [369, 3.1954022988505746], [370, 3.75], [371, 3.5], [372, 4.553571428571429], [373, 3.5555555555555554], [374, 4.403846153846154], [375, 4.078431372549019], [376, 4.111111111111111], [377, 3.9044117647058822], [378, 3.5128205128205128], [379, 4.234375], [380, 3.7246376811594204], [381, 4.114285714285714], [382, 4.017857142857143], [383, 3.5714285714285716], [384, 3.590909090909091], [385, 3.9562043795620436], [386, 3.3230769230769233], [387, 3.676470588235294], [388, 3.8813559322033897], [389, 3.5616438356164384], [390, 3.6728971962616823], [391, 3.728395061728395], [392, 3.4743326488706368], [393, 3.581081081081081], [394, 3.3421052631578947], [395, 3.608695652173913], [396, 3.560693641618497], [397, 3.8823529411764706], [398, 3.8133333333333335], [399, 4.15625], [400, 3.875], [401, 3.871794871794872], [402, 3.591549295774648], [403, 3.8035714285714284], [404, 4.14], [405, 3.795918367346939], [406, 3.306122448979592], [407, 3.4375], [408, 4.352564102564102], [409, 3.9158249158249157], [410, 3.96875], [411, 3.280314960629921], [412, 4.401260504201681], [413, 4.404040404040404], [414, 3.0701754385964914], [415, 3.874538745387454], [416, 3.7580645161290325], [417, 4.045454545454546], [418, 3.549019607843137], [419, 3.962962962962963], [420, 4.359375], [421, 4.25], [422, 3.297872340425532], [423, 2.5], [424, 3.735725938009788], [425, 3.6613756613756614], [426, 3.7573221757322175], [427, 4.111111111111111], [428, 3.9], [429, 3.346820809248555], [430, 3.9682539682539684], [431, 3.630952380952381], [432, 2.9863013698630136], [433, 3.391304347826087], [434, 4.023255813953488], [435, 3.8333333333333335], [436, 3.8345864661654137], [437, 4.3076923076923075], [438, 3.528239202657807], [439, 3.902173913043478], [440, 3.586206896551724], [441, 3.9574468085106385], [442, 3.8486997635933804], [443, 3.823529411764706], [444, 4.0], [445, 3.3181818181818183], [446, 4.8431372549019605], [447, 4.837837837837838], [448, 3.4347826086956523], [449, 3.7222222222222223], [450, 4.196078431372549], [451, 4.511961722488039], [452, 4.431818181818182], [453, 3.66497461928934], [454, 3.218045112781955], [455, 4.2], [456, 3.394904458598726], [457, 3.7130801687763713], [458, 3.5348837209302326], [459, 3.6875], [460, 3.3617021276595747], [461, 3.224609375], [462, 3.536723163841808], [463, 3.0], [464, 3.6097560975609757], [465, 3.5405405405405403], [466, 4.14070351758794], [467, 3.2028985507246377], [468, 3.730769230769231], [469, 4.326530612244898], [470, 3.8088235294117645], [471, 3.6285714285714286], [472, 4.022222222222222], [473, 4.163265306122449], [474, 3.380503144654088], [475, 3.8299595141700404], [476, 3.8375870069605567], [477, 3.5829383886255926], [478, 3.869565217391304], [479, 3.827956989247312], [480, 3.411214953271028], [481, 3.696969696969697], [482, 3.2606060606060607], [483, 2.9310344827586206], [484, 3.735294117647059], [485, 4.044444444444444], [486, 4.051282051282051], [487, 3.34], [488, 3.56], [489, 3.3333333333333335], [490, 3.7662337662337664], [491, 3.68], [492, 3.9375], [493, 3.848101265822785], [494, 4.157068062827225], [495, 3.7954545454545454], [496, 4.294117647058823], [497, 3.5833333333333335], [498, 3.6511627906976742], [499, 3.9748743718592965], [500, 3.633663366336634], [501, 3.417910447761194], [502, 4.083333333333333], [503, 4.448275862068965], [504, 3.8055555555555554], [505, 4.217391304347826], [506, 3.422222222222222], [507, 3.9523809523809526], [508, 3.3221476510067114], [509, 3.3139695712309822], [510, 3.8282828282828283], [511, 3.740740740740741], [512, 3.8378378378378377], [513, 3.1474358974358974], [514, 4.2025316455696204], [515, 3.728395061728395], [516, 2.931972789115646], [517, 3.963855421686747], [518, 4.3478260869565215], [519, 3.3777777777777778], [520, 3.9363057324840764], [521, 4.2926829268292686], [522, 3.8448275862068964], [523, 4.06], [524, 3.608267716535433], [525, 4.025], [526, 3.896551724137931], [527, 4.08], [528, 3.3551724137931034], [529, 4.19672131147541], [530, 4.0], [531, 3.1591695501730106], [532, 3.86046511627907], [533, 3.3401015228426396], [534, 3.7475728155339807], [535, 3.5714285714285716], [536, 3.942857142857143], [537, 4.3061224489795915], [538, 4.458333333333333], [539, 3.9242424242424243], [540, 3.230769230769231], [541, 3.1894736842105265], [542, 3.764705882352941], [543, 4.078986587183309], [544, 3.7777777777777777], [545, 3.4827586206896552], [546, 3.231818181818182], [547, 3.858974358974359], [548, 3.093220338983051], [549, 3.7569444444444446], [550, 3.578076525336091], [551, 3.8201754385964914], [552, 3.7628865979381443], [553, 4.15625], [554, 3.511627906976744], [555, 3.8157894736842106], [556, 3.5], [557, 3.8793103448275863], [558, 3.6804123711340204], [559, 3.0], [560, 3.897810218978102], [561, 3.7222222222222223], [562, 3.7027027027027026], [563, 2.7023121387283235], [564, 4.0], [565, 3.44], [566, 2.6273408239700373], [567, 4.583333333333333], [568, 4.44], [569, 3.52], [570, 3.329113924050633], [571, 3.7054794520547945], [572, 3.05], [573, 3.9722222222222223], [574, 4.095238095238095], [575, 3.6564417177914113], [576, 3.6666666666666665], [577, 4.487341772151899], [578, 3.9642857142857144], [579, 3.8550724637681157], [580, 3.347826086956522], [581, 3.6666666666666665], [582, 4.282051282051282], [583, 4.040229885057471], [584, 4.2894736842105265], [585, 3.4662162162162162], [586, 4.485714285714286], [587, 3.0077922077922077], [588, 4.057395143487859], [589, 4.0], [590, 4.13855421686747], [591, 3.231404958677686], [592, 4.391304347826087], [593, 3.641509433962264], [594, 4.29559748427673], [595, 3.95], [596, 2.9523809523809526], [597, 4.473684210526316], [598, 3.3157894736842106], [599, 3.8518518518518516], [600, 3.652173913043478], [601, 3.1501340482573728], [602, 3.396103896103896], [603, 3.5238095238095237], [604, 3.0940766550522647], [605, 4.049180327868853], [606, 4.03030303030303], [607, 4.16], [608, 3.1882352941176473], [609, 4.346153846153846], [610, 3.484126984126984], [611, 3.9393939393939394], [612, 3.5], [613, 3.5849056603773586], [614, 3.8333333333333335], [615, 4.127659574468085], [616, 3.9545454545454546], [617, 4.086956521739131], [618, 3.0], [619, 3.909090909090909], [620, 3.3240223463687153], [621, 3.0416666666666665], [622, 3.912280701754386], [623, 4.226744186046512], [624, 3.6801075268817205], [625, 4.0], [626, 4.055555555555555], [627, 3.5625], [628, 3.9038461538461537], [629, 3.371308016877637], [630, 4.254237288135593], [631, 3.7948717948717947], [632, 3.7941176470588234], [633, 3.5813953488372094], [634, 4.014925373134329], [635, 4.3107344632768365], [636, 4.058139534883721], [637, 3.7559681697612732], [638, 4.175438596491228], [639, 3.705], [640, 4.333333333333333], [641, 4.008264462809917], [642, 4.111111111111111], [643, 2.7142857142857144], [644, 3.1203703703703702], [645, 4.4772727272727275], [646, 3.8031496062992125], [647, 3.103896103896104], [648, 3.7231638418079096], [649, 3.6619718309859155], [650, 3.8947368421052633], [651, 3.6129707112970713], [652, 2.8863636363636362], [653, 4.142857142857143], [654, 3.4324324324324325], [655, 2.733009708737864], [656, 3.8700564971751414], [657, 4.016949152542373], [658, 3.096774193548387], [659, 3.7], [660, 3.0170697012802274], [661, 4.647887323943662], [662, 3.141732283464567], [663, 3.580357142857143], [664, 4.025316455696203], [665, 3.5], [666, 3.8932038834951457], [667, 3.0935672514619883], [668, 3.5833333333333335], [669, 3.847255369928401], [670, 3.2444444444444445], [671, 4.2592592592592595], [672, 3.872340425531915], [673, 3.13151364764268], [674, 4.2784810126582276], [675, 3.3095238095238093], [676, 3.128205128205128], [677, 3.892682926829268], [678, 3.6776776776776776], [679, 3.926829268292683], [680, 3.5714285714285716], [681, 4.2368421052631575], [682, 4.733333333333333], [683, 3.586206896551724], [684, 3.8947368421052633], [685, 3.2357142857142858], [686, 3.7777777777777777], [687, 3.4873417721518987], [688, 3.75], [689, 3.3925925925925924], [690, 4.311111111111111], [691, 4.174757281553398], [692, 3.8240887480190175], [693, 3.8857142857142857], [694, 3.625], [695, 3.513089005235602], [696, 3.802992518703242], [697, 3.8], [698, 3.551851851851852], [699, 3.0534124629080117], [700, 3.875], [701, 3.5], [702, 3.3027139874739038], [703, 4.1], [704, 3.081081081081081], [705, 3.371212121212121], [706, 3.556291390728477], [707, 3.6153846153846154], [708, 3.85], [709, 2.8292682926829267], [710, 3.4271186440677965], [711, 4.0], [712, 3.475177304964539], [713, 3.446280991735537], [714, 4.1635071090047395], [715, 3.8877551020408165], [716, 4.198979591836735], [717, 3.1538461538461537], [718, 3.775147928994083], [719, 3.5], [720, 2.9098712446351933], [721, 3.551051051051051], [722, 3.909090909090909], [723, 3.8333333333333335], [724, 3.643312101910828], [725, 4.197530864197531], [726, 3.9315068493150687], [727, 3.6987951807228914], [728, 3.311377245508982], [729, 3.5273972602739727], [730, 3.7735849056603774], [731, 3.778816199376947], [732, 3.4285714285714284], [733, 4.05982905982906], [734, 3.727272727272727], [735, 3.590330788804071], [736, 3.9298245614035086], [737, 3.5668202764976957], [738, 3.303030303030303], [739, 4.354330708661418], [740, 4.243243243243243], [741, 3.324675324675325], [742, 3.9523809523809526], [743, 3.38255033557047], [744, 3.3703703703703702], [745, 2.64], [746, 2.634433962264151], [747, 3.59375], [748, 3.9753086419753085], [749, 3.3246187363834423], [750, 4.321428571428571], [751, 3.88], [752, 2.8291015625], [753, 3.7752293577981653], [754, 3.7770700636942673], [755, 4.111111111111111], [756, 3.9714285714285715], [757, 3.225806451612903], [758, 4.0], [759, 3.5876288659793816], [760, 4.265625], [761, 4.55], [762, 3.717391304347826], [763, 3.730769230769231], [764, 4.525179856115108], [765, 3.574626865671642], [766, 3.9361702127659575], [767, 4.023529411764706], [768, 4.4375], [769, 3.8208955223880596], [770, 2.935441370223979], [771, 3.769230769230769], [772, 3.479591836734694], [773, 3.5918367346938775], [774, 3.2142857142857144], [775, 4.0], [776, 3.766990291262136], [777, 2.5796812749003983], [778, 3.785276073619632], [779, 3.3333333333333335], [780, 3.45703125], [781, 3.1709401709401708], [782, 3.4347826086956523], [783, 3.5210084033613445], [784, 4.066666666666666], [785, 3.2358490566037736], [786, 4.063492063492063], [787, 3.58974358974359], [788, 3.5255102040816326], [789, 2.9043478260869566], [790, 4.3478260869565215], [791, 3.966463414634146], [792, 3.4597701149425286], [793, 3.486666666666667], [794, 3.953488372093023], [795, 3.442953020134228], [796, 2.9717391304347824], [797, 4.036144578313253], [798, 3.149847094801223], [799, 3.6], [800, 3.4849624060150375], [801, 3.6596491228070174], [802, 3.938735177865613], [803, 3.7115384615384617], [804, 3.272727272727273], [805, 3.835616438356164], [806, 4.166666666666667], [807, 3.9696969696969697], [808, 3.1236363636363635], [809, 4.031914893617022], [810, 3.8174603174603177], [811, 4.184615384615385], [812, 3.739130434782609], [813, 3.343283582089552], [814, 4.055555555555555], [815, 4.068965517241379], [816, 3.6974358974358976], [817, 4.010050251256281], [818, 3.7251461988304095], [819, 3.3225806451612905], [820, 3.4134615384615383], [821, 2.9523809523809526], [822, 3.7226027397260273], [823, 3.8677685950413223], [824, 3.646103896103896], [825, 3.619047619047619], [826, 3.2857142857142856], [827, 3.9545454545454546], [828, 3.4434782608695653], [829, 4.231884057971015], [830, 3.6149425287356323], [831, 4.105263157894737], [832, 3.558139534883721], [833, 4.0476190476190474], [834, 4.16], [835, 2.75], [836, 2.4], [837, 3.260869565217391], [838, 4.090909090909091], [839, 3.988372093023256], [840, 4.219123505976095], [841, 3.576923076923077], [842, 3.8378378378378377], [843, 3.9444444444444446], [844, 3.4523809523809526], [845, 3.980769230769231], [846, 3.91699604743083], [847, 3.6129032258064515], [848, 4.178571428571429], [849, 3.264957264957265], [850, 3.5613718411552346], [851, 3.5921052631578947], [852, 4.117647058823529], [853, 3.890909090909091], [854, 3.027667984189723], [855, 3.4126984126984126], [856, 3.490566037735849], [857, 4.171428571428572], [858, 4.189473684210526], [859, 3.450980392156863], [860, 3.1666666666666665], [861, 3.9375], [862, 3.6724137931034484], [863, 4.225806451612903], [864, 4.050724637681159], [865, 3.8095238095238093], [866, 3.3333333333333335], [867, 3.659090909090909], [868, 3.6], [869, 3.5154394299287413], [870, 3.611111111111111], [871, 3.9069767441860463], [872, 3.635514018691589], [873, 3.8430232558139537], [874, 3.7857142857142856], [875, 4.083333333333333], [876, 3.828828828828829], [877, 3.308056872037915], [878, 4.142857142857143], [879, 4.025], [880, 3.4956521739130433], [881, 2.9354485776805253], [882, 4.0886075949367084], [883, 3.4166666666666665], [884, 4.01010101010101], [885, 4.140625], [886, 3.6285714285714286], [887, 3.5104166666666665], [888, 3.7777777777777777], [889, 2.8405797101449277], [890, 3.969298245614035], [891, 3.7443946188340806], [892, 3.911764705882353], [893, 3.2], [894, 4.442857142857143], [895, 3.953125], [896, 3.984375], [897, 3.5566502463054186], [898, 4.083333333333333], [899, 3.523219814241486], [900, 3.576923076923077], [901, 3.606060606060606], [902, 4.28], [903, 3.4594594594594597], [904, 3.3008130081300813], [905, 3.7886178861788617], [906, 3.5238095238095237], [907, 3.9523809523809526], [908, 3.3076923076923075], [909, 3.9014084507042255], [910, 3.6012269938650308], [911, 3.8685714285714288], [912, 3.7209302325581395], [913, 3.2888888888888888], [914, 4.278688524590164], [915, 2.831578947368421], [916, 3.9454545454545453], [917, 4.068965517241379], [918, 2.9583333333333335], [919, 3.9355828220858897], [920, 3.4615384615384617], [921, 3.6962025316455698], [922, 3.5830903790087465], [923, 3.608695652173913], [924, 3.9899497487437188], [925, 3.1323529411764706], [926, 4.247619047619048], [927, 3.230366492146597], [928, 4.3254716981132075], [929, 3.6816901408450704], [930, 3.0510204081632653], [931, 4.031847133757962], [932, 4.45], [933, 3.7096774193548385], [934, 2.9859437751004014], [935, 3.4896907216494846], [936, 3.5113636363636362], [937, 3.7327586206896552], [938, 3.870967741935484], [939, 3.757575757575758], [940, 3.1923076923076925], [941, 2.2857142857142856], [942, 4.04], [943, 4.296296296296297], [944, 3.8444444444444446], [945, 3.6196319018404908], [946, 4.303030303030303], [947, 3.0], [948, 3.7408123791102517], [949, 3.9295392953929538], [950, 2.963636363636364], [951, 4.523809523809524], [952, 3.9936305732484074], [953, 4.6878306878306875], [954, 3.7777777777777777], [955, 3.5798816568047336], [956, 3.990740740740741], [957, 4.271341463414634], [958, 3.9050632911392404], [959, 3.7395833333333335], [960, 3.9375], [961, 3.74], [962, 4.03921568627451], [963, 3.4339622641509435], [964, 3.717948717948718], [965, 4.116883116883117], [966, 3.5636363636363635], [967, 3.5384615384615383], [968, 4.131147540983607], [969, 4.115384615384615], [970, 3.1493624772313296], [971, 3.3318385650224216], [972, 3.3714285714285714], [973, 3.3963133640552994], [974, 3.7333333333333334], [975, 3.25990099009901], [976, 3.3636363636363638], [977, 3.7625], [978, 3.8863636363636362], [979, 4.04054054054054], [980, 3.2222222222222223], [981, 3.3303964757709252], [982, 4.176470588235294], [983, 4.115384615384615], [984, 3.5417867435158503], [985, 4.212328767123288], [986, 3.772727272727273], [987, 4.017045454545454], [988, 3.8493150684931505], [989, 4.681818181818182], [990, 3.549019607843137], [991, 3.75], [992, 3.4193548387096775], [993, 3.3448275862068964], [994, 4.153846153846154], [995, 3.8979591836734695], [996, 3.935810810810811], [997, 3.933333333333333], [998, 4.118518518518519], [999, 3.186893203883495], [1000, 4.130952380952381], [1001, 3.6525198938992043], [1002, 4.136363636363637], [1003, 4.137931034482759], [1004, 3.1600831600831603], [1005, 4.141304347826087], [1006, 3.0681818181818183], [1007, 4.21875], [1008, 3.84], [1009, 3.826923076923077], [1010, 2.4750996015936253], [1011, 3.7027027027027026], [1012, 3.3636363636363638], [1013, 3.847826086956522], [1014, 3.4871794871794872], [1015, 3.7262830482115086], [1016, 3.7880794701986753], [1017, 3.251439539347409], [1018, 4.155737704918033], [1019, 3.0107758620689653], [1020, 3.9886363636363638], [1021, 4.694656488549619], [1022, 3.5616438356164384], [1023, 4.073170731707317], [1024, 3.697674418604651], [1025, 3.757575757575758], [1026, 4.0], [1027, 3.8260869565217392], [1028, 3.9672131147540983], [1029, 3.1953125], [1030, 3.5789473684210527], [1031, 4.070967741935484], [1032, 3.941747572815534], [1033, 3.288659793814433], [1034, 3.483679525222552], [1035, 3.8241758241758244], [1036, 4.32], [1037, 3.5789473684210527], [1038, 3.9324324324324325], [1039, 2.892857142857143], [1040, 4.235521235521236], [1041, 4.317647058823529], [1042, 2.7555555555555555], [1043, 3.9166666666666665], [1044, 3.763888888888889], [1045, 3.5405405405405403], [1046, 3.8846153846153846], [1047, 3.8815789473684212], [1048, 4.0], [1049, 3.5833333333333335], [1050, 2.900709219858156], [1051, 3.4663573085846866], [1052, 4.343283582089552], [1053, 3.343283582089552], [1054, 3.8897637795275593], [1055, 3.448717948717949], [1056, 3.473684210526316], [1057, 3.7262569832402233], [1058, 3.795518207282913], [1059, 2.888888888888889], [1060, 3.35], [1061, 3.980392156862745], [1062, 4.484536082474227], [1063, 4.18], [1064, 3.70873786407767], [1065, 3.715909090909091], [1066, 3.5327868852459017], [1067, 3.96875], [1068, 3.7336683417085426], [1069, 2.87192118226601], [1070, 3.619047619047619], [1071, 4.426573426573427], [1072, 4.0476190476190474], [1073, 4.146551724137931], [1074, 3.4479166666666665], [1075, 4.048780487804878], [1076, 3.2439024390243905], [1077, 4.019417475728155], [1078, 3.984251968503937], [1079, 3.5867768595041323], [1080, 3.740740740740741], [1081, 4.147058823529412], [1082, 4.333333333333333], [1083, 2.6923076923076925], [1084, 3.15], [1085, 3.7142857142857144], [1086, 3.8621794871794872], [1087, 3.7908163265306123], [1088, 3.3375850340136055], [1089, 4.0], [1090, 3.3698630136986303], [1091, 2.696969696969697], [1092, 4.0588235294117645], [1093, 3.3857142857142857], [1094, 3.6219512195121952], [1095, 4.0], [1096, 2.58955223880597], [1097, 3.4702380952380953], [1098, 4.1875], [1099, 3.5106382978723403], [1100, 2.1988188976377954], [1101, 3.324324324324324], [1102, 2.259259259259259], [1103, 3.533333333333333], [1104, 3.8333333333333335], [1105, 3.9316770186335406], [1106, 3.78125], [1107, 3.7051282051282053], [1108, 4.113636363636363], [1109, 3.0878048780487806], [1110, 4.326530612244898], [1111, 4.03030303030303], [1112, 3.4418262150220915], [1113, 3.9749216300940438], [1114, 3.462686567164179], [1115, 3.1743119266055047], [1116, 3.8661971830985915], [1117, 3.777188328912467], [1118, 3.6666666666666665], [1119, 3.787341772151899], [1120, 3.764625850340136], [1121, 3.9550173010380623], [1122, 3.2280701754385963], [1123, 3.3666666666666667], [1124, 3.7712082262210798], [1125, 3.222413793103448], [1126, 3.761904761904762], [1127, 3.2213740458015265], [1128, 3.216867469879518], [1129, 4.145631067961165], [1130, 3.849462365591398], [1131, 4.796116504854369], [1132, 4.343558282208589], [1133, 3.386904761904762], [1134, 4.42], [1135, 3.813953488372093], [1136, 3.267857142857143], [1137, 3.74468085106383], [1138, 3.662921348314607], [1139, 3.9065934065934065], [1140, 3.7566844919786098], [1141, 3.3090128755364807], [1142, 3.3726235741444865], [1143, 4.30188679245283], [1144, 3.772727272727273], [1145, 3.3684210526315788], [1146, 2.798941798941799], [1147, 3.4654654654654653], [1148, 3.7966101694915255], [1149, 3.3146067415730336], [1150, 2.5906298003072195], [1151, 3.772727272727273], [1152, 2.5704697986577183], [1153, 2.736842105263158], [1154, 3.375], [1155, 3.1923076923076925], [1156, 3.5833333333333335], [1157, 4.2727272727272725], [1158, 3.640625], [1159, 2.56198347107438], [1160, 3.074766355140187], [1161, 3.968421052631579], [1162, 3.551282051282051], [1163, 3.640625], [1164, 3.441048034934498], [1165, 3.574468085106383], [1166, 3.5], [1167, 3.4285714285714284], [1168, 3.4463519313304722], [1169, 2.7711864406779663], [1170, 4.011627906976744], [1171, 4.321428571428571], [1172, 3.5169300225733635], [1173, 3.2493074792243766], [1174, 3.125], [1175, 4.208333333333333], [1176, 4.142857142857143], [1177, 3.9746835443037973], [1178, 3.5], [1179, 3.6623931623931623], [1180, 4.45945945945946], [1181, 2.815910585141354], [1182, 3.357142857142857], [1183, 3.682795698924731], [1184, 3.338129496402878], [1185, 3.6444444444444444], [1186, 4.296116504854369], [1187, 3.3870967741935485], [1188, 4.161290322580645], [1189, 3.76], [1190, 4.037037037037037], [1191, 4.295238095238095], [1192, 4.379310344827586], [1193, 2.782608695652174], [1194, 3.325115562403698], [1195, 3.71875], [1196, 3.8839285714285716], [1197, 4.166666666666667], [1198, 3.656862745098039], [1199, 3.631284916201117], [1200, 3.5641025641025643], [1201, 3.5757575757575757], [1202, 3.5365384615384614], [1203, 3.707152496626181], [1204, 3.485294117647059], [1205, 3.9411764705882355], [1206, 3.5602836879432624], [1207, 2.394822006472492], [1208, 4.020833333333333], [1209, 3.411764705882353], [1210, 3.8974358974358974], [1211, 3.863979848866499], [1212, 3.8550724637681157], [1213, 4.041666666666667], [1214, 3.0217391304347827], [1215, 4.034782608695652], [1216, 3.6948356807511735], [1217, 4.235294117647059], [1218, 3.4553191489361703], [1219, 3.6205357142857144], [1220, 3.353846153846154], [1221, 3.9638009049773757], [1222, 3.2205882352941178], [1223, 3.9246575342465753], [1224, 4.046712802768166], [1225, 4.035714285714286], [1226, 3.2857142857142856], [1227, 3.792207792207792], [1228, 3.7768924302788847], [1229, 4.0], [1230, 3.9367588932806323], [1231, 3.8454545454545452], [1232, 4.229629629629629], [1233, 3.8852459016393444], [1234, 4.291666666666667], [1235, 3.7], [1236, 3.375], [1237, 3.7666666666666666], [1238, 3.7111111111111112], [1239, 3.8636363636363638], [1240, 3.066666666666667], [1241, 4.247422680412371], [1242, 3.6396103896103895], [1243, 3.608695652173913], [1244, 3.3812154696132595], [1245, 4.333333333333333], [1246, 3.56993006993007], [1247, 3.8055555555555554], [1248, 3.595744680851064], [1249, 3.96], [1250, 4.190476190476191], [1251, 3.3777777777777778], [1252, 4.02542372881356], [1253, 3.5405405405405403], [1254, 4.118181818181818], [1255, 3.7787234042553193], [1256, 4.34375], [1257, 3.36734693877551], [1258, 4.261904761904762], [1259, 3.9833333333333334], [1260, 3.787819253438114], [1261, 3.7487179487179487], [1262, 3.4240506329113924], [1263, 3.139784946236559], [1264, 3.586497890295359], [1265, 3.183673469387755], [1266, 3.3415977961432506], [1267, 3.6], [1268, 4.257425742574258], [1269, 4.25], [1270, 3.0344827586206895], [1271, 4.2823529411764705], [1272, 3.535211267605634], [1273, 3.9820359281437128], [1274, 3.8494077834179357], [1275, 4.466666666666667], [1276, 4.1558441558441555], [1277, 3.675675675675676], [1278, 4.0], [1279, 2.958448753462604], [1280, 3.72], [1281, 3.4791666666666665], [1282, 4.095238095238095], [1283, 3.347826086956522], [1284, 3.4220907297830374], [1285, 3.9064685314685317], [1286, 3.5], [1287, 3.9468085106382977], [1288, 3.75968992248062], [1289, 4.3076923076923075], [1290, 4.181818181818182], [1291, 3.802120141342756], [1292, 3.3958333333333335], [1293, 3.426470588235294], [1294, 3.9272030651340994], [1295, 3.575], [1296, 3.8958333333333335], [1297, 3.4455852156057496], [1298, 3.8273615635179152], [1299, 3.7905982905982905], [1300, 3.4819277108433737], [1301, 3.774410774410774], [1302, 4.266666666666667], [1303, 3.3205317577548006], [1304, 3.9642857142857144], [1305, 4.333333333333333], [1306, 4.1475054229934925], [1307, 4.333333333333333], [1308, 3.606741573033708], [1309, 3.7083333333333335], [1310, 3.75], [1311, 3.478723404255319], [1312, 3.270967741935484], [1313, 3.6551724137931036], [1314, 2.789473684210526], [1315, 4.505376344086022], [1316, 3.236842105263158], [1317, 3.6620775969962454], [1318, 3.0476190476190474], [1319, 3.2142857142857144], [1320, 4.017094017094017], [1321, 3.2923976608187133], [1322, 4.1171875], [1323, 3.7027027027027026], [1324, 4.037037037037037], [1325, 3.9858156028368796], [1326, 3.918918918918919], [1327, 3.507042253521127], [1328, 3.552], [1329, 3.2853658536585364], [1330, 4.260869565217392], [1331, 3.98], [1332, 3.5], [1333, 3.6965888689407542], [1334, 3.9152542372881354], [1335, 3.0749185667752443], [1336, 4.086956521739131], [1337, 3.8153846153846156], [1338, 4.03030303030303], [1339, 2.788732394366197], [1340, 2.1627329192546583], [1341, 2.3793103448275863], [1342, 2.9782608695652173], [1343, 4.415770609318996], [1344, 3.72], [1345, 3.7195767195767195], [1346, 3.5357142857142856], [1347, 3.778481012658228], [1348, 3.7985611510791366], [1349, 4.651162790697675], [1350, 3.7589285714285716], [1351, 4.2], [1352, 3.5759493670886076], [1353, 3.0317460317460316], [1354, 3.404970760233918], [1355, 4.169811320754717], [1356, 2.633405639913232], [1357, 2.7966101694915255], [1358, 3.16017316017316], [1359, 3.6458333333333335], [1360, 3.5533980582524274], [1361, 4.135338345864661], [1362, 3.4474885844748857], [1363, 4.380952380952381], [1364, 4.0], [1365, 3.626865671641791], [1366, 3.5104895104895104], [1367, 3.7772511848341233], [1368, 4.113636363636363], [1369, 3.782178217821782], [1370, 3.141891891891892], [1371, 4.2727272727272725], [1372, 3.0], [1373, 3.810810810810811], [1374, 3.9223300970873787], [1375, 3.9], [1376, 3.882978723404255], [1377, 2.8214971209213053], [1378, 4.5344827586206895], [1379, 3.25], [1380, 3.316205533596838], [1381, 3.4057971014492754], [1382, 4.138888888888889], [1383, 3.329683698296837], [1384, 3.4545454545454546], [1385, 3.727272727272727], [1386, 3.951219512195122], [1387, 3.6591928251121075], [1388, 4.018867924528302], [1389, 3.812652068126521], [1390, 3.838187702265372], [1391, 3.4688995215311005], [1392, 3.403292181069959], [1393, 4.128440366972477], [1394, 3.0], [1395, 3.826923076923077], [1396, 3.725806451612903], [1397, 3.490566037735849], [1398, 3.710526315789474], [1399, 3.6527777777777777], [1400, 4.172413793103448], [1401, 4.017857142857143], [1402, 4.122448979591836], [1403, 3.8461538461538463], [1404, 2.7951807228915664], [1405, 3.7333333333333334], [1406, 3.8], [1407, 4.082417582417582], [1408, 3.139705882352941], [1409, 4.214285714285714], [1410, 4.064102564102564], [1411, 3.566666666666667], [1412, 3.3333333333333335], [1413, 3.8324324324324324], [1414, 3.7837837837837838], [1415, 3.7150837988826817], [1416, 3.5454545454545454], [1417, 3.413793103448276], [1418, 2.9510489510489513], [1419, 2.6470588235294117], [1420, 3.7311827956989245], [1421, 3.758974358974359], [1422, 3.0123626373626373], [1423, 4.1875], [1424, 3.409090909090909], [1425, 3.647814910025707], [1426, 3.494764397905759], [1427, 3.6470588235294117], [1428, 4.211538461538462], [1429, 3.2916666666666665], [1430, 4.163793103448276], [1431, 3.380952380952381], [1432, 3.5428571428571427], [1433, 3.337078651685393], [1434, 2.4050179211469533], [1435, 3.4571428571428573], [1436, 3.9696969696969697], [1437, 4.541935483870968], [1438, 3.477272727272727], [1439, 3.9], [1440, 3.3529411764705883], [1441, 3.627450980392157], [1442, 3.3], [1443, 4.25], [1444, 3.689655172413793], [1445, 2.903225806451613], [1446, 4.453608247422681], [1447, 3.2383838383838386], [1448, 3.775529865125241], [1449, 2.8061142397425582], [1450, 2.9908256880733943], [1451, 3.8974700399467377], [1452, 4.15], [1453, 3.5714285714285716], [1454, 3.8636363636363638], [1455, 3.7540983606557377], [1456, 4.045454545454546], [1457, 3.95114006514658], [1458, 3.9896907216494846], [1459, 4.0476190476190474], [1460, 3.0357142857142856], [1461, 3.34], [1462, 3.5], [1463, 3.5948275862068964], [1464, 3.675925925925926], [1465, 3.741407528641571], [1466, 3.630952380952381], [1467, 3.534090909090909], [1468, 3.519607843137255], [1469, 4.0625], [1470, 2.6943661971830988], [1471, 3.814814814814815], [1472, 3.6008583690987126], [1473, 2.970833333333333], [1474, 3.7846153846153845], [1475, 3.8987341772151898], [1476, 3.757142857142857], [1477, 4.0606060606060606], [1478, 3.9375], [1479, 4.103448275862069], [1480, 3.395348837209302], [1481, 4.38], [1482, 3.2295081967213113], [1483, 3.0968992248062017], [1484, 3.6146496815286624], [1485, 3.9130434782608696], [1486, 3.5833333333333335], [1487, 3.2195121951219514], [1488, 4.095238095238095], [1489, 2.443762781186094], [1490, 4.1], [1491, 3.2490118577075098], [1492, 3.2149532710280373], [1493, 3.75], [1494, 3.795918367346939], [1495, 2.620879120879121], [1496, 2.85929648241206], [1497, 3.864321608040201], [1498, 3.8275862068965516], [1499, 3.9384615384615387], [1500, 3.9043478260869566], [1501, 3.726937269372694], [1502, 3.399267399267399], [1503, 3.5073529411764706], [1504, 3.642857142857143], [1505, 3.738993710691824], [1506, 3.8095238095238093], [1507, 4.185185185185185], [1508, 3.310344827586207], [1509, 2.983164983164983], [1510, 3.606060606060606], [1511, 4.087912087912088], [1512, 3.235294117647059], [1513, 4.055944055944056], [1514, 3.763779527559055], [1515, 3.75], [1516, 3.1164383561643834], [1517, 3.609375], [1518, 4.48], [1519, 3.528735632183908], [1520, 4.0], [1521, 3.263888888888889], [1522, 3.641025641025641], [1523, 3.717391304347826], [1524, 3.7351778656126484], [1525, 3.6633663366336635], [1526, 4.15625], [1527, 3.1538461538461537], [1528, 4.086956521739131], [1529, 3.7666666666666666], [1530, 3.8514851485148514], [1531, 3.4615384615384617], [1532, 4.095238095238095], [1533, 3.84], [1534, 3.619047619047619], [1535, 3.896551724137931], [1536, 4.222222222222222], [1537, 3.763157894736842], [1538, 3.989247311827957], [1539, 4.37037037037037], [1540, 3.805084745762712], [1541, 4.423076923076923], [1542, 3.6723549488054608], [1543, 3.46242774566474], [1544, 3.690909090909091], [1545, 3.1013824884792625], [1546, 3.754385964912281], [1547, 3.9328358208955225], [1548, 3.5833333333333335], [1549, 3.619047619047619], [1550, 3.9310344827586206], [1551, 3.9397590361445785], [1552, 3.6862745098039214], [1553, 3.7209302325581395], [1554, 3.806451612903226], [1555, 4.3544303797468356], [1556, 3.208695652173913], [1557, 3.982456140350877], [1558, 4.115384615384615], [1559, 3.588235294117647], [1560, 3.4939024390243905], [1561, 4.0062111801242235], [1562, 2.8684210526315788], [1563, 3.8095238095238093], [1564, 3.056451612903226], [1565, 3.74468085106383], [1566, 3.5], [1567, 3.89], [1568, 4.0], [1569, 4.588888888888889], [1570, 3.5454545454545454], [1571, 3.947712418300654], [1572, 3.1777777777777776], [1573, 3.689655172413793], [1574, 3.5961538461538463], [1575, 3.8703703703703702], [1576, 3.875], [1577, 4.104], [1578, 4.161290322580645], [1579, 3.4496732026143793], [1580, 3.5405405405405403], [1581, 3.2195121951219514], [1582, 3.6363636363636362], [1583, 3.730769230769231], [1584, 3.3253796095444685], [1585, 3.607142857142857], [1586, 4.424096385542168], [1587, 3.332129963898917], [1588, 4.170212765957447], [1589, 3.7777777777777777], [1590, 4.0], [1591, 4.340764331210191], [1592, 3.6209150326797386], [1593, 3.0388349514563107], [1594, 3.727891156462585], [1595, 4.045112781954887], [1596, 3.5652173913043477], [1597, 3.5565217391304347], [1598, 3.494565217391304], [1599, 3.3018181818181818], [1600, 3.431472081218274], [1601, 3.9073170731707316], [1602, 4.1], [1603, 3.842857142857143], [1604, 4.166666666666667], [1605, 3.3122406639004147], [1606, 3.79126213592233], [1607, 3.1847826086956523], [1608, 2.0833333333333335], [1609, 3.4206128133704734], [1610, 3.9642857142857144], [1611, 3.573741007194245], [1612, 3.652173913043478], [1613, 3.4264150943396228], [1614, 3.3934426229508197], [1615, 3.0476190476190474], [1616, 3.1338582677165356], [1617, 3.0833333333333335], [1618, 4.208791208791209], [1619, 4.03030303030303], [1620, 3.9444444444444446], [1621, 3.1363636363636362], [1622, 3.730769230769231], [1623, 4.214285714285714], [1624, 3.005714285714286], [1625, 3.3555555555555556], [1626, 3.4391143911439115], [1627, 2.9791666666666665], [1628, 3.745011086474501], [1629, 3.4923076923076923], [1630, 2.264957264957265], [1631, 3.8423076923076924], [1632, 2.7760416666666665], [1633, 2.9705882352941178], [1634, 3.5849056603773586], [1635, 3.780580075662043], [1636, 2.8], [1637, 3.988235294117647], [1638, 4.205128205128205], [1639, 3.658802177858439], [1640, 2.472049689440994], [1641, 2.6810344827586206], [1642, 3.5], [1643, 4.28755364806867], [1644, 3.0625], [1645, 4.061302681992337], [1646, 3.064516129032258], [1647, 3.2301587301587302], [1648, 3.442953020134228], [1649, 3.8421052631578947], [1650, 3.647887323943662], [1651, 3.2], [1652, 3.3703703703703702], [1653, 3.92], [1654, 4.446808510638298], [1655, 3.8], [1656, 3.48], [1657, 3.888888888888889], [1658, 3.419597989949749], [1659, 2.7719298245614037], [1660, 3.967741935483871], [1661, 3.891891891891892], [1662, 3.64], [1663, 4.130434782608695], [1664, 3.4], [1665, 3.6825396825396823], [1666, 3.3425692695214106], [1667, 3.4128256513026054], [1668, 4.0], [1669, 3.7333333333333334], [1670, 4.714285714285714], [1671, 3.8620689655172415], [1672, 3.7435897435897436], [1673, 4.37037037037037], [1674, 3.727272727272727], [1675, 3.208849557522124], [1676, 3.492485549132948], [1677, 3.558139534883721], [1678, 3.4508196721311477], [1679, 3.926829268292683], [1680, 3.5556756756756758], [1681, 4.132231404958677], [1682, 4.407407407407407], [1683, 3.4857142857142858], [1684, 4.032258064516129], [1685, 3.574418604651163], [1686, 3.5357142857142856], [1687, 3.5318066157760812], [1688, 3.5757575757575757], [1689, 3.609375], [1690, 3.5167785234899327], [1691, 3.52], [1692, 4.478260869565218], [1693, 3.7419354838709675], [1694, 3.741206030150754], [1695, 3.6530612244897958], [1696, 3.621019108280255], [1697, 4.18361581920904], [1698, 3.9310344827586206], [1699, 4.313218390804598], [1700, 3.533333333333333], [1701, 3.5543478260869565], [1702, 4.55], [1703, 4.076923076923077], [1704, 4.194444444444445], [1705, 3.6941176470588237], [1706, 3.8], [1707, 4.329545454545454], [1708, 3.8636363636363638], [1709, 3.704761904761905], [1710, 3.6582278481012658], [1711, 3.6206896551724137], [1712, 3.512720156555773], [1713, 3.3333333333333335], [1714, 3.510948905109489], [1715, 3.4565217391304346], [1716, 3.476923076923077], [1717, 3.8160377358490565], [1718, 4.46875], [1719, 2.769230769230769], [1720, 4.021739130434782], [1721, 2.365217391304348], [1722, 4.242718446601942], [1723, 3.671232876712329], [1724, 4.10062893081761], [1725, 3.75], [1726, 2.350785340314136], [1727, 4.035019455252918], [1728, 4.212765957446808], [1729, 3.086206896551724], [1730, 3.5], [1731, 3.3970588235294117], [1732, 4.470588235294118], [1733, 3.5280095351609058], [1734, 4.27027027027027], [1735, 3.2337662337662336], [1736, 3.235897435897436], [1737, 3.410322580645161], [1738, 3.7313432835820897], [1739, 3.769230769230769], [1740, 4.0], [1741, 3.9757575757575756], [1742, 3.617021276595745], [1743, 3.968421052631579], [1744, 4.064285714285714], [1745, 3.7142857142857144], [1746, 4.404907975460123], [1747, 2.138888888888889], [1748, 3.4906621392190154], [1749, 2.9181494661921707], [1750, 2.9726027397260273], [1751, 4.428571428571429], [1752, 3.834101382488479], [1753, 3.936619718309859], [1754, 3.0], [1755, 3.5706521739130435], [1756, 3.204081632653061], [1757, 3.690909090909091], [1758, 3.9465116279069767], [1759, 3.720472440944882], [1760, 3.803030303030303], [1761, 2.15929203539823], [1762, 3.8513513513513513], [1763, 3.769230769230769], [1764, 4.091353996737357], [1765, 3.981132075471698], [1766, 3.230769230769231], [1767, 3.5751633986928106], [1768, 3.4859154929577465], [1769, 2.7534246575342465], [1770, 3.269662921348315], [1771, 4.333333333333333], [1772, 3.3823529411764706], [1773, 3.7704918032786887], [1774, 3.275], [1775, 3.7225806451612904], [1776, 3.2748815165876777], [1777, 3.890909090909091], [1778, 3.54029304029304], [1779, 3.295302013422819], [1780, 2.9626623376623376], [1781, 3.4150943396226414], [1782, 3.5789473684210527], [1783, 3.5714285714285716], [1784, 2.980769230769231], [1785, 3.0555555555555554], [1786, 4.018867924528302], [1787, 3.3214285714285716], [1788, 3.84375], [1789, 4.172413793103448], [1790, 3.8731563421828907], [1791, 3.586206896551724], [1792, 3.871794871794872], [1793, 3.4006968641114983], [1794, 2.4282560706401766], [1795, 4.32], [1796, 3.9886363636363638], [1797, 4.177142857142857], [1798, 3.5970149253731343], [1799, 3.5164835164835164], [1800, 3.615079365079365], [1801, 3.9523809523809526], [1802, 4.033175355450237], [1803, 3.433098591549296], [1804, 3.4051724137931036], [1805, 4.086206896551724], [1806, 4.233644859813084], [1807, 3.6435643564356437], [1808, 3.4193548387096775], [1809, 3.142857142857143], [1810, 3.775], [1811, 3.9], [1812, 3.7765042979942693], [1813, 3.5], [1814, 3.63265306122449], [1815, 3.7948717948717947], [1816, 4.096774193548387], [1817, 3.016260162601626], [1818, 3.6511627906976742], [1819, 3.7327586206896552], [1820, 3.684542586750789], [1821, 4.037037037037037], [1822, 3.8507462686567164], [1823, 4.0], [1824, 3.3647798742138364], [1825, 3.5165562913907285], [1826, 3.5964912280701755], [1827, 3.5918367346938775], [1828, 3.370629370629371], [1829, 3.3333333333333335], [1830, 4.1], [1831, 3.5135135135135136], [1832, 3.9318181818181817], [1833, 3.31], [1834, 4.092307692307692], [1835, 4.114285714285714], [1836, 4.168269230769231], [1837, 3.501278772378517], [1838, 3.074074074074074], [1839, 3.9770114942528734], [1840, 3.9166666666666665], [1841, 2.7180616740088106], [1842, 4.129032258064516], [1843, 3.689075630252101], [1844, 3.65], [1845, 3.213636363636364], [1846, 4.032786885245901], [1847, 4.317073170731708], [1848, 3.772727272727273], [1849, 3.7083333333333335], [1850, 3.844155844155844], [1851, 2.6984126984126986], [1852, 3.5185185185185186], [1853, 4.1210191082802545], [1854, 2.817073170731707], [1855, 3.144578313253012], [1856, 4.6940298507462686], [1857, 4.2682926829268295], [1858, 3.9591836734693877], [1859, 3.5652173913043477], [1860, 3.310580204778157], [1861, 3.3369565217391304], [1862, 4.4], [1863, 4.5], [1864, 3.3043478260869565], [1865, 3.5808383233532934], [1866, 4.093525179856115], [1867, 2.962962962962963], [1868, 3.6296296296296298], [1869, 3.9166666666666665], [1870, 3.7974683544303796], [1871, 3.7264957264957266], [1872, 3.8181818181818183], [1873, 3.48989898989899], [1874, 3.59375], [1875, 3.6153846153846154], [1876, 3.4545454545454546], [1877, 3.129251700680272], [1878, 3.6506024096385543], [1879, 3.931558935361217], [1880, 3.344502617801047], [1881, 4.333333333333333], [1882, 3.780269058295964], [1883, 3.331034482758621], [1884, 3.867043847241867], [1885, 4.157894736842105], [1886, 3.923076923076923], [1887, 3.384], [1888, 3.6176470588235294], [1889, 3.269230769230769], [1890, 3.51980198019802], [1891, 3.5483870967741935], [1892, 4.2727272727272725], [1893, 3.75], [1894, 4.244186046511628], [1895, 4.034883720930233], [1896, 4.14975845410628], [1897, 3.710806697108067], [1898, 3.923076923076923], [1899, 3.7923280423280423], [1900, 3.675], [1901, 4.173333333333333], [1902, 3.647286821705426], [1903, 4.020304568527918], [1904, 3.2670454545454546], [1905, 4.1063829787234045], [1906, 3.6538461538461537], [1907, 3.8333333333333335], [1908, 3.1826923076923075], [1909, 3.526315789473684], [1910, 3.641509433962264], [1911, 3.5483870967741935], [1912, 2.487856388595565], [1913, 4.295454545454546], [1914, 3.739130434782609], [1915, 3.6052631578947367], [1916, 3.9437340153452687], [1917, 3.8969072164948453], [1918, 3.0], [1919, 3.5636363636363635], [1920, 3.3860232945091515], [1921, 3.2588235294117647], [1922, 3.456876456876457], [1923, 3.2758620689655173], [1924, 3.1511627906976742], [1925, 3.6459016393442623], [1926, 4.085470085470085], [1927, 3.9545454545454546], [1928, 3.839622641509434], [1929, 3.5555555555555554], [1930, 3.1666666666666665], [1931, 3.616279069767442], [1932, 3.6666666666666665], [1933, 3.466666666666667], [1934, 3.0847457627118646], [1935, 3.4827586206896552], [1936, 3.7142857142857144], [1937, 3.183050847457627], [1938, 3.1314285714285712], [1939, 3.7782805429864252], [1940, 4.671875], [1941, 3.0545454545454547], [1942, 2.864406779661017], [1943, 3.6205882352941177], [1944, 3.911764705882353], [1945, 2.7945205479452055], [1946, 3.858974358974359], [1947, 3.9523809523809526], [1948, 3.1091954022988504], [1949, 4.176470588235294], [1950, 3.5182481751824817], [1951, 3.015625], [1952, 3.49003984063745], [1953, 3.7941176470588234], [1954, 3.933774834437086], [1955, 3.55], [1956, 3.123076923076923], [1957, 3.94], [1958, 3.2746478873239435], [1959, 4.508196721311475], [1960, 3.8651162790697673], [1961, 3.550561797752809], [1962, 2.6679174484052535], [1963, 4.180722891566265], [1964, 3.6363636363636362], [1965, 3.125], [1966, 4.363636363636363], [1967, 3.5416666666666665], [1968, 2.7612612612612613], [1969, 3.816247582205029], [1970, 3.576923076923077], [1971, 4.2727272727272725], [1972, 4.409638554216867], [1973, 3.8421052631578947], [1974, 3.7644787644787643], [1975, 3.836734693877551], [1976, 3.886178861788618], [1977, 3.626865671641791], [1978, 3.4675324675324677], [1979, 3.1142857142857143], [1980, 3.4825396825396826], [1981, 3.029850746268657], [1982, 3.425806451612903], [1983, 4.142857142857143], [1984, 3.5653710247349824], [1985, 3.575], [1986, 4.590909090909091], [1987, 3.617021276595745], [1988, 3.5230524642289347], [1989, 3.3333333333333335], [1990, 3.857142857142857], [1991, 4.291666666666667], [1992, 2.9239130434782608], [1993, 3.75], [1994, 4.103448275862069], [1995, 3.895348837209302], [1996, 3.994350282485876], [1997, 4.075], [1998, 3.8707865168539324], [1999, 3.8160919540229883], [2000, 3.7857142857142856], [2001, 3.5918367346938775], [2002, 4.1017964071856285], [2003, 4.344262295081967], [2004, 3.7247706422018347], [2005, 2.7222222222222223], [2006, 3.8048780487804876], [2007, 3.9], [2008, 3.937853107344633], [2009, 4.037037037037037], [2010, 2.4583901773533423], [2011, 3.838056680161943], [2012, 2.8052373158756136], [2013, 3.9], [2014, 4.2592592592592595], [2015, 3.1273532668881505], [2016, 3.990990990990991], [2017, 3.899159663865546], [2018, 3.941834451901566], [2019, 3.5588235294117645], [2020, 3.5307855626326963], [2021, 3.8523489932885906], [2022, 3.829896907216495], [2023, 3.923076923076923], [2024, 3.375], [2025, 3.680672268907563], [2026, 3.541284403669725], [2027, 4.019047619047619], [2028, 3.6666666666666665], [2029, 3.1629955947136565], [2030, 3.984536082474227], [2031, 3.56], [2032, 3.6825396825396823], [2033, 2.607142857142857], [2034, 4.216216216216216], [2035, 3.5672514619883042], [2036, 3.9384615384615387], [2037, 3.45], [2038, 3.8204545454545453], [2039, 3.5785123966942147], [2040, 3.369565217391304], [2041, 3.5485611510791366], [2042, 3.1358490566037736], [2043, 2.5714285714285716], [2044, 4.12], [2045, 4.04], [2046, 3.5903614457831323], [2047, 3.588235294117647], [2048, 4.142857142857143], [2049, 4.114285714285714], [2050, 3.896153846153846], [2051, 3.432314410480349], [2052, 2.9], [2053, 3.4], [2054, 3.408955223880597], [2055, 4.173913043478261], [2056, 4.09765625], [2057, 3.8615384615384616], [2058, 3.3191489361702127], [2059, 3.549407114624506], [2060, 3.1187739463601534], [2061, 4.3], [2062, 4.1477272727272725], [2063, 2.945578231292517], [2064, 4.0], [2065, 4.451612903225806], [2066, 4.068965517241379], [2067, 3.5728643216080402], [2068, 3.952], [2069, 3.9066666666666667], [2070, 4.413461538461538], [2071, 3.407563025210084], [2072, 4.0], [2073, 3.696124031007752], [2074, 3.4722222222222223], [2075, 3.3255813953488373], [2076, 3.4819277108433737], [2077, 3.2309941520467835], [2078, 3.735294117647059], [2079, 3.46875], [2080, 4.28125], [2081, 3.122448979591837], [2082, 4.338028169014085], [2083, 4.35], [2084, 3.9483870967741934], [2085, 3.661764705882353], [2086, 3.7], [2087, 3.5660377358490565], [2088, 3.877551020408163], [2089, 3.7473684210526317], [2090, 3.7729257641921397], [2091, 4.08843537414966], [2092, 3.5665294924554183], [2093, 3.482142857142857], [2094, 4.056338028169014], [2095, 3.36], [2096, 4.181818181818182], [2097, 3.293103448275862], [2098, 3.2493297587131367], [2099, 3.5277777777777777], [2100, 3.707792207792208], [2101, 3.3047619047619046], [2102, 2.6452830188679246], [2103, 3.865168539325843], [2104, 3.0943396226415096], [2105, 3.2224371373307545], [2106, 2.2455555555555557], [2107, 4.068965517241379], [2108, 4.363636363636363], [2109, 2.897196261682243], [2110, 3.239819004524887], [2111, 3.75], [2112, 3.48], [2113, 3.847826086956522], [2114, 3.6733333333333333], [2115, 3.8620689655172415], [2116, 3.5550978372811533], [2117, 4.260869565217392], [2118, 4.505747126436781], [2119, 3.539325842696629], [2120, 3.451219512195122], [2121, 3.670157068062827], [2122, 3.6201923076923075], [2123, 4.085714285714285], [2124, 4.259554140127388], [2125, 3.873362445414847], [2126, 2.8], [2127, 3.2083333333333335], [2128, 3.75], [2129, 3.2717086834733893], [2130, 3.417910447761194], [2131, 3.370716510903427], [2132, 2.5652173913043477], [2133, 3.25], [2134, 3.593220338983051], [2135, 3.730769230769231], [2136, 3.91875], [2137, 4.130434782608695], [2138, 3.75], [2139, 4.132075471698113], [2140, 3.7864077669902914], [2141, 4.2], [2142, 3.5324675324675323], [2143, 3.125], [2144, 3.287128712871287], [2145, 4.063926940639269], [2146, 3.323529411764706], [2147, 3.5833333333333335], [2148, 3.9215686274509802], [2149, 3.811320754716981], [2150, 3.6176470588235294], [2151, 3.1842105263157894], [2152, 3.652173913043478], [2153, 3.8526912181303117], [2154, 3.977777777777778], [2155, 4.690140845070423], [2156, 3.3968253968253967], [2157, 3.4864864864864864], [2158, 3.9292035398230087], [2159, 4.470588235294118], [2160, 3.95], [2161, 3.5833333333333335], [2162, 3.9395604395604398], [2163, 4.104166666666667], [2164, 3.6602972399150744], [2165, 4.093333333333334], [2166, 3.6901408450704225], [2167, 2.463963963963964], [2168, 3.9424657534246577], [2169, 3.810810810810811], [2170, 4.23015873015873], [2171, 4.445544554455446], [2172, 3.059866962305987], [2173, 3.771043771043771], [2174, 3.5842696629213484], [2175, 4.136094674556213], [2176, 4.217877094972067], [2177, 3.6206896551724137], [2178, 4.287356321839081], [2179, 3.267123287671233], [2180, 2.838630806845966], [2181, 3.33224043715847], [2182, 3.6666666666666665], [2183, 3.6857142857142855], [2184, 4.233333333333333], [2185, 4.276450511945392], [2186, 3.441780821917808], [2187, 3.72992700729927], [2188, 3.05679012345679], [2189, 3.6], [2190, 3.8923076923076922], [2191, 3.1842105263157894], [2192, 3.8264462809917354], [2193, 4.0], [2194, 2.869158878504673], [2195, 3.4147286821705425], [2196, 3.9722222222222223], [2197, 4.107142857142857], [2198, 3.6417910447761193], [2199, 3.0697674418604652], [2200, 3.1052631578947367], [2201, 4.3538461538461535], [2202, 3.2816901408450705], [2203, 4.053803339517625], [2204, 3.515151515151515], [2205, 3.076620825147348], [2206, 3.7371794871794872], [2207, 4.238095238095238], [2208, 3.509433962264151], [2209, 3.4347826086956523], [2210, 3.689655172413793], [2211, 3.966442953020134], [2212, 3.16], [2213, 3.641025641025641], [2214, 4.160493827160494], [2215, 3.272727272727273], [2216, 2.9038461538461537], [2217, 3.2], [2218, 3.8823529411764706], [2219, 3.676190476190476], [2220, 4.0344827586206895], [2221, 3.5987654320987654], [2222, 3.506849315068493], [2223, 3.0890151515151514], [2224, 4.2368421052631575], [2225, 3.338345864661654], [2226, 3.673076923076923], [2227, 3.9791666666666665], [2228, 3.9508196721311477], [2229, 3.4871794871794872], [2230, 3.188841201716738], [2231, 3.6720183486238533], [2232, 4.050314465408805], [2233, 3.3381642512077296], [2234, 3.9047619047619047], [2235, 3.908450704225352], [2236, 3.694736842105263], [2237, 3.916289592760181], [2238, 3.75], [2239, 4.092436974789916], [2240, 4.282828282828283], [2241, 4.25], [2242, 3.6536144578313254], [2243, 4.683333333333334], [2244, 3.400932400932401], [2245, 3.0980392156862746], [2246, 3.6744186046511627], [2247, 3.922178988326848], [2248, 3.7476635514018692], [2249, 3.9285714285714284], [2250, 3.074626865671642], [2251, 3.6610169491525424], [2252, 3.4782608695652173], [2253, 4.096774193548387], [2254, 3.9642857142857144], [2255, 3.6685714285714286], [2256, 4.0], [2257, 3.5428571428571427], [2258, 3.446927374301676], [2259, 4.471615720524017], [2260, 3.64], [2261, 3.396694214876033], [2262, 3.6842105263157894], [2263, 3.707627118644068], [2264, 3.63], [2265, 3.6422413793103448], [2266, 4.0495049504950495], [2267, 3.547169811320755], [2268, 4.260869565217392], [2269, 3.36], [2270, 3.4466019417475726], [2271, 4.112462006079028], [2272, 3.921259842519685], [2273, 3.8450704225352115], [2274, 3.775], [2275, 3.864864864864865], [2276, 4.324074074074074], [2277, 3.392857142857143], [2278, 3.417910447761194], [2279, 3.638095238095238], [2280, 4.105263157894737], [2281, 4.0519480519480515], [2282, 4.026595744680851], [2283, 3.697674418604651], [2284, 3.8846153846153846], [2285, 3.6346153846153846], [2286, 3.6], [2287, 4.444444444444445], [2288, 3.033644859813084], [2289, 4.054054054054054], [2290, 3.3393939393939394], [2291, 4.0], [2292, 3.1], [2293, 4.321554770318021], [2294, 4.112903225806452], [2295, 4.409090909090909], [2296, 3.3214285714285716], [2297, 4.0476190476190474], [2298, 3.325], [2299, 2.92], [2300, 3.8846153846153846], [2301, 3.8846153846153846], [2302, 3.5979899497487438], [2303, 4.1688311688311686], [2304, 3.722794959908362], [2305, 3.1298701298701297], [2306, 3.6338028169014085], [2307, 4.386206896551724], [2308, 4.253968253968254], [2309, 3.514450867052023], [2310, 3.8613861386138613], [2311, 4.0], [2312, 3.6285714285714286], [2313, 4.4186046511627906], [2314, 3.1142857142857143], [2315, 2.8636363636363638], [2316, 3.9084967320261437], [2317, 4.163934426229508], [2318, 2.739130434782609], [2319, 3.774193548387097], [2320, 3.28], [2321, 3.8018018018018016], [2322, 3.696969696969697], [2323, 3.6728624535315983], [2324, 4.033707865168539], [2325, 3.357142857142857], [2326, 3.892857142857143], [2327, 3.3389830508474576], [2328, 3.292682926829268], [2329, 3.375], [2330, 3.0083333333333333], [2331, 4.214285714285714], [2332, 4.065217391304348], [2333, 3.7096774193548385], [2334, 3.7327327327327327], [2335, 3.7083333333333335], [2336, 3.9523809523809526], [2337, 4.181818181818182], [2338, 3.8502673796791442], [2339, 4.956521739130435], [2340, 4.360902255639098], [2341, 3.280701754385965], [2342, 3.8181818181818183], [2343, 4.194444444444445], [2344, 3.4414893617021276], [2345, 3.739130434782609], [2346, 3.652173913043478], [2347, 3.9130434782608696], [2348, 3.150485436893204], [2349, 3.1025641025641026], [2350, 3.8620689655172415], [2351, 3.4545454545454546], [2352, 2.7142857142857144], [2353, 3.6091370558375635], [2354, 3.6153846153846154], [2355, 3.5602836879432624], [2356, 3.625], [2357, 3.9310344827586206], [2358, 3.857142857142857], [2359, 3.6271186440677967], [2360, 3.5945945945945947], [2361, 3.6122448979591835], [2362, 3.7346938775510203], [2363, 4.580645161290323], [2364, 4.137931034482759], [2365, 4.191489361702128], [2366, 3.3902439024390243], [2367, 3.792452830188679], [2368, 4.241379310344827], [2369, 4.448275862068965], [2370, 4.092105263157895], [2371, 3.6790123456790123], [2372, 4.352112676056338], [2373, 4.095238095238095], [2374, 4.113207547169812], [2375, 3.7037037037037037], [2376, 3.3684210526315788], [2377, 3.9722222222222223], [2378, 3.0727969348659006], [2379, 4.1923076923076925], [2380, 3.3817733990147785], [2381, 3.2], [2382, 3.737704918032787], [2383, 3.5285087719298245], [2384, 4.096774193548387], [2385, 3.782608695652174], [2386, 3.6338028169014085], [2387, 3.8225806451612905], [2388, 4.045454545454546], [2389, 3.8461538461538463], [2390, 3.9473684210526314], [2391, 3.6901408450704225], [2392, 4.023255813953488], [2393, 3.889655172413793], [2394, 3.971830985915493], [2395, 3.7232142857142856], [2396, 4.083333333333333], [2397, 4.0], [2398, 4.077586206896552], [2399, 3.772727272727273], [2400, 3.339622641509434], [2401, 4.36], [2402, 3.3100189035916823], [2403, 3.466666666666667], [2404, 3.9263157894736844], [2405, 3.864406779661017], [2406, 3.94], [2407, 4.059210526315789], [2408, 3.753623188405797], [2409, 3.8805970149253732], [2410, 3.6228070175438596], [2411, 3.496932515337423], [2412, 3.8333333333333335], [2413, 3.3333333333333335], [2414, 4.1594827586206895], [2415, 3.6666666666666665], [2416, 3.702127659574468], [2417, 4.448275862068965], [2418, 3.087719298245614], [2419, 3.327651515151515], [2420, 4.23404255319149], [2421, 3.819672131147541], [2422, 4.142857142857143], [2423, 4.04], [2424, 3.292517006802721], [2425, 3.6206896551724137], [2426, 3.888888888888889], [2427, 3.884297520661157], [2428, 3.674698795180723], [2429, 3.936], [2430, 3.4047619047619047], [2431, 3.5], [2432, 3.857142857142857], [2433, 3.6470588235294117], [2434, 3.625], [2435, 3.752136752136752], [2436, 3.5901639344262297], [2437, 3.5952380952380953], [2438, 3.575], [2439, 2.8777777777777778], [2440, 3.4347826086956523], [2441, 4.074074074074074], [2442, 3.8620689655172415], [2443, 3.3846153846153846], [2444, 3.342857142857143], [2445, 3.5368852459016393], [2446, 3.869358669833729], [2447, 4.2105263157894735], [2448, 3.8767123287671232], [2449, 3.8076923076923075], [2450, 3.3333333333333335], [2451, 3.050314465408805], [2452, 4.096153846153846], [2453, 3.534181240063593], [2454, 3.4152823920265782], [2455, 2.6875], [2456, 3.1530054644808745], [2457, 3.1703406813627253], [2458, 3.496969696969697], [2459, 3.747967479674797], [2460, 4.117647058823529], [2461, 3.7403846153846154], [2462, 3.5354330708661417], [2463, 3.219047619047619], [2464, 3.8], [2465, 4.306382978723405], [2466, 2.9211822660098523], [2467, 4.409090909090909], [2468, 4.208], [2469, 3.706896551724138], [2470, 3.347826086956522], [2471, 3.1621621621621623], [2472, 3.6], [2473, 3.8421052631578947], [2474, 4.25], [2475, 4.054054054054054], [2476, 4.163934426229508], [2477, 4.475409836065574], [2478, 3.5505226480836236], [2479, 3.8484848484848486], [2480, 3.8666666666666667], [2481, 3.909090909090909], [2482, 3.5], [2483, 3.9], [2484, 3.3692870201096894], [2485, 3.6707317073170733], [2486, 3.8051948051948052], [2487, 3.7027027027027026], [2488, 4.2], [2489, 3.397984886649874], [2490, 3.5454545454545454], [2491, 3.0350877192982457], [2492, 3.764044943820225], [2493, 3.5348837209302326], [2494, 3.0], [2495, 3.4871794871794872], [2496, 2.9902152641878668], [2497, 4.5041322314049586], [2498, 3.168831168831169], [2499, 3.617021276595745], [2500, 3.6357142857142857], [2501, 3.9058823529411764], [2502, 3.9047619047619047], [2503, 3.02], [2504, 3.558139534883721], [2505, 4.09375], [2506, 3.354581673306773], [2507, 3.9441210710128054], [2508, 3.566666666666667], [2509, 3.341463414634146], [2510, 4.534883720930233], [2511, 4.206896551724138], [2512, 3.870967741935484], [2513, 4.075757575757576], [2514, 4.419354838709677], [2515, 4.137254901960785], [2516, 3.772727272727273], [2517, 3.3], [2518, 3.9761904761904763], [2519, 3.9361702127659575], [2520, 4.104166666666667], [2521, 3.888888888888889], [2522, 3.689189189189189], [2523, 4.007692307692308], [2524, 3.423076923076923], [2525, 3.542372881355932], [2526, 3.88212927756654], [2527, 4.142857142857143], [2528, 3.2419354838709675], [2529, 3.6933497536945814], [2530, 3.85], [2531, 3.806451612903226], [2532, 4.096774193548387], [2533, 3.9236641221374047], [2534, 3.473684210526316], [2535, 3.984848484848485], [2536, 3.1578947368421053], [2537, 3.027075812274368], [2538, 3.88], [2539, 3.8048780487804876], [2540, 3.968609865470852], [2541, 3.31640625], [2542, 3.88], [2543, 4.458333333333333], [2544, 3.689986282578875], [2545, 4.098039215686274], [2546, 3.3220338983050848], [2547, 4.143884892086331], [2548, 3.9302325581395348], [2549, 3.0869565217391304], [2550, 3.702127659574468], [2551, 3.3026315789473686], [2552, 3.625], [2553, 4.130434782608695], [2554, 4.023809523809524], [2555, 3.6012658227848102], [2556, 3.4893617021276597], [2557, 3.6486486486486487], [2558, 3.5625], [2559, 3.835897435897436], [2560, 4.125], [2561, 3.779220779220779], [2562, 3.8596491228070176], [2563, 2.962962962962963], [2564, 3.775], [2565, 3.723333333333333], [2566, 3.3636363636363638], [2567, 3.4851190476190474], [2568, 3.4242424242424243], [2569, 3.4565217391304346], [2570, 3.8125], [2571, 4.073529411764706], [2572, 4.185430463576159], [2573, 4.010309278350515], [2574, 4.606060606060606], [2575, 3.7337278106508878], [2576, 3.0833333333333335], [2577, 3.1538461538461537], [2578, 4.142857142857143], [2579, 4.161764705882353], [2580, 3.7027027027027026], [2581, 4.052109181141439], [2582, 4.0], [2583, 4.341389728096677], [2584, 3.7], [2585, 3.706422018348624], [2586, 4.122448979591836], [2587, 4.032258064516129], [2588, 3.8048780487804876], [2589, 3.5235849056603774], [2590, 3.2016806722689077], [2591, 3.8048780487804876], [2592, 3.6334841628959276], [2593, 4.536764705882353], [2594, 3.106382978723404], [2595, 3.352201257861635], [2596, 3.7560975609756095], [2597, 3.876923076923077], [2598, 3.7037037037037037], [2599, 3.6200873362445414], [2600, 2.978021978021978], [2601, 3.793103448275862], [2602, 3.3448275862068964], [2603, 3.883720930232558], [2604, 3.8970588235294117], [2605, 3.9361702127659575], [2606, 4.22], [2607, 4.17741935483871], [2608, 4.008771929824562], [2609, 4.306930693069307], [2610, 3.108695652173913], [2611, 3.347319347319347], [2612, 3.0930232558139537], [2613, 4.090909090909091], [2614, 4.133333333333334], [2615, 3.4918032786885247], [2616, 3.58], [2617, 3.5853658536585367], [2618, 3.16], [2619, 4.236559139784946], [2620, 3.532051282051282], [2621, 2.984126984126984], [2622, 3.918918918918919], [2623, 3.759259259259259], [2624, 4.147058823529412], [2625, 3.387323943661972], [2626, 4.045454545454546], [2627, 3.243298969072165], [2628, 3.334975369458128], [2629, 4.011029411764706], [2630, 3.5925925925925926], [2631, 4.269662921348314], [2632, 3.5853658536585367], [2633, 3.7567567567567566], [2634, 3.949640287769784], [2635, 3.440677966101695], [2636, 3.7936507936507935], [2637, 3.4107142857142856], [2638, 3.103646833013436], [2639, 3.878787878787879], [2640, 3.8095238095238093], [2641, 4.09748427672956], [2642, 3.915492957746479], [2643, 3.398678414096916], [2644, 3.857142857142857], [2645, 3.400709219858156], [2646, 4.130434782608695], [2647, 4.333333333333333], [2648, 3.94392523364486], [2649, 3.1488372093023256], [2650, 3.7346938775510203], [2651, 3.310344827586207], [2652, 4.048780487804878], [2653, 3.6206896551724137], [2654, 4.08], [2655, 3.1315789473684212], [2656, 4.090909090909091], [2657, 4.045454545454546], [2658, 3.903225806451613], [2659, 4.105590062111801], [2660, 3.6808510638297873], [2661, 3.6122448979591835], [2662, 3.6904761904761907], [2663, 3.6858974358974357], [2664, 3.449591280653951], [2665, 3.072463768115942], [2666, 3.872340425531915], [2667, 3.40625], [2668, 3.4174311926605503], [2669, 3.747826086956522], [2670, 3.5531914893617023], [2671, 3.217391304347826], [2672, 3.6296296296296298], [2673, 3.75], [2674, 4.142857142857143], [2675, 3.3181818181818183], [2676, 4.170305676855895], [2677, 3.710526315789474], [2678, 3.9047619047619047], [2679, 3.783625730994152], [2680, 3.2850467289719627], [2681, 3.632286995515695], [2682, 2.7], [2683, 4.36964980544747], [2684, 3.5251141552511416], [2685, 3.5969387755102042], [2686, 2.8095238095238093], [2687, 4.260869565217392], [2688, 3.466666666666667], [2689, 4.3861386138613865], [2690, 4.217391304347826], [2691, 4.4896265560165975], [2692, 3.8208955223880596], [2693, 3.8823529411764706], [2694, 4.5], [2695, 3.984126984126984], [2696, 3.3], [2697, 4.411764705882353], [2698, 4.0], [2699, 4.16], [2700, 3.3877551020408165], [2701, 3.219298245614035], [2702, 2.4146341463414633], [2703, 3.6847826086956523], [2704, 4.041666666666667], [2705, 4.090909090909091], [2706, 4.08], [2707, 3.5217391304347827], [2708, 3.081081081081081], [2709, 2.75], [2710, 3.2], [2711, 2.5], [2712, 3.9411764705882355], [2713, 2.72], [2714, 3.55], [2715, 3.3333333333333335], [2716, 3.75], [2717, 3.76], [2718, 3.871794871794872], [2719, 4.145299145299146], [2720, 3.0526315789473686], [2721, 3.823529411764706], [2722, 3.4347826086956523], [2723, 3.4285714285714284], [2724, 3.8097560975609754], [2725, 3.6285714285714286], [2726, 4.595238095238095], [2727, 3.352272727272727], [2728, 3.3582089552238807], [2729, 4.478260869565218], [2730, 3.9808917197452227], [2731, 4.271428571428571], [2732, 4.111111111111111], [2733, 4.434343434343434], [2734, 3.87603305785124], [2735, 3.4166666666666665], [2736, 3.702970297029703], [2737, 3.5463659147869673], [2738, 4.438095238095238], [2739, 3.40625], [2740, 3.696551724137931], [2741, 4.0], [2742, 2.861111111111111], [2743, 3.569476082004556], [2744, 1.3043478260869565], [2745, 3.8527918781725887], [2746, 3.8771929824561404], [2747, 4.302158273381295], [2748, 2.708588957055215], [2749, 3.9555555555555557], [2750, 4.295], [2751, 3.4269662921348316], [2752, 3.2962962962962963], [2753, 3.784158415841584], [2754, 3.79], [2755, 4.434782608695652], [2756, 4.03765690376569], [2757, 3.953488372093023], [2758, 4.0], [2759, 3.55], [2760, 4.102941176470588], [2761, 3.515527950310559], [2762, 4.0], [2763, 2.76], [2764, 4.186440677966102], [2765, 3.6208530805687205], [2766, 4.137254901960785], [2767, 3.269230769230769], [2768, 4.0375], [2769, 3.7534246575342465], [2770, 4.1063829787234045], [2771, 2.940766550522648], [2772, 3.6741573033707864], [2773, 4.072289156626506], [2774, 3.888086642599278], [2775, 4.379310344827586], [2776, 3.802857142857143], [2777, 3.498285714285714], [2778, 4.235849056603773], [2779, 3.935672514619883], [2780, 3.675], [2781, 4.257042253521127], [2782, 3.6666666666666665], [2783, 3.9074074074074074], [2784, 4.069620253164557], [2785, 3.147239263803681], [2786, 4.0134228187919465], [2787, 3.971014492753623], [2788, 4.419354838709677], [2789, 3.776595744680851], [2790, 4.245901639344262], [2791, 4.5625], [2792, 2.9476439790575917], [2793, 4.068441064638783], [2794, 3.832167832167832], [2795, 3.62], [2796, 2.50990099009901], [2797, 3.0], [2798, 4.064935064935065], [2799, 4.130434782608695], [2800, 3.4615384615384617], [2801, 3.1782178217821784], [2802, 3.6], [2803, 3.7927927927927927], [2804, 3.888888888888889], [2805, 3.897727272727273], [2806, 3.3037974683544302], [2807, 3.391044776119403], [2808, 4.115107913669065], [2809, 4.339449541284404], [2810, 3.4688279301745637], [2811, 3.6666666666666665], [2812, 3.603305785123967], [2813, 3.0], [2814, 4.047058823529412], [2815, 3.690909090909091], [2816, 3.8181818181818183], [2817, 4.2073170731707314], [2818, 3.6109215017064846], [2819, 3.9], [2820, 2.9642058165548097], [2821, 3.6333333333333333], [2822, 3.725806451612903], [2823, 2.9148936170212765], [2824, 3.9274193548387095], [2825, 3.9592760180995477], [2826, 3.609848484848485], [2827, 3.242424242424242], [2828, 4.017241379310345], [2829, 2.9473684210526314], [2830, 3.388235294117647], [2831, 4.222222222222222], [2832, 4.0], [2833, 3.30188679245283], [2834, 4.181818181818182], [2835, 3.8684210526315788], [2836, 3.3636363636363638], [2837, 3.302127659574468], [2838, 4.512820512820513], [2839, 3.3142857142857145], [2840, 2.942857142857143], [2841, 4.170786516853933], [2842, 3.6292134831460676], [2843, 2.8461538461538463], [2844, 3.287037037037037], [2845, 3.9444444444444446], [2846, 3.3137254901960786], [2847, 2.7146464646464645], [2848, 3.3363636363636364], [2849, 4.509677419354839], [2850, 2.7674418604651163], [2851, 3.5757575757575757], [2852, 4.118518518518519], [2853, 3.460674157303371], [2854, 3.1135265700483092], [2855, 2.8904109589041096], [2856, 3.5384615384615383], [2857, 3.159748427672956], [2858, 3.9452054794520546], [2859, 4.195488721804511], [2860, 3.9192913385826773], [2861, 3.369565217391304], [2862, 4.023255813953488], [2863, 3.641025641025641], [2864, 3.3076923076923075], [2865, 3.7282608695652173], [2866, 3.351219512195122], [2867, 4.25], [2868, 3.612565445026178], [2869, 3.727272727272727], [2870, 2.867132867132867], [2871, 3.607142857142857], [2872, 3.7423167848699763], [2873, 3.5665236051502145], [2874, 3.883495145631068], [2875, 4.314285714285714], [2876, 3.731578947368421], [2877, 3.4782608695652173], [2878, 3.614388489208633], [2879, 3.96], [2880, 3.4395604395604398], [2881, 3.8160919540229883], [2882, 3.3333333333333335], [2883, 2.7181208053691277], [2884, 4.2], [2885, 4.09375], [2886, 3.9080459770114944], [2887, 3.52027027027027], [2888, 3.481382978723404], [2889, 3.81025641025641], [2890, 3.5390070921985815], [2891, 3.3620689655172415], [2892, 3.6881720430107525], [2893, 3.857142857142857], [2894, 3.8672566371681416], [2895, 3.7387914230019494], [2896, 3.578125], [2897, 3.623931623931624], [2898, 3.871559633027523], [2899, 3.9529411764705884], [2900, 4.033557046979865], [2901, 4.289156626506024], [2902, 3.8636363636363638], [2903, 4.089041095890411], [2904, 3.8627450980392157], [2905, 3.6984126984126986], [2906, 3.418181818181818], [2907, 3.293286219081272], [2908, 3.761904761904762], [2909, 3.8227344992050876], [2910, 3.5594405594405596], [2911, 3.634920634920635], [2912, 2.6363636363636362], [2913, 3.9575757575757575], [2914, 4.458333333333333], [2915, 3.763888888888889], [2916, 3.665236051502146], [2917, 3.5285714285714285], [2918, 3.6098191214470283], [2919, 3.769230769230769], [2920, 3.4583333333333335], [2921, 3.283464566929134], [2922, 4.535211267605634], [2923, 3.9523809523809526], [2924, 3.9565217391304346], [2925, 3.84], [2926, 3.283625730994152], [2927, 3.7903225806451615], [2928, 3.842857142857143], [2929, 3.925414364640884], [2930, 3.45], [2931, 3.6339285714285716], [2932, 3.9285714285714284], [2933, 3.782258064516129], [2934, 3.307073954983923], [2935, 3.4166666666666665], [2936, 4.290909090909091], [2937, 3.5288461538461537], [2938, 3.8756218905472637], [2939, 3.777027027027027], [2940, 3.5483870967741935], [2941, 3.4596100278551534], [2942, 4.4728682170542635], [2943, 4.395161290322581], [2944, 4.218390804597701], [2945, 3.838235294117647], [2946, 2.839479392624729], [2947, 3.713235294117647], [2948, 4.037735849056604], [2949, 3.75], [2950, 3.1492537313432836], [2951, 4.230769230769231], [2952, 4.208333333333333], [2953, 3.2], [2954, 3.9444444444444446], [2955, 3.2408376963350785], [2956, 3.4814814814814814], [2957, 4.453125], [2958, 3.0232558139534884], [2959, 3.9726027397260273], [2960, 4.032258064516129], [2961, 3.977272727272727], [2962, 2.8992], [2963, 3.9743589743589745], [2964, 4.541666666666667], [2965, 3.5925925925925926], [2966, 4.0625], [2967, 3.455407969639469], [2968, 3.788235294117647], [2969, 3.7126436781609193], [2970, 4.291666666666667], [2971, 3.8333333333333335], [2972, 3.497041420118343], [2973, 3.435483870967742], [2974, 4.290322580645161], [2975, 4.19], [2976, 3.6013986013986012], [2977, 3.238095238095238], [2978, 3.786127167630058], [2979, 4.0], [2980, 3.5955882352941178], [2981, 4.266666666666667], [2982, 3.6363636363636362], [2983, 4.363636363636363], [2984, 3.6666666666666665], [2985, 3.532608695652174], [2986, 3.433333333333333], [2987, 3.6481481481481484], [2988, 3.1587301587301586], [2989, 3.742857142857143], [2990, 3.9655172413793105], [2991, 3.9655172413793105], [2992, 3.302325581395349], [2993, 3.819277108433735], [2994, 3.2572944297082227], [2995, 3.8475073313782993], [2996, 3.146750524109015], [2997, 4.0119760479041915], [2998, 3.5], [2999, 2.9407407407407407], [3000, 3.2641509433962264], [3001, 3.9935275080906147], [3002, 4.217687074829932], [3003, 3.9240506329113924], [3004, 3.85], [3005, 3.8018018018018016], [3006, 4.153846153846154], [3007, 2.8702928870292888], [3008, 3.823529411764706], [3009, 4.0], [3010, 3.4380952380952383], [3011, 4.315217391304348], [3012, 2.5062111801242235], [3013, 3.4539614561027836], [3014, 3.570588235294118], [3015, 3.4285714285714284], [3016, 3.8292682926829267], [3017, 3.2845303867403315], [3018, 3.7], [3019, 4.148148148148148], [3020, 4.017647058823529], [3021, 3.25], [3022, 3.006666666666667], [3023, 3.5161290322580645], [3024, 3.63302752293578], [3025, 4.108108108108108], [3026, 2.761904761904762], [3027, 4.217391304347826], [3028, 3.743362831858407], [3029, 3.914586070959264], [3030, 3.769230769230769], [3031, 3.904], [3032, 4.278704612365064], [3033, 3.601503759398496], [3034, 3.9285714285714284], [3035, 3.8125], [3036, 4.525862068965517], [3037, 4.21875], [3038, 4.0423728813559325], [3039, 4.409836065573771], [3040, 3.5833333333333335], [3041, 3.481132075471698], [3042, 3.8219178082191783], [3043, 2.7777777777777777], [3044, 4.016447368421052], [3045, 4.277027027027027], [3046, 3.3376623376623376], [3047, 3.642857142857143], [3048, 3.914285714285714], [3049, 4.267605633802817], [3050, 3.65625], [3051, 3.264705882352941], [3052, 3.2222222222222223], [3053, 3.25], [3054, 3.5076045627376424], [3055, 3.5121951219512195], [3056, 3.653992395437262], [3057, 3.472049689440994], [3058, 3.696551724137931], [3059, 4.0], [3060, 3.5675675675675675], [3061, 4.125], [3062, 3.296875], [3063, 3.6875], [3064, 4.204545454545454], [3065, 3.7943262411347516], [3066, 3.933333333333333], [3067, 3.7530266343825667], [3068, 3.761904761904762], [3069, 2.883720930232558], [3070, 3.923076923076923], [3071, 3.076923076923077], [3072, 3.380952380952381], [3073, 4.543859649122807], [3074, 4.302816901408451], [3075, 3.6339622641509433], [3076, 3.8181818181818183], [3077, 3.8461538461538463], [3078, 4.0625], [3079, 3.883720930232558], [3080, 3.88021778584392], [3081, 4.0390625], [3082, 3.372972972972973], [3083, 3.8484848484848486], [3084, 3.7051282051282053], [3085, 4.170731707317073], [3086, 4.221238938053097], [3087, 3.919191919191919], [3088, 4.02], [3089, 4.339622641509434], [3090, 3.6451612903225805], [3091, 3.75], [3092, 4.018867924528302], [3093, 3.798882681564246], [3094, 3.658536585365854], [3095, 3.896551724137931], [3096, 4.106598984771574], [3097, 3.634920634920635], [3098, 3.369565217391304], [3099, 3.2830188679245285], [3100, 4.2], [3101, 4.148148148148148], [3102, 3.4411764705882355], [3103, 4.128205128205129], [3104, 3.896551724137931], [3105, 3.9916666666666667], [3106, 4.161764705882353], [3107, 3.5555555555555554], [3108, 3.68801652892562], [3109, 3.526315789473684], [3110, 3.6033333333333335], [3111, 3.2419354838709675], [3112, 3.3896713615023475], [3113, 3.68], [3114, 3.342857142857143], [3115, 3.4166666666666665], [3116, 3.635294117647059], [3117, 4.297297297297297], [3118, 3.543859649122807], [3119, 3.3777777777777778], [3120, 3.6216216216216215], [3121, 3.4686346863468636], [3122, 3.111111111111111], [3123, 3.5612903225806454], [3124, 3.423076923076923], [3125, 3.7288135593220337], [3126, 3.765432098765432], [3127, 4.121951219512195], [3128, 3.5236593059936907], [3129, 3.2703777335984094], [3130, 3.626865671641791], [3131, 3.3506493506493507], [3132, 3.4642857142857144], [3133, 3.2857142857142856], [3134, 3.623762376237624], [3135, 4.097560975609756], [3136, 4.1], [3137, 3.4313725490196076], [3138, 3.3443396226415096], [3139, 4.11864406779661], [3140, 3.9009287925696596], [3141, 4.114754098360656], [3142, 4.074468085106383], [3143, 3.3537735849056602], [3144, 3.6857142857142855], [3145, 3.72972972972973], [3146, 3.7580645161290325], [3147, 3.4834123222748814], [3148, 3.696078431372549], [3149, 4.111111111111111], [3150, 3.883116883116883], [3151, 4.122093023255814], [3152, 3.0], [3153, 3.6136363636363638], [3154, 3.761904761904762], [3155, 4.035294117647059], [3156, 3.40625], [3157, 3.559748427672956], [3158, 3.918918918918919], [3159, 4.033613445378151], [3160, 4.04], [3161, 4.140845070422535], [3162, 2.8780487804878048], [3163, 3.9324009324009324], [3164, 3.5], [3165, 3.7], [3166, 3.925], [3167, 4.031818181818182], [3168, 3.3333333333333335], [3169, 3.7674418604651163], [3170, 3.904109589041096], [3171, 4.181818181818182], [3172, 3.5833333333333335], [3173, 4.168421052631579], [3174, 3.6436781609195403], [3175, 4.091954022988506], [3176, 3.380952380952381], [3177, 4.180327868852459], [3178, 2.75], [3179, 3.2], [3180, 2.86734693877551], [3181, 4.36], [3182, 3.0782747603833864], [3183, 3.3513513513513513], [3184, 3.8285714285714287], [3185, 3.988888888888889], [3186, 3.7837837837837838], [3187, 4.333333333333333], [3188, 4.238095238095238], [3189, 3.182857142857143], [3190, 3.9444444444444446], [3191, 3.147783251231527], [3192, 4.3], [3193, 3.1473684210526316], [3194, 3.735294117647059], [3195, 3.5], [3196, 3.232786885245902], [3197, 3.323529411764706], [3198, 4.104761904761904], [3199, 3.47], [3200, 3.7861635220125787], [3201, 4.082959641255606], [3202, 3.4615384615384617], [3203, 4.049382716049383], [3204, 4.395833333333333], [3205, 3.413114754098361], [3206, 3.6], [3207, 4.141414141414141], [3208, 3.3229166666666665], [3209, 2.0608695652173914], [3210, 4.5369127516778525], [3211, 4.051546391752577], [3212, 2.8846153846153846], [3213, 3.6861313868613137], [3214, 4.25], [3215, 3.25], [3216, 3.324074074074074], [3217, 3.862857142857143], [3218, 3.467741935483871], [3219, 3.7464788732394365], [3220, 3.7777777777777777], [3221, 4.2926829268292686], [3222, 3.7], [3223, 3.557377049180328], [3224, 3.7928251121076233], [3225, 3.6666666666666665], [3226, 4.346774193548387], [3227, 3.7280701754385963], [3228, 3.83974358974359], [3229, 3.4030612244897958], [3230, 3.912751677852349], [3231, 4.124183006535947], [3232, 3.0625], [3233, 4.086956521739131], [3234, 3.857142857142857], [3235, 4.108108108108108], [3236, 2.9130434782608696], [3237, 3.8846153846153846], [3238, 4.46875], [3239, 3.554054054054054], [3240, 3.3701298701298703], [3241, 3.709090909090909], [3242, 3.5904761904761906], [3243, 3.816593886462882], [3244, 4.125], [3245, 2.607594936708861], [3246, 3.310344827586207], [3247, 3.896551724137931], [3248, 3.5476190476190474], [3249, 3.7384615384615385], [3250, 3.2419354838709675], [3251, 4.464285714285714], [3252, 2.8857142857142857], [3253, 3.856287425149701], [3254, 3.5217391304347827], [3255, 3.6222222222222222], [3256, 4.068965517241379], [3257, 4.2592592592592595], [3258, 3.85], [3259, 4.045569620253165], [3260, 3.9078947368421053], [3261, 3.2430426716141003], [3262, 3.3626373626373627], [3263, 3.9292035398230087], [3264, 2.75], [3265, 2.8484251968503935], [3266, 4.357615894039735], [3267, 3.857142857142857], [3268, 3.8656716417910446], [3269, 3.855421686746988], [3270, 3.6639344262295084], [3271, 3.8214285714285716], [3272, 3.77511961722488], [3273, 4.1], [3274, 3.242424242424242], [3275, 3.4761904761904763], [3276, 3.0689655172413794], [3277, 4.053333333333334], [3278, 3.869565217391304], [3279, 2.6857142857142855], [3280, 2.782742681047766], [3281, 4.031578947368421], [3282, 4.5], [3283, 3.597560975609756], [3284, 4.2926829268292686], [3285, 3.419457735247209], [3286, 4.285714285714286], [3287, 4.583333333333333], [3288, 3.576923076923077], [3289, 3.84], [3290, 2.6818181818181817], [3291, 3.75], [3292, 4.021299254526092], [3293, 3.2888888888888888], [3294, 4.11340206185567], [3295, 3.824324324324324], [3296, 4.375], [3297, 3.238095238095238], [3298, 4.4375], [3299, 4.052980132450331], [3300, 3.9640883977900554], [3301, 3.696774193548387], [3302, 3.4767441860465116], [3303, 4.4], [3304, 4.1647058823529415], [3305, 4.278846153846154], [3306, 4.666666666666667], [3307, 3.6153846153846154], [3308, 3.189265536723164], [3309, 3.6457564575645756], [3310, 4.121212121212121], [3311, 2.7782608695652176], [3312, 3.001503759398496], [3313, 3.613107822410148], [3314, 4.002994011976048], [3315, 4.021978021978022], [3316, 4.0], [3317, 3.9727272727272727], [3318, 4.242857142857143], [3319, 3.4390243902439024], [3320, 3.1270125223613596], [3321, 4.0], [3322, 4.270833333333333], [3323, 3.8412698412698414], [3324, 4.904761904761905], [3325, 2.4615384615384617], [3326, 3.9473684210526314], [3327, 3.505586592178771], [3328, 3.4835164835164836], [3329, 3.5072463768115942], [3330, 3.8333333333333335], [3331, 3.6142857142857143], [3332, 3.127450980392157], [3333, 3.53125], [3334, 3.89], [3335, 4.074074074074074], [3336, 2.7481259370314843], [3337, 3.7160493827160495], [3338, 3.975], [3339, 4.0120481927710845], [3340, 3.957983193277311], [3341, 3.9602649006622515], [3342, 3.310344827586207], [3343, 4.122448979591836], [3344, 4.392857142857143], [3345, 3.5460992907801416], [3346, 3.7816593886462884], [3347, 4.4], [3348, 4.0], [3349, 3.6853146853146854], [3350, 4.326086956521739], [3351, 4.0], [3352, 3.4895833333333335], [3353, 3.872340425531915], [3354, 2.9393939393939394], [3355, 3.9393939393939394], [3356, 4.401673640167364], [3357, 4.072463768115942], [3358, 3.8017241379310347], [3359, 3.4767441860465116], [3360, 3.4827586206896552], [3361, 3.8447204968944098], [3362, 3.5584415584415585], [3363, 3.5371900826446283], [3364, 3.625], [3365, 4.156521739130435], [3366, 3.740740740740741], [3367, 4.261971830985916], [3368, 3.6391752577319587], [3369, 3.90625], [3370, 3.3636363636363638], [3371, 3.43064182194617], [3372, 4.258064516129032], [3373, 3.5], [3374, 3.9326923076923075], [3375, 3.740740740740741], [3376, 3.35], [3377, 3.982142857142857], [3378, 3.578723404255319], [3379, 3.717948717948718], [3380, 3.752759381898455], [3381, 3.4827586206896552], [3382, 3.392857142857143], [3383, 3.607843137254902], [3384, 3.5714285714285716], [3385, 3.3333333333333335], [3386, 3.7094594594594597], [3387, 3.3795620437956204], [3388, 3.6666666666666665], [3389, 2.826923076923077], [3390, 4.187192118226601], [3391, 3.7203947368421053], [3392, 3.8], [3393, 3.5430711610486894], [3394, 3.892638036809816], [3395, 3.6964285714285716], [3396, 3.8260869565217392], [3397, 4.068965517241379], [3398, 3.6], [3399, 3.5454545454545454], [3400, 4.059633027522936], [3401, 2.95221027479092], [3402, 3.8424242424242423], [3403, 4.1414634146341465], [3404, 3.8076923076923075], [3405, 4.121951219512195], [3406, 4.048780487804878], [3407, 3.5], [3408, 3.7672413793103448], [3409, 4.204545454545454], [3410, 3.217510259917921], [3411, 2.7321937321937324], [3412, 4.156996587030717], [3413, 4.110236220472441], [3414, 4.097643097643098], [3415, 4.0120481927710845], [3416, 3.578723404255319], [3417, 3.869565217391304], [3418, 3.7914691943127963], [3419, 4.033333333333333], [3420, 4.3545454545454545], [3421, 4.333333333333333], [3422, 2.657963446475196], [3423, 3.943217665615142], [3424, 4.197183098591549], [3425, 3.5386178861788617], [3426, 3.975], [3427, 3.763157894736842], [3428, 4.0], [3429, 3.6], [3430, 3.41871921182266], [3431, 3.806451612903226], [3432, 3.2758620689655173], [3433, 3.022727272727273], [3434, 3.6264367816091956], [3435, 3.8253968253968256], [3436, 3.799019607843137], [3437, 4.5], [3438, 3.55], [3439, 4.101123595505618], [3440, 4.2592592592592595], [3441, 2.90625], [3442, 3.435483870967742], [3443, 3.92], [3444, 3.1], [3445, 3.8819444444444446], [3446, 4.472222222222222], [3447, 3.8588235294117648], [3448, 3.6153846153846154], [3449, 4.171875], [3450, 3.6031746031746033], [3451, 3.870967741935484], [3452, 4.458823529411765], [3453, 3.37123745819398], [3454, 3.5027624309392267], [3455, 4.043478260869565], [3456, 4.418181818181818], [3457, 3.51875], [3458, 4.0], [3459, 3.793103448275862], [3460, 4.214285714285714], [3461, 4.702702702702703], [3462, 3.295169946332737], [3463, 3.891891891891892], [3464, 3.6172506738544477], [3465, 3.8135593220338984], [3466, 4.162162162162162], [3467, 4.084745762711864], [3468, 4.015151515151516], [3469, 3.8845315904139435], [3470, 3.6785714285714284], [3471, 3.1650485436893203], [3472, 4.04], [3473, 3.993710691823899], [3474, 4.435], [3475, 3.017684887459807], [3476, 2.622695035460993], [3477, 3.9565217391304346], [3478, 3.3783783783783785], [3479, 3.588888888888889], [3480, 3.7872340425531914], [3481, 3.9785714285714286], [3482, 3.8028169014084505], [3483, 3.809379727685325], [3484, 2.970873786407767], [3485, 4.25], [3486, 4.082474226804123], [3487, 3.5283018867924527], [3488, 2.8095238095238093], [3489, 2.876190476190476], [3490, 3.889344262295082], [3491, 3.8170563961485557], [3492, 3.9206349206349205], [3493, 3.576687116564417], [3494, 3.5714285714285716], [3495, 3.2857142857142856], [3496, 3.76], [3497, 4.184782608695652], [3498, 3.7606837606837606], [3499, 3.4897025171624714], [3500, 3.7419354838709675], [3501, 4.208121827411167], [3502, 4.393939393939394], [3503, 4.093877551020408], [3504, 3.5233644859813085], [3505, 3.62], [3506, 4.294117647058823], [3507, 3.2611050920910074], [3508, 3.6944444444444446], [3509, 2.977722772277228], [3510, 3.6865671641791047], [3511, 3.878640776699029], [3512, 3.584352078239609], [3513, 3.4083601286173635], [3514, 3.973684210526316], [3515, 3.86], [3516, 3.305732484076433], [3517, 3.8688524590163933], [3518, 3.7908366533864544], [3519, 3.045045045045045], [3520, 3.709342560553633], [3521, 3.7906976744186047], [3522, 4.032258064516129], [3523, 3.8205128205128207], [3524, 3.5751633986928106], [3525, 3.477777777777778], [3526, 2.8399168399168397], [3527, 3.5641025641025643], [3528, 2.5714285714285716], [3529, 3.0352422907488985], [3530, 3.75], [3531, 4.233766233766234], [3532, 3.8596491228070176], [3533, 3.5543478260869565], [3534, 4.072727272727272], [3535, 3.9655172413793105], [3536, 3.7636363636363637], [3537, 2.456140350877193], [3538, 3.773006134969325], [3539, 4.038033395176252], [3540, 4.110576923076923], [3541, 4.228571428571429], [3542, 3.1818181818181817], [3543, 3.605769230769231], [3544, 4.344827586206897], [3545, 3.4285714285714284], [3546, 3.392682926829268], [3547, 3.5359116022099446], [3548, 2.5384615384615383], [3549, 3.945945945945946], [3550, 3.5126050420168067], [3551, 3.9310344827586206], [3552, 3.2], [3553, 4.085106382978723], [3554, 3.696969696969697], [3555, 3.108527131782946], [3556, 3.8660714285714284], [3557, 3.864795918367347], [3558, 4.31], [3559, 4.391891891891892], [3560, 4.45985401459854], [3561, 3.976833976833977], [3562, 3.38506588579795], [3563, 3.843601895734597], [3564, 3.25], [3565, 3.1714285714285713], [3566, 3.838709677419355], [3567, 3.9565217391304346], [3568, 3.9411764705882355], [3569, 2.9016018306636155], [3570, 3.1818181818181817], [3571, 3.3653846153846154], [3572, 4.2342342342342345], [3573, 3.361111111111111], [3574, 3.636871508379888], [3575, 3.3157894736842106], [3576, 3.325323475046211], [3577, 3.730769230769231], [3578, 3.3948339483394836], [3579, 3.323420074349442], [3580, 4.027777777777778], [3581, 3.235294117647059], [3582, 3.6288659793814433], [3583, 4.2], [3584, 3.08955223880597], [3585, 3.6946564885496183], [3586, 3.361963190184049], [3587, 4.348837209302325], [3588, 4.066666666666666], [3589, 2.494186046511628], [3590, 4.1645021645021645], [3591, 3.712871287128713], [3592, 4.361344537815126], [3593, 3.390625], [3594, 3.445859872611465], [3595, 4.0], [3596, 4.6875], [3597, 3.973684210526316], [3598, 1.0153846153846153], [3599, 3.4545454545454546], [3600, 3.725067385444744], [3601, 4.1265822784810124], [3602, 3.686046511627907], [3603, 2.8048780487804876], [3604, 4.592592592592593], [3605, 3.9478260869565216], [3606, 4.114285714285714], [3607, 3.4423076923076925], [3608, 3.7549019607843137], [3609, 3.1586206896551725], [3610, 2.3333333333333335], [3611, 4.029268292682927], [3612, 3.6651162790697676], [3613, 3.857142857142857], [3614, 3.2802547770700636], [3615, 3.425287356321839], [3616, 3.857142857142857], [3617, 3.617021276595745], [3618, 3.0081845238095237], [3619, 3.6831683168316833], [3620, 2.9582366589327145], [3621, 3.113456464379947], [3622, 3.89937106918239], [3623, 3.6818181818181817], [3624, 3.9858757062146895], [3625, 3.282178217821782], [3626, 3.598830409356725], [3627, 3.638888888888889], [3628, 3.5161290322580645], [3629, 4.161290322580645], [3630, 3.298342541436464], [3631, 3.875], [3632, 3.3793103448275863], [3633, 4.0], [3634, 3.0869565217391304], [3635, 4.208588957055214], [3636, 3.6956521739130435], [3637, 2.984848484848485], [3638, 3.456], [3639, 2.988372093023256], [3640, 3.9452054794520546], [3641, 3.6371134020618556], [3642, 2.5714285714285716], [3643, 3.4909090909090907], [3644, 4.024390243902439], [3645, 3.8550724637681157], [3646, 4.139784946236559], [3647, 3.787878787878788], [3648, 3.017543859649123], [3649, 4.254901960784314], [3650, 3.5605095541401273], [3651, 3.952191235059761], [3652, 3.4290657439446366], [3653, 4.207207207207207], [3654, 3.3085106382978724], [3655, 3.78125], [3656, 3.0126582278481013], [3657, 4.157894736842105], [3658, 3.981203007518797], [3659, 4.21875], [3660, 3.7413793103448274], [3661, 3.92], [3662, 3.034090909090909], [3663, 3.4505494505494507], [3664, 3.029850746268657], [3665, 3.8564814814814814], [3666, 4.142857142857143], [3667, 3.9272727272727272], [3668, 3.973684210526316], [3669, 3.194954128440367], [3670, 3.573529411764706], [3671, 4.201923076923077], [3672, 3.3201970443349755], [3673, 3.8962264150943398], [3674, 3.7472527472527473], [3675, 3.487632508833922], [3676, 3.633663366336634], [3677, 3.950354609929078], [3678, 3.2014388489208634], [3679, 3.5625], [3680, 3.892857142857143], [3681, 3.874251497005988], [3682, 4.461538461538462], [3683, 3.095076400679117], [3684, 4.280575539568345], [3685, 4.068403908794788], [3686, 4.4], [3687, 3.0785340314136125], [3688, 4.457236842105263], [3689, 2.9557522123893807], [3690, 2.9301745635910224], [3691, 3.665562913907285], [3692, 3.9859154929577465], [3693, 3.453020134228188], [3694, 3.9622641509433962], [3695, 3.9900662251655628], [3696, 3.94], [3697, 4.029411764705882], [3698, 3.0], [3699, 4.60655737704918], [3700, 3.9696969696969697], [3701, 3.75], [3702, 3.7872340425531914], [3703, 3.3], [3704, 4.442922374429224], [3705, 3.7045454545454546], [3706, 4.115384615384615], [3707, 3.823529411764706], [3708, 3.857142857142857], [3709, 3.2658610271903323], [3710, 3.8260869565217392], [3711, 4.193181818181818], [3712, 3.5785714285714287], [3713, 3.7450980392156863], [3714, 3.1], [3715, 3.7531645569620253], [3716, 3.5714285714285716], [3717, 3.769230769230769], [3718, 3.6282527881040894], [3719, 3.8055555555555554], [3720, 3.4589371980676327], [3721, 3.705426356589147], [3722, 3.967741935483871], [3723, 4.256410256410256], [3724, 3.5283018867924527], [3725, 3.6923076923076925], [3726, 3.4705882352941178], [3727, 3.2282608695652173], [3728, 3.875], [3729, 3.783295711060948], [3730, 3.6206896551724137], [3731, 2.752], [3732, 3.3701923076923075], [3733, 3.823529411764706], [3734, 3.08], [3735, 3.6411960132890364], [3736, 3.568], [3737, 3.9], [3738, 4.53125], [3739, 3.5454545454545454], [3740, 4.276595744680851], [3741, 3.611940298507463], [3742, 3.712], [3743, 3.5625], [3744, 4.083333333333333], [3745, 3.297029702970297], [3746, 3.793103448275862], [3747, 4.03125], [3748, 3.71875], [3749, 3.6864406779661016], [3750, 3.4358974358974357], [3751, 3.3931203931203933], [3752, 3.372972972972973], [3753, 3.7755102040816326], [3754, 3.6875], [3755, 4.472222222222222], [3756, 3.8743961352657004], [3757, 4.263681592039801], [3758, 3.14], [3759, 4.009708737864078], [3760, 3.7753164556962027], [3761, 4.187134502923977], [3762, 2.542372881355932], [3763, 3.8857142857142857], [3764, 3.925925925925926], [3765, 4.0], [3766, 3.0483870967741935], [3767, 3.1951219512195124], [3768, 3.359154929577465], [3769, 4.290243902439024], [3770, 4.003759398496241], [3771, 2.6844349680170576], [3772, 3.8541666666666665], [3773, 3.4265927977839334], [3774, 4.0], [3775, 3.806451612903226], [3776, 3.9047619047619047], [3777, 3.6293103448275863], [3778, 2.6886291179596173], [3779, 3.625], [3780, 4.24], [3781, 4.483870967741935], [3782, 4.061538461538461], [3783, 3.875], [3784, 3.7804878048780486], [3785, 3.2], [3786, 4.031746031746032], [3787, 4.05], [3788, 3.75], [3789, 4.231788079470198], [3790, 4.264], [3791, 3.388888888888889], [3792, 3.5761266747868454], [3793, 2.789473684210526], [3794, 3.0681818181818183], [3795, 4.137931034482759], [3796, 4.014851485148514], [3797, 3.4814814814814814], [3798, 3.6333333333333333], [3799, 3.9921875], [3800, 3.492957746478873], [3801, 3.8142857142857145], [3802, 3.1818181818181817], [3803, 3.6363636363636362], [3804, 3.5614973262032086], [3805, 3.7837837837837838], [3806, 2.9580838323353293], [3807, 3.3410041841004183], [3808, 2.9844559585492227], [3809, 4.404255319148936], [3810, 4.402985074626866], [3811, 3.8], [3812, 3.526315789473684], [3813, 4.447761194029851], [3814, 3.5], [3815, 4.333333333333333], [3816, 3.9371069182389937], [3817, 3.452830188679245], [3818, 4.1063829787234045], [3819, 4.0423728813559325], [3820, 4.4222222222222225], [3821, 2.916323731138546], [3822, 3.4239130434782608], [3823, 3.9510268562401265], [3824, 3.004911591355599], [3825, 2.9674134419551934], [3826, 3.857142857142857], [3827, 3.747311827956989], [3828, 3.9285714285714284], [3829, 3.008515815085158], [3830, 4.051470588235294], [3831, 3.401639344262295], [3832, 4.111111111111111], [3833, 3.6698717948717947], [3834, 4.254448398576512], [3835, 4.472527472527473], [3836, 3.388235294117647], [3837, 3.770408163265306], [3838, 3.25], [3839, 3.340909090909091], [3840, 4.088235294117647], [3841, 3.3445723684210527], [3842, 3.687593423019432], [3843, 2.6666666666666665], [3844, 4.082089552238806], [3845, 4.121621621621622], [3846, 3.9571428571428573], [3847, 2.727272727272727], [3848, 4.153846153846154], [3849, 3.1492537313432836], [3850, 3.8671875], [3851, 3.116279069767442], [3852, 4.43859649122807], [3853, 4.248407643312102], [3854, 4.048780487804878], [3855, 3.712871287128713], [3856, 3.9361702127659575], [3857, 3.925925925925926], [3858, 4.277777777777778], [3859, 3.414239482200647], [3860, 3.6491228070175437], [3861, 3.975609756097561], [3862, 3.878787878787879], [3863, 3.76], [3864, 4.51980198019802], [3865, 2.8421052631578947], [3866, 3.635294117647059], [3867, 4.0], [3868, 3.4363636363636365], [3869, 2.96], [3870, 3.8461538461538463], [3871, 3.2982456140350878], [3872, 4.479166666666667], [3873, 3.7012987012987013], [3874, 3.9217391304347826], [3875, 3.717948717948718], [3876, 3.5681818181818183], [3877, 4.409090909090909], [3878, 3.950413223140496], [3879, 3.3043478260869565], [3880, 3.473684210526316], [3881, 3.5925925925925926], [3882, 3.7339901477832513], [3883, 3.25], [3884, 2.7680491551459294], [3885, 3.6932203389830507], [3886, 3.67032967032967], [3887, 3.3448275862068964], [3888, 3.7086092715231787], [3889, 4.293233082706767], [3890, 4.197183098591549], [3891, 4.16], [3892, 3.3962264150943398], [3893, 2.58], [3894, 3.761006289308176], [3895, 3.295774647887324], [3896, 3.141891891891892], [3897, 4.095238095238095], [3898, 3.742574257425743], [3899, 3.576923076923077], [3900, 3.5941320293398533], [3901, 3.546666666666667], [3902, 4.890909090909091], [3903, 3.3333333333333335], [3904, 3.912621359223301], [3905, 3.9135802469135803], [3906, 3.65625], [3907, 3.576923076923077], [3908, 3.69375], [3909, 3.41025641025641], [3910, 3.5900383141762453], [3911, 3.64], [3912, 4.475247524752476], [3913, 3.658682634730539], [3914, 3.6371681415929205], [3915, 3.652173913043478], [3916, 3.890566037735849], [3917, 3.6530612244897958], [3918, 3.3076923076923075], [3919, 4.072463768115942], [3920, 4.133333333333334], [3921, 3.9305555555555554], [3922, 2.7808988764044944], [3923, 3.7766990291262137], [3924, 3.935064935064935], [3925, 3.9722222222222223], [3926, 3.9076923076923076], [3927, 3.9423076923076925], [3928, 3.1785714285714284], [3929, 3.0277777777777777], [3930, 4.262886597938144], [3931, 3.5107296137339055], [3932, 3.9375], [3933, 3.875], [3934, 2.607396870554765], [3935, 3.4226190476190474], [3936, 4.352941176470588], [3937, 4.273972602739726], [3938, 4.170212765957447], [3939, 3.7083333333333335], [3940, 3.680894308943089], [3941, 3.02], [3942, 2.655115511551155], [3943, 4.2153846153846155], [3944, 3.54], [3945, 3.4237288135593222], [3946, 3.734848484848485], [3947, 4.117647058823529], [3948, 3.372549019607843], [3949, 3.824324324324324], [3950, 3.2714285714285714], [3951, 3.5969387755102042], [3952, 3.896551724137931], [3953, 3.6153846153846154], [3954, 3.441860465116279], [3955, 3.4407894736842106], [3956, 3.909090909090909], [3957, 3.883190883190883], [3958, 3.6402439024390243], [3959, 2.64], [3960, 4.178571428571429], [3961, 3.4956521739130433], [3962, 3.4714285714285715], [3963, 4.0262582056892775], [3964, 3.875], [3965, 3.8482758620689657], [3966, 3.7358490566037736], [3967, 2.7219730941704037], [3968, 3.7176470588235295], [3969, 3.5], [3970, 3.316205533596838], [3971, 3.483695652173913], [3972, 3.52], [3973, 3.67032967032967], [3974, 3.845528455284553], [3975, 3.6630434782608696], [3976, 3.6254180602006687], [3977, 3.8666666666666667], [3978, 4.416666666666667], [3979, 4.144329896907217], [3980, 2.95], [3981, 3.557603686635945], [3982, 3.597560975609756], [3983, 3.3846153846153846], [3984, 3.6615384615384614], [3985, 3.583081570996979], [3986, 3.9], [3987, 3.217391304347826], [3988, 3.6862745098039214], [3989, 4.0], [3990, 3.9411764705882355], [3991, 3.4893617021276597], [3992, 3.7906458797327396], [3993, 3.0997150997150995], [3994, 4.037433155080214], [3995, 3.5828220858895707], [3996, 4.133928571428571], [3997, 3.5396825396825395], [3998, 2.845679012345679], [3999, 3.1307277628032346], [4000, 3.830769230769231], [4001, 3.3963133640552994], [4002, 3.7966101694915255], [4003, 3.8095238095238093], [4004, 2.671875], [4005, 3.808333333333333], [4006, 3.566666666666667], [4007, 2.886029411764706], [4008, 2.8333333333333335], [4009, 2.912621359223301], [4010, 3.5833333333333335], [4011, 3.4705882352941178], [4012, 3.4893617021276597], [4013, 2.8839285714285716], [4014, 3.7244444444444444], [4015, 3.6153846153846154], [4016, 3.010324483775811], [4017, 3.4615384615384617], [4018, 3.6758620689655173], [4019, 3.96], [4020, 3.4285714285714284], [4021, 3.8248366013071897], [4022, 3.0649038461538463], [4023, 3.1264367816091956], [4024, 3.1547619047619047], [4025, 3.9285714285714284], [4026, 3.3833333333333333], [4027, 4.352941176470588], [4028, 3.4990689013035383], [4029, 3.896103896103896], [4030, 3.467741935483871], [4031, 4.0588235294117645], [4032, 4.281045751633987], [4033, 3.7673716012084593], [4034, 4.324074074074074], [4035, 4.035087719298246], [4036, 3.4365079365079363], [4037, 3.811320754716981], [4038, 4.0], [4039, 3.9245283018867925], [4040, 3.0053763440860215], [4041, 3.3175355450236967], [4042, 3.3542600896860986], [4043, 3.6466165413533833], [4044, 4.225806451612903], [4045, 3.522727272727273], [4046, 3.5675675675675675], [4047, 4.288888888888889], [4048, 3.7544581618655695], [4049, 3.32], [4050, 4.2976190476190474], [4051, 2.91], [4052, 4.235294117647059], [4053, 3.47], [4054, 3.663961038961039], [4055, 2.8574938574938575], [4056, 2.3181818181818183], [4057, 3.526315789473684], [4058, 3.405566600397614], [4059, 3.111111111111111], [4060, 3.8515625], [4061, 3.236842105263158], [4062, 3.437888198757764], [4063, 3.8983050847457625], [4064, 3.0822596630327057], [4065, 4.190476190476191], [4066, 3.168421052631579], [4067, 2.95], [4068, 4.15], [4069, 3.870967741935484], [4070, 3.6074074074074076], [4071, 3.954954954954955], [4072, 3.6968503937007875], [4073, 3.75], [4074, 3.9615384615384617], [4075, 3.8333333333333335], [4076, 4.020833333333333], [4077, 3.8898678414096914], [4078, 3.3909774436090228], [4079, 3.766743648960739], [4080, 4.180722891566265], [4081, 4.0], [4082, 3.951219512195122], [4083, 2.9595300261096606], [4084, 4.339285714285714], [4085, 3.6103739445114598], [4086, 4.487421383647798], [4087, 2.9833333333333334], [4088, 3.2853598014888337], [4089, 3.7564102564102564], [4090, 3.8078817733990147], [4091, 3.451923076923077], [4092, 4.152777777777778], [4093, 4.343949044585988], [4094, 4.17037037037037], [4095, 3.7903225806451615], [4096, 3.3430962343096233], [4097, 3.7333333333333334], [4098, 3.8596491228070176], [4099, 3.744186046511628], [4100, 4.142857142857143], [4101, 3.6315789473684212], [4102, 2.7865168539325844], [4103, 3.5], [4104, 3.5259740259740258], [4105, 2.734375], [4106, 3.0], [4107, 4.02], [4108, 4.34375], [4109, 3.48], [4110, 4.333333333333333], [4111, 3.641509433962264], [4112, 4.04320987654321], [4113, 3.515151515151515], [4114, 3.8], [4115, 3.8065764023210833], [4116, 3.793388429752066], [4117, 4.088235294117647], [4118, 4.06280193236715], [4119, 3.537037037037037], [4120, 3.375], [4121, 3.8818897637795278], [4122, 3.5428571428571427], [4123, 3.311320754716981], [4124, 3.42258064516129], [4125, 2.8], [4126, 3.5139664804469275], [4127, 3.842696629213483], [4128, 4.0], [4129, 4.0], [4130, 3.6802325581395348], [4131, 3.983739837398374], [4132, 3.856060606060606], [4133, 3.1186440677966103], [4134, 3.610169491525424], [4135, 4.242424242424242], [4136, 4.512820512820513], [4137, 3.9176470588235293], [4138, 3.96875], [4139, 3.735042735042735], [4140, 3.1578231292517005], [4141, 3.853982300884956], [4142, 3.0416666666666665], [4143, 4.458333333333333], [4144, 3.3214285714285716], [4145, 4.12], [4146, 4.12], [4147, 4.327868852459017], [4148, 3.8297872340425534], [4149, 3.9615384615384617], [4150, 3.3200992555831266], [4151, 3.6666666666666665], [4152, 3.670886075949367], [4153, 3.7159763313609466], [4154, 4.434782608695652], [4155, 3.596774193548387], [4156, 3.7806122448979593], [4157, 3.3392857142857144], [4158, 3.782608695652174], [4159, 4.045454545454546], [4160, 3.2583333333333333], [4161, 2.5163398692810457], [4162, 4.103174603174603], [4163, 3.423076923076923], [4164, 3.5833333333333335], [4165, 3.7254901960784315], [4166, 3.875], [4167, 3.6731182795698927], [4168, 4.37], [4169, 3.5518582541054453], [4170, 3.783132530120482], [4171, 3.5374149659863945], [4172, 4.4714285714285715], [4173, 4.017857142857143], [4174, 4.075], [4175, 3.9130434782608696], [4176, 4.636363636363637], [4177, 4.3355263157894735], [4178, 3.75], [4179, 4.490683229813665], [4180, 3.4390243902439024], [4181, 3.10077519379845], [4182, 4.1521739130434785], [4183, 2.901639344262295], [4184, 3.1923076923076925], [4185, 3.3653846153846154], [4186, 2.8328125], [4187, 4.522388059701493], [4188, 3.227272727272727], [4189, 4.575757575757576], [4190, 3.282828282828283], [4191, 4.038461538461538], [4192, 2.95], [4193, 3.6398467432950192], [4194, 4.086206896551724], [4195, 4.316831683168317], [4196, 3.6206896551724137], [4197, 4.304347826086956], [4198, 3.82], [4199, 3.851063829787234], [4200, 3.979591836734694], [4201, 4.291666666666667], [4202, 3.652173913043478], [4203, 3.924137931034483], [4204, 4.4], [4205, 3.5434782608695654], [4206, 4.319148936170213], [4207, 4.246963562753036], [4208, 4.0625], [4209, 3.608695652173913], [4210, 3.717557251908397], [4211, 2.9583333333333335], [4212, 3.7096774193548385], [4213, 4.060759493670886], [4214, 3.871794871794872], [4215, 4.003460207612457], [4216, 4.074074074074074], [4217, 4.01038961038961], [4218, 3.5544554455445545], [4219, 3.7837837837837838], [4220, 3.5201612903225805], [4221, 4.146067415730337], [4222, 3.9508196721311477], [4223, 3.3496932515337425], [4224, 3.8724035608308607], [4225, 3.6589147286821704], [4226, 3.7837837837837838], [4227, 2.7013093289689034], [4228, 3.652173913043478], [4229, 3.634920634920635], [4230, 3.9523809523809526], [4231, 3.42], [4232, 3.826923076923077], [4233, 3.7611940298507465], [4234, 3.8867924528301887], [4235, 3.7698412698412698], [4236, 4.098039215686274], [4237, 3.869918699186992], [4238, 3.4249084249084247], [4239, 4.117647058823529], [4240, 3.9393939393939394], [4241, 4.051020408163265], [4242, 3.8244274809160306], [4243, 4.056338028169014], [4244, 3.55], [4245, 3.630434782608696], [4246, 3.7777777777777777], [4247, 3.1315789473684212], [4248, 3.764705882352941], [4249, 3.233009708737864], [4250, 3.923547400611621], [4251, 3.5670103092783507], [4252, 3.257142857142857], [4253, 3.4171597633136095], [4254, 4.416666666666667], [4255, 4.121951219512195], [4256, 3.8518518518518516], [4257, 3.2805755395683454], [4258, 3.715], [4259, 3.6666666666666665], [4260, 3.1450617283950617], [4261, 3.187725631768953], [4262, 3.6578947368421053], [4263, 3.6578947368421053], [4264, 4.238095238095238], [4265, 3.8564593301435406], [4266, 3.246376811594203], [4267, 3.3783783783783785], [4268, 3.264516129032258], [4269, 3.7709251101321586], [4270, 3.4583333333333335], [4271, 2.994296577946768], [4272, 3.4601769911504423], [4273, 4.666666666666667], [4274, 2.8823529411764706], [4275, 3.806451612903226], [4276, 3.7804878048780486], [4277, 4.134825014343087], [4278, 3.9166666666666665], [4279, 3.373469387755102], [4280, 3.534090909090909], [4281, 3.588235294117647], [4282, 3.586206896551724], [4283, 3.7868852459016393], [4284, 2.7435897435897436], [4285, 3.753875968992248], [4286, 3.645], [4287, 3.744027303754266], [4288, 4.111111111111111], [4289, 3.8701298701298703], [4290, 4.052631578947368], [4291, 3.5450236966824646], [4292, 3.2291666666666665], [4293, 4.357142857142857], [4294, 3.1847133757961785], [4295, 2.225], [4296, 3.693548387096774], [4297, 4.276595744680851], [4298, 4.252631578947368], [4299, 4.1], [4300, 3.325], [4301, 4.170731707317073], [4302, 3.8821138211382116], [4303, 3.6737967914438503], [4304, 4.2], [4305, 3.7244897959183674], [4306, 3.6483516483516483], [4307, 3.7058823529411766], [4308, 3.2403846153846154], [4309, 3.8181818181818183], [4310, 3.8754208754208754], [4311, 2.9468085106382977], [4312, 3.278595696489241], [4313, 4.083333333333333], [4314, 3.787878787878788], [4315, 3.8774193548387097], [4316, 3.4871794871794872], [4317, 3.5686274509803924], [4318, 3.847916666666667], [4319, 3.8627450980392157], [4320, 4.2592592592592595], [4321, 3.9649122807017543], [4322, 3.437974683544304], [4323, 3.576642335766423], [4324, 4.2727272727272725], [4325, 3.0], [4326, 3.622047244094488], [4327, 4.12962962962963], [4328, 3.6732673267326734], [4329, 3.488372093023256], [4330, 3.6341463414634148], [4331, 3.6944444444444446], [4332, 3.55], [4333, 4.047058823529412], [4334, 3.5923566878980893], [4335, 3.40702479338843], [4336, 3.9672131147540983], [4337, 4.057915057915058], [4338, 3.40625], [4339, 3.6363636363636362], [4340, 3.84], [4341, 3.6363636363636362], [4342, 4.279475982532751], [4343, 3.1906976744186046], [4344, 3.331235247836349], [4345, 3.5033783783783785], [4346, 3.581081081081081], [4347, 3.550724637681159], [4348, 4.083333333333333], [4349, 1.962962962962963], [4350, 3.8309859154929575], [4351, 3.905325443786982], [4352, 3.4809322033898304], [4353, 3.643939393939394], [4354, 3.5952755905511813], [4355, 3.4901960784313726], [4356, 3.625], [4357, 4.209302325581396], [4358, 3.967741935483871], [4359, 3.617283950617284], [4360, 2.5806451612903225], [4361, 4.166666666666667], [4362, 2.953846153846154], [4363, 4.328125], [4364, 3.236180904522613], [4365, 2.55], [4366, 3.4571428571428573], [4367, 3.53781512605042], [4368, 3.6946564885496183], [4369, 3.727272727272727], [4370, 3.6666666666666665], [4371, 3.6099290780141846], [4372, 4.04], [4373, 4.092409240924092], [4374, 4.338582677165355], [4375, 4.055384615384615], [4376, 3.810344827586207], [4377, 3.6363636363636362], [4378, 3.153225806451613], [4379, 3.0989583333333335], [4380, 3.6556291390728477], [4381, 3.4243792325056432], [4382, 2.8846153846153846], [4383, 3.4], [4384, 4.003448275862069], [4385, 3.259259259259259], [4386, 3.597938144329897], [4387, 3.0969044414535665], [4388, 3.814814814814815], [4389, 3.296], [4390, 3.0863309352517985], [4391, 3.675675675675676], [4392, 3.44], [4393, 3.9], [4394, 3.515151515151515], [4395, 3.3333333333333335], [4396, 3.68], [4397, 3.4328358208955225], [4398, 4.15], [4399, 3.176470588235294], [4400, 4.153846153846154], [4401, 3.6766169154228856], [4402, 3.6774193548387095], [4403, 3.9655172413793105], [4404, 3.067204301075269], [4405, 4.466666666666667], [4406, 3.987577639751553], [4407, 3.294372294372294], [4408, 3.773480662983425], [4409, 3.7247706422018347], [4410, 4.0], [4411, 3.9], [4412, 3.372549019607843], [4413, 4.0], [4414, 3.197802197802198], [4415, 3.572463768115942], [4416, 4.036363636363636], [4417, 3.7181818181818183], [4418, 3.8836477987421385], [4419, 3.3], [4420, 3.96], [4421, 3.3333333333333335], [4422, 3.510022271714922], [4423, 4.214285714285714], [4424, 4.363636363636363], [4425, 3.235546038543897], [4426, 3.6266666666666665], [4427, 3.608695652173913], [4428, 3.6285714285714286], [4429, 3.8444444444444446], [4430, 2.5728813559322035], [4431, 3.5], [4432, 4.014705882352941], [4433, 3.7818181818181817], [4434, 3.6666666666666665], [4435, 3.547169811320755], [4436, 3.5726872246696035], [4437, 2.8257261410788383], [4438, 3.476470588235294], [4439, 3.2195121951219514], [4440, 3.776470588235294], [4441, 3.066666666666667], [4442, 3.3461538461538463], [4443, 3.1125], [4444, 3.6625], [4445, 2.776], [4446, 3.1635071090047395], [4447, 3.0733197556008145], [4448, 4.176528599605523], [4449, 4.087628865979381], [4450, 2.802469135802469], [4451, 2.895306859205776], [4452, 3.682051282051282], [4453, 3.1454545454545455], [4454, 2.6], [4455, 3.74], [4456, 3.938650306748466], [4457, 4.297169811320755], [4458, 3.3333333333333335], [4459, 3.727272727272727], [4460, 3.372413793103448], [4461, 4.410256410256411], [4462, 3.176470588235294], [4463, 3.95], [4464, 3.380952380952381], [4465, 3.488372093023256], [4466, 3.80327868852459], [4467, 3.3944444444444444], [4468, 4.105882352941176], [4469, 4.03030303030303], [4470, 4.131147540983607], [4471, 3.6242774566473988], [4472, 3.4340770791075053], [4473, 3.3711583924349884], [4474, 4.138888888888889], [4475, 3.933333333333333], [4476, 3.586206896551724], [4477, 3.404109589041096], [4478, 3.309417040358744], [4479, 3.830508474576271], [4480, 3.154175588865096], [4481, 3.306451612903226], [4482, 3.8017902813299234], [4483, 3.1648936170212765], [4484, 4.0625], [4485, 3.3496503496503496], [4486, 1.0588235294117647], [4487, 3.5833333333333335], [4488, 2.7745664739884393], [4489, 3.9929245283018866], [4490, 3.5104712041884816], [4491, 3.8], [4492, 3.9130434782608696], [4493, 2.34], [4494, 4.202702702702703], [4495, 4.138888888888889], [4496, 3.8225806451612905], [4497, 3.778], [4498, 3.0714285714285716], [4499, 4.030612244897959], [4500, 2.9642857142857144], [4501, 3.9722222222222223], [4502, 3.8950617283950617], [4503, 4.157894736842105], [4504, 4.12], [4505, 4.207885304659499], [4506, 3.9608208955223883], [4507, 4.366379310344827], [4508, 3.0767960363336084], [4509, 3.919047619047619], [4510, 2.8379032258064516], [4511, 4.183673469387755], [4512, 3.861635220125786], [4513, 3.7714285714285714], [4514, 3.3741496598639458], [4515, 4.409090909090909], [4516, 4.381818181818182], [4517, 3.0653753026634383], [4518, 4.5476190476190474], [4519, 3.6666666666666665], [4520, 3.7719298245614037], [4521, 3.8034934497816595], [4522, 3.4021164021164023], [4523, 3.4593908629441623], [4524, 3.3044982698961936], [4525, 3.95], [4526, 3.623529411764706], [4527, 3.8], [4528, 3.306451612903226], [4529, 3.851063829787234], [4530, 3.607142857142857], [4531, 3.42798353909465], [4532, 3.9689922480620154], [4533, 3.807017543859649], [4534, 3.7012987012987013], [4535, 3.994565217391304], [4536, 4.235294117647059], [4537, 3.84], [4538, 3.025], [4539, 1.815126050420168], [4540, 3.710144927536232], [4541, 2.581081081081081], [4542, 3.8214285714285716], [4543, 3.298095238095238], [4544, 3.9166666666666665], [4545, 3.966666666666667], [4546, 4.16], [4547, 2.8], [4548, 3.0], [4549, 3.32], [4550, 3.4642857142857144], [4551, 4.024390243902439], [4552, 3.608695652173913], [4553, 3.2545454545454544], [4554, 3.4761904761904763], [4555, 3.303370786516854], [4556, 3.3846153846153846], [4557, 3.627906976744186], [4558, 4.238095238095238], [4559, 4.27906976744186], [4560, 3.574829931972789], [4561, 3.8363636363636364], [4562, 3.589403973509934], [4563, 4.35], [4564, 3.9615384615384617], [4565, 3.9722222222222223], [4566, 3.616883116883117], [4567, 4.068181818181818], [4568, 3.6], [4569, 3.7093023255813953], [4570, 3.4473684210526314], [4571, 3.9215686274509802], [4572, 3.924137931034483], [4573, 3.6948051948051948], [4574, 3.7], [4575, 2.088], [4576, 4.0], [4577, 3.2674418604651163], [4578, 3.7303571428571427], [4579, 3.6516690856313496], [4580, 3.9197080291970803], [4581, 3.6506024096385543], [4582, 4.195652173913044], [4583, 3.6666666666666665], [4584, 4.580645161290323], [4585, 3.8286604361370715], [4586, 4.076923076923077], [4587, 2.772727272727273], [4588, 3.978723404255319], [4589, 4.592592592592593], [4590, 3.84], [4591, 3.252083333333333], [4592, 3.361607142857143], [4593, 3.3733333333333335], [4594, 4.055555555555555], [4595, 4.592105263157895], [4596, 3.3009708737864076], [4597, 3.409090909090909], [4598, 3.7735849056603774], [4599, 4.0638297872340425], [4600, 3.6307692307692307], [4601, 3.62015503875969], [4602, 3.5], [4603, 3.72972972972973], [4604, 3.0657894736842106], [4605, 3.187192118226601], [4606, 3.4716981132075473], [4607, 3.890873015873016], [4608, 3.6973684210526314], [4609, 3.007575757575758], [4610, 3.21875], [4611, 3.2756756756756755], [4612, 3.575], [4613, 4.048780487804878], [4614, 3.9523809523809526], [4615, 3.5472972972972974], [4616, 3.9705882352941178], [4617, 3.164383561643836], [4618, 3.539473684210526], [4619, 3.4444444444444446], [4620, 3.8181818181818183], [4621, 3.455026455026455], [4622, 3.5217391304347827], [4623, 3.973684210526316], [4624, 3.9508196721311477], [4625, 3.419753086419753], [4626, 3.562176165803109], [4627, 3.8932038834951457], [4628, 3.6], [4629, 3.375], [4630, 3.793103448275862], [4631, 3.604651162790698], [4632, 3.9107142857142856], [4633, 3.9753086419753085], [4634, 4.813725490196078], [4635, 3.754777070063694], [4636, 2.0], [4637, 3.5846560846560847], [4638, 2.891891891891892], [4639, 4.288461538461538], [4640, 2.6578947368421053], [4641, 4.025], [4642, 3.696969696969697], [4643, 3.0398009950248754], [4644, 3.4335664335664338], [4645, 4.174603174603175], [4646, 3.128205128205128], [4647, 3.4871220604703246], [4648, 3.7837837837837838], [4649, 4.818181818181818], [4650, 2.9791666666666665], [4651, 3.5476190476190474], [4652, 4.26], [4653, 3.396039603960396], [4654, 4.0625], [4655, 3.675438596491228], [4656, 3.8858447488584473], [4657, 4.0], [4658, 2.3758992805755397], [4659, 4.107843137254902], [4660, 4.0], [4661, 4.019607843137255], [4662, 2.857142857142857], [4663, 3.2977099236641223], [4664, 4.157894736842105], [4665, 4.090909090909091], [4666, 3.4548022598870056], [4667, 4.378378378378378], [4668, 4.28125], [4669, 3.688888888888889], [4670, 3.378640776699029], [4671, 3.8802395209580838], [4672, 3.5652173913043477], [4673, 3.8181818181818183], [4674, 4.094736842105263], [4675, 3.795795795795796], [4676, 3.606060606060606], [4677, 4.2272727272727275], [4678, 3.616279069767442], [4679, 3.306451612903226], [4680, 3.739130434782609], [4681, 3.8333333333333335], [4682, 3.5471938775510203], [4683, 2.712121212121212], [4684, 3.703125], [4685, 3.1242603550295858], [4686, 4.362637362637362], [4687, 4.25], [4688, 3.75], [4689, 3.9027777777777777], [4690, 3.810810810810811], [4691, 3.4078947368421053], [4692, 3.515151515151515], [4693, 3.979591836734694], [4694, 4.171428571428572], [4695, 3.1666666666666665], [4696, 3.8518518518518516], [4697, 4.20945945945946], [4698, 3.7037037037037037], [4699, 3.21301775147929], [4700, 3.3209876543209877], [4701, 4.380952380952381], [4702, 4.068181818181818], [4703, 3.6956521739130435], [4704, 2.3780487804878048], [4705, 3.9776785714285716], [4706, 3.4074074074074074], [4707, 3.292682926829268], [4708, 3.8448275862068964], [4709, 3.607142857142857], [4710, 3.9714285714285715], [4711, 3.7983870967741935], [4712, 2.945945945945946], [4713, 3.303030303030303], [4714, 3.6774193548387095], [4715, 3.6286836935166993], [4716, 4.264705882352941], [4717, 3.9876543209876543], [4718, 4.065217391304348], [4719, 4.25], [4720, 4.191489361702128], [4721, 4.014084507042254], [4722, 3.870967741935484], [4723, 4.2727272727272725], [4724, 4.121212121212121], [4725, 3.158051689860835], [4726, 3.628975265017668], [4727, 3.7818181818181817], [4728, 3.489971346704871], [4729, 3.8170212765957445], [4730, 3.888888888888889], [4731, 4.054545454545455], [4732, 3.6963503649635037], [4733, 3.8846153846153846], [4734, 4.093567251461988], [4735, 4.0], [4736, 3.3270440251572326], [4737, 4.293577981651376], [4738, 3.533333333333333], [4739, 3.8411214953271027], [4740, 3.980392156862745], [4741, 4.409090909090909], [4742, 3.4016064257028114], [4743, 4.1], [4744, 4.075757575757576], [4745, 3.8737864077669903], [4746, 3.53125], [4747, 3.466666666666667], [4748, 4.21763085399449], [4749, 3.65], [4750, 4.015748031496063], [4751, 4.0], [4752, 4.166666666666667], [4753, 3.5714285714285716], [4754, 3.6693548387096775], [4755, 4.76], [4756, 3.7037037037037037], [4757, 4.154639175257732], [4758, 3.76], [4759, 3.877551020408163], [4760, 3.754385964912281], [4761, 3.4871794871794872], [4762, 4.068493150684931], [4763, 3.9473684210526314], [4764, 4.125], [4765, 4.052434456928839], [4766, 3.5476190476190474], [4767, 3.6382978723404253], [4768, 4.166666666666667], [4769, 3.353846153846154], [4770, 3.6666666666666665], [4771, 3.7582846003898633], [4772, 4.12], [4773, 4.145631067961165], [4774, 4.283505154639175], [4775, 3.4], [4776, 4.4], [4777, 3.972972972972973], [4778, 4.25], [4779, 4.197183098591549], [4780, 4.1909090909090905], [4781, 3.9767441860465116], [4782, 3.700854700854701], [4783, 3.709090909090909], [4784, 4.034229828850855], [4785, 4.018450184501845], [4786, 3.8], [4787, 3.066666666666667], [4788, 3.363036303630363], [4789, 3.4814814814814814], [4790, 3.394179894179894], [4791, 3.176], [4792, 3.8], [4793, 3.1560693641618496], [4794, 4.294117647058823], [4795, 4.068965517241379], [4796, 3.6099706744868034], [4797, 4.017543859649122], [4798, 3.411764705882353], [4799, 3.7413793103448274], [4800, 3.2766798418972334], [4801, 4.73469387755102], [4802, 4.0703125], [4803, 3.7837837837837838], [4804, 2.4680851063829787], [4805, 3.7142857142857144], [4806, 3.9748427672955975], [4807, 3.619565217391304], [4808, 3.2747603833865813], [4809, 4.01685393258427], [4810, 3.1522842639593907], [4811, 4.119047619047619], [4812, 3.2598425196850394], [4813, 4.1826923076923075], [4814, 3.4545454545454546], [4815, 4.405405405405405], [4816, 4.223118279569892], [4817, 4.380434782608695], [4818, 3.96], [4819, 3.793040293040293], [4820, 3.4444444444444446], [4821, 3.4401709401709404], [4822, 3.392857142857143], [4823, 3.3382978723404255], [4824, 3.7709251101321586], [4825, 3.938775510204082], [4826, 3.754601226993865], [4827, 3.375], [4828, 3.62], [4829, 3.780185758513932], [4830, 3.5350877192982457], [4831, 4.10126582278481], [4832, 3.7709923664122136], [4833, 4.037037037037037], [4834, 3.6285714285714286], [4835, 3.7228915662650603], [4836, 3.476923076923077], [4837, 3.274390243902439], [4838, 3.8205128205128207], [4839, 3.0434782608695654], [4840, 3.736111111111111], [4841, 3.641304347826087], [4842, 4.0], [4843, 4.068965517241379], [4844, 3.9655172413793105], [4845, 3.9411764705882355], [4846, 3.5], [4847, 4.013888888888889], [4848, 3.8518518518518516], [4849, 3.9936305732484074], [4850, 4.0], [4851, 3.6666666666666665], [4852, 3.7613168724279835], [4853, 4.105263157894737], [4854, 3.798780487804878], [4855, 3.0228310502283104], [4856, 3.7468354430379747], [4857, 3.262295081967213], [4858, 4.04424778761062], [4859, 4.232558139534884], [4860, 3.8958333333333335], [4861, 3.8426395939086295], [4862, 3.478723404255319], [4863, 3.5806451612903225], [4864, 4.181818181818182], [4865, 3.3821138211382116], [4866, 4.026666666666666], [4867, 3.8215434083601285], [4868, 3.7094972067039107], [4869, 3.3263157894736843], [4870, 3.689655172413793], [4871, 4.0], [4872, 3.5365853658536586], [4873, 4.214285714285714], [4874, 4.387096774193548], [4875, 3.93], [4876, 4.055555555555555], [4877, 3.7157894736842105], [4878, 3.604651162790698], [4879, 3.45610278372591], [4880, 3.761904761904762], [4881, 3.9545454545454546], [4882, 4.029556650246305], [4883, 2.84], [4884, 3.884020618556701], [4885, 4.466666666666667], [4886, 3.9901960784313726], [4887, 3.392857142857143], [4888, 4.344481605351171], [4889, 4.347328244274809], [4890, 3.4210526315789473], [4891, 3.7857142857142856], [4892, 3.175], [4893, 3.933333333333333], [4894, 3.902439024390244], [4895, 4.132352941176471], [4896, 3.073170731707317], [4897, 3.35], [4898, 4.167364016736402], [4899, 3.6653061224489796], [4900, 4.086956521739131], [4901, 3.816753926701571], [4902, 3.5481481481481483], [4903, 4.0181818181818185], [4904, 4.561881188118812], [4905, 3.39], [4906, 3.912863070539419], [4907, 3.4293478260869565], [4908, 3.9649122807017543], [4909, 3.760869565217391], [4910, 3.6], [4911, 3.382716049382716], [4912, 4.0], [4913, 3.8], [4914, 3.8461538461538463], [4915, 3.6261682242990654], [4916, 2.088235294117647], [4917, 3.495798319327731], [4918, 3.4219269102990033], [4919, 4.081081081081081], [4920, 4.06], [4921, 4.21256038647343], [4922, 3.7591623036649215], [4923, 3.75], [4924, 4.024390243902439], [4925, 4.761904761904762], [4926, 3.5217391304347827], [4927, 3.984126984126984], [4928, 3.2613981762917934], [4929, 4.214285714285714], [4930, 4.0], [4931, 4.2125], [4932, 3.8463855421686746], [4933, 3.622516556291391], [4934, 3.212290502793296], [4935, 3.5], [4936, 3.95], [4937, 4.121495327102804], [4938, 3.5945945945945947], [4939, 3.7126436781609193], [4940, 3.890845070422535], [4941, 3.411764705882353], [4942, 3.568840579710145], [4943, 4.0476190476190474], [4944, 4.363636363636363], [4945, 3.8125], [4946, 3.7976653696498053], [4947, 4.25], [4948, 3.171597633136095], [4949, 4.078947368421052], [4950, 3.5654008438818567], [4951, 3.717948717948718], [4952, 3.67], [4953, 3.7972350230414746], [4954, 3.1885245901639343], [4955, 4.142857142857143], [4956, 3.802371541501976], [4957, 3.185483870967742], [4958, 3.425720620842572], [4959, 4.159574468085107], [4960, 4.173333333333333], [4961, 3.2768361581920904], [4962, 3.834101382488479], [4963, 3.6491228070175437], [4964, 3.5384615384615383], [4965, 3.111111111111111], [4966, 3.7708333333333335], [4967, 3.9326923076923075], [4968, 4.357142857142857], [4969, 3.1724137931034484], [4970, 3.6206896551724137], [4971, 4.071428571428571], [4972, 3.4103343465045595], [4973, 3.6442953020134228], [4974, 3.107142857142857], [4975, 3.7714285714285714], [4976, 3.3620689655172415], [4977, 3.087431693989071], [4978, 3.6944444444444446], [4979, 2.9705215419501134], [4980, 3.568075117370892], [4981, 4.052117263843648], [4982, 4.621621621621622], [4983, 3.937062937062937], [4984, 3.341463414634146], [4985, 3.7960526315789473], [4986, 4.37037037037037], [4987, 3.519230769230769], [4988, 3.8461538461538463], [4989, 3.883116883116883], [4990, 4.278688524590164], [4991, 3.45], [4992, 3.857142857142857], [4993, 3.851063829787234], [4994, 4.274074074074074], [4995, 3.457865168539326], [4996, 3.9642857142857144], [4997, 3.2142857142857144], [4998, 4.0886075949367084], [4999, 4.0], [5000, 4.321695760598503], [5001, 4.097777777777778], [5002, 3.4113207547169813], [5003, 4.515151515151516], [5004, 3.8048780487804876], [5005, 3.393939393939394], [5006, 4.377777777777778], [5007, 4.434782608695652], [5008, 4.167464114832536], [5009, 4.079365079365079], [5010, 4.096153846153846], [5011, 3.92128801431127], [5012, 3.4], [5013, 3.9285714285714284], [5014, 3.3402777777777777], [5015, 3.950310559006211], [5016, 2.96875], [5017, 4.128205128205129], [5018, 4.008097165991903], [5019, 3.3220338983050848], [5020, 3.761467889908257], [5021, 3.3675675675675674], [5022, 4.314285714285714], [5023, 3.341666666666667], [5024, 3.857142857142857], [5025, 4.176], [5026, 2.85812356979405], [5027, 3.5], [5028, 3.652173913043478], [5029, 3.45625], [5030, 3.7857142857142856], [5031, 4.131147540983607], [5032, 3.912621359223301], [5033, 4.395833333333333], [5034, 3.9574468085106385], [5035, 3.7670682730923697], [5036, 3.0], [5037, 3.9714285714285715], [5038, 3.638095238095238], [5039, 2.202777777777778], [5040, 3.8378378378378377], [5041, 4.2105263157894735], [5042, 3.472826086956522], [5043, 4.2], [5044, 4.087591240875913], [5045, 3.176470588235294], [5046, 3.6497695852534564], [5047, 3.523510971786834], [5048, 4.382022471910112], [5049, 4.046875], [5050, 3.988235294117647], [5051, 3.7333333333333334], [5052, 4.190476190476191], [5053, 3.8225108225108224], [5054, 3.3384615384615386], [5055, 3.6904761904761907], [5056, 4.479381443298969], [5057, 3.554054054054054], [5058, 4.340425531914893], [5059, 3.5588235294117645], [5060, 4.0], [5061, 3.6492890995260665], [5062, 4.208333333333333], [5063, 3.849557522123894], [5064, 4.070707070707071], [5065, 3.6830188679245284], [5066, 4.121212121212121], [5067, 4.142857142857143], [5068, 4.054545454545455], [5069, 4.76], [5070, 3.5471311475409837], [5071, 4.1234567901234565], [5072, 4.271186440677966], [5073, 4.52], [5074, 3.433639947437582], [5075, 4.258620689655173], [5076, 3.4403669724770642], [5077, 3.5919811320754715], [5078, 3.966666666666667], [5079, 3.4285714285714284], [5080, 4.0], [5081, 3.801980198019802], [5082, 3.7672413793103448], [5083, 3.557894736842105], [5084, 2.8496240601503757], [5085, 4.411764705882353], [5086, 3.968944099378882], [5087, 3.5135135135135136], [5088, 4.193548387096774], [5089, 3.909090909090909], [5090, 4.15], [5091, 3.75], [5092, 4.056338028169014], [5093, 3.7551020408163267], [5094, 4.440677966101695], [5095, 4.488372093023256], [5096, 3.4440298507462686], [5097, 3.992481203007519], [5098, 3.1522842639593907], [5099, 3.8916256157635467], [5100, 4.180539273153576], [5101, 2.489795918367347], [5102, 4.520833333333333], [5103, 4.340983606557377], [5104, 4.2407407407407405], [5105, 3.1122448979591835], [5106, 3.864864864864865], [5107, 3.2095709570957096], [5108, 3.38544474393531], [5109, 3.7404580152671754], [5110, 4.32], [5111, 3.63375], [5112, 3.056782334384858], [5113, 2.542124542124542], [5114, 3.7651006711409396], [5115, 4.375], [5116, 4.333333333333333], [5117, 3.142857142857143], [5118, 3.05], [5119, 3.9166666666666665], [5120, 3.756476683937824], [5121, 3.450617283950617], [5122, 4.478260869565218], [5123, 3.284313725490196], [5124, 3.529850746268657], [5125, 4.235294117647059], [5126, 3.964788732394366], [5127, 3.196078431372549], [5128, 3.863157894736842], [5129, 3.790909090909091], [5130, 4.392857142857143], [5131, 3.4035532994923856], [5132, 4.344827586206897], [5133, 3.076923076923077], [5134, 3.7157894736842105], [5135, 3.8701298701298703], [5136, 3.7476635514018692], [5137, 4.129310344827586], [5138, 3.253086419753086], [5139, 3.5317460317460316], [5140, 3.3994638069705094], [5141, 3.9767441860465116], [5142, 3.5749235474006116], [5143, 4.016806722689076], [5144, 3.8125], [5145, 3.25], [5146, 3.3666666666666667], [5147, 3.5945945945945947], [5148, 3.8737864077669903], [5149, 4.033333333333333], [5150, 3.6944444444444446], [5151, 2.779874213836478], [5152, 3.074074074074074], [5153, 3.243478260869565], [5154, 4.212121212121212], [5155, 2.8846153846153846], [5156, 4.21875], [5157, 4.188888888888889], [5158, 3.8970588235294117], [5159, 2.95], [5160, 4.068965517241379], [5161, 3.104761904761905], [5162, 3.5277777777777777], [5163, 3.776447105788423], [5164, 4.253333333333333], [5165, 4.5353535353535355], [5166, 4.25], [5167, 4.086666666666667], [5168, 4.45], [5169, 3.6554621848739495], [5170, 4.1891891891891895], [5171, 3.892857142857143], [5172, 3.486842105263158], [5173, 3.4782608695652173], [5174, 4.0], [5175, 3.9393939393939394], [5176, 3.608695652173913], [5177, 3.47], [5178, 3.6470588235294117], [5179, 3.5641025641025643], [5180, 4.239316239316239], [5181, 3.9615384615384617], [5182, 3.8026315789473686], [5183, 3.6435643564356437], [5184, 3.910299003322259], [5185, 3.2918149466192173], [5186, 3.712328767123288], [5187, 3.542372881355932], [5188, 3.865168539325843], [5189, 3.619047619047619], [5190, 3.9302325581395348], [5191, 3.6666666666666665], [5192, 3.6818181818181817], [5193, 3.6911764705882355], [5194, 3.420289855072464], [5195, 4.2388059701492535], [5196, 3.15], [5197, 3.5403225806451615], [5198, 2.964664310954064], [5199, 3.4571428571428573], [5200, 3.9838709677419355], [5201, 3.4220183486238533], [5202, 3.375], [5203, 3.9722222222222223], [5204, 4.0638297872340425], [5205, 3.351123595505618], [5206, 4.0], [5207, 3.8636363636363638], [5208, 4.058333333333334], [5209, 3.9477611940298507], [5210, 3.8], [5211, 3.7184466019417477], [5212, 4.55], [5213, 3.342857142857143], [5214, 2.4193548387096775], [5215, 4.4], [5216, 3.3], [5217, 3.3484848484848486], [5218, 4.159090909090909], [5219, 3.943548387096774], [5220, 3.352777777777778], [5221, 4.166666666666667], [5222, 3.1530944625407167], [5223, 3.3284313725490198], [5224, 2.9393939393939394], [5225, 3.608490566037736], [5226, 3.819277108433735], [5227, 3.159235668789809], [5228, 3.7916666666666665], [5229, 4.130434782608695], [5230, 3.723076923076923], [5231, 3.9285714285714284], [5232, 3.366412213740458], [5233, 3.8839285714285716], [5234, 3.8160377358490565], [5235, 4.085714285714285], [5236, 3.59375], [5237, 3.381818181818182], [5238, 3.4545454545454546], [5239, 3.7964912280701753], [5240, 4.142857142857143], [5241, 3.4680851063829787], [5242, 3.088495575221239], [5243, 3.3461538461538463], [5244, 3.7714285714285714], [5245, 3.9], [5246, 3.7615384615384615], [5247, 2.967741935483871], [5248, 3.5346534653465347], [5249, 3.2633136094674557], [5250, 3.5328719723183393], [5251, 3.5773809523809526], [5252, 4.246153846153846], [5253, 3.810810810810811], [5254, 3.5925925925925926], [5255, 4.617449664429531], [5256, 3.2981818181818183], [5257, 4.144329896907217], [5258, 4.05], [5259, 4.0588235294117645], [5260, 3.5167464114832536], [5261, 3.3300970873786406], [5262, 2.9375], [5263, 3.634920634920635], [5264, 3.7169811320754715], [5265, 3.8692579505300353], [5266, 4.068965517241379], [5267, 3.642105263157895], [5268, 3.074380165289256], [5269, 3.2901234567901234], [5270, 3.8333333333333335], [5271, 3.6370023419203745], [5272, 2.9716981132075473], [5273, 3.9835526315789473], [5274, 3.44], [5275, 4.126315789473685], [5276, 3.5324675324675323], [5277, 3.366883116883117], [5278, 3.5580110497237567], [5279, 3.7450980392156863], [5280, 3.6153846153846154], [5281, 3.85], [5282, 3.1633333333333336], [5283, 3.508591065292096], [5284, 3.767123287671233], [5285, 3.8222222222222224], [5286, 3.9285714285714284], [5287, 3.6367924528301887], [5288, 3.7209302325581395], [5289, 3.9148936170212765], [5290, 4.108108108108108], [5291, 4.348484848484849], [5292, 3.5161290322580645], [5293, 3.84], [5294, 3.967948717948718], [5295, 3.6363636363636362], [5296, 4.171428571428572], [5297, 4.1], [5298, 3.1186440677966103], [5299, 2.8035714285714284], [5300, 4.209219858156028], [5301, 3.381294964028777], [5302, 3.4705882352941178], [5303, 3.9555555555555557], [5304, 3.4571428571428573], [5305, 3.8740740740740742], [5306, 3.334920634920635], [5307, 3.6666666666666665], [5308, 3.55], [5309, 3.9], [5310, 3.9896907216494846], [5311, 3.347826086956522], [5312, 3.8652777777777776], [5313, 4.125], [5314, 3.6], [5315, 4.0285714285714285], [5316, 3.8974358974358974], [5317, 4.047882136279926], [5318, 3.6262626262626263], [5319, 3.814432989690722], [5320, 2.652173913043478], [5321, 3.09375], [5322, 3.892156862745098], [5323, 3.6991869918699187], [5324, 3.9364161849710984], [5325, 3.375], [5326, 2.40625], [5327, 3.8282208588957056], [5328, 3.641509433962264], [5329, 4.130514705882353], [5330, 3.338709677419355], [5331, 3.3375], [5332, 4.397260273972603], [5333, 3.5530393325387366], [5334, 1.9272727272727272], [5335, 3.9683544303797467], [5336, 4.382978723404255], [5337, 4.214689265536723], [5338, 3.798076923076923], [5339, 3.7777777777777777], [5340, 3.616822429906542], [5341, 3.6587301587301586], [5342, 3.767857142857143], [5343, 4.638888888888889], [5344, 3.6142131979695433], [5345, 3.6426426426426426], [5346, 3.925925925925926], [5347, 3.129277566539924], [5348, 3.44], [5349, 4.058091286307054], [5350, 2.9269406392694064], [5351, 3.8846153846153846], [5352, 3.7135922330097086], [5353, 3.7966101694915255], [5354, 3.6739130434782608], [5355, 3.6187845303867405], [5356, 3.4878048780487805], [5357, 3.875], [5358, 4.04], [5359, 3.7019607843137257], [5360, 3.4473684210526314], [5361, 3.620320855614973], [5362, 3.0869565217391304], [5363, 4.344262295081967], [5364, 3.861581920903955], [5365, 3.79], [5366, 3.544], [5367, 2.6852010265183917], [5368, 3.2142857142857144], [5369, 3.7224489795918365], [5370, 2.6296296296296298], [5371, 4.101851851851852], [5372, 4.0], [5373, 3.96875], [5374, 3.6875], [5375, 4.482758620689655], [5376, 3.74609375], [5377, 3.697674418604651], [5378, 3.6685082872928176], [5379, 3.810810810810811], [5380, 3.05], [5381, 4.0], [5382, 3.925373134328358], [5383, 4.0], [5384, 4.413043478260869], [5385, 4.0], [5386, 3.813664596273292], [5387, 3.5471956224350207], [5388, 3.9583333333333335], [5389, 3.357142857142857], [5390, 3.863013698630137], [5391, 3.4347826086956523], [5392, 4.136363636363637], [5393, 3.1857142857142855], [5394, 3.3616018845700824], [5395, 3.6942148760330578], [5396, 4.1234567901234565], [5397, 3.2989690721649483], [5398, 4.035714285714286], [5399, 4.016666666666667], [5400, 3.6666666666666665], [5401, 4.089041095890411], [5402, 3.5760869565217392], [5403, 3.5], [5404, 3.8476190476190477], [5405, 3.603448275862069], [5406, 3.3524590163934427], [5407, 4.222222222222222], [5408, 4.0588235294117645], [5409, 3.238095238095238], [5410, 3.5217391304347827], [5411, 2.8333333333333335], [5412, 3.8597122302158273], [5413, 4.181818181818182], [5414, 3.7721518987341773], [5415, 3.5090909090909093], [5416, 4.208333333333333], [5417, 3.2], [5418, 3.632], [5419, 3.752808988764045], [5420, 2.657142857142857], [5421, 3.8875], [5422, 3.737142857142857], [5423, 4.040816326530612], [5424, 3.8074074074074074], [5425, 3.8043478260869565], [5426, 3.435810810810811], [5427, 4.580246913580247], [5428, 3.979381443298969], [5429, 3.8671875], [5430, 3.835714285714286], [5431, 3.9545454545454546], [5432, 3.9672131147540983], [5433, 2.990344827586207], [5434, 4.008196721311475], [5435, 4.195652173913044], [5436, 3.5757575757575757], [5437, 3.6538461538461537], [5438, 3.4725274725274726], [5439, 3.590909090909091], [5440, 4.314285714285714], [5441, 3.795918367346939], [5442, 3.984375], [5443, 4.132832080200501], [5444, 2.9743589743589745], [5445, 3.8187919463087248], [5446, 4.444444444444445], [5447, 4.320610687022901], [5448, 3.3618233618233617], [5449, 4.126126126126126], [5450, 3.4361370716510904], [5451, 4.223404255319149], [5452, 3.3028169014084505], [5453, 3.639676113360324], [5454, 4.15625], [5455, 3.5555555555555554], [5456, 3.619047619047619], [5457, 3.578034682080925], [5458, 3.686224489795918], [5459, 3.966292134831461], [5460, 4.364705882352941], [5461, 4.083333333333333], [5462, 3.9166666666666665], [5463, 3.85], [5464, 4.230088495575221], [5465, 3.272727272727273], [5466, 4.0964912280701755], [5467, 3.6296296296296298], [5468, 3.6233766233766236], [5469, 4.156521739130435], [5470, 3.951923076923077], [5471, 3.76], [5472, 2.8990536277602525], [5473, 3.95], [5474, 3.595744680851064], [5475, 4.045092838196286], [5476, 4.176470588235294], [5477, 3.6], [5478, 3.676470588235294], [5479, 3.638095238095238], [5480, 3.3866666666666667], [5481, 3.425925925925926], [5482, 3.928], [5483, 3.8823529411764706], [5484, 4.430379746835443], [5485, 3.763157894736842], [5486, 4.116279069767442], [5487, 4.297872340425532], [5488, 3.4150197628458496], [5489, 4.128571428571429], [5490, 3.2903225806451615], [5491, 3.696078431372549], [5492, 2.9526315789473685], [5493, 3.3403141361256545], [5494, 3.9625], [5495, 3.838709677419355], [5496, 3.7261904761904763], [5497, 4.020689655172414], [5498, 3.8135593220338984], [5499, 4.550724637681159], [5500, 3.9322033898305087], [5501, 3.171122994652406], [5502, 3.7083333333333335], [5503, 3.888888888888889], [5504, 4.166950596252129], [5505, 3.967391304347826], [5506, 3.7017543859649122], [5507, 3.25], [5508, 3.68], [5509, 3.4466019417475726], [5510, 3.9838709677419355], [5511, 4.110497237569061], [5512, 4.1037344398340245], [5513, 4.257575757575758], [5514, 4.025], [5515, 3.533333333333333], [5516, 4.065693430656935], [5517, 4.105769230769231], [5518, 3.84070796460177], [5519, 3.3411764705882354], [5520, 3.9096385542168677], [5521, 4.0576923076923075], [5522, 3.8865384615384615], [5523, 3.771276595744681], [5524, 3.7409638554216866], [5525, 4.0], [5526, 3.7464788732394365], [5527, 3.413793103448276], [5528, 4.4], [5529, 4.285714285714286], [5530, 3.0199386503067487], [5531, 3.864864864864865], [5532, 3.4215686274509802], [5533, 4.0], [5534, 4.184615384615385], [5535, 3.6042780748663104], [5536, 2.910094637223975], [5537, 4.390625], [5538, 3.8793103448275863], [5539, 3.752083333333333], [5540, 3.8076923076923075], [5541, 4.074074074074074], [5542, 4.661971830985915], [5543, 3.592375366568915], [5544, 3.574468085106383], [5545, 4.342105263157895], [5546, 3.4705882352941178], [5547, 3.5921052631578947], [5548, 3.4523809523809526], [5549, 3.515151515151515], [5550, 3.647709320695103], [5551, 3.140625], [5552, 3.1481481481481484], [5553, 3.634980988593156], [5554, 3.673076923076923], [5555, 3.1149635036496353], [5556, 3.2841726618705036], [5557, 4.2105263157894735], [5558, 2.445344129554656], [5559, 4.17948717948718], [5560, 4.170731707317073], [5561, 2.9178082191780823], [5562, 3.506666666666667], [5563, 3.5789473684210527], [5564, 3.2], [5565, 3.983695652173913], [5566, 3.874015748031496], [5567, 3.424317617866005], [5568, 4.041055718475073], [5569, 3.4132231404958677], [5570, 3.8543046357615895], [5571, 3.4601769911504423], [5572, 3.8], [5573, 3.802325581395349], [5574, 3.7247191011235956], [5575, 2.9669117647058822], [5576, 3.893103448275862], [5577, 3.310344827586207], [5578, 3.9642857142857144], [5579, 4.208333333333333], [5580, 3.871670702179177], [5581, 4.297297297297297], [5582, 4.595588235294118], [5583, 3.8833333333333333], [5584, 3.5657894736842106], [5585, 3.7551020408163267], [5586, 4.071428571428571], [5587, 3.9272727272727272], [5588, 3.7837837837837838], [5589, 4.416666666666667], [5590, 3.6363636363636362], [5591, 4.260869565217392], [5592, 4.039370078740157], [5593, 4.35], [5594, 4.084615384615384], [5595, 3.145631067961165], [5596, 4.084656084656085], [5597, 3.1778846153846154], [5598, 3.8680555555555554], [5599, 3.367965367965368], [5600, 3.9135338345864663], [5601, 3.443298969072165], [5602, 4.0], [5603, 2.3060109289617485], [5604, 3.5196850393700787], [5605, 3.004076086956522], [5606, 3.8333333333333335], [5607, 3.52027027027027], [5608, 3.75], [5609, 4.675], [5610, 4.2], [5611, 4.258064516129032], [5612, 2.9722222222222223], [5613, 3.63953488372093], [5614, 3.805256869772999], [5615, 3.4602649006622515], [5616, 3.853846153846154], [5617, 3.5405405405405403], [5618, 3.8979591836734695], [5619, 3.652173913043478], [5620, 3.4246575342465753], [5621, 3.0251572327044025], [5622, 4.127906976744186], [5623, 3.9015151515151514], [5624, 3.3529411764705883], [5625, 3.9078947368421053], [5626, 4.38728323699422], [5627, 2.996319018404908], [5628, 3.4347826086956523], [5629, 4.475247524752476], [5630, 4.2091254752851714], [5631, 4.177215189873418], [5632, 3.65], [5633, 3.8205128205128207], [5634, 3.73], [5635, 3.5833333333333335], [5636, 3.1580188679245285], [5637, 3.9347826086956523], [5638, 3.519607843137255], [5639, 3.9767441860465116], [5640, 3.3823529411764706], [5641, 3.1893939393939394], [5642, 3.46], [5643, 3.206303724928367], [5644, 3.9726027397260273], [5645, 4.274074074074074], [5646, 3.7596153846153846], [5647, 3.6710526315789473], [5648, 3.641025641025641], [5649, 3.565], [5650, 2.9012738853503186], [5651, 3.8974358974358974], [5652, 3.4339622641509435], [5653, 3.9035087719298245], [5654, 3.8322147651006713], [5655, 3.7606837606837606], [5656, 2.9642857142857144], [5657, 4.095959595959596], [5658, 4.128], [5659, 3.473684210526316], [5660, 3.7941176470588234], [5661, 3.864], [5662, 3.9452054794520546], [5663, 3.626865671641791], [5664, 3.951219512195122], [5665, 4.086956521739131], [5666, 3.65625], [5667, 3.8780487804878048], [5668, 4.089887640449438], [5669, 3.0833333333333335], [5670, 4.25], [5671, 4.486238532110092], [5672, 3.4285714285714284], [5673, 3.823529411764706], [5674, 4.121951219512195], [5675, 3.8071672354948807], [5676, 2.8013698630136985], [5677, 3.548780487804878], [5678, 3.7971014492753623], [5679, 4.412087912087912], [5680, 4.044025157232705], [5681, 3.6363636363636362], [5682, 3.7335526315789473], [5683, 3.7295081967213113], [5684, 3.4376278118609407], [5685, 3.6], [5686, 2.0452830188679245], [5687, 3.6941176470588237], [5688, 3.46], [5689, 3.627049180327869], [5690, 4.458333333333333], [5691, 4.1461538461538465], [5692, 4.0], [5693, 3.4782608695652173], [5694, 4.2], [5695, 3.225806451612903], [5696, 4.5], [5697, 3.6538461538461537], [5698, 3.6285714285714286], [5699, 3.137123745819398], [5700, 3.9473684210526314], [5701, 3.8739495798319328], [5702, 3.8632478632478633], [5703, 3.9594594594594597], [5704, 4.258064516129032], [5705, 3.699421965317919], [5706, 3.860606060606061], [5707, 4.26], [5708, 3.1], [5709, 3.7580645161290325], [5710, 3.5454545454545454], [5711, 3.55], [5712, 3.602409638554217], [5713, 3.4838709677419355], [5714, 3.6666666666666665], [5715, 3.6904761904761907], [5716, 3.9245283018867925], [5717, 3.7447916666666665], [5718, 4.082901554404145], [5719, 3.076923076923077], [5720, 2.785310734463277], [5721, 3.75], [5722, 3.6430517711171664], [5723, 3.4356435643564356], [5724, 4.092783505154639], [5725, 3.45], [5726, 3.8175675675675675], [5727, 3.176470588235294], [5728, 3.4643962848297214], [5729, 4.225806451612903], [5730, 3.230769230769231], [5731, 4.233333333333333], [5732, 3.738095238095238], [5733, 4.125], [5734, 3.8509615384615383], [5735, 3.9565217391304346], [5736, 4.266666666666667], [5737, 3.541176470588235], [5738, 3.1520912547528517], [5739, 4.098039215686274], [5740, 2.486842105263158], [5741, 3.0851063829787235], [5742, 4.1063829787234045], [5743, 4.4], [5744, 3.8863636363636362], [5745, 3.7083333333333335], [5746, 3.5609756097560976], [5747, 3.2393617021276597], [5748, 4.037037037037037], [5749, 3.6265356265356266], [5750, 3.546218487394958], [5751, 3.588888888888889], [5752, 3.767741935483871], [5753, 4.240963855421687], [5754, 3.1133144475920678], [5755, 3.633009708737864], [5756, 3.8421052631578947], [5757, 4.103448275862069], [5758, 3.9863945578231292], [5759, 3.625], [5760, 3.5], [5761, 3.2152466367713006], [5762, 3.9305555555555554], [5763, 3.4608567208271785], [5764, 4.109090909090909], [5765, 3.3842794759825328], [5766, 3.734042553191489], [5767, 3.664756446991404], [5768, 4.702702702702703], [5769, 3.8636363636363638], [5770, 4.345323741007194], [5771, 3.4022556390977443], [5772, 2.909090909090909], [5773, 3.466666666666667], [5774, 3.581818181818182], [5775, 3.7384615384615385], [5776, 3.7049180327868854], [5777, 3.96], [5778, 4.181818181818182], [5779, 3.449238578680203], [5780, 3.741312741312741], [5781, 3.5185185185185186], [5782, 3.6491228070175437], [5783, 4.076923076923077], [5784, 3.5925925925925926], [5785, 4.2846153846153845], [5786, 3.4410876132930515], [5787, 3.7013574660633486], [5788, 2.7006060606060607], [5789, 3.9130434782608696], [5790, 3.7204301075268815], [5791, 4.089108910891089], [5792, 3.650557620817844], [5793, 4.166666666666667], [5794, 3.748299319727891], [5795, 3.0563821456538762], [5796, 3.5833333333333335], [5797, 3.5245901639344264], [5798, 3.7094017094017095], [5799, 3.7222222222222223], [5800, 3.3043478260869565], [5801, 3.9302325581395348], [5802, 4.075], [5803, 2.8333333333333335], [5804, 3.619047619047619], [5805, 4.066225165562914], [5806, 3.8642533936651584], [5807, 3.8545454545454545], [5808, 4.298507462686567], [5809, 3.7943548387096775], [5810, 3.857142857142857], [5811, 3.438311688311688], [5812, 3.591265397536394], [5813, 3.689655172413793], [5814, 4.0], [5815, 3.8846153846153846], [5816, 3.65625], [5817, 4.115384615384615], [5818, 3.46875], [5819, 3.8], [5820, 3.4375], [5821, 3.873015873015873], [5822, 3.6266666666666665], [5823, 4.019047619047619], [5824, 3.2381818181818183], [5825, 4.033898305084746], [5826, 3.6202531645569622], [5827, 3.7339449541284404], [5828, 2.7], [5829, 3.835616438356164], [5830, 3.8653846153846154], [5831, 3.6778688524590164], [5832, 4.051282051282051], [5833, 3.9545454545454546], [5834, 3.6], [5835, 4.225806451612903], [5836, 3.74], [5837, 3.8951310861423223], [5838, 3.8251121076233185], [5839, 4.548387096774194], [5840, 3.65531914893617], [5841, 4.1437125748503], [5842, 4.038461538461538], [5843, 2.7104072398190047], [5844, 3.8255813953488373], [5845, 4.275555555555556], [5846, 4.161290322580645], [5847, 4.008426966292135], [5848, 3.7114914425427874], [5849, 3.977777777777778], [5850, 1.8448275862068966], [5851, 4.012345679012346], [5852, 3.5210843373493974], [5853, 3.4052287581699345], [5854, 3.4365853658536585], [5855, 4.03921568627451], [5856, 3.65625], [5857, 3.33], [5858, 4.07], [5859, 4.0], [5860, 3.8987341772151898], [5861, 3.770053475935829], [5862, 4.6], [5863, 3.9047619047619047], [5864, 4.205128205128205], [5865, 3.3300970873786406], [5866, 3.875], [5867, 3.6875], [5868, 4.134328358208955], [5869, 3.5789473684210527], [5870, 3.9743589743589745], [5871, 4.17], [5872, 3.3688212927756656], [5873, 4.242424242424242], [5874, 3.5451505016722407], [5875, 3.8333333333333335], [5876, 3.8260869565217392], [5877, 3.6818181818181817], [5878, 3.632279534109817], [5879, 3.7818181818181817], [5880, 3.2085561497326203], [5881, 3.567857142857143], [5882, 3.7], [5883, 3.3461538461538463], [5884, 3.8846153846153846], [5885, 4.082644628099174], [5886, 3.2708757637474544], [5887, 3.6463414634146343], [5888, 3.1831442463533226], [5889, 3.9076923076923076], [5890, 3.911854103343465], [5891, 3.6666666666666665], [5892, 4.087719298245614], [5893, 3.168918918918919], [5894, 3.8956521739130436], [5895, 3.5], [5896, 2.5528846153846154], [5897, 3.8867924528301887], [5898, 3.7586206896551726], [5899, 3.380952380952381], [5900, 3.296], [5901, 3.2], [5902, 3.632183908045977], [5903, 3.7662337662337664], [5904, 3.5], [5905, 3.638157894736842], [5906, 3.9193548387096775], [5907, 3.8541666666666665], [5908, 4.121359223300971], [5909, 3.2758620689655173], [5910, 3.7846153846153845], [5911, 3.8362573099415203], [5912, 3.592], [5913, 3.8701298701298703], [5914, 3.942857142857143], [5915, 3.6888111888111887], [5916, 3.169034090909091], [5917, 3.9304347826086956], [5918, 4.217391304347826], [5919, 3.125], [5920, 3.923076923076923], [5921, 3.4347826086956523], [5922, 3.6103896103896105], [5923, 3.8285714285714287], [5924, 3.5844155844155843], [5925, 3.8527918781725887], [5926, 3.761904761904762], [5927, 3.6805555555555554], [5928, 3.4583333333333335], [5929, 3.425925925925926], [5930, 4.361702127659575], [5931, 3.5584415584415585], [5932, 3.3333333333333335], [5933, 4.2439024390243905], [5934, 4.0], [5935, 3.5833333333333335], [5936, 4.611111111111111], [5937, 3.3333333333333335], [5938, 3.9105263157894736], [5939, 4.045045045045045], [5940, 3.239130434782609], [5941, 3.8125], [5942, 4.028735632183908], [5943, 4.076923076923077], [5944, 2.2], [5945, 4.176470588235294], [5946, 3.752688172043011], [5947, 2.971830985915493], [5948, 4.231155778894473], [5949, 3.4972375690607733], [5950, 3.0206896551724136], [5951, 3.9622641509433962], [5952, 4.325581395348837], [5953, 3.978021978021978], [5954, 3.29], [5955, 3.6084656084656084], [5956, 3.358361774744027], [5957, 3.518828451882845], [5958, 3.875], [5959, 2.7857142857142856], [5960, 3.8210526315789473], [5961, 3.061688311688312], [5962, 4.48], [5963, 3.5294117647058822], [5964, 3.77959927140255], [5965, 3.289473684210526], [5966, 3.292307692307692], [5967, 3.772727272727273], [5968, 4.363636363636363], [5969, 3.5164835164835164], [5970, 3.8444444444444446], [5971, 3.558282208588957], [5972, 3.711670480549199], [5973, 4.388888888888889], [5974, 3.4334763948497855], [5975, 3.9074074074074074], [5976, 3.4047619047619047], [5977, 4.098039215686274], [5978, 3.1979949874686717], [5979, 3.727272727272727], [5980, 3.6320754716981134], [5981, 3.617857142857143], [5982, 3.9291338582677167], [5983, 4.107142857142857], [5984, 4.7], [5985, 3.727272727272727], [5986, 4.441666666666666], [5987, 3.389830508474576], [5988, 3.2278481012658227], [5989, 3.9740259740259742], [5990, 3.444055944055944], [5991, 3.588235294117647], [5992, 3.4776119402985075], [5993, 3.566666666666667], [5994, 4.32051282051282], [5995, 3.956989247311828], [5996, 3.8104906937394247], [5997, 4.4035087719298245], [5998, 3.2721518987341773], [5999, 4.111111111111111], [6000, 3.2450592885375493], [6001, 3.594017094017094], [6002, 4.071641791044776], [6003, 4.106299212598425], [6004, 3.3859649122807016], [6005, 3.6704545454545454], [6006, 3.161290322580645], [6007, 3.1533742331288344], [6008, 3.5714285714285716], [6009, 3.34375], [6010, 3.971608832807571], [6011, 3.969543147208122], [6012, 3.0], [6013, 4.080645161290323], [6014, 3.8867924528301887], [6015, 3.754385964912281], [6016, 3.189218921892189], [6017, 3.515151515151515], [6018, 3.591194968553459], [6019, 3.460674157303371], [6020, 4.395348837209302], [6021, 3.5], [6022, 3.8541666666666665], [6023, 3.687074829931973], [6024, 4.126315789473685], [6025, 3.302583025830258], [6026, 3.617283950617284], [6027, 4.25], [6028, 3.4468085106382977], [6029, 3.903225806451613], [6030, 3.9391304347826086], [6031, 3.6666666666666665], [6032, 4.134615384615385], [6033, 3.85], [6034, 4.095238095238095], [6035, 2.6107142857142858], [6036, 3.3029279279279278], [6037, 3.717821782178218], [6038, 3.8], [6039, 3.8780487804878048], [6040, 3.5777126099706744]]\n"
     ]
    }
   ],
   "source": [
    "user_mean_list = []\n",
    "\n",
    "for user in user_id:\n",
    "    user_mean = movie[movie[:, 0]==user][:, 2].mean()\n",
    "    user_mean_list.append([user, user_mean])\n",
    "\n",
    "print(user_mean_list)   "
   ]
  },
  {
   "cell_type": "markdown",
   "id": "476f9bc1",
   "metadata": {},
   "source": [
    "#### 6. 위에서 구한 각 사용자 별 평점 평균이 4점 이상인 사용자만 구해보자"
   ]
  },
  {
   "cell_type": "code",
   "execution_count": 56,
   "id": "ec76abd2",
   "metadata": {},
   "outputs": [
    {
     "data": {
      "text/plain": [
       "array([   1,    4,    7, ..., 6027, 6032, 6034], dtype=int64)"
      ]
     },
     "execution_count": 56,
     "metadata": {},
     "output_type": "execute_result"
    }
   ],
   "source": [
    "user_mean_arr = np.array(user_mean_list)\n",
    "user_mean_arr[user_mean_arr[:,1] >= 4][:, 0].astype(np.int64)"
   ]
  },
  {
   "cell_type": "code",
   "execution_count": 57,
   "id": "dbcb5157",
   "metadata": {},
   "outputs": [
    {
     "data": {
      "text/plain": [
       "1544"
      ]
     },
     "execution_count": 57,
     "metadata": {},
     "output_type": "execute_result"
    }
   ],
   "source": [
    "len(user_mean_arr[user_mean_arr[:,1] >= 4])"
   ]
  },
  {
   "cell_type": "markdown",
   "id": "d2e9f9eb",
   "metadata": {},
   "source": [
    "### 과제\n",
    "- 10번 영화의 평점 평균 구하기\n",
    "- 모든 영화가 받은 평점의 평균 구하기(2차원 리스트로 뽑기)"
   ]
  },
  {
   "cell_type": "code",
   "execution_count": 62,
   "id": "8648810e",
   "metadata": {},
   "outputs": [
    {
     "data": {
      "text/plain": [
       "3.5405405405405403"
      ]
     },
     "execution_count": 62,
     "metadata": {},
     "output_type": "execute_result"
    }
   ],
   "source": [
    "np.mean(movie[movie[:, 1]==10][:,2])"
   ]
  },
  {
   "cell_type": "code",
   "execution_count": 65,
   "id": "21ce6ab2",
   "metadata": {},
   "outputs": [
    {
     "data": {
      "text/plain": [
       "array([   1,    2,    3, ..., 3950, 3951, 3952], dtype=int64)"
      ]
     },
     "execution_count": 65,
     "metadata": {},
     "output_type": "execute_result"
    }
   ],
   "source": [
    "movie_list = np.unique(movie[:, 1])\n",
    "movie_list"
   ]
  },
  {
   "cell_type": "code",
   "execution_count": 69,
   "id": "bcdab0c4",
   "metadata": {},
   "outputs": [
    {
     "data": {
      "text/plain": [
       "array([[        1,      1193,         5, 978300760],\n",
       "       [        1,       661,         3, 978302109],\n",
       "       [        1,       914,         3, 978301968],\n",
       "       ...,\n",
       "       [     6040,       562,         5, 956704746],\n",
       "       [     6040,      1096,         4, 956715648],\n",
       "       [     6040,      1097,         4, 956715569]], dtype=int64)"
      ]
     },
     "execution_count": 69,
     "metadata": {},
     "output_type": "execute_result"
    }
   ],
   "source": [
    "movie"
   ]
  },
  {
   "cell_type": "code",
   "execution_count": 70,
   "id": "b411ffc8",
   "metadata": {},
   "outputs": [
    {
     "data": {
      "text/plain": [
       "[[1, 4.146846413095811],\n",
       " [2, 3.20114122681883],\n",
       " [3, 3.01673640167364],\n",
       " [4, 2.7294117647058824],\n",
       " [5, 3.0067567567567566],\n",
       " [6, 3.8787234042553194],\n",
       " [7, 3.410480349344978],\n",
       " [8, 3.014705882352941],\n",
       " [9, 2.656862745098039],\n",
       " [10, 3.5405405405405403],\n",
       " [11, 3.7938044530493706],\n",
       " [12, 2.3625],\n",
       " [13, 3.2626262626262625],\n",
       " [14, 3.542483660130719],\n",
       " [15, 2.458904109589041],\n",
       " [16, 3.7932551319648096],\n",
       " [17, 4.027544910179641],\n",
       " [18, 3.337579617834395],\n",
       " [19, 2.480719794344473],\n",
       " [20, 2.5375],\n",
       " [21, 3.6238938053097347],\n",
       " [22, 3.3492063492063493],\n",
       " [23, 2.857142857142857],\n",
       " [24, 3.1794871794871793],\n",
       " [25, 3.6510204081632653],\n",
       " [26, 3.53],\n",
       " [27, 2.9344262295081966],\n",
       " [28, 4.055865921787709],\n",
       " [29, 4.062034739454094],\n",
       " [30, 3.6486486486486487],\n",
       " [31, 3.1134751773049647],\n",
       " [32, 3.945731303772336],\n",
       " [33, 3.0],\n",
       " [34, 3.8914905768132497],\n",
       " [35, 3.3142857142857145],\n",
       " [36, 3.9579741379310347],\n",
       " [37, 3.5],\n",
       " [38, 2.8214285714285716],\n",
       " [39, 3.6233480176211454],\n",
       " [40, 3.933333333333333],\n",
       " [41, 3.958677685950413],\n",
       " [42, 2.8687782805429864],\n",
       " [43, 3.4457831325301207],\n",
       " [44, 2.787781350482315],\n",
       " [45, 3.4246323529411766],\n",
       " [46, 3.108433734939759],\n",
       " [47, 4.106420404573439],\n",
       " [48, 2.9764397905759163],\n",
       " [49, 3.740740740740741],\n",
       " [50, 4.517106001121705],\n",
       " [52, 3.640371229698376],\n",
       " [53, 4.75],\n",
       " [54, 2.5609756097560976],\n",
       " [55, 3.066666666666667],\n",
       " [56, 2.0],\n",
       " [57, 3.404040404040404],\n",
       " [58, 4.093812375249501],\n",
       " [59, 2.75],\n",
       " [60, 3.212885154061625],\n",
       " [61, 3.0],\n",
       " [62, 3.6968576709796674],\n",
       " [63, 2.855855855855856],\n",
       " [64, 2.2658227848101267],\n",
       " [65, 2.062937062937063],\n",
       " [66, 1.6701030927835052],\n",
       " [67, 3.25],\n",
       " [68, 3.45],\n",
       " [69, 3.6551724137931036],\n",
       " [70, 3.1564551422319473],\n",
       " [71, 2.1041666666666665],\n",
       " [72, 3.6344086021505375],\n",
       " [73, 3.8169642857142856],\n",
       " [74, 2.975],\n",
       " [75, 1.9166666666666667],\n",
       " [76, 2.853932584269663],\n",
       " [77, 3.764705882352941],\n",
       " [78, 3.26],\n",
       " [79, 2.6052631578947367],\n",
       " [80, 3.826923076923077],\n",
       " [81, 3.1626506024096384],\n",
       " [82, 3.8764044943820224],\n",
       " [83, 3.696969696969697],\n",
       " [84, 3.0952380952380953],\n",
       " [85, 3.402061855670103],\n",
       " [86, 3.3940677966101696],\n",
       " [87, 2.210526315789474],\n",
       " [88, 2.9427083333333335],\n",
       " [89, 3.074235807860262],\n",
       " [90, 3.6666666666666665],\n",
       " [92, 2.340909090909091],\n",
       " [93, 2.235955056179775],\n",
       " [94, 3.7252747252747254],\n",
       " [95, 2.876175548589342],\n",
       " [96, 3.923076923076923],\n",
       " [97, 3.75],\n",
       " [98, 2.0],\n",
       " [99, 3.46],\n",
       " [100, 3.0625],\n",
       " [101, 3.869565217391304],\n",
       " [102, 1.8166666666666667],\n",
       " [103, 3.212121212121212],\n",
       " [104, 3.526392961876833],\n",
       " [105, 3.2325581395348837],\n",
       " [106, 3.5833333333333335],\n",
       " [107, 3.1484375],\n",
       " [108, 2.857142857142857],\n",
       " [110, 4.234957020057307],\n",
       " [111, 4.183870967741935],\n",
       " [112, 3.443859649122807],\n",
       " [113, 2.981132075471698],\n",
       " [114, 3.090909090909091],\n",
       " [116, 4.097560975609756],\n",
       " [117, 3.632911392405063],\n",
       " [118, 3.073529411764706],\n",
       " [119, 2.4615384615384617],\n",
       " [120, 2.6666666666666665],\n",
       " [121, 4.054054054054054],\n",
       " [122, 2.768041237113402],\n",
       " [123, 3.869565217391304],\n",
       " [124, 3.2142857142857144],\n",
       " [125, 3.8333333333333335],\n",
       " [126, 1.9898989898989898],\n",
       " [127, 1.0],\n",
       " [128, 4.333333333333333],\n",
       " [129, 3.3076923076923075],\n",
       " [130, 4.0],\n",
       " [131, 3.0625],\n",
       " [132, 2.4945054945054945],\n",
       " [133, 1.0],\n",
       " [134, 4.0],\n",
       " [135, 2.81203007518797],\n",
       " [136, 3.25],\n",
       " [137, 3.0],\n",
       " [138, 2.5],\n",
       " [139, 4.0],\n",
       " [140, 3.1654676258992804],\n",
       " [141, 3.5498533724340176],\n",
       " [142, 1.0],\n",
       " [144, 3.392609699769053],\n",
       " [145, 3.2955801104972378],\n",
       " [146, 2.888888888888889],\n",
       " [147, 3.541436464088398],\n",
       " [148, 2.782608695652174],\n",
       " [149, 3.7872340425531914],\n",
       " [150, 4.073541167066347],\n",
       " [151, 3.588447653429603],\n",
       " [152, 3.0],\n",
       " [153, 2.642213642213642],\n",
       " [154, 3.7261904761904763],\n",
       " [155, 3.413793103448276],\n",
       " [156, 3.5606060606060606],\n",
       " [157, 2.732620320855615],\n",
       " [158, 2.9806949806949805],\n",
       " [159, 3.2844827586206895],\n",
       " [160, 2.2389380530973453],\n",
       " [161, 3.723684210526316],\n",
       " [162, 4.063136456211812],\n",
       " [163, 3.4574074074074073],\n",
       " [164, 3.5672823218997363],\n",
       " [165, 3.561212121212121],\n",
       " [166, 2.459016393442623],\n",
       " [167, 3.6],\n",
       " [168, 2.9502762430939224],\n",
       " [169, 2.017699115044248],\n",
       " [170, 3.146417445482866],\n",
       " [171, 3.5698924731182795],\n",
       " [172, 2.576419213973799],\n",
       " [173, 2.3085106382978724],\n",
       " [174, 2.308641975308642],\n",
       " [175, 3.477272727272727],\n",
       " [176, 3.9170731707317072],\n",
       " [177, 2.7338129496402876],\n",
       " [178, 3.473684210526316],\n",
       " [179, 2.2083333333333335],\n",
       " [180, 3.5476718403547673],\n",
       " [181, 1.6129032258064515],\n",
       " [182, 3.142857142857143],\n",
       " [183, 3.4827586206896552],\n",
       " [184, 3.3461538461538463],\n",
       " [185, 2.869947275922671],\n",
       " [186, 2.7630331753554502],\n",
       " [187, 3.238095238095238],\n",
       " [188, 3.221052631578947],\n",
       " [189, 3.4],\n",
       " [190, 3.75],\n",
       " [191, 2.466666666666667],\n",
       " [192, 3.0],\n",
       " [193, 2.0506912442396312],\n",
       " [194, 3.755868544600939],\n",
       " [195, 2.841463414634146],\n",
       " [196, 2.8236363636363637],\n",
       " [197, 3.0588235294117645],\n",
       " [198, 3.2958677685950413],\n",
       " [199, 3.8119658119658117],\n",
       " [200, 2.4166666666666665],\n",
       " [201, 2.6363636363636362],\n",
       " [202, 2.5],\n",
       " [203, 3.0541871921182264],\n",
       " [204, 2.9211822660098523],\n",
       " [205, 3.611764705882353],\n",
       " [206, 3.6707317073170733],\n",
       " [207, 3.132420091324201],\n",
       " [208, 2.6313364055299537],\n",
       " [209, 2.4615384615384617],\n",
       " [210, 3.1463414634146343],\n",
       " [211, 3.5588235294117645],\n",
       " [212, 1.9285714285714286],\n",
       " [213, 4.056910569105691],\n",
       " [214, 4.25],\n",
       " [215, 3.80625],\n",
       " [216, 3.183098591549296],\n",
       " [217, 2.625],\n",
       " [218, 3.128205128205128],\n",
       " [219, 3.1818181818181817],\n",
       " [220, 1.8214285714285714],\n",
       " [222, 3.547112462006079],\n",
       " [223, 3.946883852691218],\n",
       " [224, 3.3911917098445596],\n",
       " [225, 3.173228346456693],\n",
       " [226, 2.0],\n",
       " [227, 2.6744186046511627],\n",
       " [228, 2.1538461538461537],\n",
       " [229, 3.5],\n",
       " [230, 3.4527220630372493],\n",
       " [231, 3.1924242424242424],\n",
       " [232, 4.07514450867052],\n",
       " [233, 3.6127659574468085],\n",
       " [234, 2.2244897959183674],\n",
       " [235, 3.696871628910464],\n",
       " [236, 3.303680981595092],\n",
       " [237, 2.972762645914397],\n",
       " [238, 2.8125],\n",
       " [239, 2.875],\n",
       " [240, 2.7111111111111112],\n",
       " [241, 3.310344827586207],\n",
       " [242, 3.5],\n",
       " [243, 2.1],\n",
       " [244, 1.9],\n",
       " [245, 3.0],\n",
       " [246, 4.18854748603352],\n",
       " [247, 3.8658280922431865],\n",
       " [248, 2.9130434782608696],\n",
       " [249, 3.7586206896551726],\n",
       " [250, 2.6],\n",
       " [251, 3.2777777777777777],\n",
       " [252, 3.2697547683923704],\n",
       " [253, 3.524390243902439],\n",
       " [254, 3.0789473684210527],\n",
       " [255, 2.0606060606060606],\n",
       " [256, 2.6513761467889907],\n",
       " [257, 3.2280701754385963],\n",
       " [258, 2.423611111111111],\n",
       " [259, 2.843137254901961],\n",
       " [260, 4.453694416583082],\n",
       " [261, 3.6491228070175437],\n",
       " [262, 3.872093023255814],\n",
       " [263, 3.857142857142857],\n",
       " [264, 3.2],\n",
       " [265, 3.9326424870466323],\n",
       " [266, 3.425531914893617],\n",
       " [267, 2.7285714285714286],\n",
       " [268, 3.3703703703703702],\n",
       " [269, 3.5272727272727273],\n",
       " [270, 3.037974683544304],\n",
       " [271, 3.142857142857143],\n",
       " [272, 3.7258485639686683],\n",
       " [273, 2.8975409836065573],\n",
       " [274, 2.375],\n",
       " [275, 2.5375],\n",
       " [276, 2.692982456140351],\n",
       " [277, 3.1823529411764704],\n",
       " [278, 2.75],\n",
       " [279, 3.717391304347826],\n",
       " [280, 3.5707547169811322],\n",
       " [281, 3.648068669527897],\n",
       " [282, 3.2232558139534886],\n",
       " [283, 3.0],\n",
       " [286, 3.0],\n",
       " [287, 2.9047619047619047],\n",
       " [288, 3.144285714285714],\n",
       " [289, 3.3417721518987342],\n",
       " [290, 3.9166666666666665],\n",
       " [291, 2.2083333333333335],\n",
       " [292, 3.2687585266030013],\n",
       " [293, 4.106175514626218],\n",
       " [294, 3.0952380952380953],\n",
       " [295, 2.7586206896551726],\n",
       " [296, 4.278212805158913],\n",
       " [297, 3.107142857142857],\n",
       " [298, 3.9130434782608696],\n",
       " [299, 3.664335664335664],\n",
       " [300, 3.7588652482269502],\n",
       " [301, 3.302325581395349],\n",
       " [302, 3.813953488372093],\n",
       " [303, 2.9760765550239237],\n",
       " [304, 3.142857142857143],\n",
       " [305, 2.5039370078740157],\n",
       " [306, 4.227544910179641],\n",
       " [307, 4.098765432098766],\n",
       " [308, 3.9653465346534653],\n",
       " [309, 3.6875],\n",
       " [310, 2.6666666666666665],\n",
       " [311, 3.0],\n",
       " [312, 2.4375],\n",
       " [313, 2.888888888888889],\n",
       " [314, 3.85],\n",
       " [315, 2.65359477124183],\n",
       " [316, 3.490143369175627],\n",
       " [317, 3.1918876755070205],\n",
       " [318, 4.554557700942973],\n",
       " [319, 3.8937728937728937],\n",
       " [320, 3.40625],\n",
       " [321, 3.7540983606557377],\n",
       " [322, 3.712918660287081],\n",
       " [324, 3.9696969696969697],\n",
       " [325, 2.4489795918367347],\n",
       " [326, 4.344262295081967],\n",
       " [327, 2.6145251396648046],\n",
       " [328, 3.111111111111111],\n",
       " [329, 3.3767676767676766],\n",
       " [330, 2.7315436241610738],\n",
       " [331, 3.0952380952380953],\n",
       " [332, 2.546583850931677],\n",
       " [333, 3.502439024390244],\n",
       " [334, 3.8596491228070176],\n",
       " [335, 3.4878048780487805],\n",
       " [336, 2.6842105263157894],\n",
       " [337, 3.8412698412698414],\n",
       " [338, 2.8823529411764706],\n",
       " [339, 3.49925705794948],\n",
       " [340, 3.2738095238095237],\n",
       " [341, 3.838709677419355],\n",
       " [342, 3.6776061776061777],\n",
       " [343, 2.4285714285714284],\n",
       " [344, 3.1488250652741514],\n",
       " [345, 3.8059701492537314],\n",
       " [346, 3.525],\n",
       " [347, 3.1739130434782608],\n",
       " [348, 3.698901098901099],\n",
       " [349, 3.7261567516525025],\n",
       " [350, 3.392233009708738],\n",
       " [351, 3.342412451361868],\n",
       " [352, 3.134453781512605],\n",
       " [353, 3.4455040871934606],\n",
       " [354, 3.1791044776119404],\n",
       " [355, 2.352059925093633],\n",
       " [356, 4.087967183226983],\n",
       " [357, 3.7437145174371453],\n",
       " [358, 3.1702127659574466],\n",
       " [359, 3.210526315789474],\n",
       " [360, 2.4960629921259843],\n",
       " [361, 3.421641791044776],\n",
       " [362, 3.3640167364016738],\n",
       " [363, 4.258064516129032],\n",
       " [364, 3.8608385370205176],\n",
       " [365, 3.1690140845070425],\n",
       " [366, 2.8207171314741037],\n",
       " [367, 3.279050042408821],\n",
       " [368, 3.5236907730673317],\n",
       " [369, 3.310344827586207],\n",
       " [370, 2.8980582524271843],\n",
       " [371, 3.1792452830188678],\n",
       " [372, 3.1542056074766354],\n",
       " [373, 3.856589147286822],\n",
       " [374, 2.1147540983606556],\n",
       " [375, 3.2941176470588234],\n",
       " [376, 3.2457142857142856],\n",
       " [377, 3.5654545454545454],\n",
       " [378, 2.892857142857143],\n",
       " [379, 2.889908256880734],\n",
       " [380, 3.6342857142857143],\n",
       " [381, 3.2606635071090047],\n",
       " [382, 2.9338235294117645],\n",
       " [383, 3.2666666666666666],\n",
       " [384, 2.9],\n",
       " [385, 3.4],\n",
       " [386, 2.6],\n",
       " [387, 2.7450980392156863],\n",
       " [388, 3.6391752577319587],\n",
       " [389, 3.7],\n",
       " [390, 3.542372881355932],\n",
       " [391, 3.275],\n",
       " [392, 2.8],\n",
       " [393, 1.8571428571428572],\n",
       " [394, 3.6666666666666665],\n",
       " [396, 4.0],\n",
       " [397, 2.4166666666666665],\n",
       " [398, 4.0],\n",
       " [401, 3.0],\n",
       " [402, 3.0],\n",
       " [404, 3.75],\n",
       " [405, 2.123152709359606],\n",
       " [406, 3.625],\n",
       " [407, 2.911917098445596],\n",
       " [408, 3.3194444444444446],\n",
       " [409, 3.020408163265306],\n",
       " [410, 2.9071274298056156],\n",
       " [411, 2.6153846153846154],\n",
       " [412, 3.559322033898305],\n",
       " [413, 2.5306122448979593],\n",
       " [414, 2.6555555555555554],\n",
       " [415, 2.4804469273743015],\n",
       " [416, 2.4269662921348316],\n",
       " [417, 3.485576923076923],\n",
       " [418, 2.5172413793103448],\n",
       " [419, 2.1923076923076925],\n",
       " [420, 2.5056818181818183],\n",
       " [421, 3.3617021276595747],\n",
       " [422, 3.1228070175438596],\n",
       " [423, 3.1085972850678734],\n",
       " [424, 2.6],\n",
       " [425, 3.6095238095238096],\n",
       " [426, 3.0817843866171004],\n",
       " [427, 2.3674698795180724],\n",
       " [428, 3.931558935361217],\n",
       " [429, 2.379679144385027],\n",
       " [430, 2.4166666666666665],\n",
       " [431, 3.6910569105691056],\n",
       " [432, 2.579081632653061],\n",
       " [433, 2.7916666666666665],\n",
       " [434, 3.0845481049562684],\n",
       " [435, 2.6060037523452158],\n",
       " [436, 2.652482269503546],\n",
       " [437, 2.046875],\n",
       " [438, 2.625],\n",
       " [439, 4.5],\n",
       " [440, 3.811181434599156],\n",
       " [441, 3.6936236391912907],\n",
       " [442, 2.9921875],\n",
       " [443, 3.3870967741935485],\n",
       " [444, 2.2962962962962963],\n",
       " [445, 2.61],\n",
       " [446, 4.082677165354331],\n",
       " [447, 2.4838709677419355],\n",
       " [448, 3.6008771929824563],\n",
       " [449, 3.6619718309859155],\n",
       " [450, 3.280701754385965],\n",
       " [451, 3.150943396226415],\n",
       " [452, 3.289473684210526],\n",
       " [453, 3.2238805970149254],\n",
       " [454, 3.5473300970873787],\n",
       " [455, 2.5894736842105264],\n",
       " [456, 4.0],\n",
       " [457, 4.103258145363409],\n",
       " [458, 3.2758620689655173],\n",
       " [459, 2.832167832167832],\n",
       " [460, 2.263157894736842],\n",
       " [461, 3.2790697674418605],\n",
       " [462, 2.642857142857143],\n",
       " [463, 2.74468085106383],\n",
       " [464, 2.7824074074074074],\n",
       " [465, 3.3142857142857145],\n",
       " [466, 2.7958115183246073],\n",
       " [467, 3.2037037037037037],\n",
       " [468, 3.2714285714285714],\n",
       " [469, 2.9565217391304346],\n",
       " [470, 1.736842105263158],\n",
       " [471, 3.631051752921536],\n",
       " [472, 2.7045454545454546],\n",
       " [473, 2.225165562913907],\n",
       " [474, 3.825102880658436],\n",
       " [475, 3.9006410256410255],\n",
       " [476, 2.6857142857142855],\n",
       " [477, 3.466666666666667],\n",
       " [478, 2.4583333333333335],\n",
       " [479, 2.7969924812030076],\n",
       " [480, 3.7638473053892216],\n",
       " [481, 3.380952380952381],\n",
       " [482, 3.528409090909091],\n",
       " [483, 3.7432432432432434],\n",
       " [484, 2.6551724137931036],\n",
       " [485, 2.508],\n",
       " [486, 2.8125],\n",
       " [487, 2.6129032258064515],\n",
       " [488, 3.3846153846153846],\n",
       " [489, 2.4742268041237114],\n",
       " [490, 3.324324324324324],\n",
       " [491, 3.3160377358490565],\n",
       " [492, 3.719402985074627],\n",
       " [493, 3.6073825503355703],\n",
       " [494, 3.3461538461538463],\n",
       " [495, 3.380952380952381],\n",
       " [496, 3.2162162162162162],\n",
       " [497, 4.0],\n",
       " [498, 2.74468085106383],\n",
       " [499, 2.7551020408163267],\n",
       " [500, 3.420047732696897],\n",
       " [501, 3.606382978723404],\n",
       " [502, 1.935483870967742],\n",
       " [503, 3.6923076923076925],\n",
       " [504, 2.955056179775281],\n",
       " [505, 2.4927536231884058],\n",
       " [506, 3.491228070175439],\n",
       " [507, 3.522727272727273],\n",
       " [508, 3.894830659536542],\n",
       " [509, 3.674342105263158],\n",
       " [510, 2.4047619047619047],\n",
       " [511, 3.1052631578947367],\n",
       " [512, 2.8715083798882683],\n",
       " [513, 3.1194029850746268],\n",
       " [514, 3.531791907514451],\n",
       " [515, 3.917777777777778],\n",
       " [516, 2.870967741935484],\n",
       " [517, 3.175392670157068],\n",
       " [518, 2.4563758389261743],\n",
       " [519, 1.9405940594059405],\n",
       " [520, 2.93048128342246],\n",
       " [521, 3.3675213675213675],\n",
       " [522, 3.566265060240964],\n",
       " [523, 3.658119658119658],\n",
       " [524, 3.615546218487395],\n",
       " [525, 3.1904761904761907],\n",
       " [526, 2.5],\n",
       " [527, 4.510416666666667],\n",
       " [528, 2.514705882352941],\n",
       " [529, 3.977777777777778],\n",
       " [530, 3.5],\n",
       " [531, 3.769230769230769],\n",
       " [532, 3.0488431876606685],\n",
       " [533, 2.7339901477832513],\n",
       " [534, 3.835664335664336],\n",
       " [535, 3.8172757475083055],\n",
       " [536, 3.1636363636363636],\n",
       " [537, 3.077294685990338],\n",
       " [538, 3.8222222222222224],\n",
       " [539, 3.760649087221095],\n",
       " [540, 2.2189349112426036],\n",
       " [541, 4.273333333333333],\n",
       " [542, 2.674757281553398],\n",
       " [543, 3.3841642228739004],\n",
       " [544, 2.643410852713178],\n",
       " [545, 2.0],\n",
       " [546, 1.8742857142857143],\n",
       " [547, 2.879032258064516],\n",
       " [548, 2.5474452554744524],\n",
       " [549, 3.821656050955414],\n",
       " [550, 3.0168539325842696],\n",
       " [551, 3.717871485943775],\n",
       " [552, 3.2400756143667295],\n",
       " [553, 3.8734177215189876],\n",
       " [554, 2.6153846153846154],\n",
       " [555, 3.9285714285714284],\n",
       " [556, 4.2272727272727275],\n",
       " [557, 4.5],\n",
       " [558, 2.7037037037037037],\n",
       " [559, 3.0],\n",
       " [560, 3.625],\n",
       " [561, 3.6153846153846154],\n",
       " [562, 3.799163179916318],\n",
       " [563, 3.235294117647059],\n",
       " [564, 2.2666666666666666],\n",
       " [565, 3.1311475409836067],\n",
       " [566, 2.923076923076923],\n",
       " [567, 3.5714285714285716],\n",
       " [568, 3.857142857142857],\n",
       " [569, 2.93],\n",
       " [570, 3.217391304347826],\n",
       " [571, 3.588235294117647],\n",
       " [572, 3.0],\n",
       " [573, 3.5238095238095237],\n",
       " [574, 3.4457142857142857],\n",
       " [575, 2.822429906542056],\n",
       " [576, 3.0],\n",
       " [577, 2.963636363636364],\n",
       " [578, 4.5],\n",
       " [579, 2.0],\n",
       " [580, 3.2419354838709675],\n",
       " [581, 4.049645390070922],\n",
       " [582, 3.0],\n",
       " [583, 3.6785714285714284],\n",
       " [584, 4.0],\n",
       " [585, 2.9066985645933014],\n",
       " [586, 3.1348148148148147],\n",
       " [587, 3.49644128113879],\n",
       " [588, 3.788304959289415],\n",
       " [589, 4.058512646281616],\n",
       " [590, 3.9152308752584424],\n",
       " [591, 2.0],\n",
       " [592, 3.6009783368273935],\n",
       " [593, 4.3518231186966645],\n",
       " [594, 3.8453473132372213],\n",
       " [595, 3.8858490566037736],\n",
       " [596, 3.751004016064257],\n",
       " [597, 3.641491395793499],\n",
       " [598, 4.25],\n",
       " [599, 4.087121212121212],\n",
       " [600, 3.0],\n",
       " [601, 3.0],\n",
       " [602, 4.121951219512195],\n",
       " [603, 3.0],\n",
       " [605, 3.314159292035398],\n",
       " [606, 2.225806451612903],\n",
       " [607, 2.0],\n",
       " [608, 4.254675686430561],\n",
       " [609, 2.7761194029850746],\n",
       " [610, 3.546925566343042],\n",
       " [611, 2.4722222222222223],\n",
       " [612, 2.4050632911392404],\n",
       " [613, 3.6341463414634148],\n",
       " [614, 2.6666666666666665],\n",
       " [615, 4.044776119402985],\n",
       " [616, 3.352517985611511],\n",
       " [617, 3.6470588235294117],\n",
       " [618, 2.111111111111111],\n",
       " [619, 2.59375],\n",
       " [621, 3.7142857142857144],\n",
       " [623, 3.0],\n",
       " [624, 4.0],\n",
       " [626, 2.263157894736842],\n",
       " [627, 3.603305785123967],\n",
       " [628, 3.8969072164948453],\n",
       " [630, 2.857142857142857],\n",
       " [631, 2.08],\n",
       " [632, 4.0],\n",
       " [633, 3.6],\n",
       " [634, 1.6666666666666667],\n",
       " [635, 3.6233766233766236],\n",
       " [637, 2.5428571428571427],\n",
       " [638, 3.210526315789474],\n",
       " [639, 2.6153846153846154],\n",
       " [640, 2.676056338028169],\n",
       " [641, 1.0],\n",
       " [642, 2.0],\n",
       " [643, 2.0],\n",
       " [644, 2.0],\n",
       " [645, 3.6],\n",
       " [647, 3.5532879818594103],\n",
       " [648, 3.432874918140144],\n",
       " [649, 4.1875],\n",
       " [650, 3.4719101123595504],\n",
       " [651, 2.0],\n",
       " [652, 2.888888888888889],\n",
       " [653, 3.2254901960784315],\n",
       " [655, 1.0],\n",
       " [656, 2.5641025641025643],\n",
       " [657, 3.0],\n",
       " [658, 3.0],\n",
       " [659, 3.72],\n",
       " [660, 1.5],\n",
       " [661, 3.4647619047619047],\n",
       " [662, 2.984375],\n",
       " [663, 3.4166666666666665],\n",
       " [664, 3.0],\n",
       " [665, 3.657142857142857],\n",
       " [666, 3.3333333333333335],\n",
       " [667, 2.0425531914893615],\n",
       " [668, 4.404255319148936],\n",
       " [669, 4.173913043478261],\n",
       " [670, 4.410714285714286],\n",
       " [671, 3.6798245614035086],\n",
       " [672, 2.0],\n",
       " [673, 2.619893428063943],\n",
       " [674, 3.0155440414507773],\n",
       " [678, 4.245098039215686],\n",
       " [679, 3.5],\n",
       " [680, 3.359375],\n",
       " [681, 3.933333333333333],\n",
       " [682, 3.5],\n",
       " [684, 1.0],\n",
       " [685, 3.3],\n",
       " [687, 3.0],\n",
       " [688, 2.276995305164319],\n",
       " [690, 2.0],\n",
       " [691, 3.0991735537190084],\n",
       " [692, 2.1132075471698113],\n",
       " [694, 2.645390070921986],\n",
       " [695, 3.1777777777777776],\n",
       " [696, 3.25],\n",
       " [697, 2.552941176470588],\n",
       " [698, 2.2],\n",
       " [700, 3.3241379310344827],\n",
       " [701, 4.0],\n",
       " [702, 3.6666666666666665],\n",
       " [703, 1.6],\n",
       " [704, 2.3095238095238093],\n",
       " [705, 3.8333333333333335],\n",
       " [706, 2.5],\n",
       " [707, 3.0872727272727274],\n",
       " [708, 3.434462444771723],\n",
       " [709, 3.0416666666666665],\n",
       " [710, 2.3333333333333335],\n",
       " [711, 2.5],\n",
       " [712, 3.5],\n",
       " [714, 3.888888888888889],\n",
       " [715, 3.6153846153846154],\n",
       " [716, 2.6785714285714284],\n",
       " [717, 4.0],\n",
       " [718, 3.484848484848485],\n",
       " [719, 2.8619246861924688],\n",
       " [720, 4.426940639269406],\n",
       " [722, 3.814814814814815],\n",
       " [724, 3.0865384615384617],\n",
       " [725, 2.791208791208791],\n",
       " [726, 3.0],\n",
       " [728, 3.7649769585253456],\n",
       " [729, 3.6666666666666665],\n",
       " [730, 1.0],\n",
       " [731, 2.851063829787234],\n",
       " [732, 2.8333333333333335],\n",
       " [733, 3.723134328358209],\n",
       " [734, 3.0],\n",
       " [735, 3.3564356435643563],\n",
       " [736, 3.1738738738738737],\n",
       " [737, 2.03],\n",
       " [741, 4.089171974522293],\n",
       " [742, 2.528735632183908],\n",
       " [743, 2.5700934579439254],\n",
       " [744, 2.0],\n",
       " [745, 4.52054794520548],\n",
       " [746, 4.0],\n",
       " [747, 2.0],\n",
       " [748, 3.1510791366906474],\n",
       " [749, 2.75],\n",
       " [750, 4.4498902706656915],\n",
       " [751, 3.533333333333333],\n",
       " [753, 3.15625],\n",
       " [754, 2.923076923076923],\n",
       " [755, 3.7777777777777777],\n",
       " [756, 3.0],\n",
       " [757, 3.75],\n",
       " [758, 4.0],\n",
       " [759, 4.101694915254237],\n",
       " [760, 3.515151515151515],\n",
       " [761, 2.7886178861788617],\n",
       " [762, 2.184563758389262],\n",
       " [763, 3.0],\n",
       " [764, 3.27027027027027],\n",
       " [765, 2.6315789473684212],\n",
       " [766, 3.57],\n",
       " [767, 3.2083333333333335],\n",
       " [769, 3.25],\n",
       " [771, 3.7777777777777777],\n",
       " [774, 4.0],\n",
       " [775, 3.2222222222222223],\n",
       " [776, 3.0],\n",
       " [778, 3.9600532623169107],\n",
       " [779, 2.6923076923076925],\n",
       " [780, 3.5104046242774567],\n",
       " [781, 3.378640776699029],\n",
       " [782, 2.5517241379310347],\n",
       " [783, 3.223076923076923],\n",
       " [784, 2.72987012987013],\n",
       " [785, 3.4784313725490197],\n",
       " [786, 3.123913043478261],\n",
       " [787, 5.0],\n",
       " [788, 2.9957805907172994],\n",
       " [789, 3.0],\n",
       " [790, 3.0],\n",
       " [791, 3.5],\n",
       " [792, 4.0],\n",
       " [793, 2.6],\n",
       " [796, 3.3333333333333335],\n",
       " [798, 2.7058823529411766],\n",
       " [799, 3.3491124260355027],\n",
       " [800, 4.082539682539682],\n",
       " [801, 3.0991735537190084],\n",
       " [802, 3.496487119437939],\n",
       " [803, 3.6842105263157894],\n",
       " [804, 2.9785407725321886],\n",
       " [805, 3.5901162790697674],\n",
       " [806, 3.1666666666666665],\n",
       " [807, 3.0],\n",
       " [808, 3.395348837209302],\n",
       " [809, 2.5714285714285716],\n",
       " [810, 1.4666666666666666],\n",
       " [811, 3.888888888888889],\n",
       " [813, 2.5106382978723403],\n",
       " [814, 3.0],\n",
       " [815, 2.0],\n",
       " [818, 2.560846560846561],\n",
       " [820, 3.25],\n",
       " [821, 2.0],\n",
       " [823, 3.25],\n",
       " [824, 3.9285714285714284],\n",
       " [826, 1.0],\n",
       " [827, 3.0],\n",
       " [828, 2.9074074074074074],\n",
       " [829, 2.2900763358778624],\n",
       " [830, 2.952542372881356],\n",
       " [831, 3.85],\n",
       " [832, 3.478723404255319],\n",
       " [833, 2.1794871794871793],\n",
       " [834, 2.0],\n",
       " [835, 3.1262135922330097],\n",
       " [836, 2.654008438818565],\n",
       " [837, 3.477064220183486],\n",
       " [838, 3.8802395209580838],\n",
       " [839, 2.214814814814815],\n",
       " [840, 2.56],\n",
       " [841, 3.4],\n",
       " [842, 2.589403973509934],\n",
       " [843, 1.0],\n",
       " [844, 3.5714285714285716],\n",
       " [846, 3.736842105263158],\n",
       " [847, 1.8571428571428572],\n",
       " [848, 3.4358974358974357],\n",
       " [849, 2.5107632093933465],\n",
       " [850, 3.6666666666666665],\n",
       " [851, 3.4960629921259843],\n",
       " [852, 3.221138211382114],\n",
       " [853, 4.0],\n",
       " [854, 3.625],\n",
       " [858, 4.524966261808367],\n",
       " [859, 2.0],\n",
       " [860, 3.6],\n",
       " [861, 3.5128205128205128],\n",
       " [862, 3.6451612903225805],\n",
       " [863, 3.5],\n",
       " [864, 3.5833333333333335],\n",
       " [865, 2.0],\n",
       " [866, 3.8234265734265733],\n",
       " [867, 2.2083333333333335],\n",
       " [868, 3.0],\n",
       " [869, 3.0952380952380953],\n",
       " [870, 2.183673469387755],\n",
       " [872, 3.0],\n",
       " [874, 3.125],\n",
       " [875, 3.3863636363636362],\n",
       " [876, 2.857142857142857],\n",
       " [877, 3.2916666666666665],\n",
       " [878, 4.0],\n",
       " [879, 2.827004219409283],\n",
       " [880, 2.200617283950617],\n",
       " [881, 2.6233766233766236],\n",
       " [882, 2.711864406779661],\n",
       " [884, 3.0],\n",
       " [885, 2.5813953488372094],\n",
       " [886, 2.9423076923076925],\n",
       " [887, 2.5],\n",
       " [888, 2.2083333333333335],\n",
       " [889, 2.5],\n",
       " [891, 2.360655737704918],\n",
       " [892, 3.861842105263158],\n",
       " [893, 3.6956521739130435],\n",
       " [895, 1.0],\n",
       " [896, 3.4313725490196076],\n",
       " [897, 3.7551020408163267],\n",
       " [898, 4.3006872852233675],\n",
       " [899, 4.2836218375499335],\n",
       " [900, 3.8513119533527695],\n",
       " [901, 3.6436781609195403],\n",
       " [902, 3.908284023668639],\n",
       " [903, 4.27292817679558],\n",
       " [904, 4.476190476190476],\n",
       " [905, 4.280748663101604],\n",
       " [906, 4.096256684491979],\n",
       " [907, 3.9238095238095236],\n",
       " [908, 4.38403041825095],\n",
       " [909, 4.127098321342926],\n",
       " [910, 4.300480769230769],\n",
       " [911, 4.183006535947713],\n",
       " [912, 4.412822049131217],\n",
       " [913, 4.395973154362416],\n",
       " [914, 4.154088050314465],\n",
       " [915, 3.9643835616438357],\n",
       " [916, 4.216470588235294],\n",
       " [917, 3.675324675324675],\n",
       " [918, 3.7936507936507935],\n",
       " [919, 4.247962747380675],\n",
       " [920, 3.9974048442906573],\n",
       " [921, 3.8940397350993377],\n",
       " [922, 4.491489361702127],\n",
       " [923, 4.388888888888889],\n",
       " [924, 4.068764568764569],\n",
       " [925, 3.25],\n",
       " [926, 4.255583126550868],\n",
       " [927, 3.9761904761904763],\n",
       " [928, 4.204663212435233],\n",
       " [929, 3.78494623655914],\n",
       " [930, 4.29438202247191],\n",
       " [931, 3.912621359223301],\n",
       " [932, 3.9523809523809526],\n",
       " [933, 4.10158013544018],\n",
       " [934, 3.6578947368421053],\n",
       " [935, 3.6338028169014085],\n",
       " [936, 4.075757575757576],\n",
       " [937, 3.75],\n",
       " [938, 3.620320855614973],\n",
       " [939, 3.1818181818181817],\n",
       " [940, 3.9735449735449735],\n",
       " [941, 3.704761904761905],\n",
       " [942, 4.2020547945205475],\n",
       " [943, 3.982456140350877],\n",
       " [944, 3.7938144329896906],\n",
       " [945, 4.147410358565737],\n",
       " [946, 3.8509316770186337],\n",
       " [947, 4.1063829787234045],\n",
       " [948, 3.753846153846154],\n",
       " [949, 3.9767441860465116],\n",
       " [950, 4.239726027397261],\n",
       " [951, 4.249370277078086],\n",
       " [952, 3.6022304832713754],\n",
       " [953, 4.299039780521262],\n",
       " [954, 4.240208877284595],\n",
       " [955, 4.169491525423729],\n",
       " [956, 3.55],\n",
       " [957, 3.2432432432432434],\n",
       " [958, 3.3846153846153846],\n",
       " [959, 3.7413793103448274],\n",
       " [960, 3.45],\n",
       " [961, 3.4782608695652173],\n",
       " [962, 3.5454545454545454],\n",
       " [963, 3.574074074074074],\n",
       " [964, 3.392156862745098],\n",
       " [965, 4.075098814229249],\n",
       " [966, 4.0],\n",
       " [967, 3.260869565217391],\n",
       " [968, 3.6713286713286712],\n",
       " [969, 4.251655629139073],\n",
       " [970, 3.4054054054054053],\n",
       " [971, 4.047970479704797],\n",
       " [972, 3.1666666666666665],\n",
       " [973, 3.9146341463414633],\n",
       " [974, 3.75],\n",
       " [975, 1.5],\n",
       " [976, 3.5714285714285716],\n",
       " [977, 2.0],\n",
       " [978, 3.94],\n",
       " [980, 2.8],\n",
       " [981, 2.75],\n",
       " [982, 3.6790123456790123],\n",
       " [984, 2.6666666666666665],\n",
       " [985, 3.75],\n",
       " [986, 3.603448275862069],\n",
       " [987, 2.9],\n",
       " [988, 3.3768115942028984],\n",
       " [989, 5.0],\n",
       " [990, 2.574074074074074],\n",
       " [991, 3.523529411764706],\n",
       " [992, 2.6],\n",
       " [993, 3.111111111111111],\n",
       " [994, 4.095555555555555],\n",
       " [996, 2.90625],\n",
       " [997, 3.357142857142857],\n",
       " [998, 3.010752688172043],\n",
       " [999, 3.2832167832167833],\n",
       " [1000, 3.05],\n",
       " [1002, 4.25],\n",
       " [1003, 2.9421487603305785],\n",
       " [1004, 2.6633663366336635],\n",
       " [1005, 2.3732394366197185],\n",
       " [1006, 3.08974358974359],\n",
       " [1007, 2.978448275862069],\n",
       " [1008, 3.329896907216495],\n",
       " [1009, 3.185567010309278],\n",
       " [1010, 3.268595041322314],\n",
       " [1011, 2.725925925925926],\n",
       " [1012, 3.7043189368770766],\n",
       " [1013, 3.565891472868217],\n",
       " [1014, 3.4044117647058822],\n",
       " [1015, 3.3461538461538463],\n",
       " [1016, 3.217948717948718],\n",
       " [1017, 3.5869565217391304],\n",
       " [1018, 3.252032520325203],\n",
       " [1019, 3.7026086956521738],\n",
       " [1020, 3.239795918367347],\n",
       " [1021, 2.769230769230769],\n",
       " [1022, 3.755632582322357],\n",
       " [1023, 3.986425339366516],\n",
       " [1024, 3.246031746031746],\n",
       " [1025, 3.6109215017064846],\n",
       " [1026, 3.625],\n",
       " [1027, 3.1627906976744184],\n",
       " [1028, 3.894164193867458],\n",
       " [1029, 3.688380281690141],\n",
       " [1030, 3.0773993808049536],\n",
       " [1031, 3.479623824451411],\n",
       " [1032, 3.697142857142857],\n",
       " [1033, 3.4494773519163764],\n",
       " [1034, 3.6449704142011834],\n",
       " [1035, 3.931972789115646],\n",
       " [1036, 4.121848739495798],\n",
       " [1037, 2.6601626016260163],\n",
       " [1038, 3.272727272727273],\n",
       " [1039, 3.6666666666666665],\n",
       " [1040, 3.0],\n",
       " [1041, 4.037974683544304],\n",
       " [1042, 3.481060606060606],\n",
       " [1043, 2.8425925925925926],\n",
       " [1044, 3.2857142857142856],\n",
       " [1046, 4.066666666666666],\n",
       " [1047, 3.4838709677419355],\n",
       " [1049, 3.328159645232816],\n",
       " [1050, 3.8219178082191783],\n",
       " [1051, 3.4183673469387754],\n",
       " [1053, 2.914285714285714],\n",
       " [1054, 3.308641975308642],\n",
       " [1055, 2.736842105263158],\n",
       " [1056, 3.54],\n",
       " [1057, 3.5583941605839415],\n",
       " [1058, 3.272727272727273],\n",
       " [1059, 3.4008350730688934],\n",
       " [1060, 3.94147582697201],\n",
       " [1061, 3.550802139037433],\n",
       " [1062, 2.5],\n",
       " [1063, 3.1538461538461537],\n",
       " [1064, 2.8947368421052633],\n",
       " [1066, 4.1657142857142855],\n",
       " [1067, 3.782608695652174],\n",
       " [1068, 3.6857142857142855],\n",
       " ...]"
      ]
     },
     "execution_count": 70,
     "metadata": {},
     "output_type": "execute_result"
    }
   ],
   "source": [
    "movie_avg = []\n",
    "\n",
    "for i in movie_list:\n",
    "    movie_mean = np.mean(movie[movie[:, 1]==i][:, 2])\n",
    "    movie_avg.append([i, movie_mean])\n",
    "\n",
    "movie_avg\n",
    "    "
   ]
  }
 ],
 "metadata": {
  "kernelspec": {
   "display_name": "Python 3 (ipykernel)",
   "language": "python",
   "name": "python3"
  },
  "language_info": {
   "codemirror_mode": {
    "name": "ipython",
    "version": 3
   },
   "file_extension": ".py",
   "mimetype": "text/x-python",
   "name": "python",
   "nbconvert_exporter": "python",
   "pygments_lexer": "ipython3",
   "version": "3.10.9"
  }
 },
 "nbformat": 4,
 "nbformat_minor": 5
}
