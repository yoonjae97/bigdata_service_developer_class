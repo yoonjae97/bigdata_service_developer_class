{
 "cells": [
  {
   "cell_type": "markdown",
   "id": "58a86d2d",
   "metadata": {},
   "source": [
    "### 1. 목표 설정\n",
    "- 보스턴 집값 데이터를 이용해서 회귀분석을 진행해보자.\n",
    "- 특성곱을 이용해서 새로운 특성을 만들어보자.\n",
    "- 규제 모델을 이용해서 모델의 복잡도를 제어해보자"
   ]
  },
  {
   "cell_type": "markdown",
   "id": "8302983b",
   "metadata": {},
   "source": [
    "### 2. 데이터 수집\n",
    "- csv 파일 불러오기(보스턴 주택 데이터)"
   ]
  },
  {
   "cell_type": "code",
   "execution_count": 1,
   "id": "beaae165",
   "metadata": {},
   "outputs": [],
   "source": [
    "import pandas as pd\n",
    "import numpy as np\n",
    "import matplotlib.pyplot as plt\n",
    "import seaborn as sns"
   ]
  },
  {
   "cell_type": "code",
   "execution_count": 2,
   "id": "2d9c8757",
   "metadata": {},
   "outputs": [],
   "source": [
    "boston = pd.read_csv('./data/boston_housing.csv')"
   ]
  },
  {
   "cell_type": "code",
   "execution_count": 3,
   "id": "1dfaa489",
   "metadata": {},
   "outputs": [
    {
     "data": {
      "text/html": [
       "<div>\n",
       "<style scoped>\n",
       "    .dataframe tbody tr th:only-of-type {\n",
       "        vertical-align: middle;\n",
       "    }\n",
       "\n",
       "    .dataframe tbody tr th {\n",
       "        vertical-align: top;\n",
       "    }\n",
       "\n",
       "    .dataframe thead th {\n",
       "        text-align: right;\n",
       "    }\n",
       "</style>\n",
       "<table border=\"1\" class=\"dataframe\">\n",
       "  <thead>\n",
       "    <tr style=\"text-align: right;\">\n",
       "      <th></th>\n",
       "      <th>Unnamed: 0</th>\n",
       "      <th>CRIM</th>\n",
       "      <th>ZN</th>\n",
       "      <th>INDUS</th>\n",
       "      <th>CHAS</th>\n",
       "      <th>NOX</th>\n",
       "      <th>RM</th>\n",
       "      <th>AGE</th>\n",
       "      <th>DIS</th>\n",
       "      <th>RAD</th>\n",
       "      <th>TAX</th>\n",
       "      <th>PTRATIO</th>\n",
       "      <th>B</th>\n",
       "      <th>LSTAT</th>\n",
       "      <th>MEDV</th>\n",
       "    </tr>\n",
       "  </thead>\n",
       "  <tbody>\n",
       "    <tr>\n",
       "      <th>0</th>\n",
       "      <td>0</td>\n",
       "      <td>0.00632</td>\n",
       "      <td>18.0</td>\n",
       "      <td>2.31</td>\n",
       "      <td>0.0</td>\n",
       "      <td>0.538</td>\n",
       "      <td>6.575</td>\n",
       "      <td>65.2</td>\n",
       "      <td>4.0900</td>\n",
       "      <td>1.0</td>\n",
       "      <td>296.0</td>\n",
       "      <td>15.3</td>\n",
       "      <td>396.90</td>\n",
       "      <td>4.98</td>\n",
       "      <td>24.0</td>\n",
       "    </tr>\n",
       "    <tr>\n",
       "      <th>1</th>\n",
       "      <td>1</td>\n",
       "      <td>0.02731</td>\n",
       "      <td>0.0</td>\n",
       "      <td>7.07</td>\n",
       "      <td>0.0</td>\n",
       "      <td>0.469</td>\n",
       "      <td>6.421</td>\n",
       "      <td>78.9</td>\n",
       "      <td>4.9671</td>\n",
       "      <td>2.0</td>\n",
       "      <td>242.0</td>\n",
       "      <td>17.8</td>\n",
       "      <td>396.90</td>\n",
       "      <td>9.14</td>\n",
       "      <td>21.6</td>\n",
       "    </tr>\n",
       "    <tr>\n",
       "      <th>2</th>\n",
       "      <td>2</td>\n",
       "      <td>0.02729</td>\n",
       "      <td>0.0</td>\n",
       "      <td>7.07</td>\n",
       "      <td>0.0</td>\n",
       "      <td>0.469</td>\n",
       "      <td>7.185</td>\n",
       "      <td>61.1</td>\n",
       "      <td>4.9671</td>\n",
       "      <td>2.0</td>\n",
       "      <td>242.0</td>\n",
       "      <td>17.8</td>\n",
       "      <td>392.83</td>\n",
       "      <td>4.03</td>\n",
       "      <td>34.7</td>\n",
       "    </tr>\n",
       "    <tr>\n",
       "      <th>3</th>\n",
       "      <td>3</td>\n",
       "      <td>0.03237</td>\n",
       "      <td>0.0</td>\n",
       "      <td>2.18</td>\n",
       "      <td>0.0</td>\n",
       "      <td>0.458</td>\n",
       "      <td>6.998</td>\n",
       "      <td>45.8</td>\n",
       "      <td>6.0622</td>\n",
       "      <td>3.0</td>\n",
       "      <td>222.0</td>\n",
       "      <td>18.7</td>\n",
       "      <td>394.63</td>\n",
       "      <td>2.94</td>\n",
       "      <td>33.4</td>\n",
       "    </tr>\n",
       "    <tr>\n",
       "      <th>4</th>\n",
       "      <td>4</td>\n",
       "      <td>0.06905</td>\n",
       "      <td>0.0</td>\n",
       "      <td>2.18</td>\n",
       "      <td>0.0</td>\n",
       "      <td>0.458</td>\n",
       "      <td>7.147</td>\n",
       "      <td>54.2</td>\n",
       "      <td>6.0622</td>\n",
       "      <td>3.0</td>\n",
       "      <td>222.0</td>\n",
       "      <td>18.7</td>\n",
       "      <td>396.90</td>\n",
       "      <td>5.33</td>\n",
       "      <td>36.2</td>\n",
       "    </tr>\n",
       "  </tbody>\n",
       "</table>\n",
       "</div>"
      ],
      "text/plain": [
       "   Unnamed: 0     CRIM    ZN  INDUS  CHAS    NOX     RM   AGE     DIS  RAD  \\\n",
       "0           0  0.00632  18.0   2.31   0.0  0.538  6.575  65.2  4.0900  1.0   \n",
       "1           1  0.02731   0.0   7.07   0.0  0.469  6.421  78.9  4.9671  2.0   \n",
       "2           2  0.02729   0.0   7.07   0.0  0.469  7.185  61.1  4.9671  2.0   \n",
       "3           3  0.03237   0.0   2.18   0.0  0.458  6.998  45.8  6.0622  3.0   \n",
       "4           4  0.06905   0.0   2.18   0.0  0.458  7.147  54.2  6.0622  3.0   \n",
       "\n",
       "     TAX  PTRATIO       B  LSTAT  MEDV  \n",
       "0  296.0     15.3  396.90   4.98  24.0  \n",
       "1  242.0     17.8  396.90   9.14  21.6  \n",
       "2  242.0     17.8  392.83   4.03  34.7  \n",
       "3  222.0     18.7  394.63   2.94  33.4  \n",
       "4  222.0     18.7  396.90   5.33  36.2  "
      ]
     },
     "execution_count": 3,
     "metadata": {},
     "output_type": "execute_result"
    }
   ],
   "source": [
    "boston.head()"
   ]
  },
  {
   "cell_type": "code",
   "execution_count": 4,
   "id": "5b05b87b",
   "metadata": {},
   "outputs": [],
   "source": [
    "boston.drop('Unnamed: 0', axis=1, inplace=True)"
   ]
  },
  {
   "cell_type": "code",
   "execution_count": 5,
   "id": "32a83623",
   "metadata": {},
   "outputs": [
    {
     "name": "stdout",
     "output_type": "stream",
     "text": [
      "<class 'pandas.core.frame.DataFrame'>\n",
      "RangeIndex: 506 entries, 0 to 505\n",
      "Data columns (total 14 columns):\n",
      " #   Column   Non-Null Count  Dtype  \n",
      "---  ------   --------------  -----  \n",
      " 0   CRIM     506 non-null    float64\n",
      " 1   ZN       506 non-null    float64\n",
      " 2   INDUS    506 non-null    float64\n",
      " 3   CHAS     506 non-null    float64\n",
      " 4   NOX      506 non-null    float64\n",
      " 5   RM       506 non-null    float64\n",
      " 6   AGE      506 non-null    float64\n",
      " 7   DIS      506 non-null    float64\n",
      " 8   RAD      506 non-null    float64\n",
      " 9   TAX      506 non-null    float64\n",
      " 10  PTRATIO  506 non-null    float64\n",
      " 11  B        506 non-null    float64\n",
      " 12  LSTAT    506 non-null    float64\n",
      " 13  MEDV     506 non-null    float64\n",
      "dtypes: float64(14)\n",
      "memory usage: 55.5 KB\n"
     ]
    }
   ],
   "source": [
    "boston.info()"
   ]
  },
  {
   "cell_type": "markdown",
   "id": "38b15c49",
   "metadata": {},
   "source": [
    "**특성 정보 확인**\n",
    "- CRIM : 범죄율\n",
    "- INDUS : 비소매상업지역의 면적 비율\n",
    "- NOX : 대기중 일산화질소의 농도\n",
    "- RM : 주택당 방의 개수\n",
    "- LSTAT : 인구 중 하위 계층의 비율\n",
    "- B : 인구 중 흑인의 비율\n",
    "- PTRATIO : 학생 / 교사 비율\n",
    "- ZN : 25,000 평방 피트를 초과한 거주지역의 비율\n",
    "- CHAS : 찰스강의 경계에 위치한 경우는 1, 아닌 경우는 0\n",
    "- AGE : 1940년 이전에 지어진 주택의 비율\n",
    "- DIS : 직업센터의 거리\n",
    "- TAX : 재산세율\n",
    "\n",
    "**종속변수 확인**\n",
    "- MEDV : 집값, 주택 가격"
   ]
  },
  {
   "cell_type": "markdown",
   "id": "eeb1971f",
   "metadata": {},
   "source": [
    "### 3. 데이터 전처리\n",
    "- 결측치 없었다.\n",
    "- 보스턴 주택 데이터는 학습용으로 제공된 데이터라 깔끔한 데이터이다."
   ]
  },
  {
   "cell_type": "markdown",
   "id": "85269401",
   "metadata": {},
   "source": [
    "### 4. EDA\n",
    "- 생략"
   ]
  },
  {
   "cell_type": "markdown",
   "id": "f49f0fe0",
   "metadata": {},
   "source": [
    "### 5. 모델링\n",
    "- 데이터 분리(X_train, X_test, y_train, y_test)\n",
    "- 모델 선정 및 학습 / 평가 / 예측"
   ]
  },
  {
   "cell_type": "code",
   "execution_count": 6,
   "id": "2a3b1e0e",
   "metadata": {},
   "outputs": [
    {
     "data": {
      "text/plain": [
       "((354, 13), (152, 13), (354,), (152,))"
      ]
     },
     "execution_count": 6,
     "metadata": {},
     "output_type": "execute_result"
    }
   ],
   "source": [
    "# 데이터 분리\n",
    "# step.1 : 데이터를 분리하기 위한 모듈 불러오기\n",
    "from sklearn.model_selection import train_test_split\n",
    "# step.2 : 데이터 분리하기\n",
    "X_train, X_test, y_train, y_test = train_test_split(boston.iloc[:,:-1], boston.iloc[:,-1], random_state=42, test_size=0.3)\n",
    "# step.3 : 데이터 분할 확인\n",
    "X_train.shape, X_test.shape, y_train.shape, y_test.shape\n",
    "\n"
   ]
  },
  {
   "cell_type": "code",
   "execution_count": 7,
   "id": "5b8b024a",
   "metadata": {},
   "outputs": [
    {
     "data": {
      "text/html": [
       "<div>\n",
       "<style scoped>\n",
       "    .dataframe tbody tr th:only-of-type {\n",
       "        vertical-align: middle;\n",
       "    }\n",
       "\n",
       "    .dataframe tbody tr th {\n",
       "        vertical-align: top;\n",
       "    }\n",
       "\n",
       "    .dataframe thead th {\n",
       "        text-align: right;\n",
       "    }\n",
       "</style>\n",
       "<table border=\"1\" class=\"dataframe\">\n",
       "  <thead>\n",
       "    <tr style=\"text-align: right;\">\n",
       "      <th></th>\n",
       "      <th>CRIM</th>\n",
       "      <th>ZN</th>\n",
       "      <th>INDUS</th>\n",
       "      <th>CHAS</th>\n",
       "      <th>NOX</th>\n",
       "      <th>RM</th>\n",
       "      <th>AGE</th>\n",
       "      <th>DIS</th>\n",
       "      <th>RAD</th>\n",
       "      <th>TAX</th>\n",
       "      <th>PTRATIO</th>\n",
       "      <th>B</th>\n",
       "      <th>LSTAT</th>\n",
       "    </tr>\n",
       "  </thead>\n",
       "  <tbody>\n",
       "    <tr>\n",
       "      <th>CRIM</th>\n",
       "      <td>1.000000</td>\n",
       "      <td>-0.205413</td>\n",
       "      <td>0.399643</td>\n",
       "      <td>-0.041852</td>\n",
       "      <td>0.402031</td>\n",
       "      <td>-0.210556</td>\n",
       "      <td>0.336697</td>\n",
       "      <td>-0.371149</td>\n",
       "      <td>0.622745</td>\n",
       "      <td>0.582164</td>\n",
       "      <td>0.296443</td>\n",
       "      <td>-0.304734</td>\n",
       "      <td>0.409681</td>\n",
       "    </tr>\n",
       "    <tr>\n",
       "      <th>ZN</th>\n",
       "      <td>-0.205413</td>\n",
       "      <td>1.000000</td>\n",
       "      <td>-0.544907</td>\n",
       "      <td>-0.031898</td>\n",
       "      <td>-0.527921</td>\n",
       "      <td>0.299282</td>\n",
       "      <td>-0.583271</td>\n",
       "      <td>0.672752</td>\n",
       "      <td>-0.318947</td>\n",
       "      <td>-0.306276</td>\n",
       "      <td>-0.375349</td>\n",
       "      <td>0.172134</td>\n",
       "      <td>-0.393315</td>\n",
       "    </tr>\n",
       "    <tr>\n",
       "      <th>INDUS</th>\n",
       "      <td>0.399643</td>\n",
       "      <td>-0.544907</td>\n",
       "      <td>1.000000</td>\n",
       "      <td>0.074533</td>\n",
       "      <td>0.764135</td>\n",
       "      <td>-0.407417</td>\n",
       "      <td>0.635749</td>\n",
       "      <td>-0.700550</td>\n",
       "      <td>0.579284</td>\n",
       "      <td>0.702541</td>\n",
       "      <td>0.362794</td>\n",
       "      <td>-0.333391</td>\n",
       "      <td>0.578976</td>\n",
       "    </tr>\n",
       "    <tr>\n",
       "      <th>CHAS</th>\n",
       "      <td>-0.041852</td>\n",
       "      <td>-0.031898</td>\n",
       "      <td>0.074533</td>\n",
       "      <td>1.000000</td>\n",
       "      <td>0.100199</td>\n",
       "      <td>0.139175</td>\n",
       "      <td>0.083140</td>\n",
       "      <td>-0.110392</td>\n",
       "      <td>0.047212</td>\n",
       "      <td>0.012041</td>\n",
       "      <td>-0.087582</td>\n",
       "      <td>0.071473</td>\n",
       "      <td>-0.103874</td>\n",
       "    </tr>\n",
       "    <tr>\n",
       "      <th>NOX</th>\n",
       "      <td>0.402031</td>\n",
       "      <td>-0.527921</td>\n",
       "      <td>0.764135</td>\n",
       "      <td>0.100199</td>\n",
       "      <td>1.000000</td>\n",
       "      <td>-0.305756</td>\n",
       "      <td>0.733034</td>\n",
       "      <td>-0.775599</td>\n",
       "      <td>0.595620</td>\n",
       "      <td>0.655932</td>\n",
       "      <td>0.169297</td>\n",
       "      <td>-0.339474</td>\n",
       "      <td>0.581960</td>\n",
       "    </tr>\n",
       "    <tr>\n",
       "      <th>RM</th>\n",
       "      <td>-0.210556</td>\n",
       "      <td>0.299282</td>\n",
       "      <td>-0.407417</td>\n",
       "      <td>0.139175</td>\n",
       "      <td>-0.305756</td>\n",
       "      <td>1.000000</td>\n",
       "      <td>-0.227609</td>\n",
       "      <td>0.217510</td>\n",
       "      <td>-0.219261</td>\n",
       "      <td>-0.296173</td>\n",
       "      <td>-0.345720</td>\n",
       "      <td>0.122512</td>\n",
       "      <td>-0.618609</td>\n",
       "    </tr>\n",
       "    <tr>\n",
       "      <th>AGE</th>\n",
       "      <td>0.336697</td>\n",
       "      <td>-0.583271</td>\n",
       "      <td>0.635749</td>\n",
       "      <td>0.083140</td>\n",
       "      <td>0.733034</td>\n",
       "      <td>-0.227609</td>\n",
       "      <td>1.000000</td>\n",
       "      <td>-0.753570</td>\n",
       "      <td>0.425143</td>\n",
       "      <td>0.475100</td>\n",
       "      <td>0.230440</td>\n",
       "      <td>-0.248012</td>\n",
       "      <td>0.550824</td>\n",
       "    </tr>\n",
       "    <tr>\n",
       "      <th>DIS</th>\n",
       "      <td>-0.371149</td>\n",
       "      <td>0.672752</td>\n",
       "      <td>-0.700550</td>\n",
       "      <td>-0.110392</td>\n",
       "      <td>-0.775599</td>\n",
       "      <td>0.217510</td>\n",
       "      <td>-0.753570</td>\n",
       "      <td>1.000000</td>\n",
       "      <td>-0.476497</td>\n",
       "      <td>-0.523633</td>\n",
       "      <td>-0.218248</td>\n",
       "      <td>0.269588</td>\n",
       "      <td>-0.474187</td>\n",
       "    </tr>\n",
       "    <tr>\n",
       "      <th>RAD</th>\n",
       "      <td>0.622745</td>\n",
       "      <td>-0.318947</td>\n",
       "      <td>0.579284</td>\n",
       "      <td>0.047212</td>\n",
       "      <td>0.595620</td>\n",
       "      <td>-0.219261</td>\n",
       "      <td>0.425143</td>\n",
       "      <td>-0.476497</td>\n",
       "      <td>1.000000</td>\n",
       "      <td>0.909381</td>\n",
       "      <td>0.481114</td>\n",
       "      <td>-0.403437</td>\n",
       "      <td>0.473225</td>\n",
       "    </tr>\n",
       "    <tr>\n",
       "      <th>TAX</th>\n",
       "      <td>0.582164</td>\n",
       "      <td>-0.306276</td>\n",
       "      <td>0.702541</td>\n",
       "      <td>0.012041</td>\n",
       "      <td>0.655932</td>\n",
       "      <td>-0.296173</td>\n",
       "      <td>0.475100</td>\n",
       "      <td>-0.523633</td>\n",
       "      <td>0.909381</td>\n",
       "      <td>1.000000</td>\n",
       "      <td>0.465101</td>\n",
       "      <td>-0.407992</td>\n",
       "      <td>0.525003</td>\n",
       "    </tr>\n",
       "    <tr>\n",
       "      <th>PTRATIO</th>\n",
       "      <td>0.296443</td>\n",
       "      <td>-0.375349</td>\n",
       "      <td>0.362794</td>\n",
       "      <td>-0.087582</td>\n",
       "      <td>0.169297</td>\n",
       "      <td>-0.345720</td>\n",
       "      <td>0.230440</td>\n",
       "      <td>-0.218248</td>\n",
       "      <td>0.481114</td>\n",
       "      <td>0.465101</td>\n",
       "      <td>1.000000</td>\n",
       "      <td>-0.169999</td>\n",
       "      <td>0.361428</td>\n",
       "    </tr>\n",
       "    <tr>\n",
       "      <th>B</th>\n",
       "      <td>-0.304734</td>\n",
       "      <td>0.172134</td>\n",
       "      <td>-0.333391</td>\n",
       "      <td>0.071473</td>\n",
       "      <td>-0.339474</td>\n",
       "      <td>0.122512</td>\n",
       "      <td>-0.248012</td>\n",
       "      <td>0.269588</td>\n",
       "      <td>-0.403437</td>\n",
       "      <td>-0.407992</td>\n",
       "      <td>-0.169999</td>\n",
       "      <td>1.000000</td>\n",
       "      <td>-0.324208</td>\n",
       "    </tr>\n",
       "    <tr>\n",
       "      <th>LSTAT</th>\n",
       "      <td>0.409681</td>\n",
       "      <td>-0.393315</td>\n",
       "      <td>0.578976</td>\n",
       "      <td>-0.103874</td>\n",
       "      <td>0.581960</td>\n",
       "      <td>-0.618609</td>\n",
       "      <td>0.550824</td>\n",
       "      <td>-0.474187</td>\n",
       "      <td>0.473225</td>\n",
       "      <td>0.525003</td>\n",
       "      <td>0.361428</td>\n",
       "      <td>-0.324208</td>\n",
       "      <td>1.000000</td>\n",
       "    </tr>\n",
       "  </tbody>\n",
       "</table>\n",
       "</div>"
      ],
      "text/plain": [
       "             CRIM        ZN     INDUS      CHAS       NOX        RM       AGE  \\\n",
       "CRIM     1.000000 -0.205413  0.399643 -0.041852  0.402031 -0.210556  0.336697   \n",
       "ZN      -0.205413  1.000000 -0.544907 -0.031898 -0.527921  0.299282 -0.583271   \n",
       "INDUS    0.399643 -0.544907  1.000000  0.074533  0.764135 -0.407417  0.635749   \n",
       "CHAS    -0.041852 -0.031898  0.074533  1.000000  0.100199  0.139175  0.083140   \n",
       "NOX      0.402031 -0.527921  0.764135  0.100199  1.000000 -0.305756  0.733034   \n",
       "RM      -0.210556  0.299282 -0.407417  0.139175 -0.305756  1.000000 -0.227609   \n",
       "AGE      0.336697 -0.583271  0.635749  0.083140  0.733034 -0.227609  1.000000   \n",
       "DIS     -0.371149  0.672752 -0.700550 -0.110392 -0.775599  0.217510 -0.753570   \n",
       "RAD      0.622745 -0.318947  0.579284  0.047212  0.595620 -0.219261  0.425143   \n",
       "TAX      0.582164 -0.306276  0.702541  0.012041  0.655932 -0.296173  0.475100   \n",
       "PTRATIO  0.296443 -0.375349  0.362794 -0.087582  0.169297 -0.345720  0.230440   \n",
       "B       -0.304734  0.172134 -0.333391  0.071473 -0.339474  0.122512 -0.248012   \n",
       "LSTAT    0.409681 -0.393315  0.578976 -0.103874  0.581960 -0.618609  0.550824   \n",
       "\n",
       "              DIS       RAD       TAX   PTRATIO         B     LSTAT  \n",
       "CRIM    -0.371149  0.622745  0.582164  0.296443 -0.304734  0.409681  \n",
       "ZN       0.672752 -0.318947 -0.306276 -0.375349  0.172134 -0.393315  \n",
       "INDUS   -0.700550  0.579284  0.702541  0.362794 -0.333391  0.578976  \n",
       "CHAS    -0.110392  0.047212  0.012041 -0.087582  0.071473 -0.103874  \n",
       "NOX     -0.775599  0.595620  0.655932  0.169297 -0.339474  0.581960  \n",
       "RM       0.217510 -0.219261 -0.296173 -0.345720  0.122512 -0.618609  \n",
       "AGE     -0.753570  0.425143  0.475100  0.230440 -0.248012  0.550824  \n",
       "DIS      1.000000 -0.476497 -0.523633 -0.218248  0.269588 -0.474187  \n",
       "RAD     -0.476497  1.000000  0.909381  0.481114 -0.403437  0.473225  \n",
       "TAX     -0.523633  0.909381  1.000000  0.465101 -0.407992  0.525003  \n",
       "PTRATIO -0.218248  0.481114  0.465101  1.000000 -0.169999  0.361428  \n",
       "B        0.269588 -0.403437 -0.407992 -0.169999  1.000000 -0.324208  \n",
       "LSTAT   -0.474187  0.473225  0.525003  0.361428 -0.324208  1.000000  "
      ]
     },
     "execution_count": 7,
     "metadata": {},
     "output_type": "execute_result"
    }
   ],
   "source": [
    "# 분할된 데이터를 가지고 상관계수 확인하기\n",
    "X_train.corr()"
   ]
  },
  {
   "cell_type": "code",
   "execution_count": 8,
   "id": "24e04c9b",
   "metadata": {
    "scrolled": false
   },
   "outputs": [
    {
     "data": {
      "text/plain": [
       "<Axes: >"
      ]
     },
     "execution_count": 8,
     "metadata": {},
     "output_type": "execute_result"
    },
    {
     "data": {
      "image/png": "[encoded data removed]",
      "text/plain": [
       "<Figure size 1500x1500 with 2 Axes>"
      ]
     },
     "metadata": {},
     "output_type": "display_data"
    }
   ],
   "source": [
    "# 상관계수를 히트맵으로 출력\n",
    "plt.figure(figsize=(15, 15))\n",
    "\n",
    "sns.heatmap(data = X_train.corr(),\n",
    "            annot = True, # 히트맵 내부에 글씨 출력\n",
    "            annot_kws = {'size' : 12}, # 내부 글씨의 옵션(글씨의 크기)\n",
    "            fmt = '.2f', # 소수점 자리 출력\n",
    "            cmap = 'Blues' # 히트맵의 색상\n",
    "           )\n",
    "            "
   ]
  },
  {
   "cell_type": "code",
   "execution_count": 9,
   "id": "ff03e1f2",
   "metadata": {},
   "outputs": [],
   "source": [
    "# 선형 회귀 모델 사용하기\n",
    "# Step.1 : 모델 import\n",
    "from sklearn.linear_model import LinearRegression"
   ]
  },
  {
   "cell_type": "code",
   "execution_count": 10,
   "id": "7bafa757",
   "metadata": {},
   "outputs": [],
   "source": [
    "# Step.2 : 모델 객체 생성\n",
    "lr = LinearRegression()"
   ]
  },
  {
   "cell_type": "code",
   "execution_count": 11,
   "id": "4f13870a",
   "metadata": {},
   "outputs": [
    {
     "data": {
      "text/html": [
       "<style>#sk-container-id-1 {color: black;background-color: white;}#sk-container-id-1 pre{padding: 0;}#sk-container-id-1 div.sk-toggleable {background-color: white;}#sk-container-id-1 label.sk-toggleable__label {cursor: pointer;display: block;width: 100%;margin-bottom: 0;padding: 0.3em;box-sizing: border-box;text-align: center;}#sk-container-id-1 label.sk-toggleable__label-arrow:before {content: \"▸\";float: left;margin-right: 0.25em;color: #696969;}#sk-container-id-1 label.sk-toggleable__label-arrow:hover:before {color: black;}#sk-container-id-1 div.sk-estimator:hover label.sk-toggleable__label-arrow:before {color: black;}#sk-container-id-1 div.sk-toggleable__content {max-height: 0;max-width: 0;overflow: hidden;text-align: left;background-color: #f0f8ff;}#sk-container-id-1 div.sk-toggleable__content pre {margin: 0.2em;color: black;border-radius: 0.25em;background-color: #f0f8ff;}#sk-container-id-1 input.sk-toggleable__control:checked~div.sk-toggleable__content {max-height: 200px;max-width: 100%;overflow: auto;}#sk-container-id-1 input.sk-toggleable__control:checked~label.sk-toggleable__label-arrow:before {content: \"▾\";}#sk-container-id-1 div.sk-estimator input.sk-toggleable__control:checked~label.sk-toggleable__label {background-color: #d4ebff;}#sk-container-id-1 div.sk-label input.sk-toggleable__control:checked~label.sk-toggleable__label {background-color: #d4ebff;}#sk-container-id-1 input.sk-hidden--visually {border: 0;clip: rect(1px 1px 1px 1px);clip: rect(1px, 1px, 1px, 1px);height: 1px;margin: -1px;overflow: hidden;padding: 0;position: absolute;width: 1px;}#sk-container-id-1 div.sk-estimator {font-family: monospace;background-color: #f0f8ff;border: 1px dotted black;border-radius: 0.25em;box-sizing: border-box;margin-bottom: 0.5em;}#sk-container-id-1 div.sk-estimator:hover {background-color: #d4ebff;}#sk-container-id-1 div.sk-parallel-item::after {content: \"\";width: 100%;border-bottom: 1px solid gray;flex-grow: 1;}#sk-container-id-1 div.sk-label:hover label.sk-toggleable__label {background-color: #d4ebff;}#sk-container-id-1 div.sk-serial::before {content: \"\";position: absolute;border-left: 1px solid gray;box-sizing: border-box;top: 0;bottom: 0;left: 50%;z-index: 0;}#sk-container-id-1 div.sk-serial {display: flex;flex-direction: column;align-items: center;background-color: white;padding-right: 0.2em;padding-left: 0.2em;position: relative;}#sk-container-id-1 div.sk-item {position: relative;z-index: 1;}#sk-container-id-1 div.sk-parallel {display: flex;align-items: stretch;justify-content: center;background-color: white;position: relative;}#sk-container-id-1 div.sk-item::before, #sk-container-id-1 div.sk-parallel-item::before {content: \"\";position: absolute;border-left: 1px solid gray;box-sizing: border-box;top: 0;bottom: 0;left: 50%;z-index: -1;}#sk-container-id-1 div.sk-parallel-item {display: flex;flex-direction: column;z-index: 1;position: relative;background-color: white;}#sk-container-id-1 div.sk-parallel-item:first-child::after {align-self: flex-end;width: 50%;}#sk-container-id-1 div.sk-parallel-item:last-child::after {align-self: flex-start;width: 50%;}#sk-container-id-1 div.sk-parallel-item:only-child::after {width: 0;}#sk-container-id-1 div.sk-dashed-wrapped {border: 1px dashed gray;margin: 0 0.4em 0.5em 0.4em;box-sizing: border-box;padding-bottom: 0.4em;background-color: white;}#sk-container-id-1 div.sk-label label {font-family: monospace;font-weight: bold;display: inline-block;line-height: 1.2em;}#sk-container-id-1 div.sk-label-container {text-align: center;}#sk-container-id-1 div.sk-container {/* jupyter's `normalize.less` sets `[hidden] { display: none; }` but bootstrap.min.css set `[hidden] { display: none !important; }` so we also need the `!important` here to be able to override the default hidden behavior on the sphinx rendered scikit-learn.org. See: https://github.com/scikit-learn/scikit-learn/issues/21755 */display: inline-block !important;position: relative;}#sk-container-id-1 div.sk-text-repr-fallback {display: none;}</style><div id=\"sk-container-id-1\" class=\"sk-top-container\"><div class=\"sk-text-repr-fallback\"><pre>LinearRegression()</pre><b>In a Jupyter environment, please rerun this cell to show the HTML representation or trust the notebook. <br />On GitHub, the HTML representation is unable to render, please try loading this page with nbviewer.org.</b></div><div class=\"sk-container\" hidden><div class=\"sk-item\"><div class=\"sk-estimator sk-toggleable\"><input class=\"sk-toggleable__control sk-hidden--visually\" id=\"sk-estimator-id-1\" type=\"checkbox\" checked><label for=\"sk-estimator-id-1\" class=\"sk-toggleable__label sk-toggleable__label-arrow\">LinearRegression</label><div class=\"sk-toggleable__content\"><pre>LinearRegression()</pre></div></div></div></div></div>"
      ],
      "text/plain": [
       "LinearRegression()"
      ]
     },
     "execution_count": 11,
     "metadata": {},
     "output_type": "execute_result"
    }
   ],
   "source": [
    "# Step.3 : 모델 학습\n",
    "lr.fit(X_train, y_train)"
   ]
  },
  {
   "cell_type": "code",
   "execution_count": 12,
   "id": "5f0749a0",
   "metadata": {},
   "outputs": [
    {
     "name": "stdout",
     "output_type": "stream",
     "text": [
      "[0.74541483 0.52216586 0.75607169 0.76738846 0.64887182]\n",
      "0.6879825316957138\n"
     ]
    }
   ],
   "source": [
    "# Step.4 : 교차검증\n",
    "from sklearn.model_selection import cross_val_score\n",
    "result = cross_val_score(lr, X_train, y_train)\n",
    "print(result)\n",
    "print(result.mean())"
   ]
  },
  {
   "cell_type": "code",
   "execution_count": 13,
   "id": "d88fa770",
   "metadata": {},
   "outputs": [
    {
     "data": {
      "text/plain": [
       "array([-1.33470103e-01,  3.58089136e-02,  4.95226452e-02,  3.11983512e+00,\n",
       "       -1.54170609e+01,  4.05719923e+00, -1.08208352e-02, -1.38599824e+00,\n",
       "        2.42727340e-01, -8.70223437e-03, -9.10685208e-01,  1.17941159e-02,\n",
       "       -5.47113313e-01])"
      ]
     },
     "execution_count": 13,
     "metadata": {},
     "output_type": "execute_result"
    }
   ],
   "source": [
    "# 가중치 w 확인 해보기\n",
    "lr.coef_"
   ]
  },
  {
   "cell_type": "code",
   "execution_count": 14,
   "id": "16d44937",
   "metadata": {},
   "outputs": [
    {
     "data": {
      "text/plain": [
       "31.631084035694286"
      ]
     },
     "execution_count": 14,
     "metadata": {},
     "output_type": "execute_result"
    }
   ],
   "source": [
    "# 편향 b 값 확인 해보기\n",
    "lr.intercept_"
   ]
  },
  {
   "cell_type": "code",
   "execution_count": 15,
   "id": "3bd7c633",
   "metadata": {},
   "outputs": [
    {
     "data": {
      "text/plain": [
       "array([28.64896005, 36.49501384, 15.4111932 , 25.40321303, 18.85527988,\n",
       "       23.14668944, 17.3921241 , 14.07859899, 23.03692679, 20.59943345,\n",
       "       24.82286159, 18.53057049, -6.86543527, 21.80172334, 19.22571177,\n",
       "       26.19191985, 20.27733882,  5.61596432, 40.44887974, 17.57695918,\n",
       "       27.44319095, 30.1715964 , 10.94055823, 24.02083139, 18.07693812,\n",
       "       15.934748  , 23.12614028, 14.56052142, 22.33482544, 19.3257627 ,\n",
       "       22.16564973, 25.19476081, 25.31372473, 18.51345025, 16.6223286 ,\n",
       "       17.50268505, 30.94992991, 20.19201752, 23.90440431, 24.86975466,\n",
       "       13.93767876, 31.82504715, 42.56978796, 17.62323805, 27.01963242,\n",
       "       17.19006621, 13.80594006, 26.10356557, 20.31516118, 30.08649576,\n",
       "       21.3124053 , 34.15739602, 15.60444981, 26.11247588, 39.31613646,\n",
       "       22.99282065, 18.95764781, 33.05555669, 24.85114223, 12.91729352,\n",
       "       22.68101452, 30.80336295, 31.63522027, 16.29833689, 21.07379993,\n",
       "       16.57699669, 20.36362023, 26.15615896, 31.06833034, 11.98679953,\n",
       "       20.42550472, 27.55676301, 10.94316981, 16.82660609, 23.92909733,\n",
       "        5.28065815, 21.43504661, 41.33684993, 18.22211675,  9.48269245,\n",
       "       21.19857446, 12.95001331, 21.64822797,  9.3845568 , 23.06060014,\n",
       "       31.95762512, 19.16662892, 25.59942257, 29.35043558, 20.13138581,\n",
       "       25.57297369,  5.42970803, 20.23169356, 15.1949595 , 14.03241742,\n",
       "       20.91078077, 24.82249135, -0.47712079, 13.70520524, 15.69525576,\n",
       "       22.06972676, 24.64152943, 10.7382866 , 19.68622564, 23.63678009,\n",
       "       12.07974981, 18.47894211, 25.52713393, 20.93461307, 24.6955941 ,\n",
       "        7.59054562, 19.01046053, 21.9444339 , 27.22319977, 32.18608828,\n",
       "       15.27826455, 34.39190421, 12.96314168, 21.01681316, 28.57880911,\n",
       "       15.86300844, 24.85124135,  3.37937111, 23.90465773, 25.81792146,\n",
       "       23.11020547, 25.33489201, 33.35545176, 20.60724498, 38.4772665 ,\n",
       "       13.97398533, 25.21923987, 17.80946626, 20.63437371,  9.80267398,\n",
       "       21.07953576, 22.3378417 , 32.32381854, 31.48694863, 15.46621287,\n",
       "       16.86242766, 28.99330526, 24.95467894, 16.73633557,  6.12858395,\n",
       "       26.65990044, 23.34007187, 17.40367164, 13.38594123, 39.98342478,\n",
       "       16.68286302, 18.28561759])"
      ]
     },
     "execution_count": 15,
     "metadata": {},
     "output_type": "execute_result"
    }
   ],
   "source": [
    "# 정답 예측\n",
    "pre = lr.predict(X_test)\n",
    "pre"
   ]
  },
  {
   "cell_type": "markdown",
   "id": "8f5a9288",
   "metadata": {},
   "source": [
    "- 회귀 평가 지표를 이용해서, 모델을 평가해보자\n",
    "- mse, mae, rmse, r2_score"
   ]
  },
  {
   "cell_type": "code",
   "execution_count": 16,
   "id": "803b6160",
   "metadata": {},
   "outputs": [],
   "source": [
    "# 평가지표 import\n",
    "from sklearn.metrics import mean_absolute_error, mean_squared_error, r2_score"
   ]
  },
  {
   "cell_type": "code",
   "execution_count": 17,
   "id": "f6991d54",
   "metadata": {},
   "outputs": [
    {
     "data": {
      "text/plain": [
       "21.51744423117709"
      ]
     },
     "execution_count": 17,
     "metadata": {},
     "output_type": "execute_result"
    }
   ],
   "source": [
    "# mse 사용하기\n",
    "mean_squared_error(y_test, pre)"
   ]
  },
  {
   "cell_type": "code",
   "execution_count": 18,
   "id": "830017ef",
   "metadata": {},
   "outputs": [
    {
     "data": {
      "text/plain": [
       "3.1627098714573947"
      ]
     },
     "execution_count": 18,
     "metadata": {},
     "output_type": "execute_result"
    }
   ],
   "source": [
    "# mae 사용하기\n",
    "mean_absolute_error(y_test, pre)"
   ]
  },
  {
   "cell_type": "code",
   "execution_count": 19,
   "id": "922a32b1",
   "metadata": {},
   "outputs": [
    {
     "data": {
      "text/plain": [
       "4.638689926172808"
      ]
     },
     "execution_count": 19,
     "metadata": {},
     "output_type": "execute_result"
    }
   ],
   "source": [
    "# rmse 사용하기 (sklearn에서 자체적으로는 지원 x)\n",
    "np.sqrt(mean_squared_error(y_test, pre))"
   ]
  },
  {
   "cell_type": "code",
   "execution_count": 20,
   "id": "c90ccffe",
   "metadata": {},
   "outputs": [
    {
     "data": {
      "text/plain": [
       "0.7112260057484948"
      ]
     },
     "execution_count": 20,
     "metadata": {},
     "output_type": "execute_result"
    }
   ],
   "source": [
    "# r2_score 사용하기\n",
    "r2_score(y_test, pre)"
   ]
  },
  {
   "cell_type": "code",
   "execution_count": 21,
   "id": "18c3e6b0",
   "metadata": {},
   "outputs": [
    {
     "data": {
      "text/plain": [
       "((152,), (152,))"
      ]
     },
     "execution_count": 21,
     "metadata": {},
     "output_type": "execute_result"
    }
   ],
   "source": [
    "y_test.shape, pre.shape"
   ]
  },
  {
   "cell_type": "markdown",
   "id": "98582f8d",
   "metadata": {},
   "source": [
    "- 현재 회귀모델은 성능이 그렇게 좋은 편은 아닌거 같다.\n",
    "- 선형회귀모델은 특성이 많을수록 성능 상승\n",
    "- 특성이 적은 경우 모델이 간단해져 성능이 낮다\n",
    "- 모델을 제어할 수 있는 하이퍼 파라미터 조정이 불가능하기 때문\n",
    "- 특성 곱을 이용해 새로운 특성 만들어보자"
   ]
  },
  {
   "cell_type": "markdown",
   "id": "1054c5b9",
   "metadata": {},
   "source": [
    "**원본 데이터 프레임 복사하기**"
   ]
  },
  {
   "cell_type": "code",
   "execution_count": 23,
   "id": "2522d4e9",
   "metadata": {},
   "outputs": [],
   "source": [
    "x_train_copy = X_train.copy()"
   ]
  },
  {
   "cell_type": "code",
   "execution_count": 24,
   "id": "5db48176",
   "metadata": {},
   "outputs": [],
   "source": [
    "# 기존의 훈련용 문제 데이터에 훈련용 정답 컬럼을 추가해주자\n",
    "# 정답을 포함한 상관관계를 파악하기 위해서\n",
    "x_train_copy['MEDV'] = y_train"
   ]
  },
  {
   "cell_type": "code",
   "execution_count": 25,
   "id": "6934fdfd",
   "metadata": {},
   "outputs": [
    {
     "data": {
      "text/html": [
       "<div>\n",
       "<style scoped>\n",
       "    .dataframe tbody tr th:only-of-type {\n",
       "        vertical-align: middle;\n",
       "    }\n",
       "\n",
       "    .dataframe tbody tr th {\n",
       "        vertical-align: top;\n",
       "    }\n",
       "\n",
       "    .dataframe thead th {\n",
       "        text-align: right;\n",
       "    }\n",
       "</style>\n",
       "<table border=\"1\" class=\"dataframe\">\n",
       "  <thead>\n",
       "    <tr style=\"text-align: right;\">\n",
       "      <th></th>\n",
       "      <th>CRIM</th>\n",
       "      <th>ZN</th>\n",
       "      <th>INDUS</th>\n",
       "      <th>CHAS</th>\n",
       "      <th>NOX</th>\n",
       "      <th>RM</th>\n",
       "      <th>AGE</th>\n",
       "      <th>DIS</th>\n",
       "      <th>RAD</th>\n",
       "      <th>TAX</th>\n",
       "      <th>PTRATIO</th>\n",
       "      <th>B</th>\n",
       "      <th>LSTAT</th>\n",
       "      <th>MEDV</th>\n",
       "    </tr>\n",
       "  </thead>\n",
       "  <tbody>\n",
       "    <tr>\n",
       "      <th>CRIM</th>\n",
       "      <td>1.000000</td>\n",
       "      <td>-0.205413</td>\n",
       "      <td>0.399643</td>\n",
       "      <td>-0.041852</td>\n",
       "      <td>0.402031</td>\n",
       "      <td>-0.210556</td>\n",
       "      <td>0.336697</td>\n",
       "      <td>-0.371149</td>\n",
       "      <td>0.622745</td>\n",
       "      <td>0.582164</td>\n",
       "      <td>0.296443</td>\n",
       "      <td>-0.304734</td>\n",
       "      <td>0.409681</td>\n",
       "      <td>-0.380453</td>\n",
       "    </tr>\n",
       "    <tr>\n",
       "      <th>ZN</th>\n",
       "      <td>-0.205413</td>\n",
       "      <td>1.000000</td>\n",
       "      <td>-0.544907</td>\n",
       "      <td>-0.031898</td>\n",
       "      <td>-0.527921</td>\n",
       "      <td>0.299282</td>\n",
       "      <td>-0.583271</td>\n",
       "      <td>0.672752</td>\n",
       "      <td>-0.318947</td>\n",
       "      <td>-0.306276</td>\n",
       "      <td>-0.375349</td>\n",
       "      <td>0.172134</td>\n",
       "      <td>-0.393315</td>\n",
       "      <td>0.329526</td>\n",
       "    </tr>\n",
       "    <tr>\n",
       "      <th>INDUS</th>\n",
       "      <td>0.399643</td>\n",
       "      <td>-0.544907</td>\n",
       "      <td>1.000000</td>\n",
       "      <td>0.074533</td>\n",
       "      <td>0.764135</td>\n",
       "      <td>-0.407417</td>\n",
       "      <td>0.635749</td>\n",
       "      <td>-0.700550</td>\n",
       "      <td>0.579284</td>\n",
       "      <td>0.702541</td>\n",
       "      <td>0.362794</td>\n",
       "      <td>-0.333391</td>\n",
       "      <td>0.578976</td>\n",
       "      <td>-0.459568</td>\n",
       "    </tr>\n",
       "    <tr>\n",
       "      <th>CHAS</th>\n",
       "      <td>-0.041852</td>\n",
       "      <td>-0.031898</td>\n",
       "      <td>0.074533</td>\n",
       "      <td>1.000000</td>\n",
       "      <td>0.100199</td>\n",
       "      <td>0.139175</td>\n",
       "      <td>0.083140</td>\n",
       "      <td>-0.110392</td>\n",
       "      <td>0.047212</td>\n",
       "      <td>0.012041</td>\n",
       "      <td>-0.087582</td>\n",
       "      <td>0.071473</td>\n",
       "      <td>-0.103874</td>\n",
       "      <td>0.226487</td>\n",
       "    </tr>\n",
       "    <tr>\n",
       "      <th>NOX</th>\n",
       "      <td>0.402031</td>\n",
       "      <td>-0.527921</td>\n",
       "      <td>0.764135</td>\n",
       "      <td>0.100199</td>\n",
       "      <td>1.000000</td>\n",
       "      <td>-0.305756</td>\n",
       "      <td>0.733034</td>\n",
       "      <td>-0.775599</td>\n",
       "      <td>0.595620</td>\n",
       "      <td>0.655932</td>\n",
       "      <td>0.169297</td>\n",
       "      <td>-0.339474</td>\n",
       "      <td>0.581960</td>\n",
       "      <td>-0.406677</td>\n",
       "    </tr>\n",
       "    <tr>\n",
       "      <th>RM</th>\n",
       "      <td>-0.210556</td>\n",
       "      <td>0.299282</td>\n",
       "      <td>-0.407417</td>\n",
       "      <td>0.139175</td>\n",
       "      <td>-0.305756</td>\n",
       "      <td>1.000000</td>\n",
       "      <td>-0.227609</td>\n",
       "      <td>0.217510</td>\n",
       "      <td>-0.219261</td>\n",
       "      <td>-0.296173</td>\n",
       "      <td>-0.345720</td>\n",
       "      <td>0.122512</td>\n",
       "      <td>-0.618609</td>\n",
       "      <td>0.698491</td>\n",
       "    </tr>\n",
       "    <tr>\n",
       "      <th>AGE</th>\n",
       "      <td>0.336697</td>\n",
       "      <td>-0.583271</td>\n",
       "      <td>0.635749</td>\n",
       "      <td>0.083140</td>\n",
       "      <td>0.733034</td>\n",
       "      <td>-0.227609</td>\n",
       "      <td>1.000000</td>\n",
       "      <td>-0.753570</td>\n",
       "      <td>0.425143</td>\n",
       "      <td>0.475100</td>\n",
       "      <td>0.230440</td>\n",
       "      <td>-0.248012</td>\n",
       "      <td>0.550824</td>\n",
       "      <td>-0.350505</td>\n",
       "    </tr>\n",
       "    <tr>\n",
       "      <th>DIS</th>\n",
       "      <td>-0.371149</td>\n",
       "      <td>0.672752</td>\n",
       "      <td>-0.700550</td>\n",
       "      <td>-0.110392</td>\n",
       "      <td>-0.775599</td>\n",
       "      <td>0.217510</td>\n",
       "      <td>-0.753570</td>\n",
       "      <td>1.000000</td>\n",
       "      <td>-0.476497</td>\n",
       "      <td>-0.523633</td>\n",
       "      <td>-0.218248</td>\n",
       "      <td>0.269588</td>\n",
       "      <td>-0.474187</td>\n",
       "      <td>0.241323</td>\n",
       "    </tr>\n",
       "    <tr>\n",
       "      <th>RAD</th>\n",
       "      <td>0.622745</td>\n",
       "      <td>-0.318947</td>\n",
       "      <td>0.579284</td>\n",
       "      <td>0.047212</td>\n",
       "      <td>0.595620</td>\n",
       "      <td>-0.219261</td>\n",
       "      <td>0.425143</td>\n",
       "      <td>-0.476497</td>\n",
       "      <td>1.000000</td>\n",
       "      <td>0.909381</td>\n",
       "      <td>0.481114</td>\n",
       "      <td>-0.403437</td>\n",
       "      <td>0.473225</td>\n",
       "      <td>-0.384704</td>\n",
       "    </tr>\n",
       "    <tr>\n",
       "      <th>TAX</th>\n",
       "      <td>0.582164</td>\n",
       "      <td>-0.306276</td>\n",
       "      <td>0.702541</td>\n",
       "      <td>0.012041</td>\n",
       "      <td>0.655932</td>\n",
       "      <td>-0.296173</td>\n",
       "      <td>0.475100</td>\n",
       "      <td>-0.523633</td>\n",
       "      <td>0.909381</td>\n",
       "      <td>1.000000</td>\n",
       "      <td>0.465101</td>\n",
       "      <td>-0.407992</td>\n",
       "      <td>0.525003</td>\n",
       "      <td>-0.452308</td>\n",
       "    </tr>\n",
       "    <tr>\n",
       "      <th>PTRATIO</th>\n",
       "      <td>0.296443</td>\n",
       "      <td>-0.375349</td>\n",
       "      <td>0.362794</td>\n",
       "      <td>-0.087582</td>\n",
       "      <td>0.169297</td>\n",
       "      <td>-0.345720</td>\n",
       "      <td>0.230440</td>\n",
       "      <td>-0.218248</td>\n",
       "      <td>0.481114</td>\n",
       "      <td>0.465101</td>\n",
       "      <td>1.000000</td>\n",
       "      <td>-0.169999</td>\n",
       "      <td>0.361428</td>\n",
       "      <td>-0.492096</td>\n",
       "    </tr>\n",
       "    <tr>\n",
       "      <th>B</th>\n",
       "      <td>-0.304734</td>\n",
       "      <td>0.172134</td>\n",
       "      <td>-0.333391</td>\n",
       "      <td>0.071473</td>\n",
       "      <td>-0.339474</td>\n",
       "      <td>0.122512</td>\n",
       "      <td>-0.248012</td>\n",
       "      <td>0.269588</td>\n",
       "      <td>-0.403437</td>\n",
       "      <td>-0.407992</td>\n",
       "      <td>-0.169999</td>\n",
       "      <td>1.000000</td>\n",
       "      <td>-0.324208</td>\n",
       "      <td>0.324991</td>\n",
       "    </tr>\n",
       "    <tr>\n",
       "      <th>LSTAT</th>\n",
       "      <td>0.409681</td>\n",
       "      <td>-0.393315</td>\n",
       "      <td>0.578976</td>\n",
       "      <td>-0.103874</td>\n",
       "      <td>0.581960</td>\n",
       "      <td>-0.618609</td>\n",
       "      <td>0.550824</td>\n",
       "      <td>-0.474187</td>\n",
       "      <td>0.473225</td>\n",
       "      <td>0.525003</td>\n",
       "      <td>0.361428</td>\n",
       "      <td>-0.324208</td>\n",
       "      <td>1.000000</td>\n",
       "      <td>-0.747107</td>\n",
       "    </tr>\n",
       "    <tr>\n",
       "      <th>MEDV</th>\n",
       "      <td>-0.380453</td>\n",
       "      <td>0.329526</td>\n",
       "      <td>-0.459568</td>\n",
       "      <td>0.226487</td>\n",
       "      <td>-0.406677</td>\n",
       "      <td>0.698491</td>\n",
       "      <td>-0.350505</td>\n",
       "      <td>0.241323</td>\n",
       "      <td>-0.384704</td>\n",
       "      <td>-0.452308</td>\n",
       "      <td>-0.492096</td>\n",
       "      <td>0.324991</td>\n",
       "      <td>-0.747107</td>\n",
       "      <td>1.000000</td>\n",
       "    </tr>\n",
       "  </tbody>\n",
       "</table>\n",
       "</div>"
      ],
      "text/plain": [
       "             CRIM        ZN     INDUS      CHAS       NOX        RM       AGE  \\\n",
       "CRIM     1.000000 -0.205413  0.399643 -0.041852  0.402031 -0.210556  0.336697   \n",
       "ZN      -0.205413  1.000000 -0.544907 -0.031898 -0.527921  0.299282 -0.583271   \n",
       "INDUS    0.399643 -0.544907  1.000000  0.074533  0.764135 -0.407417  0.635749   \n",
       "CHAS    -0.041852 -0.031898  0.074533  1.000000  0.100199  0.139175  0.083140   \n",
       "NOX      0.402031 -0.527921  0.764135  0.100199  1.000000 -0.305756  0.733034   \n",
       "RM      -0.210556  0.299282 -0.407417  0.139175 -0.305756  1.000000 -0.227609   \n",
       "AGE      0.336697 -0.583271  0.635749  0.083140  0.733034 -0.227609  1.000000   \n",
       "DIS     -0.371149  0.672752 -0.700550 -0.110392 -0.775599  0.217510 -0.753570   \n",
       "RAD      0.622745 -0.318947  0.579284  0.047212  0.595620 -0.219261  0.425143   \n",
       "TAX      0.582164 -0.306276  0.702541  0.012041  0.655932 -0.296173  0.475100   \n",
       "PTRATIO  0.296443 -0.375349  0.362794 -0.087582  0.169297 -0.345720  0.230440   \n",
       "B       -0.304734  0.172134 -0.333391  0.071473 -0.339474  0.122512 -0.248012   \n",
       "LSTAT    0.409681 -0.393315  0.578976 -0.103874  0.581960 -0.618609  0.550824   \n",
       "MEDV    -0.380453  0.329526 -0.459568  0.226487 -0.406677  0.698491 -0.350505   \n",
       "\n",
       "              DIS       RAD       TAX   PTRATIO         B     LSTAT      MEDV  \n",
       "CRIM    -0.371149  0.622745  0.582164  0.296443 -0.304734  0.409681 -0.380453  \n",
       "ZN       0.672752 -0.318947 -0.306276 -0.375349  0.172134 -0.393315  0.329526  \n",
       "INDUS   -0.700550  0.579284  0.702541  0.362794 -0.333391  0.578976 -0.459568  \n",
       "CHAS    -0.110392  0.047212  0.012041 -0.087582  0.071473 -0.103874  0.226487  \n",
       "NOX     -0.775599  0.595620  0.655932  0.169297 -0.339474  0.581960 -0.406677  \n",
       "RM       0.217510 -0.219261 -0.296173 -0.345720  0.122512 -0.618609  0.698491  \n",
       "AGE     -0.753570  0.425143  0.475100  0.230440 -0.248012  0.550824 -0.350505  \n",
       "DIS      1.000000 -0.476497 -0.523633 -0.218248  0.269588 -0.474187  0.241323  \n",
       "RAD     -0.476497  1.000000  0.909381  0.481114 -0.403437  0.473225 -0.384704  \n",
       "TAX     -0.523633  0.909381  1.000000  0.465101 -0.407992  0.525003 -0.452308  \n",
       "PTRATIO -0.218248  0.481114  0.465101  1.000000 -0.169999  0.361428 -0.492096  \n",
       "B        0.269588 -0.403437 -0.407992 -0.169999  1.000000 -0.324208  0.324991  \n",
       "LSTAT   -0.474187  0.473225  0.525003  0.361428 -0.324208  1.000000 -0.747107  \n",
       "MEDV     0.241323 -0.384704 -0.452308 -0.492096  0.324991 -0.747107  1.000000  "
      ]
     },
     "execution_count": 25,
     "metadata": {},
     "output_type": "execute_result"
    }
   ],
   "source": [
    "x_train_copy.corr()"
   ]
  },
  {
   "cell_type": "code",
   "execution_count": 28,
   "id": "9577329d",
   "metadata": {},
   "outputs": [
    {
     "data": {
      "text/html": [
       "<div>\n",
       "<style scoped>\n",
       "    .dataframe tbody tr th:only-of-type {\n",
       "        vertical-align: middle;\n",
       "    }\n",
       "\n",
       "    .dataframe tbody tr th {\n",
       "        vertical-align: top;\n",
       "    }\n",
       "\n",
       "    .dataframe thead th {\n",
       "        text-align: right;\n",
       "    }\n",
       "</style>\n",
       "<table border=\"1\" class=\"dataframe\">\n",
       "  <thead>\n",
       "    <tr style=\"text-align: right;\">\n",
       "      <th></th>\n",
       "      <th>CRIM</th>\n",
       "      <th>ZN</th>\n",
       "      <th>INDUS</th>\n",
       "      <th>CHAS</th>\n",
       "      <th>NOX</th>\n",
       "      <th>RM</th>\n",
       "      <th>AGE</th>\n",
       "      <th>DIS</th>\n",
       "      <th>RAD</th>\n",
       "      <th>TAX</th>\n",
       "      <th>PTRATIO</th>\n",
       "      <th>B</th>\n",
       "      <th>LSTAT</th>\n",
       "      <th>MEDV</th>\n",
       "    </tr>\n",
       "  </thead>\n",
       "  <tbody>\n",
       "    <tr>\n",
       "      <th>MEDV</th>\n",
       "      <td>0.380453</td>\n",
       "      <td>0.329526</td>\n",
       "      <td>0.459568</td>\n",
       "      <td>0.226487</td>\n",
       "      <td>0.406677</td>\n",
       "      <td>0.698491</td>\n",
       "      <td>0.350505</td>\n",
       "      <td>0.241323</td>\n",
       "      <td>0.384704</td>\n",
       "      <td>0.452308</td>\n",
       "      <td>0.492096</td>\n",
       "      <td>0.324991</td>\n",
       "      <td>0.747107</td>\n",
       "      <td>1.000000</td>\n",
       "    </tr>\n",
       "    <tr>\n",
       "      <th>LSTAT</th>\n",
       "      <td>0.409681</td>\n",
       "      <td>0.393315</td>\n",
       "      <td>0.578976</td>\n",
       "      <td>0.103874</td>\n",
       "      <td>0.581960</td>\n",
       "      <td>0.618609</td>\n",
       "      <td>0.550824</td>\n",
       "      <td>0.474187</td>\n",
       "      <td>0.473225</td>\n",
       "      <td>0.525003</td>\n",
       "      <td>0.361428</td>\n",
       "      <td>0.324208</td>\n",
       "      <td>1.000000</td>\n",
       "      <td>0.747107</td>\n",
       "    </tr>\n",
       "    <tr>\n",
       "      <th>RM</th>\n",
       "      <td>0.210556</td>\n",
       "      <td>0.299282</td>\n",
       "      <td>0.407417</td>\n",
       "      <td>0.139175</td>\n",
       "      <td>0.305756</td>\n",
       "      <td>1.000000</td>\n",
       "      <td>0.227609</td>\n",
       "      <td>0.217510</td>\n",
       "      <td>0.219261</td>\n",
       "      <td>0.296173</td>\n",
       "      <td>0.345720</td>\n",
       "      <td>0.122512</td>\n",
       "      <td>0.618609</td>\n",
       "      <td>0.698491</td>\n",
       "    </tr>\n",
       "    <tr>\n",
       "      <th>PTRATIO</th>\n",
       "      <td>0.296443</td>\n",
       "      <td>0.375349</td>\n",
       "      <td>0.362794</td>\n",
       "      <td>0.087582</td>\n",
       "      <td>0.169297</td>\n",
       "      <td>0.345720</td>\n",
       "      <td>0.230440</td>\n",
       "      <td>0.218248</td>\n",
       "      <td>0.481114</td>\n",
       "      <td>0.465101</td>\n",
       "      <td>1.000000</td>\n",
       "      <td>0.169999</td>\n",
       "      <td>0.361428</td>\n",
       "      <td>0.492096</td>\n",
       "    </tr>\n",
       "    <tr>\n",
       "      <th>INDUS</th>\n",
       "      <td>0.399643</td>\n",
       "      <td>0.544907</td>\n",
       "      <td>1.000000</td>\n",
       "      <td>0.074533</td>\n",
       "      <td>0.764135</td>\n",
       "      <td>0.407417</td>\n",
       "      <td>0.635749</td>\n",
       "      <td>0.700550</td>\n",
       "      <td>0.579284</td>\n",
       "      <td>0.702541</td>\n",
       "      <td>0.362794</td>\n",
       "      <td>0.333391</td>\n",
       "      <td>0.578976</td>\n",
       "      <td>0.459568</td>\n",
       "    </tr>\n",
       "    <tr>\n",
       "      <th>TAX</th>\n",
       "      <td>0.582164</td>\n",
       "      <td>0.306276</td>\n",
       "      <td>0.702541</td>\n",
       "      <td>0.012041</td>\n",
       "      <td>0.655932</td>\n",
       "      <td>0.296173</td>\n",
       "      <td>0.475100</td>\n",
       "      <td>0.523633</td>\n",
       "      <td>0.909381</td>\n",
       "      <td>1.000000</td>\n",
       "      <td>0.465101</td>\n",
       "      <td>0.407992</td>\n",
       "      <td>0.525003</td>\n",
       "      <td>0.452308</td>\n",
       "    </tr>\n",
       "    <tr>\n",
       "      <th>NOX</th>\n",
       "      <td>0.402031</td>\n",
       "      <td>0.527921</td>\n",
       "      <td>0.764135</td>\n",
       "      <td>0.100199</td>\n",
       "      <td>1.000000</td>\n",
       "      <td>0.305756</td>\n",
       "      <td>0.733034</td>\n",
       "      <td>0.775599</td>\n",
       "      <td>0.595620</td>\n",
       "      <td>0.655932</td>\n",
       "      <td>0.169297</td>\n",
       "      <td>0.339474</td>\n",
       "      <td>0.581960</td>\n",
       "      <td>0.406677</td>\n",
       "    </tr>\n",
       "    <tr>\n",
       "      <th>RAD</th>\n",
       "      <td>0.622745</td>\n",
       "      <td>0.318947</td>\n",
       "      <td>0.579284</td>\n",
       "      <td>0.047212</td>\n",
       "      <td>0.595620</td>\n",
       "      <td>0.219261</td>\n",
       "      <td>0.425143</td>\n",
       "      <td>0.476497</td>\n",
       "      <td>1.000000</td>\n",
       "      <td>0.909381</td>\n",
       "      <td>0.481114</td>\n",
       "      <td>0.403437</td>\n",
       "      <td>0.473225</td>\n",
       "      <td>0.384704</td>\n",
       "    </tr>\n",
       "    <tr>\n",
       "      <th>CRIM</th>\n",
       "      <td>1.000000</td>\n",
       "      <td>0.205413</td>\n",
       "      <td>0.399643</td>\n",
       "      <td>0.041852</td>\n",
       "      <td>0.402031</td>\n",
       "      <td>0.210556</td>\n",
       "      <td>0.336697</td>\n",
       "      <td>0.371149</td>\n",
       "      <td>0.622745</td>\n",
       "      <td>0.582164</td>\n",
       "      <td>0.296443</td>\n",
       "      <td>0.304734</td>\n",
       "      <td>0.409681</td>\n",
       "      <td>0.380453</td>\n",
       "    </tr>\n",
       "    <tr>\n",
       "      <th>AGE</th>\n",
       "      <td>0.336697</td>\n",
       "      <td>0.583271</td>\n",
       "      <td>0.635749</td>\n",
       "      <td>0.083140</td>\n",
       "      <td>0.733034</td>\n",
       "      <td>0.227609</td>\n",
       "      <td>1.000000</td>\n",
       "      <td>0.753570</td>\n",
       "      <td>0.425143</td>\n",
       "      <td>0.475100</td>\n",
       "      <td>0.230440</td>\n",
       "      <td>0.248012</td>\n",
       "      <td>0.550824</td>\n",
       "      <td>0.350505</td>\n",
       "    </tr>\n",
       "    <tr>\n",
       "      <th>ZN</th>\n",
       "      <td>0.205413</td>\n",
       "      <td>1.000000</td>\n",
       "      <td>0.544907</td>\n",
       "      <td>0.031898</td>\n",
       "      <td>0.527921</td>\n",
       "      <td>0.299282</td>\n",
       "      <td>0.583271</td>\n",
       "      <td>0.672752</td>\n",
       "      <td>0.318947</td>\n",
       "      <td>0.306276</td>\n",
       "      <td>0.375349</td>\n",
       "      <td>0.172134</td>\n",
       "      <td>0.393315</td>\n",
       "      <td>0.329526</td>\n",
       "    </tr>\n",
       "    <tr>\n",
       "      <th>B</th>\n",
       "      <td>0.304734</td>\n",
       "      <td>0.172134</td>\n",
       "      <td>0.333391</td>\n",
       "      <td>0.071473</td>\n",
       "      <td>0.339474</td>\n",
       "      <td>0.122512</td>\n",
       "      <td>0.248012</td>\n",
       "      <td>0.269588</td>\n",
       "      <td>0.403437</td>\n",
       "      <td>0.407992</td>\n",
       "      <td>0.169999</td>\n",
       "      <td>1.000000</td>\n",
       "      <td>0.324208</td>\n",
       "      <td>0.324991</td>\n",
       "    </tr>\n",
       "    <tr>\n",
       "      <th>DIS</th>\n",
       "      <td>0.371149</td>\n",
       "      <td>0.672752</td>\n",
       "      <td>0.700550</td>\n",
       "      <td>0.110392</td>\n",
       "      <td>0.775599</td>\n",
       "      <td>0.217510</td>\n",
       "      <td>0.753570</td>\n",
       "      <td>1.000000</td>\n",
       "      <td>0.476497</td>\n",
       "      <td>0.523633</td>\n",
       "      <td>0.218248</td>\n",
       "      <td>0.269588</td>\n",
       "      <td>0.474187</td>\n",
       "      <td>0.241323</td>\n",
       "    </tr>\n",
       "    <tr>\n",
       "      <th>CHAS</th>\n",
       "      <td>0.041852</td>\n",
       "      <td>0.031898</td>\n",
       "      <td>0.074533</td>\n",
       "      <td>1.000000</td>\n",
       "      <td>0.100199</td>\n",
       "      <td>0.139175</td>\n",
       "      <td>0.083140</td>\n",
       "      <td>0.110392</td>\n",
       "      <td>0.047212</td>\n",
       "      <td>0.012041</td>\n",
       "      <td>0.087582</td>\n",
       "      <td>0.071473</td>\n",
       "      <td>0.103874</td>\n",
       "      <td>0.226487</td>\n",
       "    </tr>\n",
       "  </tbody>\n",
       "</table>\n",
       "</div>"
      ],
      "text/plain": [
       "             CRIM        ZN     INDUS      CHAS       NOX        RM       AGE  \\\n",
       "MEDV     0.380453  0.329526  0.459568  0.226487  0.406677  0.698491  0.350505   \n",
       "LSTAT    0.409681  0.393315  0.578976  0.103874  0.581960  0.618609  0.550824   \n",
       "RM       0.210556  0.299282  0.407417  0.139175  0.305756  1.000000  0.227609   \n",
       "PTRATIO  0.296443  0.375349  0.362794  0.087582  0.169297  0.345720  0.230440   \n",
       "INDUS    0.399643  0.544907  1.000000  0.074533  0.764135  0.407417  0.635749   \n",
       "TAX      0.582164  0.306276  0.702541  0.012041  0.655932  0.296173  0.475100   \n",
       "NOX      0.402031  0.527921  0.764135  0.100199  1.000000  0.305756  0.733034   \n",
       "RAD      0.622745  0.318947  0.579284  0.047212  0.595620  0.219261  0.425143   \n",
       "CRIM     1.000000  0.205413  0.399643  0.041852  0.402031  0.210556  0.336697   \n",
       "AGE      0.336697  0.583271  0.635749  0.083140  0.733034  0.227609  1.000000   \n",
       "ZN       0.205413  1.000000  0.544907  0.031898  0.527921  0.299282  0.583271   \n",
       "B        0.304734  0.172134  0.333391  0.071473  0.339474  0.122512  0.248012   \n",
       "DIS      0.371149  0.672752  0.700550  0.110392  0.775599  0.217510  0.753570   \n",
       "CHAS     0.041852  0.031898  0.074533  1.000000  0.100199  0.139175  0.083140   \n",
       "\n",
       "              DIS       RAD       TAX   PTRATIO         B     LSTAT      MEDV  \n",
       "MEDV     0.241323  0.384704  0.452308  0.492096  0.324991  0.747107  1.000000  \n",
       "LSTAT    0.474187  0.473225  0.525003  0.361428  0.324208  1.000000  0.747107  \n",
       "RM       0.217510  0.219261  0.296173  0.345720  0.122512  0.618609  0.698491  \n",
       "PTRATIO  0.218248  0.481114  0.465101  1.000000  0.169999  0.361428  0.492096  \n",
       "INDUS    0.700550  0.579284  0.702541  0.362794  0.333391  0.578976  0.459568  \n",
       "TAX      0.523633  0.909381  1.000000  0.465101  0.407992  0.525003  0.452308  \n",
       "NOX      0.775599  0.595620  0.655932  0.169297  0.339474  0.581960  0.406677  \n",
       "RAD      0.476497  1.000000  0.909381  0.481114  0.403437  0.473225  0.384704  \n",
       "CRIM     0.371149  0.622745  0.582164  0.296443  0.304734  0.409681  0.380453  \n",
       "AGE      0.753570  0.425143  0.475100  0.230440  0.248012  0.550824  0.350505  \n",
       "ZN       0.672752  0.318947  0.306276  0.375349  0.172134  0.393315  0.329526  \n",
       "B        0.269588  0.403437  0.407992  0.169999  1.000000  0.324208  0.324991  \n",
       "DIS      1.000000  0.476497  0.523633  0.218248  0.269588  0.474187  0.241323  \n",
       "CHAS     0.110392  0.047212  0.012041  0.087582  0.071473  0.103874  0.226487  "
      ]
     },
     "execution_count": 28,
     "metadata": {},
     "output_type": "execute_result"
    }
   ],
   "source": [
    "# 내부의 상관계수 값을 절대값으로 변경\n",
    "x_train_abs = x_train_copy.corr().abs()\n",
    "# 절대값으로 변경된 상관계수를 내림차순 정렬\n",
    "x_train_abs.sort_values(by = 'MEDV', ascending=False)"
   ]
  },
  {
   "cell_type": "markdown",
   "id": "a0147e88",
   "metadata": {},
   "source": [
    "- 상관관계의 범위는 -1 ~ 1\n",
    "- 현재 절대값 변경된 상관계수를 확인 -> 같은 컬럼을 제외한 상관계수가 높은 컬럼 2개를 찾아보자.\n",
    "- LSTAT과 RM이라는 컬럼이 상관계수가 높았다 -> 이 두가지의 컬럼을 가지고 특성 곱이라는 확장을 진행"
   ]
  },
  {
   "cell_type": "code",
   "execution_count": 33,
   "id": "1cbdee45",
   "metadata": {},
   "outputs": [
    {
     "data": {
      "image/png": "[encoded data removed]",
      "text/plain": [
       "<Figure size 640x480 with 1 Axes>"
      ]
     },
     "metadata": {},
     "output_type": "display_data"
    }
   ],
   "source": [
    "# 상관관계가 높은 데이터를 가지고 특성 확장 해보기\n",
    "# 확장전) 먼저 LSTAT 특성만 가지고 학습시킨후 예측을 어떻게 하는지 시각화\n",
    "# 모델 학습\n",
    "model = LinearRegression()\n",
    "model.fit(X_train[['LSTAT']], y_train) # 2차원이 요구되기 때문에 대괄호 2개\n",
    "pre = model.predict(X_train[['LSTAT']])\n",
    "\n",
    "# 차트 그려보기\n",
    "plt.scatter(X_train['LSTAT'], y_train)\n",
    "plt.scatter(X_train['LSTAT'], pre, color='red')\n",
    "plt.show()"
   ]
  },
  {
   "cell_type": "code",
   "execution_count": 34,
   "id": "b2b6c8ca",
   "metadata": {},
   "outputs": [
    {
     "data": {
      "image/png": "[encoded data removed]",
      "text/plain": [
       "<Figure size 640x480 with 1 Axes>"
      ]
     },
     "metadata": {},
     "output_type": "display_data"
    }
   ],
   "source": [
    "# 특성 확장 후 : 본래 LSTAT 특성과 확장 LSTAT 특성을 가지고 학습 시킨 후 예측을 어떻게 하는지 보자\n",
    "X_train['LSTAT x LSTAT'] = X_train['LSTAT']*X_train['LSTAT']\n",
    "# 모델 학습\n",
    "model2 = LinearRegression()\n",
    "model2.fit(X_train[['LSTAT', 'LSTAT x LSTAT']], y_train)\n",
    "pre = model2.predict(X_train[['LSTAT', 'LSTAT x LSTAT']])\n",
    "\n",
    "# 차트 그려보기\n",
    "plt.scatter(X_train['LSTAT'], y_train)\n",
    "plt.scatter(X_train['LSTAT'], pre, color='red')\n",
    "plt.show()"
   ]
  },
  {
   "cell_type": "markdown",
   "id": "afdae93d",
   "metadata": {},
   "source": [
    "- 직선의 형태가 아니네? -> 곡선이면 비선형인가?\n",
    "- 다항 회귀의 이해가 필요하다\n",
    "- 다항 회귀 : 독립변수 단항식이 아닌(독립변수 X가 1개가 아닌) 2차, 3차 방정식과 같은 다항식으로 표현된 것이 다항 회귀라고 한다!\n",
    "\n",
    "<font color = 'red'>  주의) <br>\n",
    "    1. 다항 회귀를 선형이 아닌 비선형으로 혼동할 수 있다. -> 선형 회귀라는 것을 기억하자. <br>\n",
    "    2. 선형/비선형 회귀를 나누는 기준? -> 가중치(회귀 계수, w)가 선형 / 비선형인지를 확인해보자. <br>\n",
    "    3. 독립변수(문제 데이터, 특성, X)가 선형 / 비선형인지를 따르지 않는다. </font>"
   ]
  },
  {
   "cell_type": "code",
   "execution_count": 35,
   "id": "32b22aff",
   "metadata": {},
   "outputs": [
    {
     "name": "stdout",
     "output_type": "stream",
     "text": [
      "<class 'pandas.core.frame.DataFrame'>\n",
      "Int64Index: 354 entries, 5 to 102\n",
      "Data columns (total 14 columns):\n",
      " #   Column         Non-Null Count  Dtype  \n",
      "---  ------         --------------  -----  \n",
      " 0   CRIM           354 non-null    float64\n",
      " 1   ZN             354 non-null    float64\n",
      " 2   INDUS          354 non-null    float64\n",
      " 3   CHAS           354 non-null    float64\n",
      " 4   NOX            354 non-null    float64\n",
      " 5   RM             354 non-null    float64\n",
      " 6   AGE            354 non-null    float64\n",
      " 7   DIS            354 non-null    float64\n",
      " 8   RAD            354 non-null    float64\n",
      " 9   TAX            354 non-null    float64\n",
      " 10  PTRATIO        354 non-null    float64\n",
      " 11  B              354 non-null    float64\n",
      " 12  LSTAT          354 non-null    float64\n",
      " 13  LSTAT x LSTAT  354 non-null    float64\n",
      "dtypes: float64(14)\n",
      "memory usage: 41.5 KB\n"
     ]
    }
   ],
   "source": [
    "X_train.info()"
   ]
  },
  {
   "cell_type": "code",
   "execution_count": 36,
   "id": "1f0319fc",
   "metadata": {},
   "outputs": [
    {
     "name": "stdout",
     "output_type": "stream",
     "text": [
      "<class 'pandas.core.frame.DataFrame'>\n",
      "Int64Index: 152 entries, 173 to 447\n",
      "Data columns (total 13 columns):\n",
      " #   Column   Non-Null Count  Dtype  \n",
      "---  ------   --------------  -----  \n",
      " 0   CRIM     152 non-null    float64\n",
      " 1   ZN       152 non-null    float64\n",
      " 2   INDUS    152 non-null    float64\n",
      " 3   CHAS     152 non-null    float64\n",
      " 4   NOX      152 non-null    float64\n",
      " 5   RM       152 non-null    float64\n",
      " 6   AGE      152 non-null    float64\n",
      " 7   DIS      152 non-null    float64\n",
      " 8   RAD      152 non-null    float64\n",
      " 9   TAX      152 non-null    float64\n",
      " 10  PTRATIO  152 non-null    float64\n",
      " 11  B        152 non-null    float64\n",
      " 12  LSTAT    152 non-null    float64\n",
      "dtypes: float64(13)\n",
      "memory usage: 16.6 KB\n"
     ]
    }
   ],
   "source": [
    "X_test.info()"
   ]
  },
  {
   "cell_type": "code",
   "execution_count": 37,
   "id": "95134918",
   "metadata": {},
   "outputs": [],
   "source": [
    "# X_test에도 확장 LSTAT을 추가 시켜줘보자\n",
    "X_test['LSTAT x LSTAT'] = X_test['LSTAT'] * X_test['LSTAT']"
   ]
  },
  {
   "cell_type": "code",
   "execution_count": 38,
   "id": "62773043",
   "metadata": {},
   "outputs": [],
   "source": [
    "# 모델 제작\n",
    "model = LinearRegression()"
   ]
  },
  {
   "cell_type": "code",
   "execution_count": 40,
   "id": "0f249567",
   "metadata": {},
   "outputs": [
    {
     "data": {
      "text/html": [
       "<style>#sk-container-id-2 {color: black;background-color: white;}#sk-container-id-2 pre{padding: 0;}#sk-container-id-2 div.sk-toggleable {background-color: white;}#sk-container-id-2 label.sk-toggleable__label {cursor: pointer;display: block;width: 100%;margin-bottom: 0;padding: 0.3em;box-sizing: border-box;text-align: center;}#sk-container-id-2 label.sk-toggleable__label-arrow:before {content: \"▸\";float: left;margin-right: 0.25em;color: #696969;}#sk-container-id-2 label.sk-toggleable__label-arrow:hover:before {color: black;}#sk-container-id-2 div.sk-estimator:hover label.sk-toggleable__label-arrow:before {color: black;}#sk-container-id-2 div.sk-toggleable__content {max-height: 0;max-width: 0;overflow: hidden;text-align: left;background-color: #f0f8ff;}#sk-container-id-2 div.sk-toggleable__content pre {margin: 0.2em;color: black;border-radius: 0.25em;background-color: #f0f8ff;}#sk-container-id-2 input.sk-toggleable__control:checked~div.sk-toggleable__content {max-height: 200px;max-width: 100%;overflow: auto;}#sk-container-id-2 input.sk-toggleable__control:checked~label.sk-toggleable__label-arrow:before {content: \"▾\";}#sk-container-id-2 div.sk-estimator input.sk-toggleable__control:checked~label.sk-toggleable__label {background-color: #d4ebff;}#sk-container-id-2 div.sk-label input.sk-toggleable__control:checked~label.sk-toggleable__label {background-color: #d4ebff;}#sk-container-id-2 input.sk-hidden--visually {border: 0;clip: rect(1px 1px 1px 1px);clip: rect(1px, 1px, 1px, 1px);height: 1px;margin: -1px;overflow: hidden;padding: 0;position: absolute;width: 1px;}#sk-container-id-2 div.sk-estimator {font-family: monospace;background-color: #f0f8ff;border: 1px dotted black;border-radius: 0.25em;box-sizing: border-box;margin-bottom: 0.5em;}#sk-container-id-2 div.sk-estimator:hover {background-color: #d4ebff;}#sk-container-id-2 div.sk-parallel-item::after {content: \"\";width: 100%;border-bottom: 1px solid gray;flex-grow: 1;}#sk-container-id-2 div.sk-label:hover label.sk-toggleable__label {background-color: #d4ebff;}#sk-container-id-2 div.sk-serial::before {content: \"\";position: absolute;border-left: 1px solid gray;box-sizing: border-box;top: 0;bottom: 0;left: 50%;z-index: 0;}#sk-container-id-2 div.sk-serial {display: flex;flex-direction: column;align-items: center;background-color: white;padding-right: 0.2em;padding-left: 0.2em;position: relative;}#sk-container-id-2 div.sk-item {position: relative;z-index: 1;}#sk-container-id-2 div.sk-parallel {display: flex;align-items: stretch;justify-content: center;background-color: white;position: relative;}#sk-container-id-2 div.sk-item::before, #sk-container-id-2 div.sk-parallel-item::before {content: \"\";position: absolute;border-left: 1px solid gray;box-sizing: border-box;top: 0;bottom: 0;left: 50%;z-index: -1;}#sk-container-id-2 div.sk-parallel-item {display: flex;flex-direction: column;z-index: 1;position: relative;background-color: white;}#sk-container-id-2 div.sk-parallel-item:first-child::after {align-self: flex-end;width: 50%;}#sk-container-id-2 div.sk-parallel-item:last-child::after {align-self: flex-start;width: 50%;}#sk-container-id-2 div.sk-parallel-item:only-child::after {width: 0;}#sk-container-id-2 div.sk-dashed-wrapped {border: 1px dashed gray;margin: 0 0.4em 0.5em 0.4em;box-sizing: border-box;padding-bottom: 0.4em;background-color: white;}#sk-container-id-2 div.sk-label label {font-family: monospace;font-weight: bold;display: inline-block;line-height: 1.2em;}#sk-container-id-2 div.sk-label-container {text-align: center;}#sk-container-id-2 div.sk-container {/* jupyter's `normalize.less` sets `[hidden] { display: none; }` but bootstrap.min.css set `[hidden] { display: none !important; }` so we also need the `!important` here to be able to override the default hidden behavior on the sphinx rendered scikit-learn.org. See: https://github.com/scikit-learn/scikit-learn/issues/21755 */display: inline-block !important;position: relative;}#sk-container-id-2 div.sk-text-repr-fallback {display: none;}</style><div id=\"sk-container-id-2\" class=\"sk-top-container\"><div class=\"sk-text-repr-fallback\"><pre>LinearRegression()</pre><b>In a Jupyter environment, please rerun this cell to show the HTML representation or trust the notebook. <br />On GitHub, the HTML representation is unable to render, please try loading this page with nbviewer.org.</b></div><div class=\"sk-container\" hidden><div class=\"sk-item\"><div class=\"sk-estimator sk-toggleable\"><input class=\"sk-toggleable__control sk-hidden--visually\" id=\"sk-estimator-id-2\" type=\"checkbox\" checked><label for=\"sk-estimator-id-2\" class=\"sk-toggleable__label sk-toggleable__label-arrow\">LinearRegression</label><div class=\"sk-toggleable__content\"><pre>LinearRegression()</pre></div></div></div></div></div>"
      ],
      "text/plain": [
       "LinearRegression()"
      ]
     },
     "execution_count": 40,
     "metadata": {},
     "output_type": "execute_result"
    }
   ],
   "source": [
    "# 모델 학습\n",
    "model.fit(X_train, y_train) # 이때 X_train에는 확장된 LSTAT 컬럼 추가"
   ]
  },
  {
   "cell_type": "code",
   "execution_count": 41,
   "id": "62195f1a",
   "metadata": {},
   "outputs": [
    {
     "data": {
      "text/plain": [
       "0.7734457360506529"
      ]
     },
     "execution_count": 41,
     "metadata": {},
     "output_type": "execute_result"
    }
   ],
   "source": [
    "# 모델 평가 - score\n",
    "model.score(X_test, y_test)"
   ]
  },
  {
   "cell_type": "code",
   "execution_count": 42,
   "id": "8e833a11",
   "metadata": {},
   "outputs": [
    {
     "data": {
      "text/html": [
       "<div>\n",
       "<style scoped>\n",
       "    .dataframe tbody tr th:only-of-type {\n",
       "        vertical-align: middle;\n",
       "    }\n",
       "\n",
       "    .dataframe tbody tr th {\n",
       "        vertical-align: top;\n",
       "    }\n",
       "\n",
       "    .dataframe thead th {\n",
       "        text-align: right;\n",
       "    }\n",
       "</style>\n",
       "<table border=\"1\" class=\"dataframe\">\n",
       "  <thead>\n",
       "    <tr style=\"text-align: right;\">\n",
       "      <th></th>\n",
       "      <th>CRIM</th>\n",
       "      <th>ZN</th>\n",
       "      <th>INDUS</th>\n",
       "      <th>CHAS</th>\n",
       "      <th>NOX</th>\n",
       "      <th>RM</th>\n",
       "      <th>AGE</th>\n",
       "      <th>DIS</th>\n",
       "      <th>RAD</th>\n",
       "      <th>TAX</th>\n",
       "      <th>PTRATIO</th>\n",
       "      <th>B</th>\n",
       "      <th>LSTAT</th>\n",
       "      <th>LSTAT x LSTAT</th>\n",
       "    </tr>\n",
       "  </thead>\n",
       "  <tbody>\n",
       "    <tr>\n",
       "      <th>CRIM</th>\n",
       "      <td>1.000000</td>\n",
       "      <td>-0.205413</td>\n",
       "      <td>0.399643</td>\n",
       "      <td>-0.041852</td>\n",
       "      <td>0.402031</td>\n",
       "      <td>-0.210556</td>\n",
       "      <td>0.336697</td>\n",
       "      <td>-0.371149</td>\n",
       "      <td>0.622745</td>\n",
       "      <td>0.582164</td>\n",
       "      <td>0.296443</td>\n",
       "      <td>-0.304734</td>\n",
       "      <td>0.409681</td>\n",
       "      <td>0.393592</td>\n",
       "    </tr>\n",
       "    <tr>\n",
       "      <th>ZN</th>\n",
       "      <td>-0.205413</td>\n",
       "      <td>1.000000</td>\n",
       "      <td>-0.544907</td>\n",
       "      <td>-0.031898</td>\n",
       "      <td>-0.527921</td>\n",
       "      <td>0.299282</td>\n",
       "      <td>-0.583271</td>\n",
       "      <td>0.672752</td>\n",
       "      <td>-0.318947</td>\n",
       "      <td>-0.306276</td>\n",
       "      <td>-0.375349</td>\n",
       "      <td>0.172134</td>\n",
       "      <td>-0.393315</td>\n",
       "      <td>-0.313641</td>\n",
       "    </tr>\n",
       "    <tr>\n",
       "      <th>INDUS</th>\n",
       "      <td>0.399643</td>\n",
       "      <td>-0.544907</td>\n",
       "      <td>1.000000</td>\n",
       "      <td>0.074533</td>\n",
       "      <td>0.764135</td>\n",
       "      <td>-0.407417</td>\n",
       "      <td>0.635749</td>\n",
       "      <td>-0.700550</td>\n",
       "      <td>0.579284</td>\n",
       "      <td>0.702541</td>\n",
       "      <td>0.362794</td>\n",
       "      <td>-0.333391</td>\n",
       "      <td>0.578976</td>\n",
       "      <td>0.510181</td>\n",
       "    </tr>\n",
       "    <tr>\n",
       "      <th>CHAS</th>\n",
       "      <td>-0.041852</td>\n",
       "      <td>-0.031898</td>\n",
       "      <td>0.074533</td>\n",
       "      <td>1.000000</td>\n",
       "      <td>0.100199</td>\n",
       "      <td>0.139175</td>\n",
       "      <td>0.083140</td>\n",
       "      <td>-0.110392</td>\n",
       "      <td>0.047212</td>\n",
       "      <td>0.012041</td>\n",
       "      <td>-0.087582</td>\n",
       "      <td>0.071473</td>\n",
       "      <td>-0.103874</td>\n",
       "      <td>-0.085570</td>\n",
       "    </tr>\n",
       "    <tr>\n",
       "      <th>NOX</th>\n",
       "      <td>0.402031</td>\n",
       "      <td>-0.527921</td>\n",
       "      <td>0.764135</td>\n",
       "      <td>0.100199</td>\n",
       "      <td>1.000000</td>\n",
       "      <td>-0.305756</td>\n",
       "      <td>0.733034</td>\n",
       "      <td>-0.775599</td>\n",
       "      <td>0.595620</td>\n",
       "      <td>0.655932</td>\n",
       "      <td>0.169297</td>\n",
       "      <td>-0.339474</td>\n",
       "      <td>0.581960</td>\n",
       "      <td>0.525167</td>\n",
       "    </tr>\n",
       "    <tr>\n",
       "      <th>RM</th>\n",
       "      <td>-0.210556</td>\n",
       "      <td>0.299282</td>\n",
       "      <td>-0.407417</td>\n",
       "      <td>0.139175</td>\n",
       "      <td>-0.305756</td>\n",
       "      <td>1.000000</td>\n",
       "      <td>-0.227609</td>\n",
       "      <td>0.217510</td>\n",
       "      <td>-0.219261</td>\n",
       "      <td>-0.296173</td>\n",
       "      <td>-0.345720</td>\n",
       "      <td>0.122512</td>\n",
       "      <td>-0.618609</td>\n",
       "      <td>-0.538245</td>\n",
       "    </tr>\n",
       "    <tr>\n",
       "      <th>AGE</th>\n",
       "      <td>0.336697</td>\n",
       "      <td>-0.583271</td>\n",
       "      <td>0.635749</td>\n",
       "      <td>0.083140</td>\n",
       "      <td>0.733034</td>\n",
       "      <td>-0.227609</td>\n",
       "      <td>1.000000</td>\n",
       "      <td>-0.753570</td>\n",
       "      <td>0.425143</td>\n",
       "      <td>0.475100</td>\n",
       "      <td>0.230440</td>\n",
       "      <td>-0.248012</td>\n",
       "      <td>0.550824</td>\n",
       "      <td>0.482233</td>\n",
       "    </tr>\n",
       "    <tr>\n",
       "      <th>DIS</th>\n",
       "      <td>-0.371149</td>\n",
       "      <td>0.672752</td>\n",
       "      <td>-0.700550</td>\n",
       "      <td>-0.110392</td>\n",
       "      <td>-0.775599</td>\n",
       "      <td>0.217510</td>\n",
       "      <td>-0.753570</td>\n",
       "      <td>1.000000</td>\n",
       "      <td>-0.476497</td>\n",
       "      <td>-0.523633</td>\n",
       "      <td>-0.218248</td>\n",
       "      <td>0.269588</td>\n",
       "      <td>-0.474187</td>\n",
       "      <td>-0.426050</td>\n",
       "    </tr>\n",
       "    <tr>\n",
       "      <th>RAD</th>\n",
       "      <td>0.622745</td>\n",
       "      <td>-0.318947</td>\n",
       "      <td>0.579284</td>\n",
       "      <td>0.047212</td>\n",
       "      <td>0.595620</td>\n",
       "      <td>-0.219261</td>\n",
       "      <td>0.425143</td>\n",
       "      <td>-0.476497</td>\n",
       "      <td>1.000000</td>\n",
       "      <td>0.909381</td>\n",
       "      <td>0.481114</td>\n",
       "      <td>-0.403437</td>\n",
       "      <td>0.473225</td>\n",
       "      <td>0.430684</td>\n",
       "    </tr>\n",
       "    <tr>\n",
       "      <th>TAX</th>\n",
       "      <td>0.582164</td>\n",
       "      <td>-0.306276</td>\n",
       "      <td>0.702541</td>\n",
       "      <td>0.012041</td>\n",
       "      <td>0.655932</td>\n",
       "      <td>-0.296173</td>\n",
       "      <td>0.475100</td>\n",
       "      <td>-0.523633</td>\n",
       "      <td>0.909381</td>\n",
       "      <td>1.000000</td>\n",
       "      <td>0.465101</td>\n",
       "      <td>-0.407992</td>\n",
       "      <td>0.525003</td>\n",
       "      <td>0.476011</td>\n",
       "    </tr>\n",
       "    <tr>\n",
       "      <th>PTRATIO</th>\n",
       "      <td>0.296443</td>\n",
       "      <td>-0.375349</td>\n",
       "      <td>0.362794</td>\n",
       "      <td>-0.087582</td>\n",
       "      <td>0.169297</td>\n",
       "      <td>-0.345720</td>\n",
       "      <td>0.230440</td>\n",
       "      <td>-0.218248</td>\n",
       "      <td>0.481114</td>\n",
       "      <td>0.465101</td>\n",
       "      <td>1.000000</td>\n",
       "      <td>-0.169999</td>\n",
       "      <td>0.361428</td>\n",
       "      <td>0.293717</td>\n",
       "    </tr>\n",
       "    <tr>\n",
       "      <th>B</th>\n",
       "      <td>-0.304734</td>\n",
       "      <td>0.172134</td>\n",
       "      <td>-0.333391</td>\n",
       "      <td>0.071473</td>\n",
       "      <td>-0.339474</td>\n",
       "      <td>0.122512</td>\n",
       "      <td>-0.248012</td>\n",
       "      <td>0.269588</td>\n",
       "      <td>-0.403437</td>\n",
       "      <td>-0.407992</td>\n",
       "      <td>-0.169999</td>\n",
       "      <td>1.000000</td>\n",
       "      <td>-0.324208</td>\n",
       "      <td>-0.287505</td>\n",
       "    </tr>\n",
       "    <tr>\n",
       "      <th>LSTAT</th>\n",
       "      <td>0.409681</td>\n",
       "      <td>-0.393315</td>\n",
       "      <td>0.578976</td>\n",
       "      <td>-0.103874</td>\n",
       "      <td>0.581960</td>\n",
       "      <td>-0.618609</td>\n",
       "      <td>0.550824</td>\n",
       "      <td>-0.474187</td>\n",
       "      <td>0.473225</td>\n",
       "      <td>0.525003</td>\n",
       "      <td>0.361428</td>\n",
       "      <td>-0.324208</td>\n",
       "      <td>1.000000</td>\n",
       "      <td>0.959789</td>\n",
       "    </tr>\n",
       "    <tr>\n",
       "      <th>LSTAT x LSTAT</th>\n",
       "      <td>0.393592</td>\n",
       "      <td>-0.313641</td>\n",
       "      <td>0.510181</td>\n",
       "      <td>-0.085570</td>\n",
       "      <td>0.525167</td>\n",
       "      <td>-0.538245</td>\n",
       "      <td>0.482233</td>\n",
       "      <td>-0.426050</td>\n",
       "      <td>0.430684</td>\n",
       "      <td>0.476011</td>\n",
       "      <td>0.293717</td>\n",
       "      <td>-0.287505</td>\n",
       "      <td>0.959789</td>\n",
       "      <td>1.000000</td>\n",
       "    </tr>\n",
       "  </tbody>\n",
       "</table>\n",
       "</div>"
      ],
      "text/plain": [
       "                   CRIM        ZN     INDUS      CHAS       NOX        RM  \\\n",
       "CRIM           1.000000 -0.205413  0.399643 -0.041852  0.402031 -0.210556   \n",
       "ZN            -0.205413  1.000000 -0.544907 -0.031898 -0.527921  0.299282   \n",
       "INDUS          0.399643 -0.544907  1.000000  0.074533  0.764135 -0.407417   \n",
       "CHAS          -0.041852 -0.031898  0.074533  1.000000  0.100199  0.139175   \n",
       "NOX            0.402031 -0.527921  0.764135  0.100199  1.000000 -0.305756   \n",
       "RM            -0.210556  0.299282 -0.407417  0.139175 -0.305756  1.000000   \n",
       "AGE            0.336697 -0.583271  0.635749  0.083140  0.733034 -0.227609   \n",
       "DIS           -0.371149  0.672752 -0.700550 -0.110392 -0.775599  0.217510   \n",
       "RAD            0.622745 -0.318947  0.579284  0.047212  0.595620 -0.219261   \n",
       "TAX            0.582164 -0.306276  0.702541  0.012041  0.655932 -0.296173   \n",
       "PTRATIO        0.296443 -0.375349  0.362794 -0.087582  0.169297 -0.345720   \n",
       "B             -0.304734  0.172134 -0.333391  0.071473 -0.339474  0.122512   \n",
       "LSTAT          0.409681 -0.393315  0.578976 -0.103874  0.581960 -0.618609   \n",
       "LSTAT x LSTAT  0.393592 -0.313641  0.510181 -0.085570  0.525167 -0.538245   \n",
       "\n",
       "                    AGE       DIS       RAD       TAX   PTRATIO         B  \\\n",
       "CRIM           0.336697 -0.371149  0.622745  0.582164  0.296443 -0.304734   \n",
       "ZN            -0.583271  0.672752 -0.318947 -0.306276 -0.375349  0.172134   \n",
       "INDUS          0.635749 -0.700550  0.579284  0.702541  0.362794 -0.333391   \n",
       "CHAS           0.083140 -0.110392  0.047212  0.012041 -0.087582  0.071473   \n",
       "NOX            0.733034 -0.775599  0.595620  0.655932  0.169297 -0.339474   \n",
       "RM            -0.227609  0.217510 -0.219261 -0.296173 -0.345720  0.122512   \n",
       "AGE            1.000000 -0.753570  0.425143  0.475100  0.230440 -0.248012   \n",
       "DIS           -0.753570  1.000000 -0.476497 -0.523633 -0.218248  0.269588   \n",
       "RAD            0.425143 -0.476497  1.000000  0.909381  0.481114 -0.403437   \n",
       "TAX            0.475100 -0.523633  0.909381  1.000000  0.465101 -0.407992   \n",
       "PTRATIO        0.230440 -0.218248  0.481114  0.465101  1.000000 -0.169999   \n",
       "B             -0.248012  0.269588 -0.403437 -0.407992 -0.169999  1.000000   \n",
       "LSTAT          0.550824 -0.474187  0.473225  0.525003  0.361428 -0.324208   \n",
       "LSTAT x LSTAT  0.482233 -0.426050  0.430684  0.476011  0.293717 -0.287505   \n",
       "\n",
       "                  LSTAT  LSTAT x LSTAT  \n",
       "CRIM           0.409681       0.393592  \n",
       "ZN            -0.393315      -0.313641  \n",
       "INDUS          0.578976       0.510181  \n",
       "CHAS          -0.103874      -0.085570  \n",
       "NOX            0.581960       0.525167  \n",
       "RM            -0.618609      -0.538245  \n",
       "AGE            0.550824       0.482233  \n",
       "DIS           -0.474187      -0.426050  \n",
       "RAD            0.473225       0.430684  \n",
       "TAX            0.525003       0.476011  \n",
       "PTRATIO        0.361428       0.293717  \n",
       "B             -0.324208      -0.287505  \n",
       "LSTAT          1.000000       0.959789  \n",
       "LSTAT x LSTAT  0.959789       1.000000  "
      ]
     },
     "execution_count": 42,
     "metadata": {},
     "output_type": "execute_result"
    }
   ],
   "source": [
    "X_train.corr()"
   ]
  },
  {
   "cell_type": "code",
   "execution_count": 43,
   "id": "9be2e12a",
   "metadata": {},
   "outputs": [
    {
     "data": {
      "image/png": "[encoded data removed]",
      "text/plain": [
       "<Figure size 640x480 with 1 Axes>"
      ]
     },
     "metadata": {},
     "output_type": "display_data"
    }
   ],
   "source": [
    "# 특성 확장 하나 더 추가\n",
    "# 특성 확장 후 : 본래 RM 특성과 확장 RM 특성을 가지고 학습 시킨 후 예측을 어떻게 하는지 보자\n",
    "\n",
    "# 모델 학습\n",
    "model = LinearRegression()\n",
    "model.fit(X_train[['RM']], y_train)\n",
    "pre = model.predict(X_train[['RM']])\n",
    "\n",
    "# 차트 그려보기\n",
    "plt.scatter(X_train['RM'], y_train)\n",
    "plt.scatter(X_train['RM'], pre, color='red')\n",
    "plt.show()"
   ]
  },
  {
   "cell_type": "code",
   "execution_count": 44,
   "id": "a030d411",
   "metadata": {},
   "outputs": [
    {
     "data": {
      "image/png": "[encoded data removed]",
      "text/plain": [
       "<Figure size 640x480 with 1 Axes>"
      ]
     },
     "metadata": {},
     "output_type": "display_data"
    }
   ],
   "source": [
    "# 특성 확장 후 : 본래 RM 특성과 확장 RM 특성을 가지고 학습 시킨 후 예측을 어떻게 하는지 보자\n",
    "X_train['RM x RM'] = X_train['RM']*X_train['RM']\n",
    "# 모델 학습\n",
    "model2 = LinearRegression()\n",
    "model2.fit(X_train[['RM', 'RM x RM']], y_train)\n",
    "pre = model2.predict(X_train[['RM', 'RM x RM']])\n",
    "\n",
    "# 차트 그려보기\n",
    "plt.scatter(X_train['RM'], y_train)\n",
    "plt.scatter(X_train['RM'], pre, color='red')\n",
    "plt.show()"
   ]
  },
  {
   "cell_type": "code",
   "execution_count": 45,
   "id": "d46cfb98",
   "metadata": {},
   "outputs": [
    {
     "name": "stdout",
     "output_type": "stream",
     "text": [
      "<class 'pandas.core.frame.DataFrame'>\n",
      "Int64Index: 354 entries, 5 to 102\n",
      "Data columns (total 15 columns):\n",
      " #   Column         Non-Null Count  Dtype  \n",
      "---  ------         --------------  -----  \n",
      " 0   CRIM           354 non-null    float64\n",
      " 1   ZN             354 non-null    float64\n",
      " 2   INDUS          354 non-null    float64\n",
      " 3   CHAS           354 non-null    float64\n",
      " 4   NOX            354 non-null    float64\n",
      " 5   RM             354 non-null    float64\n",
      " 6   AGE            354 non-null    float64\n",
      " 7   DIS            354 non-null    float64\n",
      " 8   RAD            354 non-null    float64\n",
      " 9   TAX            354 non-null    float64\n",
      " 10  PTRATIO        354 non-null    float64\n",
      " 11  B              354 non-null    float64\n",
      " 12  LSTAT          354 non-null    float64\n",
      " 13  LSTAT x LSTAT  354 non-null    float64\n",
      " 14  RM x RM        354 non-null    float64\n",
      "dtypes: float64(15)\n",
      "memory usage: 44.2 KB\n"
     ]
    }
   ],
   "source": [
    "# RM특성 확장해서 실제 평가까지 진행\n",
    "X_train.info()"
   ]
  },
  {
   "cell_type": "code",
   "execution_count": 48,
   "id": "feeda9fb",
   "metadata": {},
   "outputs": [
    {
     "name": "stdout",
     "output_type": "stream",
     "text": [
      "<class 'pandas.core.frame.DataFrame'>\n",
      "Int64Index: 152 entries, 173 to 447\n",
      "Data columns (total 15 columns):\n",
      " #   Column         Non-Null Count  Dtype  \n",
      "---  ------         --------------  -----  \n",
      " 0   CRIM           152 non-null    float64\n",
      " 1   ZN             152 non-null    float64\n",
      " 2   INDUS          152 non-null    float64\n",
      " 3   CHAS           152 non-null    float64\n",
      " 4   NOX            152 non-null    float64\n",
      " 5   RM             152 non-null    float64\n",
      " 6   AGE            152 non-null    float64\n",
      " 7   DIS            152 non-null    float64\n",
      " 8   RAD            152 non-null    float64\n",
      " 9   TAX            152 non-null    float64\n",
      " 10  PTRATIO        152 non-null    float64\n",
      " 11  B              152 non-null    float64\n",
      " 12  LSTAT          152 non-null    float64\n",
      " 13  LSTAT x LSTAT  152 non-null    float64\n",
      " 14  RM x RM        152 non-null    float64\n",
      "dtypes: float64(15)\n",
      "memory usage: 19.0 KB\n"
     ]
    }
   ],
   "source": [
    "X_test.info()"
   ]
  },
  {
   "cell_type": "code",
   "execution_count": 47,
   "id": "d65a3aa6",
   "metadata": {},
   "outputs": [],
   "source": [
    "# X_test에도 확장 RM을 추가 시켜줘보자\n",
    "X_test['RM x RM'] = X_test['RM'] * X_test['RM']"
   ]
  },
  {
   "cell_type": "code",
   "execution_count": 49,
   "id": "ccfdafe6",
   "metadata": {},
   "outputs": [],
   "source": [
    "# 모델 제작\n",
    "model = LinearRegression()"
   ]
  },
  {
   "cell_type": "code",
   "execution_count": 50,
   "id": "fa49812d",
   "metadata": {},
   "outputs": [
    {
     "data": {
      "text/html": [
       "<style>#sk-container-id-3 {color: black;background-color: white;}#sk-container-id-3 pre{padding: 0;}#sk-container-id-3 div.sk-toggleable {background-color: white;}#sk-container-id-3 label.sk-toggleable__label {cursor: pointer;display: block;width: 100%;margin-bottom: 0;padding: 0.3em;box-sizing: border-box;text-align: center;}#sk-container-id-3 label.sk-toggleable__label-arrow:before {content: \"▸\";float: left;margin-right: 0.25em;color: #696969;}#sk-container-id-3 label.sk-toggleable__label-arrow:hover:before {color: black;}#sk-container-id-3 div.sk-estimator:hover label.sk-toggleable__label-arrow:before {color: black;}#sk-container-id-3 div.sk-toggleable__content {max-height: 0;max-width: 0;overflow: hidden;text-align: left;background-color: #f0f8ff;}#sk-container-id-3 div.sk-toggleable__content pre {margin: 0.2em;color: black;border-radius: 0.25em;background-color: #f0f8ff;}#sk-container-id-3 input.sk-toggleable__control:checked~div.sk-toggleable__content {max-height: 200px;max-width: 100%;overflow: auto;}#sk-container-id-3 input.sk-toggleable__control:checked~label.sk-toggleable__label-arrow:before {content: \"▾\";}#sk-container-id-3 div.sk-estimator input.sk-toggleable__control:checked~label.sk-toggleable__label {background-color: #d4ebff;}#sk-container-id-3 div.sk-label input.sk-toggleable__control:checked~label.sk-toggleable__label {background-color: #d4ebff;}#sk-container-id-3 input.sk-hidden--visually {border: 0;clip: rect(1px 1px 1px 1px);clip: rect(1px, 1px, 1px, 1px);height: 1px;margin: -1px;overflow: hidden;padding: 0;position: absolute;width: 1px;}#sk-container-id-3 div.sk-estimator {font-family: monospace;background-color: #f0f8ff;border: 1px dotted black;border-radius: 0.25em;box-sizing: border-box;margin-bottom: 0.5em;}#sk-container-id-3 div.sk-estimator:hover {background-color: #d4ebff;}#sk-container-id-3 div.sk-parallel-item::after {content: \"\";width: 100%;border-bottom: 1px solid gray;flex-grow: 1;}#sk-container-id-3 div.sk-label:hover label.sk-toggleable__label {background-color: #d4ebff;}#sk-container-id-3 div.sk-serial::before {content: \"\";position: absolute;border-left: 1px solid gray;box-sizing: border-box;top: 0;bottom: 0;left: 50%;z-index: 0;}#sk-container-id-3 div.sk-serial {display: flex;flex-direction: column;align-items: center;background-color: white;padding-right: 0.2em;padding-left: 0.2em;position: relative;}#sk-container-id-3 div.sk-item {position: relative;z-index: 1;}#sk-container-id-3 div.sk-parallel {display: flex;align-items: stretch;justify-content: center;background-color: white;position: relative;}#sk-container-id-3 div.sk-item::before, #sk-container-id-3 div.sk-parallel-item::before {content: \"\";position: absolute;border-left: 1px solid gray;box-sizing: border-box;top: 0;bottom: 0;left: 50%;z-index: -1;}#sk-container-id-3 div.sk-parallel-item {display: flex;flex-direction: column;z-index: 1;position: relative;background-color: white;}#sk-container-id-3 div.sk-parallel-item:first-child::after {align-self: flex-end;width: 50%;}#sk-container-id-3 div.sk-parallel-item:last-child::after {align-self: flex-start;width: 50%;}#sk-container-id-3 div.sk-parallel-item:only-child::after {width: 0;}#sk-container-id-3 div.sk-dashed-wrapped {border: 1px dashed gray;margin: 0 0.4em 0.5em 0.4em;box-sizing: border-box;padding-bottom: 0.4em;background-color: white;}#sk-container-id-3 div.sk-label label {font-family: monospace;font-weight: bold;display: inline-block;line-height: 1.2em;}#sk-container-id-3 div.sk-label-container {text-align: center;}#sk-container-id-3 div.sk-container {/* jupyter's `normalize.less` sets `[hidden] { display: none; }` but bootstrap.min.css set `[hidden] { display: none !important; }` so we also need the `!important` here to be able to override the default hidden behavior on the sphinx rendered scikit-learn.org. See: https://github.com/scikit-learn/scikit-learn/issues/21755 */display: inline-block !important;position: relative;}#sk-container-id-3 div.sk-text-repr-fallback {display: none;}</style><div id=\"sk-container-id-3\" class=\"sk-top-container\"><div class=\"sk-text-repr-fallback\"><pre>LinearRegression()</pre><b>In a Jupyter environment, please rerun this cell to show the HTML representation or trust the notebook. <br />On GitHub, the HTML representation is unable to render, please try loading this page with nbviewer.org.</b></div><div class=\"sk-container\" hidden><div class=\"sk-item\"><div class=\"sk-estimator sk-toggleable\"><input class=\"sk-toggleable__control sk-hidden--visually\" id=\"sk-estimator-id-3\" type=\"checkbox\" checked><label for=\"sk-estimator-id-3\" class=\"sk-toggleable__label sk-toggleable__label-arrow\">LinearRegression</label><div class=\"sk-toggleable__content\"><pre>LinearRegression()</pre></div></div></div></div></div>"
      ],
      "text/plain": [
       "LinearRegression()"
      ]
     },
     "execution_count": 50,
     "metadata": {},
     "output_type": "execute_result"
    }
   ],
   "source": [
    "# 모델 학습\n",
    "model.fit(X_train, y_train) # 이때 X_train에는 확장된 LSTAT, RM 컬럼 추가"
   ]
  },
  {
   "cell_type": "code",
   "execution_count": 51,
   "id": "1953fc68",
   "metadata": {},
   "outputs": [
    {
     "data": {
      "text/plain": [
       "0.8152019190614918"
      ]
     },
     "execution_count": 51,
     "metadata": {},
     "output_type": "execute_result"
    }
   ],
   "source": [
    "# 모델 평가 - score\n",
    "model.score(X_test, y_test)"
   ]
  },
  {
   "cell_type": "markdown",
   "id": "e4d6b4a6",
   "metadata": {},
   "source": [
    "- 정리\n",
    "    - 특성확장을 진행해서 선형회귀 모델의 성능이 개선된 것을 확인했다.\n",
    "    - 기존에는 LSTAT과 RM이라는 컬럼만 특성확장을 진행\n",
    "    - 전체 컬럼을 가지고 특성 확장을 진행하면 성능이 좋아지지 않을까?"
   ]
  },
  {
   "cell_type": "code",
   "execution_count": 53,
   "id": "5ed45a7e",
   "metadata": {},
   "outputs": [],
   "source": [
    "X_train.drop(['LSTAT x LSTAT', \"RM x RM\"], axis=1, inplace=True)\n",
    "X_test.drop(['LSTAT x LSTAT', \"RM x RM\"], axis=1, inplace=True)"
   ]
  },
  {
   "cell_type": "code",
   "execution_count": 54,
   "id": "c82f7f1e",
   "metadata": {},
   "outputs": [
    {
     "name": "stdout",
     "output_type": "stream",
     "text": [
      "<class 'pandas.core.frame.DataFrame'>\n",
      "Int64Index: 354 entries, 5 to 102\n",
      "Data columns (total 13 columns):\n",
      " #   Column   Non-Null Count  Dtype  \n",
      "---  ------   --------------  -----  \n",
      " 0   CRIM     354 non-null    float64\n",
      " 1   ZN       354 non-null    float64\n",
      " 2   INDUS    354 non-null    float64\n",
      " 3   CHAS     354 non-null    float64\n",
      " 4   NOX      354 non-null    float64\n",
      " 5   RM       354 non-null    float64\n",
      " 6   AGE      354 non-null    float64\n",
      " 7   DIS      354 non-null    float64\n",
      " 8   RAD      354 non-null    float64\n",
      " 9   TAX      354 non-null    float64\n",
      " 10  PTRATIO  354 non-null    float64\n",
      " 11  B        354 non-null    float64\n",
      " 12  LSTAT    354 non-null    float64\n",
      "dtypes: float64(13)\n",
      "memory usage: 38.7 KB\n"
     ]
    }
   ],
   "source": [
    "X_train.info()"
   ]
  },
  {
   "cell_type": "code",
   "execution_count": 55,
   "id": "29f45b43",
   "metadata": {},
   "outputs": [
    {
     "name": "stdout",
     "output_type": "stream",
     "text": [
      "<class 'pandas.core.frame.DataFrame'>\n",
      "Int64Index: 152 entries, 173 to 447\n",
      "Data columns (total 13 columns):\n",
      " #   Column   Non-Null Count  Dtype  \n",
      "---  ------   --------------  -----  \n",
      " 0   CRIM     152 non-null    float64\n",
      " 1   ZN       152 non-null    float64\n",
      " 2   INDUS    152 non-null    float64\n",
      " 3   CHAS     152 non-null    float64\n",
      " 4   NOX      152 non-null    float64\n",
      " 5   RM       152 non-null    float64\n",
      " 6   AGE      152 non-null    float64\n",
      " 7   DIS      152 non-null    float64\n",
      " 8   RAD      152 non-null    float64\n",
      " 9   TAX      152 non-null    float64\n",
      " 10  PTRATIO  152 non-null    float64\n",
      " 11  B        152 non-null    float64\n",
      " 12  LSTAT    152 non-null    float64\n",
      "dtypes: float64(13)\n",
      "memory usage: 16.6 KB\n"
     ]
    }
   ],
   "source": [
    "X_test.info()"
   ]
  },
  {
   "cell_type": "code",
   "execution_count": 56,
   "id": "873eebd1",
   "metadata": {},
   "outputs": [],
   "source": [
    "X_train_copy2 = X_train.copy()"
   ]
  },
  {
   "cell_type": "code",
   "execution_count": 57,
   "id": "a9c69294",
   "metadata": {},
   "outputs": [],
   "source": [
    "import warnings\n",
    "warnings.filterwarnings('ignore')"
   ]
  },
  {
   "cell_type": "code",
   "execution_count": 61,
   "id": "f6e5f233",
   "metadata": {},
   "outputs": [],
   "source": [
    "for col1 in X_train.columns:\n",
    "    for col2 in X_train.columns :\n",
    "        X_train_copy2[col1+'x'+col2] = X_train[col1] * X_train[col2]"
   ]
  },
  {
   "cell_type": "code",
   "execution_count": 62,
   "id": "aae09e7e",
   "metadata": {},
   "outputs": [
    {
     "name": "stdout",
     "output_type": "stream",
     "text": [
      "<class 'pandas.core.frame.DataFrame'>\n",
      "Int64Index: 354 entries, 5 to 102\n",
      "Columns: 182 entries, CRIM to LSTATxLSTAT\n",
      "dtypes: float64(182)\n",
      "memory usage: 506.1 KB\n"
     ]
    }
   ],
   "source": [
    "X_train_copy2.info()"
   ]
  },
  {
   "cell_type": "code",
   "execution_count": 63,
   "id": "30a0652f",
   "metadata": {},
   "outputs": [
    {
     "name": "stdout",
     "output_type": "stream",
     "text": [
      "<class 'pandas.core.frame.DataFrame'>\n",
      "Int64Index: 152 entries, 173 to 447\n",
      "Columns: 182 entries, CRIM to LSTATxLSTAT\n",
      "dtypes: float64(182)\n",
      "memory usage: 217.3 KB\n"
     ]
    }
   ],
   "source": [
    "X_test_copy2 = X_test.copy()\n",
    "\n",
    "for col1 in X_test.columns:\n",
    "    for col2 in X_test.columns :\n",
    "        X_test_copy2[col1+'x'+col2] = X_test[col1] * X_test[col2]\n",
    "X_test_copy2.info()"
   ]
  },
  {
   "cell_type": "code",
   "execution_count": 64,
   "id": "92c9c4e7",
   "metadata": {},
   "outputs": [],
   "source": [
    "model = LinearRegression()"
   ]
  },
  {
   "cell_type": "code",
   "execution_count": 70,
   "id": "f0ba5069",
   "metadata": {},
   "outputs": [
    {
     "data": {
      "text/plain": [
       "5      28.7\n",
       "116    21.2\n",
       "45     19.3\n",
       "16     23.1\n",
       "468    19.1\n",
       "       ... \n",
       "106    19.5\n",
       "270    21.1\n",
       "348    24.5\n",
       "435    13.4\n",
       "102    18.6\n",
       "Name: MEDV, Length: 354, dtype: float64"
      ]
     },
     "execution_count": 70,
     "metadata": {},
     "output_type": "execute_result"
    }
   ],
   "source": [
    "y_train"
   ]
  },
  {
   "cell_type": "code",
   "execution_count": 71,
   "id": "d57cd90a",
   "metadata": {},
   "outputs": [
    {
     "data": {
      "text/html": [
       "<style>#sk-container-id-4 {color: black;background-color: white;}#sk-container-id-4 pre{padding: 0;}#sk-container-id-4 div.sk-toggleable {background-color: white;}#sk-container-id-4 label.sk-toggleable__label {cursor: pointer;display: block;width: 100%;margin-bottom: 0;padding: 0.3em;box-sizing: border-box;text-align: center;}#sk-container-id-4 label.sk-toggleable__label-arrow:before {content: \"▸\";float: left;margin-right: 0.25em;color: #696969;}#sk-container-id-4 label.sk-toggleable__label-arrow:hover:before {color: black;}#sk-container-id-4 div.sk-estimator:hover label.sk-toggleable__label-arrow:before {color: black;}#sk-container-id-4 div.sk-toggleable__content {max-height: 0;max-width: 0;overflow: hidden;text-align: left;background-color: #f0f8ff;}#sk-container-id-4 div.sk-toggleable__content pre {margin: 0.2em;color: black;border-radius: 0.25em;background-color: #f0f8ff;}#sk-container-id-4 input.sk-toggleable__control:checked~div.sk-toggleable__content {max-height: 200px;max-width: 100%;overflow: auto;}#sk-container-id-4 input.sk-toggleable__control:checked~label.sk-toggleable__label-arrow:before {content: \"▾\";}#sk-container-id-4 div.sk-estimator input.sk-toggleable__control:checked~label.sk-toggleable__label {background-color: #d4ebff;}#sk-container-id-4 div.sk-label input.sk-toggleable__control:checked~label.sk-toggleable__label {background-color: #d4ebff;}#sk-container-id-4 input.sk-hidden--visually {border: 0;clip: rect(1px 1px 1px 1px);clip: rect(1px, 1px, 1px, 1px);height: 1px;margin: -1px;overflow: hidden;padding: 0;position: absolute;width: 1px;}#sk-container-id-4 div.sk-estimator {font-family: monospace;background-color: #f0f8ff;border: 1px dotted black;border-radius: 0.25em;box-sizing: border-box;margin-bottom: 0.5em;}#sk-container-id-4 div.sk-estimator:hover {background-color: #d4ebff;}#sk-container-id-4 div.sk-parallel-item::after {content: \"\";width: 100%;border-bottom: 1px solid gray;flex-grow: 1;}#sk-container-id-4 div.sk-label:hover label.sk-toggleable__label {background-color: #d4ebff;}#sk-container-id-4 div.sk-serial::before {content: \"\";position: absolute;border-left: 1px solid gray;box-sizing: border-box;top: 0;bottom: 0;left: 50%;z-index: 0;}#sk-container-id-4 div.sk-serial {display: flex;flex-direction: column;align-items: center;background-color: white;padding-right: 0.2em;padding-left: 0.2em;position: relative;}#sk-container-id-4 div.sk-item {position: relative;z-index: 1;}#sk-container-id-4 div.sk-parallel {display: flex;align-items: stretch;justify-content: center;background-color: white;position: relative;}#sk-container-id-4 div.sk-item::before, #sk-container-id-4 div.sk-parallel-item::before {content: \"\";position: absolute;border-left: 1px solid gray;box-sizing: border-box;top: 0;bottom: 0;left: 50%;z-index: -1;}#sk-container-id-4 div.sk-parallel-item {display: flex;flex-direction: column;z-index: 1;position: relative;background-color: white;}#sk-container-id-4 div.sk-parallel-item:first-child::after {align-self: flex-end;width: 50%;}#sk-container-id-4 div.sk-parallel-item:last-child::after {align-self: flex-start;width: 50%;}#sk-container-id-4 div.sk-parallel-item:only-child::after {width: 0;}#sk-container-id-4 div.sk-dashed-wrapped {border: 1px dashed gray;margin: 0 0.4em 0.5em 0.4em;box-sizing: border-box;padding-bottom: 0.4em;background-color: white;}#sk-container-id-4 div.sk-label label {font-family: monospace;font-weight: bold;display: inline-block;line-height: 1.2em;}#sk-container-id-4 div.sk-label-container {text-align: center;}#sk-container-id-4 div.sk-container {/* jupyter's `normalize.less` sets `[hidden] { display: none; }` but bootstrap.min.css set `[hidden] { display: none !important; }` so we also need the `!important` here to be able to override the default hidden behavior on the sphinx rendered scikit-learn.org. See: https://github.com/scikit-learn/scikit-learn/issues/21755 */display: inline-block !important;position: relative;}#sk-container-id-4 div.sk-text-repr-fallback {display: none;}</style><div id=\"sk-container-id-4\" class=\"sk-top-container\"><div class=\"sk-text-repr-fallback\"><pre>LinearRegression()</pre><b>In a Jupyter environment, please rerun this cell to show the HTML representation or trust the notebook. <br />On GitHub, the HTML representation is unable to render, please try loading this page with nbviewer.org.</b></div><div class=\"sk-container\" hidden><div class=\"sk-item\"><div class=\"sk-estimator sk-toggleable\"><input class=\"sk-toggleable__control sk-hidden--visually\" id=\"sk-estimator-id-4\" type=\"checkbox\" checked><label for=\"sk-estimator-id-4\" class=\"sk-toggleable__label sk-toggleable__label-arrow\">LinearRegression</label><div class=\"sk-toggleable__content\"><pre>LinearRegression()</pre></div></div></div></div></div>"
      ],
      "text/plain": [
       "LinearRegression()"
      ]
     },
     "execution_count": 71,
     "metadata": {},
     "output_type": "execute_result"
    }
   ],
   "source": [
    "model.fit(X_train_copy2, y_train)"
   ]
  },
  {
   "cell_type": "code",
   "execution_count": 72,
   "id": "eb0c85a3",
   "metadata": {},
   "outputs": [
    {
     "data": {
      "text/plain": [
       "0.6610321970554701"
      ]
     },
     "execution_count": 72,
     "metadata": {},
     "output_type": "execute_result"
    }
   ],
   "source": [
    "model.score(X_test_copy2, y_test)"
   ]
  },
  {
   "cell_type": "code",
   "execution_count": 74,
   "id": "ad02fd24",
   "metadata": {},
   "outputs": [
    {
     "data": {
      "text/plain": [
       "0.9469794920108191"
      ]
     },
     "execution_count": 74,
     "metadata": {},
     "output_type": "execute_result"
    }
   ],
   "source": [
    "model.score(X_train_copy2, y_train)"
   ]
  },
  {
   "cell_type": "markdown",
   "id": "73a8bb55",
   "metadata": {},
   "source": [
    "- 특성 확장을 진행 해봤더니 성능 자체는 올라 간 것처럼 보인다.\n",
    "- 하지만 모델 자체가 복잡해져서 과대적합의 모습을 보이고 있다.\n",
    "- 일반화에는 크게 도움이 된 것 같지 않다."
   ]
  },
  {
   "cell_type": "markdown",
   "id": "28c69cca",
   "metadata": {},
   "source": [
    "### 규제\n",
    "- 선형회귀에서 모델의 일반화를 위해 과적합 상태를 어떻게 제어할 것인가?"
   ]
  },
  {
   "cell_type": "markdown",
   "id": "d70efe69",
   "metadata": {},
   "source": [
    "- L1 Lasso 규제 : 가중치에 똑같은 힘으로 규제를 적용하는 방법. 자동으로 특성선택이 일어남\n",
    "- L2 Ridge 규제 : 모든 가중치에 같은 비율로 규제를 적용하는 방법. 0이 되면 가중치가 없다 -> 비율이라는 방법으로 규제를 적용하기 때문"
   ]
  },
  {
   "cell_type": "markdown",
   "id": "db4a48c1",
   "metadata": {},
   "source": [
    "### Ridge 모델"
   ]
  },
  {
   "cell_type": "code",
   "execution_count": 75,
   "id": "1b958898",
   "metadata": {},
   "outputs": [],
   "source": [
    "# 모델 import\n",
    "from sklearn.linear_model import Ridge"
   ]
  },
  {
   "cell_type": "code",
   "execution_count": 76,
   "id": "6fcad9c2",
   "metadata": {},
   "outputs": [],
   "source": [
    "# 모델 객체 생성\n",
    "# alpha : 규제의 강도를 정해주는 파라미터\n",
    "# alpha가 높아지면 규제 강도가 강해지고 낮아지면 규제 강도가 약화된다\n",
    "ridge_model = Ridge(alpha=100)"
   ]
  },
  {
   "cell_type": "code",
   "execution_count": 77,
   "id": "c075ded1",
   "metadata": {},
   "outputs": [
    {
     "data": {
      "text/html": [
       "<style>#sk-container-id-5 {color: black;background-color: white;}#sk-container-id-5 pre{padding: 0;}#sk-container-id-5 div.sk-toggleable {background-color: white;}#sk-container-id-5 label.sk-toggleable__label {cursor: pointer;display: block;width: 100%;margin-bottom: 0;padding: 0.3em;box-sizing: border-box;text-align: center;}#sk-container-id-5 label.sk-toggleable__label-arrow:before {content: \"▸\";float: left;margin-right: 0.25em;color: #696969;}#sk-container-id-5 label.sk-toggleable__label-arrow:hover:before {color: black;}#sk-container-id-5 div.sk-estimator:hover label.sk-toggleable__label-arrow:before {color: black;}#sk-container-id-5 div.sk-toggleable__content {max-height: 0;max-width: 0;overflow: hidden;text-align: left;background-color: #f0f8ff;}#sk-container-id-5 div.sk-toggleable__content pre {margin: 0.2em;color: black;border-radius: 0.25em;background-color: #f0f8ff;}#sk-container-id-5 input.sk-toggleable__control:checked~div.sk-toggleable__content {max-height: 200px;max-width: 100%;overflow: auto;}#sk-container-id-5 input.sk-toggleable__control:checked~label.sk-toggleable__label-arrow:before {content: \"▾\";}#sk-container-id-5 div.sk-estimator input.sk-toggleable__control:checked~label.sk-toggleable__label {background-color: #d4ebff;}#sk-container-id-5 div.sk-label input.sk-toggleable__control:checked~label.sk-toggleable__label {background-color: #d4ebff;}#sk-container-id-5 input.sk-hidden--visually {border: 0;clip: rect(1px 1px 1px 1px);clip: rect(1px, 1px, 1px, 1px);height: 1px;margin: -1px;overflow: hidden;padding: 0;position: absolute;width: 1px;}#sk-container-id-5 div.sk-estimator {font-family: monospace;background-color: #f0f8ff;border: 1px dotted black;border-radius: 0.25em;box-sizing: border-box;margin-bottom: 0.5em;}#sk-container-id-5 div.sk-estimator:hover {background-color: #d4ebff;}#sk-container-id-5 div.sk-parallel-item::after {content: \"\";width: 100%;border-bottom: 1px solid gray;flex-grow: 1;}#sk-container-id-5 div.sk-label:hover label.sk-toggleable__label {background-color: #d4ebff;}#sk-container-id-5 div.sk-serial::before {content: \"\";position: absolute;border-left: 1px solid gray;box-sizing: border-box;top: 0;bottom: 0;left: 50%;z-index: 0;}#sk-container-id-5 div.sk-serial {display: flex;flex-direction: column;align-items: center;background-color: white;padding-right: 0.2em;padding-left: 0.2em;position: relative;}#sk-container-id-5 div.sk-item {position: relative;z-index: 1;}#sk-container-id-5 div.sk-parallel {display: flex;align-items: stretch;justify-content: center;background-color: white;position: relative;}#sk-container-id-5 div.sk-item::before, #sk-container-id-5 div.sk-parallel-item::before {content: \"\";position: absolute;border-left: 1px solid gray;box-sizing: border-box;top: 0;bottom: 0;left: 50%;z-index: -1;}#sk-container-id-5 div.sk-parallel-item {display: flex;flex-direction: column;z-index: 1;position: relative;background-color: white;}#sk-container-id-5 div.sk-parallel-item:first-child::after {align-self: flex-end;width: 50%;}#sk-container-id-5 div.sk-parallel-item:last-child::after {align-self: flex-start;width: 50%;}#sk-container-id-5 div.sk-parallel-item:only-child::after {width: 0;}#sk-container-id-5 div.sk-dashed-wrapped {border: 1px dashed gray;margin: 0 0.4em 0.5em 0.4em;box-sizing: border-box;padding-bottom: 0.4em;background-color: white;}#sk-container-id-5 div.sk-label label {font-family: monospace;font-weight: bold;display: inline-block;line-height: 1.2em;}#sk-container-id-5 div.sk-label-container {text-align: center;}#sk-container-id-5 div.sk-container {/* jupyter's `normalize.less` sets `[hidden] { display: none; }` but bootstrap.min.css set `[hidden] { display: none !important; }` so we also need the `!important` here to be able to override the default hidden behavior on the sphinx rendered scikit-learn.org. See: https://github.com/scikit-learn/scikit-learn/issues/21755 */display: inline-block !important;position: relative;}#sk-container-id-5 div.sk-text-repr-fallback {display: none;}</style><div id=\"sk-container-id-5\" class=\"sk-top-container\"><div class=\"sk-text-repr-fallback\"><pre>Ridge(alpha=100)</pre><b>In a Jupyter environment, please rerun this cell to show the HTML representation or trust the notebook. <br />On GitHub, the HTML representation is unable to render, please try loading this page with nbviewer.org.</b></div><div class=\"sk-container\" hidden><div class=\"sk-item\"><div class=\"sk-estimator sk-toggleable\"><input class=\"sk-toggleable__control sk-hidden--visually\" id=\"sk-estimator-id-5\" type=\"checkbox\" checked><label for=\"sk-estimator-id-5\" class=\"sk-toggleable__label sk-toggleable__label-arrow\">Ridge</label><div class=\"sk-toggleable__content\"><pre>Ridge(alpha=100)</pre></div></div></div></div></div>"
      ],
      "text/plain": [
       "Ridge(alpha=100)"
      ]
     },
     "execution_count": 77,
     "metadata": {},
     "output_type": "execute_result"
    }
   ],
   "source": [
    "# 모델학습\n",
    "ridge_model.fit(X_train_copy2, y_train)"
   ]
  },
  {
   "cell_type": "code",
   "execution_count": 78,
   "id": "67c1bacb",
   "metadata": {},
   "outputs": [
    {
     "data": {
      "text/plain": [
       "0.7960984809165558"
      ]
     },
     "execution_count": 78,
     "metadata": {},
     "output_type": "execute_result"
    }
   ],
   "source": [
    "# 모델 평가\n",
    "ridge_model.score(X_test_copy2, y_test)"
   ]
  },
  {
   "cell_type": "markdown",
   "id": "57fd784e",
   "metadata": {},
   "source": [
    "### Lasso 모델"
   ]
  },
  {
   "cell_type": "code",
   "execution_count": 79,
   "id": "8dac2ac0",
   "metadata": {},
   "outputs": [],
   "source": [
    "from sklearn.linear_model import Lasso"
   ]
  },
  {
   "cell_type": "code",
   "execution_count": 91,
   "id": "c39f0bc6",
   "metadata": {},
   "outputs": [],
   "source": [
    "lasso_model = Lasso(alpha=10)"
   ]
  },
  {
   "cell_type": "code",
   "execution_count": 92,
   "id": "5a1e80c4",
   "metadata": {},
   "outputs": [
    {
     "data": {
      "text/html": [
       "<style>#sk-container-id-9 {color: black;background-color: white;}#sk-container-id-9 pre{padding: 0;}#sk-container-id-9 div.sk-toggleable {background-color: white;}#sk-container-id-9 label.sk-toggleable__label {cursor: pointer;display: block;width: 100%;margin-bottom: 0;padding: 0.3em;box-sizing: border-box;text-align: center;}#sk-container-id-9 label.sk-toggleable__label-arrow:before {content: \"▸\";float: left;margin-right: 0.25em;color: #696969;}#sk-container-id-9 label.sk-toggleable__label-arrow:hover:before {color: black;}#sk-container-id-9 div.sk-estimator:hover label.sk-toggleable__label-arrow:before {color: black;}#sk-container-id-9 div.sk-toggleable__content {max-height: 0;max-width: 0;overflow: hidden;text-align: left;background-color: #f0f8ff;}#sk-container-id-9 div.sk-toggleable__content pre {margin: 0.2em;color: black;border-radius: 0.25em;background-color: #f0f8ff;}#sk-container-id-9 input.sk-toggleable__control:checked~div.sk-toggleable__content {max-height: 200px;max-width: 100%;overflow: auto;}#sk-container-id-9 input.sk-toggleable__control:checked~label.sk-toggleable__label-arrow:before {content: \"▾\";}#sk-container-id-9 div.sk-estimator input.sk-toggleable__control:checked~label.sk-toggleable__label {background-color: #d4ebff;}#sk-container-id-9 div.sk-label input.sk-toggleable__control:checked~label.sk-toggleable__label {background-color: #d4ebff;}#sk-container-id-9 input.sk-hidden--visually {border: 0;clip: rect(1px 1px 1px 1px);clip: rect(1px, 1px, 1px, 1px);height: 1px;margin: -1px;overflow: hidden;padding: 0;position: absolute;width: 1px;}#sk-container-id-9 div.sk-estimator {font-family: monospace;background-color: #f0f8ff;border: 1px dotted black;border-radius: 0.25em;box-sizing: border-box;margin-bottom: 0.5em;}#sk-container-id-9 div.sk-estimator:hover {background-color: #d4ebff;}#sk-container-id-9 div.sk-parallel-item::after {content: \"\";width: 100%;border-bottom: 1px solid gray;flex-grow: 1;}#sk-container-id-9 div.sk-label:hover label.sk-toggleable__label {background-color: #d4ebff;}#sk-container-id-9 div.sk-serial::before {content: \"\";position: absolute;border-left: 1px solid gray;box-sizing: border-box;top: 0;bottom: 0;left: 50%;z-index: 0;}#sk-container-id-9 div.sk-serial {display: flex;flex-direction: column;align-items: center;background-color: white;padding-right: 0.2em;padding-left: 0.2em;position: relative;}#sk-container-id-9 div.sk-item {position: relative;z-index: 1;}#sk-container-id-9 div.sk-parallel {display: flex;align-items: stretch;justify-content: center;background-color: white;position: relative;}#sk-container-id-9 div.sk-item::before, #sk-container-id-9 div.sk-parallel-item::before {content: \"\";position: absolute;border-left: 1px solid gray;box-sizing: border-box;top: 0;bottom: 0;left: 50%;z-index: -1;}#sk-container-id-9 div.sk-parallel-item {display: flex;flex-direction: column;z-index: 1;position: relative;background-color: white;}#sk-container-id-9 div.sk-parallel-item:first-child::after {align-self: flex-end;width: 50%;}#sk-container-id-9 div.sk-parallel-item:last-child::after {align-self: flex-start;width: 50%;}#sk-container-id-9 div.sk-parallel-item:only-child::after {width: 0;}#sk-container-id-9 div.sk-dashed-wrapped {border: 1px dashed gray;margin: 0 0.4em 0.5em 0.4em;box-sizing: border-box;padding-bottom: 0.4em;background-color: white;}#sk-container-id-9 div.sk-label label {font-family: monospace;font-weight: bold;display: inline-block;line-height: 1.2em;}#sk-container-id-9 div.sk-label-container {text-align: center;}#sk-container-id-9 div.sk-container {/* jupyter's `normalize.less` sets `[hidden] { display: none; }` but bootstrap.min.css set `[hidden] { display: none !important; }` so we also need the `!important` here to be able to override the default hidden behavior on the sphinx rendered scikit-learn.org. See: https://github.com/scikit-learn/scikit-learn/issues/21755 */display: inline-block !important;position: relative;}#sk-container-id-9 div.sk-text-repr-fallback {display: none;}</style><div id=\"sk-container-id-9\" class=\"sk-top-container\"><div class=\"sk-text-repr-fallback\"><pre>Lasso(alpha=10)</pre><b>In a Jupyter environment, please rerun this cell to show the HTML representation or trust the notebook. <br />On GitHub, the HTML representation is unable to render, please try loading this page with nbviewer.org.</b></div><div class=\"sk-container\" hidden><div class=\"sk-item\"><div class=\"sk-estimator sk-toggleable\"><input class=\"sk-toggleable__control sk-hidden--visually\" id=\"sk-estimator-id-9\" type=\"checkbox\" checked><label for=\"sk-estimator-id-9\" class=\"sk-toggleable__label sk-toggleable__label-arrow\">Lasso</label><div class=\"sk-toggleable__content\"><pre>Lasso(alpha=10)</pre></div></div></div></div></div>"
      ],
      "text/plain": [
       "Lasso(alpha=10)"
      ]
     },
     "execution_count": 92,
     "metadata": {},
     "output_type": "execute_result"
    }
   ],
   "source": [
    "lasso_model.fit(X_train_copy2, y_train)"
   ]
  },
  {
   "cell_type": "code",
   "execution_count": 93,
   "id": "8f625649",
   "metadata": {},
   "outputs": [
    {
     "data": {
      "text/plain": [
       "0.8625803324294886"
      ]
     },
     "execution_count": 93,
     "metadata": {},
     "output_type": "execute_result"
    }
   ],
   "source": [
    "lasso_model.score(X_train_copy2, y_train)"
   ]
  },
  {
   "cell_type": "code",
   "execution_count": 94,
   "id": "5af2c2f3",
   "metadata": {},
   "outputs": [
    {
     "data": {
      "text/plain": [
       "0.8022301748919957"
      ]
     },
     "execution_count": 94,
     "metadata": {},
     "output_type": "execute_result"
    }
   ],
   "source": [
    "lasso_model.score(X_test_copy2, y_test)"
   ]
  },
  {
   "cell_type": "code",
   "execution_count": 95,
   "id": "50eecf64",
   "metadata": {},
   "outputs": [],
   "source": [
    "# 반복문을 이용해서 Ridge와 Lasso alpha값을 조절해보고 모델을 비교해보자\n",
    "# 1. 알파값(규제강도) 리스트 만들어주기\n",
    "alpha_list= [0.001, 0.01, 0.1, 10, 100, 1000]\n",
    "# 2. ridge 모델과 lasso 모델 가중치를 기록할 리스트 생성\n",
    "ridge_coef_list = []\n",
    "lasso_coef_list = []\n",
    "\n",
    "# 3. 반복문 만들기 - 모델 제작 / 학습 / 리스트에 기록\n",
    "for i in alpha_list:\n",
    "    r_model = Ridge(alpha=i)\n",
    "    l_model = Lasso(alpha=i)\n",
    "    \n",
    "    # 모델 학습\n",
    "    r_model.fit(X_train, y_train)\n",
    "    l_model.fit(X_train, y_train)\n",
    "    \n",
    "    # 가중치 확인 후 리스트에 넣기\n",
    "    ridge_coef_list.append(r_model.coef_)\n",
    "    lasso_coef_list.append(l_model.coef_)"
   ]
  },
  {
   "cell_type": "code",
   "execution_count": 97,
   "id": "57de9751",
   "metadata": {},
   "outputs": [
    {
     "data": {
      "text/html": [
       "<div>\n",
       "<style scoped>\n",
       "    .dataframe tbody tr th:only-of-type {\n",
       "        vertical-align: middle;\n",
       "    }\n",
       "\n",
       "    .dataframe tbody tr th {\n",
       "        vertical-align: top;\n",
       "    }\n",
       "\n",
       "    .dataframe thead th {\n",
       "        text-align: right;\n",
       "    }\n",
       "</style>\n",
       "<table border=\"1\" class=\"dataframe\">\n",
       "  <thead>\n",
       "    <tr style=\"text-align: right;\">\n",
       "      <th></th>\n",
       "      <th>0.001</th>\n",
       "      <th>0.010</th>\n",
       "      <th>0.100</th>\n",
       "      <th>10.000</th>\n",
       "      <th>100.000</th>\n",
       "      <th>1000.000</th>\n",
       "    </tr>\n",
       "  </thead>\n",
       "  <tbody>\n",
       "    <tr>\n",
       "      <th>0</th>\n",
       "      <td>-0.133223</td>\n",
       "      <td>-0.131004</td>\n",
       "      <td>-0.122854</td>\n",
       "      <td>-0.000000</td>\n",
       "      <td>-0.000000</td>\n",
       "      <td>-0.0</td>\n",
       "    </tr>\n",
       "    <tr>\n",
       "      <th>1</th>\n",
       "      <td>0.035854</td>\n",
       "      <td>0.036263</td>\n",
       "      <td>0.038639</td>\n",
       "      <td>0.014062</td>\n",
       "      <td>0.000000</td>\n",
       "      <td>0.0</td>\n",
       "    </tr>\n",
       "    <tr>\n",
       "      <th>2</th>\n",
       "      <td>0.048042</td>\n",
       "      <td>0.034707</td>\n",
       "      <td>-0.000497</td>\n",
       "      <td>-0.000000</td>\n",
       "      <td>-0.000000</td>\n",
       "      <td>-0.0</td>\n",
       "    </tr>\n",
       "    <tr>\n",
       "      <th>3</th>\n",
       "      <td>3.102183</td>\n",
       "      <td>2.943313</td>\n",
       "      <td>1.483538</td>\n",
       "      <td>0.000000</td>\n",
       "      <td>0.000000</td>\n",
       "      <td>0.0</td>\n",
       "    </tr>\n",
       "    <tr>\n",
       "      <th>4</th>\n",
       "      <td>-15.065440</td>\n",
       "      <td>-11.901274</td>\n",
       "      <td>-0.000000</td>\n",
       "      <td>0.000000</td>\n",
       "      <td>-0.000000</td>\n",
       "      <td>-0.0</td>\n",
       "    </tr>\n",
       "    <tr>\n",
       "      <th>5</th>\n",
       "      <td>4.056539</td>\n",
       "      <td>4.050578</td>\n",
       "      <td>3.893674</td>\n",
       "      <td>0.000000</td>\n",
       "      <td>0.000000</td>\n",
       "      <td>0.0</td>\n",
       "    </tr>\n",
       "    <tr>\n",
       "      <th>6</th>\n",
       "      <td>-0.011083</td>\n",
       "      <td>-0.013446</td>\n",
       "      <td>-0.019605</td>\n",
       "      <td>0.000000</td>\n",
       "      <td>-0.000000</td>\n",
       "      <td>-0.0</td>\n",
       "    </tr>\n",
       "    <tr>\n",
       "      <th>7</th>\n",
       "      <td>-1.380312</td>\n",
       "      <td>-1.329162</td>\n",
       "      <td>-1.105614</td>\n",
       "      <td>-0.000000</td>\n",
       "      <td>0.000000</td>\n",
       "      <td>0.0</td>\n",
       "    </tr>\n",
       "    <tr>\n",
       "      <th>8</th>\n",
       "      <td>0.241912</td>\n",
       "      <td>0.234583</td>\n",
       "      <td>0.216673</td>\n",
       "      <td>0.000000</td>\n",
       "      <td>-0.000000</td>\n",
       "      <td>-0.0</td>\n",
       "    </tr>\n",
       "    <tr>\n",
       "      <th>9</th>\n",
       "      <td>-0.008732</td>\n",
       "      <td>-0.009000</td>\n",
       "      <td>-0.010584</td>\n",
       "      <td>-0.008345</td>\n",
       "      <td>-0.020678</td>\n",
       "      <td>-0.0</td>\n",
       "    </tr>\n",
       "    <tr>\n",
       "      <th>10</th>\n",
       "      <td>-0.906765</td>\n",
       "      <td>-0.871482</td>\n",
       "      <td>-0.744015</td>\n",
       "      <td>-0.000000</td>\n",
       "      <td>-0.000000</td>\n",
       "      <td>-0.0</td>\n",
       "    </tr>\n",
       "    <tr>\n",
       "      <th>11</th>\n",
       "      <td>0.011804</td>\n",
       "      <td>0.011897</td>\n",
       "      <td>0.012396</td>\n",
       "      <td>0.009953</td>\n",
       "      <td>0.005668</td>\n",
       "      <td>0.0</td>\n",
       "    </tr>\n",
       "    <tr>\n",
       "      <th>12</th>\n",
       "      <td>-0.547993</td>\n",
       "      <td>-0.555914</td>\n",
       "      <td>-0.602282</td>\n",
       "      <td>-0.628368</td>\n",
       "      <td>-0.000000</td>\n",
       "      <td>-0.0</td>\n",
       "    </tr>\n",
       "  </tbody>\n",
       "</table>\n",
       "</div>"
      ],
      "text/plain": [
       "     0.001      0.010     0.100     10.000    100.000   1000.000\n",
       "0   -0.133223  -0.131004 -0.122854 -0.000000 -0.000000      -0.0\n",
       "1    0.035854   0.036263  0.038639  0.014062  0.000000       0.0\n",
       "2    0.048042   0.034707 -0.000497 -0.000000 -0.000000      -0.0\n",
       "3    3.102183   2.943313  1.483538  0.000000  0.000000       0.0\n",
       "4  -15.065440 -11.901274 -0.000000  0.000000 -0.000000      -0.0\n",
       "5    4.056539   4.050578  3.893674  0.000000  0.000000       0.0\n",
       "6   -0.011083  -0.013446 -0.019605  0.000000 -0.000000      -0.0\n",
       "7   -1.380312  -1.329162 -1.105614 -0.000000  0.000000       0.0\n",
       "8    0.241912   0.234583  0.216673  0.000000 -0.000000      -0.0\n",
       "9   -0.008732  -0.009000 -0.010584 -0.008345 -0.020678      -0.0\n",
       "10  -0.906765  -0.871482 -0.744015 -0.000000 -0.000000      -0.0\n",
       "11   0.011804   0.011897  0.012396  0.009953  0.005668       0.0\n",
       "12  -0.547993  -0.555914 -0.602282 -0.628368 -0.000000      -0.0"
      ]
     },
     "execution_count": 97,
     "metadata": {},
     "output_type": "execute_result"
    }
   ],
   "source": [
    "# lasso 정규화 w값 확인해보기\n",
    "lasso_df = pd.DataFrame(np.array(lasso_coef_list).T,\n",
    "                       columns=alpha_list)\n",
    "lasso_df"
   ]
  },
  {
   "cell_type": "code",
   "execution_count": 98,
   "id": "6d1271d5",
   "metadata": {},
   "outputs": [
    {
     "data": {
      "text/html": [
       "<div>\n",
       "<style scoped>\n",
       "    .dataframe tbody tr th:only-of-type {\n",
       "        vertical-align: middle;\n",
       "    }\n",
       "\n",
       "    .dataframe tbody tr th {\n",
       "        vertical-align: top;\n",
       "    }\n",
       "\n",
       "    .dataframe thead th {\n",
       "        text-align: right;\n",
       "    }\n",
       "</style>\n",
       "<table border=\"1\" class=\"dataframe\">\n",
       "  <thead>\n",
       "    <tr style=\"text-align: right;\">\n",
       "      <th></th>\n",
       "      <th>0.001</th>\n",
       "      <th>0.010</th>\n",
       "      <th>0.100</th>\n",
       "      <th>10.000</th>\n",
       "      <th>100.000</th>\n",
       "      <th>1000.000</th>\n",
       "    </tr>\n",
       "  </thead>\n",
       "  <tbody>\n",
       "    <tr>\n",
       "      <th>0</th>\n",
       "      <td>-0.133460</td>\n",
       "      <td>-0.133368</td>\n",
       "      <td>-0.132535</td>\n",
       "      <td>-0.126548</td>\n",
       "      <td>-0.130284</td>\n",
       "      <td>-0.116874</td>\n",
       "    </tr>\n",
       "    <tr>\n",
       "      <th>1</th>\n",
       "      <td>0.035811</td>\n",
       "      <td>0.035829</td>\n",
       "      <td>0.035994</td>\n",
       "      <td>0.039499</td>\n",
       "      <td>0.044880</td>\n",
       "      <td>0.043391</td>\n",
       "    </tr>\n",
       "    <tr>\n",
       "      <th>2</th>\n",
       "      <td>0.049460</td>\n",
       "      <td>0.048906</td>\n",
       "      <td>0.043848</td>\n",
       "      <td>-0.008762</td>\n",
       "      <td>-0.026550</td>\n",
       "      <td>-0.027645</td>\n",
       "    </tr>\n",
       "    <tr>\n",
       "      <th>3</th>\n",
       "      <td>3.119582</td>\n",
       "      <td>3.117318</td>\n",
       "      <td>3.095676</td>\n",
       "      <td>2.107585</td>\n",
       "      <td>0.611111</td>\n",
       "      <td>0.096161</td>\n",
       "    </tr>\n",
       "    <tr>\n",
       "      <th>4</th>\n",
       "      <td>-15.402228</td>\n",
       "      <td>-15.270005</td>\n",
       "      <td>-14.062595</td>\n",
       "      <td>-1.433987</td>\n",
       "      <td>-0.141540</td>\n",
       "      <td>-0.004726</td>\n",
       "    </tr>\n",
       "    <tr>\n",
       "      <th>5</th>\n",
       "      <td>4.057248</td>\n",
       "      <td>4.057679</td>\n",
       "      <td>4.061319</td>\n",
       "      <td>3.782848</td>\n",
       "      <td>2.133418</td>\n",
       "      <td>0.466352</td>\n",
       "    </tr>\n",
       "    <tr>\n",
       "      <th>6</th>\n",
       "      <td>-0.010834</td>\n",
       "      <td>-0.010949</td>\n",
       "      <td>-0.012001</td>\n",
       "      <td>-0.019846</td>\n",
       "      <td>-0.004199</td>\n",
       "      <td>0.026235</td>\n",
       "    </tr>\n",
       "    <tr>\n",
       "      <th>7</th>\n",
       "      <td>-1.385773</td>\n",
       "      <td>-1.383769</td>\n",
       "      <td>-1.365474</td>\n",
       "      <td>-1.178253</td>\n",
       "      <td>-1.066613</td>\n",
       "      <td>-0.481900</td>\n",
       "    </tr>\n",
       "    <tr>\n",
       "      <th>8</th>\n",
       "      <td>0.242691</td>\n",
       "      <td>0.242371</td>\n",
       "      <td>0.239464</td>\n",
       "      <td>0.225284</td>\n",
       "      <td>0.271421</td>\n",
       "      <td>0.240453</td>\n",
       "    </tr>\n",
       "    <tr>\n",
       "      <th>9</th>\n",
       "      <td>-0.008703</td>\n",
       "      <td>-0.008715</td>\n",
       "      <td>-0.008817</td>\n",
       "      <td>-0.010459</td>\n",
       "      <td>-0.012119</td>\n",
       "      <td>-0.011759</td>\n",
       "    </tr>\n",
       "    <tr>\n",
       "      <th>10</th>\n",
       "      <td>-0.910519</td>\n",
       "      <td>-0.909036</td>\n",
       "      <td>-0.895519</td>\n",
       "      <td>-0.773533</td>\n",
       "      <td>-0.812327</td>\n",
       "      <td>-0.585060</td>\n",
       "    </tr>\n",
       "    <tr>\n",
       "      <th>11</th>\n",
       "      <td>0.011794</td>\n",
       "      <td>0.011798</td>\n",
       "      <td>0.011828</td>\n",
       "      <td>0.012173</td>\n",
       "      <td>0.011615</td>\n",
       "      <td>0.010529</td>\n",
       "    </tr>\n",
       "    <tr>\n",
       "      <th>12</th>\n",
       "      <td>-0.547142</td>\n",
       "      <td>-0.547399</td>\n",
       "      <td>-0.549776</td>\n",
       "      <td>-0.601031</td>\n",
       "      <td>-0.721587</td>\n",
       "      <td>-0.795605</td>\n",
       "    </tr>\n",
       "  </tbody>\n",
       "</table>\n",
       "</div>"
      ],
      "text/plain": [
       "     0.001      0.010      0.100     10.000    100.000   1000.000\n",
       "0   -0.133460  -0.133368  -0.132535 -0.126548 -0.130284 -0.116874\n",
       "1    0.035811   0.035829   0.035994  0.039499  0.044880  0.043391\n",
       "2    0.049460   0.048906   0.043848 -0.008762 -0.026550 -0.027645\n",
       "3    3.119582   3.117318   3.095676  2.107585  0.611111  0.096161\n",
       "4  -15.402228 -15.270005 -14.062595 -1.433987 -0.141540 -0.004726\n",
       "5    4.057248   4.057679   4.061319  3.782848  2.133418  0.466352\n",
       "6   -0.010834  -0.010949  -0.012001 -0.019846 -0.004199  0.026235\n",
       "7   -1.385773  -1.383769  -1.365474 -1.178253 -1.066613 -0.481900\n",
       "8    0.242691   0.242371   0.239464  0.225284  0.271421  0.240453\n",
       "9   -0.008703  -0.008715  -0.008817 -0.010459 -0.012119 -0.011759\n",
       "10  -0.910519  -0.909036  -0.895519 -0.773533 -0.812327 -0.585060\n",
       "11   0.011794   0.011798   0.011828  0.012173  0.011615  0.010529\n",
       "12  -0.547142  -0.547399  -0.549776 -0.601031 -0.721587 -0.795605"
      ]
     },
     "execution_count": 98,
     "metadata": {},
     "output_type": "execute_result"
    }
   ],
   "source": [
    "# ridge 정규화 w값 확인해보기\n",
    "ridge_df = pd.DataFrame(np.array(ridge_coef_list).T,\n",
    "                       columns=alpha_list)\n",
    "ridge_df"
   ]
  },
  {
   "cell_type": "markdown",
   "id": "a8c50548",
   "metadata": {},
   "source": [
    "# 최종 정리\n",
    "- 현재 보스턴 선형회귀분석 시 라쏘가 조금 더 유리한 모습을 보인다"
   ]
  },
  {
   "cell_type": "code",
   "execution_count": null,
   "id": "c552c1bd",
   "metadata": {},
   "outputs": [],
   "source": []
  }
 ],
 "metadata": {
  "kernelspec": {
   "display_name": "Python 3 (ipykernel)",
   "language": "python",
   "name": "python3"
  },
  "language_info": {
   "codemirror_mode": {
    "name": "ipython",
    "version": 3
   },
   "file_extension": ".py",
   "mimetype": "text/x-python",
   "name": "python",
   "nbconvert_exporter": "python",
   "pygments_lexer": "ipython3",
   "version": "3.10.12"
  }
 },
 "nbformat": 4,
 "nbformat_minor": 5
}
