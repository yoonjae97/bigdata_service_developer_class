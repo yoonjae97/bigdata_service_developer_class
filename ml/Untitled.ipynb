{
 "cells": [
  {
   "cell_type": "code",
   "execution_count": 1,
   "id": "f39e1e25",
   "metadata": {},
   "outputs": [],
   "source": [
    "import pandas as pd\n",
    "import numpy as np"
   ]
  },
  {
   "cell_type": "code",
   "execution_count": 340,
   "id": "3a0777bf",
   "metadata": {},
   "outputs": [
    {
     "name": "stdout",
     "output_type": "stream",
     "text": [
      "<class 'pandas.core.frame.DataFrame'>\n",
      "Int64Index: 6897 entries, 0 to 6998\n",
      "Data columns (total 9 columns):\n",
      " #   Column               Non-Null Count  Dtype  \n",
      "---  ------               --------------  -----  \n",
      " 0   Warehouse_block      6897 non-null   object \n",
      " 1   Mode_of_Shipment     6532 non-null   object \n",
      " 2   Customer_care_calls  5346 non-null   float64\n",
      " 3   Customer_rating      6897 non-null   int64  \n",
      " 4   Cost_of_the_Product  6897 non-null   int64  \n",
      " 5   Prior_purchases      5959 non-null   float64\n",
      " 6   Product_importance   6897 non-null   object \n",
      " 7   Weight_in_gms        6453 non-null   object \n",
      " 8   Reached.on.Time_Y.N  6897 non-null   int64  \n",
      "dtypes: float64(2), int64(3), object(4)\n",
      "memory usage: 538.8+ KB\n"
     ]
    }
   ],
   "source": [
    "train = pd.read_csv(\"./smhrd_data/Train.csv\")\n",
    "train.drop(['ID', 'Gender', 'Discount_offered'], axis=1, inplace=True)\n",
    "# 결측치의 형태가 ?인 데이터를 NA로 대체\n",
    "train = train.replace('?', pd.NA)\n",
    "\n",
    "# Warehouse_block 컬럼 이름에 공백들어가 있어서 재설정\n",
    "train.columns = ['Warehouse_block', 'Mode_of_Shipment', 'Customer_care_calls',\n",
    "       'Customer_rating', 'Cost_of_the_Product', 'Prior_purchases',\n",
    "       'Product_importance', 'Weight_in_gms', 'Reached.on.Time_Y.N']\n",
    "\n",
    "# 연속형 변수중에서 이상치 제거 (개수가 많지 않을뿐더러 5개를 채우려고 하는 것은 비효율적이라고 생각하기 때문)\n",
    "train = train[(train['Customer_rating']!=99) & (train['Cost_of_the_Product']!=9999)]\n",
    "\n",
    "# Mode_of_Shipment에서 끝에 zk가 붙은 이상치 수정\n",
    "train['Mode_of_Shipment'] = train['Mode_of_Shipment'].apply(lambda x: x.replace('zk', '') if pd.notna(x) else x)\n",
    "train = train[train['Product_importance'].notnull()]\n",
    "\n",
    "# Product_importance에서 끝에 m이 하나씩 더붙은 이상치 수정\n",
    "train['Product_importance'] = train['Product_importance'].apply(lambda x: x[:-1] if x[-1]==x[-2] else x)\n",
    "\n",
    "train['Weight_in_gms'] = train['Weight_in_gms'].apply(lambda x: int(x) if str(x).isdigit() else x)\n",
    "train.info()"
   ]
  },
  {
   "cell_type": "code",
   "execution_count": 341,
   "id": "32230b6f",
   "metadata": {},
   "outputs": [],
   "source": [
    "# train['Weight_in_gms'] = train[train['Weight_in_gms'].notnull()]['Weight_in_gms'].astype(int)\n",
    "# train.corr()"
   ]
  },
  {
   "cell_type": "code",
   "execution_count": 342,
   "id": "c65dfaa7",
   "metadata": {},
   "outputs": [
    {
     "name": "stdout",
     "output_type": "stream",
     "text": [
      "<class 'pandas.core.frame.DataFrame'>\n",
      "Int64Index: 6897 entries, 0 to 6998\n",
      "Data columns (total 9 columns):\n",
      " #   Column               Non-Null Count  Dtype  \n",
      "---  ------               --------------  -----  \n",
      " 0   Warehouse_block      6897 non-null   object \n",
      " 1   Mode_of_Shipment     6897 non-null   object \n",
      " 2   Customer_care_calls  5346 non-null   float64\n",
      " 3   Customer_rating      6897 non-null   int64  \n",
      " 4   Cost_of_the_Product  6897 non-null   int64  \n",
      " 5   Prior_purchases      5959 non-null   float64\n",
      " 6   Product_importance   6897 non-null   object \n",
      " 7   Weight_in_gms        6453 non-null   object \n",
      " 8   Reached.on.Time_Y.N  6897 non-null   int64  \n",
      "dtypes: float64(2), int64(3), object(4)\n",
      "memory usage: 538.8+ KB\n"
     ]
    }
   ],
   "source": [
    "# Mode_of_Shipment의 결측값은 Warehouse_block, Product_importance, Weight_in_gms와 연관이 있지 않을까?\n",
    "# 하지만 Weight_in_gms는 결측값이 있어서 참고해서 채우기 어려울듯하다.\n",
    "# 따라서 Warehouse_block, Product_importance를 groupby해서 본 결과 ship이 대부분이라 ship으로 일단 채워보려 한다.\n",
    "train['Mode_of_Shipment'].fillna(' Ship', inplace=True)\n",
    "train.info()"
   ]
  },
  {
   "cell_type": "code",
   "execution_count": 343,
   "id": "5b238df5",
   "metadata": {},
   "outputs": [
    {
     "data": {
      "text/html": [
       "<div>\n",
       "<style scoped>\n",
       "    .dataframe tbody tr th:only-of-type {\n",
       "        vertical-align: middle;\n",
       "    }\n",
       "\n",
       "    .dataframe tbody tr th {\n",
       "        vertical-align: top;\n",
       "    }\n",
       "\n",
       "    .dataframe thead th {\n",
       "        text-align: right;\n",
       "    }\n",
       "</style>\n",
       "<table border=\"1\" class=\"dataframe\">\n",
       "  <thead>\n",
       "    <tr style=\"text-align: right;\">\n",
       "      <th></th>\n",
       "      <th></th>\n",
       "      <th>Customer_care_calls</th>\n",
       "    </tr>\n",
       "    <tr>\n",
       "      <th>Customer_rating</th>\n",
       "      <th>Mode_of_Shipment</th>\n",
       "      <th></th>\n",
       "    </tr>\n",
       "  </thead>\n",
       "  <tbody>\n",
       "    <tr>\n",
       "      <th rowspan=\"3\" valign=\"top\">1</th>\n",
       "      <th>Flight</th>\n",
       "      <td>4.160256</td>\n",
       "    </tr>\n",
       "    <tr>\n",
       "      <th>Road</th>\n",
       "      <td>4.005435</td>\n",
       "    </tr>\n",
       "    <tr>\n",
       "      <th>Ship</th>\n",
       "      <td>3.990028</td>\n",
       "    </tr>\n",
       "    <tr>\n",
       "      <th rowspan=\"3\" valign=\"top\">2</th>\n",
       "      <th>Flight</th>\n",
       "      <td>4.335366</td>\n",
       "    </tr>\n",
       "    <tr>\n",
       "      <th>Road</th>\n",
       "      <td>4.107595</td>\n",
       "    </tr>\n",
       "    <tr>\n",
       "      <th>Ship</th>\n",
       "      <td>3.997396</td>\n",
       "    </tr>\n",
       "    <tr>\n",
       "      <th rowspan=\"3\" valign=\"top\">3</th>\n",
       "      <th>Flight</th>\n",
       "      <td>4.166667</td>\n",
       "    </tr>\n",
       "    <tr>\n",
       "      <th>Road</th>\n",
       "      <td>4.136095</td>\n",
       "    </tr>\n",
       "    <tr>\n",
       "      <th>Ship</th>\n",
       "      <td>4.041931</td>\n",
       "    </tr>\n",
       "    <tr>\n",
       "      <th rowspan=\"3\" valign=\"top\">4</th>\n",
       "      <th>Flight</th>\n",
       "      <td>4.054545</td>\n",
       "    </tr>\n",
       "    <tr>\n",
       "      <th>Road</th>\n",
       "      <td>4.012821</td>\n",
       "    </tr>\n",
       "    <tr>\n",
       "      <th>Ship</th>\n",
       "      <td>4.019152</td>\n",
       "    </tr>\n",
       "    <tr>\n",
       "      <th rowspan=\"3\" valign=\"top\">5</th>\n",
       "      <th>Flight</th>\n",
       "      <td>3.953333</td>\n",
       "    </tr>\n",
       "    <tr>\n",
       "      <th>Road</th>\n",
       "      <td>4.208589</td>\n",
       "    </tr>\n",
       "    <tr>\n",
       "      <th>Ship</th>\n",
       "      <td>4.096336</td>\n",
       "    </tr>\n",
       "  </tbody>\n",
       "</table>\n",
       "</div>"
      ],
      "text/plain": [
       "                                  Customer_care_calls\n",
       "Customer_rating Mode_of_Shipment                     \n",
       "1                Flight                      4.160256\n",
       "                 Road                        4.005435\n",
       "                 Ship                        3.990028\n",
       "2                Flight                      4.335366\n",
       "                 Road                        4.107595\n",
       "                 Ship                        3.997396\n",
       "3                Flight                      4.166667\n",
       "                 Road                        4.136095\n",
       "                 Ship                        4.041931\n",
       "4                Flight                      4.054545\n",
       "                 Road                        4.012821\n",
       "                 Ship                        4.019152\n",
       "5                Flight                      3.953333\n",
       "                 Road                        4.208589\n",
       "                 Ship                        4.096336"
      ]
     },
     "execution_count": 343,
     "metadata": {},
     "output_type": "execute_result"
    }
   ],
   "source": [
    "train[['Customer_care_calls', 'Customer_rating', 'Mode_of_Shipment']].groupby(['Customer_rating', 'Mode_of_Shipment']).mean()"
   ]
  },
  {
   "cell_type": "code",
   "execution_count": 344,
   "id": "be8e7ae4",
   "metadata": {},
   "outputs": [
    {
     "data": {
      "text/html": [
       "<div>\n",
       "<style scoped>\n",
       "    .dataframe tbody tr th:only-of-type {\n",
       "        vertical-align: middle;\n",
       "    }\n",
       "\n",
       "    .dataframe tbody tr th {\n",
       "        vertical-align: top;\n",
       "    }\n",
       "\n",
       "    .dataframe thead th {\n",
       "        text-align: right;\n",
       "    }\n",
       "</style>\n",
       "<table border=\"1\" class=\"dataframe\">\n",
       "  <thead>\n",
       "    <tr style=\"text-align: right;\">\n",
       "      <th></th>\n",
       "      <th></th>\n",
       "      <th>Customer_care_calls</th>\n",
       "    </tr>\n",
       "    <tr>\n",
       "      <th>Customer_rating</th>\n",
       "      <th>Mode_of_Shipment</th>\n",
       "      <th></th>\n",
       "    </tr>\n",
       "  </thead>\n",
       "  <tbody>\n",
       "    <tr>\n",
       "      <th rowspan=\"3\" valign=\"top\">1</th>\n",
       "      <th>Flight</th>\n",
       "      <td>4.0</td>\n",
       "    </tr>\n",
       "    <tr>\n",
       "      <th>Road</th>\n",
       "      <td>3.0</td>\n",
       "    </tr>\n",
       "    <tr>\n",
       "      <th>Ship</th>\n",
       "      <td>3.0</td>\n",
       "    </tr>\n",
       "    <tr>\n",
       "      <th rowspan=\"3\" valign=\"top\">2</th>\n",
       "      <th>Flight</th>\n",
       "      <td>5.0</td>\n",
       "    </tr>\n",
       "    <tr>\n",
       "      <th>Road</th>\n",
       "      <td>4.0</td>\n",
       "    </tr>\n",
       "    <tr>\n",
       "      <th>Ship</th>\n",
       "      <td>4.0</td>\n",
       "    </tr>\n",
       "    <tr>\n",
       "      <th rowspan=\"3\" valign=\"top\">3</th>\n",
       "      <th>Flight</th>\n",
       "      <td>4.0</td>\n",
       "    </tr>\n",
       "    <tr>\n",
       "      <th>Road</th>\n",
       "      <td>4.0</td>\n",
       "    </tr>\n",
       "    <tr>\n",
       "      <th>Ship</th>\n",
       "      <td>4.0</td>\n",
       "    </tr>\n",
       "    <tr>\n",
       "      <th rowspan=\"3\" valign=\"top\">4</th>\n",
       "      <th>Flight</th>\n",
       "      <td>3.0</td>\n",
       "    </tr>\n",
       "    <tr>\n",
       "      <th>Road</th>\n",
       "      <td>4.0</td>\n",
       "    </tr>\n",
       "    <tr>\n",
       "      <th>Ship</th>\n",
       "      <td>4.0</td>\n",
       "    </tr>\n",
       "    <tr>\n",
       "      <th rowspan=\"3\" valign=\"top\">5</th>\n",
       "      <th>Flight</th>\n",
       "      <td>3.0</td>\n",
       "    </tr>\n",
       "    <tr>\n",
       "      <th>Road</th>\n",
       "      <td>4.0</td>\n",
       "    </tr>\n",
       "    <tr>\n",
       "      <th>Ship</th>\n",
       "      <td>4.0</td>\n",
       "    </tr>\n",
       "  </tbody>\n",
       "</table>\n",
       "</div>"
      ],
      "text/plain": [
       "                                  Customer_care_calls\n",
       "Customer_rating Mode_of_Shipment                     \n",
       "1                Flight                           4.0\n",
       "                 Road                             3.0\n",
       "                 Ship                             3.0\n",
       "2                Flight                           5.0\n",
       "                 Road                             4.0\n",
       "                 Ship                             4.0\n",
       "3                Flight                           4.0\n",
       "                 Road                             4.0\n",
       "                 Ship                             4.0\n",
       "4                Flight                           3.0\n",
       "                 Road                             4.0\n",
       "                 Ship                             4.0\n",
       "5                Flight                           3.0\n",
       "                 Road                             4.0\n",
       "                 Ship                             4.0"
      ]
     },
     "execution_count": 344,
     "metadata": {},
     "output_type": "execute_result"
    }
   ],
   "source": [
    "train[['Customer_care_calls', 'Customer_rating', 'Mode_of_Shipment']].groupby(['Customer_rating', 'Mode_of_Shipment']).agg(lambda x: x.mode().iloc[0])"
   ]
  },
  {
   "cell_type": "code",
   "execution_count": 345,
   "id": "d9011c46",
   "metadata": {},
   "outputs": [
    {
     "name": "stdout",
     "output_type": "stream",
     "text": [
      "<class 'pandas.core.frame.DataFrame'>\n",
      "Int64Index: 6897 entries, 0 to 6998\n",
      "Data columns (total 9 columns):\n",
      " #   Column               Non-Null Count  Dtype  \n",
      "---  ------               --------------  -----  \n",
      " 0   Warehouse_block      6897 non-null   object \n",
      " 1   Mode_of_Shipment     6897 non-null   object \n",
      " 2   Customer_care_calls  6897 non-null   int64  \n",
      " 3   Customer_rating      6897 non-null   int64  \n",
      " 4   Cost_of_the_Product  6897 non-null   int64  \n",
      " 5   Prior_purchases      5959 non-null   float64\n",
      " 6   Product_importance   6897 non-null   object \n",
      " 7   Weight_in_gms        6453 non-null   object \n",
      " 8   Reached.on.Time_Y.N  6897 non-null   int64  \n",
      "dtypes: float64(1), int64(4), object(4)\n",
      "memory usage: 538.8+ KB\n"
     ]
    }
   ],
   "source": [
    "# 결측치를 채우기 전 가설\n",
    "# Customer_care_calls는 배송조회 문의전화 건수로 Customer_rating, Mode_of_Shipment가 관련 있다고 가정\n",
    "# 생각보다 Customer_care_calls의 범주가 2-7사이로 다양하지 않음. 평균일 경우 모두 4 최빈값일 경우는 3,4,5가 나타난다.\n",
    "# 따라서 하나라도 다른 최빈값이 데이터의 특성을 더 반영하고 있다고 추측하여 최빈값으로 채우기로 함\n",
    "def fill_calls(row) :\n",
    "    if np.isnan(row['Customer_care_calls']):\n",
    "        return pt1.loc[(row['Customer_rating'], row['Mode_of_Shipment'])]\n",
    "    else:\n",
    "        return row['Customer_care_calls']\n",
    "\n",
    "pt1 = train[['Customer_care_calls', 'Customer_rating', 'Mode_of_Shipment']].groupby(['Customer_rating', 'Mode_of_Shipment']).agg(lambda x: x.mode().iloc[0])\n",
    "train['Customer_care_calls'] = train.apply(fill_calls, axis = 1).astype('int64')\n",
    "train.info()"
   ]
  },
  {
   "cell_type": "code",
   "execution_count": 346,
   "id": "e82bf285",
   "metadata": {},
   "outputs": [
    {
     "data": {
      "text/plain": [
       "(array([1299.,  776.,  326.,  343.,  903., 1265., 1193.,  345.,    0.,\n",
       "           3.]),\n",
       " array([1001. , 1685.5, 2370. , 3054.5, 3739. , 4423.5, 5108. , 5792.5,\n",
       "        6477. , 7161.5, 7846. ]),\n",
       " <BarContainer object of 10 artists>)"
      ]
     },
     "execution_count": 346,
     "metadata": {},
     "output_type": "execute_result"
    },
    {
     "data": {
      "image/png": "[encoded data removed]",
      "text/plain": [
       "<Figure size 640x480 with 1 Axes>"
      ]
     },
     "metadata": {},
     "output_type": "display_data"
    }
   ],
   "source": [
    "import matplotlib.pyplot as plt\n",
    "plt.hist(train[train['Weight_in_gms'].notnull()]['Weight_in_gms'])"
   ]
  },
  {
   "cell_type": "code",
   "execution_count": 347,
   "id": "1547e0ef",
   "metadata": {},
   "outputs": [
    {
     "name": "stdout",
     "output_type": "stream",
     "text": [
      "<class 'pandas.core.frame.DataFrame'>\n",
      "Int64Index: 6897 entries, 0 to 6998\n",
      "Data columns (total 9 columns):\n",
      " #   Column               Non-Null Count  Dtype  \n",
      "---  ------               --------------  -----  \n",
      " 0   Warehouse_block      6897 non-null   object \n",
      " 1   Mode_of_Shipment     6897 non-null   object \n",
      " 2   Customer_care_calls  6897 non-null   int64  \n",
      " 3   Customer_rating      6897 non-null   int64  \n",
      " 4   Cost_of_the_Product  6897 non-null   int64  \n",
      " 5   Prior_purchases      5959 non-null   float64\n",
      " 6   Product_importance   6897 non-null   object \n",
      " 7   Weight_in_gms        6897 non-null   int64  \n",
      " 8   Reached.on.Time_Y.N  6897 non-null   int64  \n",
      "dtypes: float64(1), int64(5), object(3)\n",
      "memory usage: 538.8+ KB\n"
     ]
    }
   ],
   "source": [
    "## gms 경우는 평균이 히스토그램에 따르면 데이터의 성질을 잘 반영하지 못한다고 생각하여 median으로 시도했으나\n",
    "# accuracy기준으로 mean의 성능이 더높게 나오는듯하여 mean으로 교체\n",
    "def fill_gms(row) :\n",
    "    if pd.isnull(row['Weight_in_gms']):\n",
    "        return pt2.loc[(row['Mode_of_Shipment'])]\n",
    "    else:\n",
    "        return row['Weight_in_gms']\n",
    "pt2 = train[['Mode_of_Shipment', 'Weight_in_gms']].groupby(['Mode_of_Shipment']).median()\n",
    "train['Weight_in_gms'] = train.apply(fill_gms, axis = 1).astype('int64')\n",
    "train.info()"
   ]
  },
  {
   "cell_type": "code",
   "execution_count": 348,
   "id": "765e46fa",
   "metadata": {},
   "outputs": [
    {
     "name": "stdout",
     "output_type": "stream",
     "text": [
      "<class 'pandas.core.frame.DataFrame'>\n",
      "Int64Index: 6897 entries, 0 to 6998\n",
      "Data columns (total 9 columns):\n",
      " #   Column               Non-Null Count  Dtype  \n",
      "---  ------               --------------  -----  \n",
      " 0   Warehouse_block      6897 non-null   object \n",
      " 1   Mode_of_Shipment     6897 non-null   object \n",
      " 2   Customer_care_calls  6897 non-null   int64  \n",
      " 3   Customer_rating      6897 non-null   int64  \n",
      " 4   Cost_of_the_Product  6897 non-null   int64  \n",
      " 5   Prior_purchases      6897 non-null   float64\n",
      " 6   Product_importance   6897 non-null   object \n",
      " 7   Weight_in_gms        6897 non-null   int64  \n",
      " 8   Reached.on.Time_Y.N  6897 non-null   int64  \n",
      "dtypes: float64(1), int64(5), object(3)\n",
      "memory usage: 538.8+ KB\n"
     ]
    }
   ],
   "source": [
    "train['Prior_purchases'].value_counts()\n",
    "train['Prior_purchases'] = train['Prior_purchases'].apply(lambda x: 3 if pd.isnull(x) else x)\n",
    "train.info()"
   ]
  },
  {
   "cell_type": "markdown",
   "id": "81aacb1b",
   "metadata": {},
   "source": [
    "### Customer_rating에는 이상치 99가 있다 -> Customer_care_calls 몇 이상? 인 사람들의 평균 Customer_rating로 바꾸면 되지 않을까?\n",
    "### 결측치도 있지만 ?인 컬럼도 존재한다\n",
    "###  Discount_offered 는 결측치가 너무 많아서 사용할 수 없을듯하다.\n",
    "### Gender는 중요도가 그다지 높아보이지 않는다.\n",
    "### customer_care_calls 는 도착여부와 관련이 있는듯함.  -> 전화를 많이해서 도착을 한것일까, 도착을 많이 안해서 전화를 많이 한것인가?\n",
    "### prior_purchases는 겉으로는 중요해보이지 않지만 회사 내부에서 vip 고객일수록 배송을 우선시한다는 가정을 해본다면 prior_purchases구간화를 진행하고 도착여부에 따른 groupby를 진행해서 채울 수 있지 않을까?\n",
    "### Mode_of_shipment는 Weight_in_gms와 warehouse_block "
   ]
  },
  {
   "cell_type": "markdown",
   "id": "7412aeef",
   "metadata": {},
   "source": [
    "## 전처리 관련\n",
    "- 1. 결측치 null 대신 ?로 표시되어 있는 데이터들을 nan으로 변경\n",
    "- 2. Discount_offered는 결측치가 너무 많아 사용하기 힘들듯하다\n",
    "- 3. Mode_of_Shipment, Product_importance에 가벼운 오타를 수정필요\n",
    "- 4. 결측치 채우는 순서는 결측치가 적은 컬럼부터 채우는것이 맞지 않을까? (결측치 컬럼을 채울 때 결측치가 있는 컬럼을 참고할 수는 없기 때문?, 만약 결측치가 없는 컬럼을 보고 채운다면 얘기가 다름)\n",
    "- 5. 위의 4번대로라면 결측치 채울 순서는 Product_importance, Mode_of_Shipment, Weight_in_gms, Prior_purchases, Customer_care_calls\n",
    "- 6. 범주형 변수와 연속형 변수가 섞여있기 때문에 변수 타입이 섞여있을 때의 상관관계를 볼 수 있을지 알아봐야할듯 (Point biserial correlation라는 것이 있다하는데 scipy.stats라이브러리 알아봐야할듯)\n",
    "\n",
    "- customer_care_calls 는 도착여부와 관련이 있는듯함.  -> 전화를 많이해서 도착을 한것일까, 도착을 많이 안해서 전화를 많이 한것인가?\n",
    "- prior_purchases는 겉으로는 중요해보이지 않지만 회사 내부에서 vip 고객일수록 배송을 우선시한다는 가정을 해본다면 prior_purchases구간화를 진행하고 도착여부에 따른 groupby를 진행해서 채울 수 있지 않을까?"
   ]
  },
  {
   "cell_type": "code",
   "execution_count": 338,
   "id": "e6a6f67a",
   "metadata": {},
   "outputs": [
    {
     "data": {
      "text/plain": [
       "1    4101\n",
       "0    2796\n",
       "Name: Reached.on.Time_Y.N, dtype: int64"
      ]
     },
     "execution_count": 338,
     "metadata": {},
     "output_type": "execute_result"
    }
   ],
   "source": [
    "train['Reached.on.Time_Y.N'].value_counts()"
   ]
  },
  {
   "cell_type": "code",
   "execution_count": 357,
   "id": "c1bcce4e",
   "metadata": {
    "collapsed": true
   },
   "outputs": [
    {
     "name": "stdout",
     "output_type": "stream",
     "text": [
      "Collecting xgboost\n",
      "  Downloading xgboost-1.7.6-py3-none-win_amd64.whl (70.9 MB)\n",
      "     --------------------------------------- 70.9/70.9 MB 18.2 MB/s eta 0:00:00\n",
      "Requirement already satisfied: scipy in c:\\users\\dbswo\\anaconda3\\lib\\site-packages (from xgboost) (1.10.0)\n",
      "Requirement already satisfied: numpy in c:\\users\\dbswo\\anaconda3\\lib\\site-packages (from xgboost) (1.25.1)\n",
      "Installing collected packages: xgboost\n",
      "Successfully installed xgboost-1.7.6\n"
     ]
    }
   ],
   "source": [
    "#!pip install catboost\n",
    "#!pip install xgboost"
   ]
  },
  {
   "cell_type": "code",
   "execution_count": 302,
   "id": "aed669f4",
   "metadata": {},
   "outputs": [],
   "source": [
    "from sklearn.model_selection import train_test_split, cross_val_score\n",
    "from catboost import  CatBoostClassifier\n",
    "from sklearn.preprocessing import  StandardScaler, MinMaxScaler\n",
    "from sklearn.metrics import accuracy_score, f1_score\n",
    "from sklearn.ensemble import RandomForestClassifier, AdaBoostClassifier, GradientBoostingClassifier\n",
    "from sklearn.svm import SVC\n",
    "from sklearn.neural_network import MLPClassifier\n",
    "from xgboost import XGBClassifier\n",
    "from imblearn.under_sampling import OneSidedSelection, TomekLinks\n",
    "from xgboost import XGBClassifier\n",
    "from imblearn.over_sampling import SMOTE, ADASYN, BorderlineSMOTE\n",
    "from imblearn.combine import SMOTETomek, SMOTEENN"
   ]
  },
  {
   "cell_type": "code",
   "execution_count": 342,
   "id": "737b714c",
   "metadata": {},
   "outputs": [
    {
     "name": "stdout",
     "output_type": "stream",
     "text": [
      "<class 'pandas.core.frame.DataFrame'>\n",
      "Int64Index: 6897 entries, 0 to 6998\n",
      "Data columns (total 9 columns):\n",
      " #   Column               Non-Null Count  Dtype  \n",
      "---  ------               --------------  -----  \n",
      " 0   Warehouse_block      6897 non-null   object \n",
      " 1   Mode_of_Shipment     6897 non-null   object \n",
      " 2   Customer_care_calls  6897 non-null   int64  \n",
      " 3   Customer_rating      6897 non-null   int64  \n",
      " 4   Cost_of_the_Product  6897 non-null   int64  \n",
      " 5   Prior_purchases      6897 non-null   float64\n",
      " 6   Product_importance   6897 non-null   object \n",
      " 7   Weight_in_gms        6897 non-null   int64  \n",
      " 8   Reached.on.Time_Y.N  6897 non-null   int64  \n",
      "dtypes: float64(1), int64(5), object(3)\n",
      "memory usage: 538.8+ KB\n"
     ]
    }
   ],
   "source": [
    "train.info()"
   ]
  },
  {
   "cell_type": "code",
   "execution_count": 344,
   "id": "c0a17496",
   "metadata": {},
   "outputs": [
    {
     "data": {
      "text/plain": [
       "Index(['Warehouse_block', 'Mode_of_Shipment', 'Customer_care_calls',\n",
       "       'Customer_rating', 'Cost_of_the_Product', 'Prior_purchases',\n",
       "       'Product_importance', 'Weight_in_gms', 'Reached.on.Time_Y.N'],\n",
       "      dtype='object')"
      ]
     },
     "execution_count": 344,
     "metadata": {},
     "output_type": "execute_result"
    }
   ],
   "source": [
    "train.columns"
   ]
  },
  {
   "cell_type": "code",
   "execution_count": 145,
   "id": "9005a194",
   "metadata": {},
   "outputs": [
    {
     "name": "stdout",
     "output_type": "stream",
     "text": [
      "category : [0 1 2 3 4]\n",
      "classes : ['A' 'B' 'C' 'D' 'F']\n",
      "\n",
      "category : [0 1 2]\n",
      "classes : [' Flight' ' Road' ' Ship']\n",
      "\n",
      "category : [0 1 2]\n",
      "classes : ['high' 'low' 'medium']\n",
      "\n"
     ]
    }
   ],
   "source": [
    "from sklearn.preprocessing import LabelEncoder\n",
    "object_columns = train.select_dtypes('object').columns\n",
    "\n",
    "for i in object_columns:\n",
    "\n",
    "    lb = LabelEncoder()\n",
    "    lb.fit(train[i])\n",
    "    train[i] = lb.transform(train[i])\n",
    "    \n",
    "    print(f'category : {np.unique(train[i])}\\nclasses : {lb.classes_}\\n')"
   ]
  },
  {
   "cell_type": "code",
   "execution_count": 349,
   "id": "c1ccd8db",
   "metadata": {},
   "outputs": [],
   "source": [
    "input = train.iloc[:,:-1]\n",
    "target = train.iloc[:,-1]"
   ]
  },
  {
   "cell_type": "markdown",
   "id": "750dd580",
   "metadata": {},
   "source": [
    "## Ada"
   ]
  },
  {
   "cell_type": "code",
   "execution_count": 337,
   "id": "ae2fad9c",
   "metadata": {},
   "outputs": [
    {
     "name": "stdout",
     "output_type": "stream",
     "text": [
      "0.6603864734299517\n",
      "0.6811791383219955\n"
     ]
    },
    {
     "data": {
      "text/plain": [
       "array([[616, 216],\n",
       "       [487, 751]], dtype=int64)"
      ]
     },
     "execution_count": 337,
     "metadata": {},
     "output_type": "execute_result"
    }
   ],
   "source": [
    "x_train, x_test, y_train, y_test = train_test_split(input, target, test_size=0.3, random_state=42)\n",
    "\n",
    "for column in object_columns:\n",
    "    dummy = pd.get_dummies(x_train[column], prefix=column)\n",
    "    x_train = pd.concat([x_train, dummy], axis = 1)\n",
    "    x_train.drop(column, axis = 1, inplace=True)\n",
    "\n",
    "for column in object_columns:\n",
    "    dummy = pd.get_dummies(x_test[column], prefix=column)\n",
    "    x_test = pd.concat([x_test, dummy], axis = 1)\n",
    "    x_test.drop(column, axis = 1, inplace=True)\n",
    "\n",
    "ss = MinMaxScaler()\n",
    "x_train_ss = ss.fit_transform(x_train)\n",
    "x_test_ss = ss.transform(x_test)\n",
    "ab = AdaBoostClassifier(algorithm='SAMME', learning_rate=0.97, n_estimators=2, random_state=42)\n",
    "ab.fit(x_train_ss, y_train)\n",
    "pred = ab.predict(x_test_ss)\n",
    "print(accuracy_score(y_test, pred))\n",
    "print(f1_score(y_test, pred))\n",
    "from sklearn.metrics import confusion_matrix\n",
    "confusion_matrix(y_test, pred)"
   ]
  },
  {
   "cell_type": "code",
   "execution_count": 307,
   "id": "21852f9c",
   "metadata": {},
   "outputs": [
    {
     "name": "stdout",
     "output_type": "stream",
     "text": [
      "best accuracy : 0.667700790611356\n",
      "best param :  {'algorithm': 'SAMME', 'learning_rate': 0.97, 'n_estimators': 2}\n"
     ]
    },
    {
     "data": {
      "text/plain": [
       "array([[616, 216],\n",
       "       [487, 751]], dtype=int64)"
      ]
     },
     "execution_count": 307,
     "metadata": {},
     "output_type": "execute_result"
    }
   ],
   "source": [
    "x_train, x_test, y_train, y_test = train_test_split(input, target, test_size=0.3, random_state=42)\n",
    "object_columns = train.select_dtypes('object').columns\n",
    "\n",
    "for column in object_columns:\n",
    "    dummy = pd.get_dummies(x_train[column], prefix=column)\n",
    "    x_train = pd.concat([x_train, dummy], axis = 1)\n",
    "    x_train.drop(column, axis = 1, inplace=True)\n",
    "\n",
    "for column in object_columns:\n",
    "    dummy = pd.get_dummies(x_test[column], prefix=column)\n",
    "    x_test = pd.concat([x_test, dummy], axis = 1)\n",
    "    x_test.drop(column, axis = 1, inplace=True)\n",
    "\n",
    "ss = MinMaxScaler()\n",
    "x_train_ss = ss.fit_transform(x_train)\n",
    "x_test_ss = ss.transform(x_test)\n",
    "\n",
    "ab = AdaBoostClassifier(random_state=42)\n",
    "from sklearn.metrics import confusion_matrix\n",
    "confusion_matrix(y_test, pred)\n",
    "\n",
    "param_grid = {\n",
    "    'n_estimators': [2, 3, 4, 5, 6, 7, 8, 9, 10, 11, 12, 20],\n",
    "    'learning_rate': [(0.97 + x / 100) for x in range(0, 8)],\n",
    "    'algorithm': ['SAMME', 'SAMME.R']\n",
    "}\n",
    "from sklearn.model_selection import GridSearchCV\n",
    "ab_grid = GridSearchCV(ab, param_grid, scoring='accuracy')\n",
    "ab_grid.fit(x_train_ss, y_train)\n",
    "print(f'best accuracy : {ab_grid.best_score_}')\n",
    "print('best param : ', ab_grid.best_params_)\n",
    "pred = ab_grid.predict(x_test_ss)\n",
    "confusion_matrix(y_test, pred)"
   ]
  },
  {
   "cell_type": "markdown",
   "id": "70d56f94",
   "metadata": {},
   "source": [
    "## gbm"
   ]
  },
  {
   "cell_type": "code",
   "execution_count": 350,
   "id": "655eed7f",
   "metadata": {},
   "outputs": [
    {
     "name": "stdout",
     "output_type": "stream",
     "text": [
      "0.6700483091787439\n",
      "0.6848177203507153\n"
     ]
    },
    {
     "data": {
      "text/plain": [
       "array([[645, 187],\n",
       "       [496, 742]], dtype=int64)"
      ]
     },
     "execution_count": 350,
     "metadata": {},
     "output_type": "execute_result"
    }
   ],
   "source": [
    "x_train, x_test, y_train, y_test = train_test_split(input, target, test_size=0.3, random_state=42)\n",
    "\n",
    "for column in object_columns:\n",
    "    dummy = pd.get_dummies(x_train[column], prefix=column)\n",
    "    x_train = pd.concat([x_train, dummy], axis = 1)\n",
    "    x_train.drop(column, axis = 1, inplace=True)\n",
    "\n",
    "for column in object_columns:\n",
    "    dummy = pd.get_dummies(x_test[column], prefix=column)\n",
    "    x_test = pd.concat([x_test, dummy], axis = 1)\n",
    "    x_test.drop(column, axis = 1, inplace=True)\n",
    "\n",
    "ss = MinMaxScaler()\n",
    "x_train_ss = ss.fit_transform(x_train)\n",
    "x_test_ss = ss.transform(x_test)\n",
    "gb = GradientBoostingClassifier(learning_rate=0.01, max_depth=4, n_estimators=500, subsample=0.7, random_state=42)\n",
    "gb.fit(x_train_ss, y_train)\n",
    "pred = gb.predict(x_test_ss)\n",
    "print(accuracy_score(y_test, pred))\n",
    "print(f1_score(y_test, pred))\n",
    "from sklearn.metrics import confusion_matrix\n",
    "confusion_matrix(y_test, pred)"
   ]
  },
  {
   "cell_type": "code",
   "execution_count": null,
   "id": "e0c0451b",
   "metadata": {},
   "outputs": [],
   "source": [
    "x_train, x_test, y_train, y_test = train_test_split(input, target, test_size=0.3, random_state=42)\n",
    "object_columns = train.select_dtypes('object').columns\n",
    "\n",
    "for column in object_columns:\n",
    "    dummy = pd.get_dummies(x_train[column], prefix=column)\n",
    "    x_train = pd.concat([x_train, dummy], axis = 1)\n",
    "    x_train.drop(column, axis = 1, inplace=True)\n",
    "\n",
    "for column in object_columns:\n",
    "    dummy = pd.get_dummies(x_test[column], prefix=column)\n",
    "    x_test = pd.concat([x_test, dummy], axis = 1)\n",
    "    x_test.drop(column, axis = 1, inplace=True)\n",
    "\n",
    "ss = MinMaxScaler()\n",
    "x_train_ss = ss.fit_transform(x_train)\n",
    "x_test_ss = ss.transform(x_test)\n",
    "\n",
    "gb = GradientBoostingClassifier(random_state=42)\n",
    "from sklearn.metrics import confusion_matrix\n",
    "confusion_matrix(y_test, pred)\n",
    "\n",
    "param_grid = {'n_estimators': [50, 100, 500],\n",
    "             'learning_rate': [0.001, 0.01, 0.1, 1.0],\n",
    "              'subsample':[0.5, 0.7, 1.0],\n",
    "              'max_depth':[4, 7, 10]\n",
    "             }\n",
    "from sklearn.model_selection import GridSearchCV\n",
    "gb_grid = GridSearchCV(gb, param_grid, scoring='accuracy')\n",
    "gb_grid.fit(x_train_ss, y_train)\n",
    "print(f'best accuracy : {gb_grid.best_score_}')\n",
    "print('best param : ', gb_grid.best_params_)\n",
    "pred = gb_grid.predict(x_test_ss)\n",
    "confusion_matrix(y_test, pred)"
   ]
  },
  {
   "cell_type": "markdown",
   "id": "bb3e5430",
   "metadata": {},
   "source": [
    "## SVC"
   ]
  },
  {
   "cell_type": "code",
   "execution_count": null,
   "id": "d30e476d",
   "metadata": {},
   "outputs": [],
   "source": [
    "from sklearn.preprocessing import LabelEncoder\n",
    "object_columns = train.select_dtypes('object').columns\n",
    "\n",
    "for i in object_columns:\n",
    "\n",
    "    lb = LabelEncoder()\n",
    "    lb.fit(train[i])\n",
    "    train[i] = lb.transform(train[i])\n",
    "    \n",
    "    print(f'category : {np.unique(train[i])}\\nclasses : {lb.classes_}\\n')"
   ]
  },
  {
   "cell_type": "code",
   "execution_count": 200,
   "id": "09543b75",
   "metadata": {},
   "outputs": [
    {
     "data": {
      "text/html": [
       "<div>\n",
       "<style scoped>\n",
       "    .dataframe tbody tr th:only-of-type {\n",
       "        vertical-align: middle;\n",
       "    }\n",
       "\n",
       "    .dataframe tbody tr th {\n",
       "        vertical-align: top;\n",
       "    }\n",
       "\n",
       "    .dataframe thead th {\n",
       "        text-align: right;\n",
       "    }\n",
       "</style>\n",
       "<table border=\"1\" class=\"dataframe\">\n",
       "  <thead>\n",
       "    <tr style=\"text-align: right;\">\n",
       "      <th></th>\n",
       "      <th>Warehouse_block</th>\n",
       "      <th>Mode_of_Shipment</th>\n",
       "      <th>Customer_care_calls</th>\n",
       "      <th>Customer_rating</th>\n",
       "      <th>Cost_of_the_Product</th>\n",
       "      <th>Prior_purchases</th>\n",
       "      <th>Product_importance</th>\n",
       "      <th>Weight_in_gms</th>\n",
       "    </tr>\n",
       "  </thead>\n",
       "  <tbody>\n",
       "    <tr>\n",
       "      <th>0</th>\n",
       "      <td>2</td>\n",
       "      <td>2</td>\n",
       "      <td>2</td>\n",
       "      <td>2</td>\n",
       "      <td>135</td>\n",
       "      <td>3.0</td>\n",
       "      <td>1</td>\n",
       "      <td>1339</td>\n",
       "    </tr>\n",
       "    <tr>\n",
       "      <th>1</th>\n",
       "      <td>4</td>\n",
       "      <td>0</td>\n",
       "      <td>5</td>\n",
       "      <td>3</td>\n",
       "      <td>225</td>\n",
       "      <td>5.0</td>\n",
       "      <td>1</td>\n",
       "      <td>1082</td>\n",
       "    </tr>\n",
       "    <tr>\n",
       "      <th>2</th>\n",
       "      <td>4</td>\n",
       "      <td>2</td>\n",
       "      <td>3</td>\n",
       "      <td>1</td>\n",
       "      <td>229</td>\n",
       "      <td>3.0</td>\n",
       "      <td>1</td>\n",
       "      <td>4971</td>\n",
       "    </tr>\n",
       "    <tr>\n",
       "      <th>3</th>\n",
       "      <td>4</td>\n",
       "      <td>2</td>\n",
       "      <td>3</td>\n",
       "      <td>2</td>\n",
       "      <td>228</td>\n",
       "      <td>3.0</td>\n",
       "      <td>2</td>\n",
       "      <td>5640</td>\n",
       "    </tr>\n",
       "    <tr>\n",
       "      <th>4</th>\n",
       "      <td>3</td>\n",
       "      <td>0</td>\n",
       "      <td>4</td>\n",
       "      <td>1</td>\n",
       "      <td>195</td>\n",
       "      <td>6.0</td>\n",
       "      <td>0</td>\n",
       "      <td>4944</td>\n",
       "    </tr>\n",
       "    <tr>\n",
       "      <th>...</th>\n",
       "      <td>...</td>\n",
       "      <td>...</td>\n",
       "      <td>...</td>\n",
       "      <td>...</td>\n",
       "      <td>...</td>\n",
       "      <td>...</td>\n",
       "      <td>...</td>\n",
       "      <td>...</td>\n",
       "    </tr>\n",
       "    <tr>\n",
       "      <th>6994</th>\n",
       "      <td>3</td>\n",
       "      <td>2</td>\n",
       "      <td>4</td>\n",
       "      <td>2</td>\n",
       "      <td>232</td>\n",
       "      <td>5.0</td>\n",
       "      <td>2</td>\n",
       "      <td>1783</td>\n",
       "    </tr>\n",
       "    <tr>\n",
       "      <th>6995</th>\n",
       "      <td>4</td>\n",
       "      <td>2</td>\n",
       "      <td>3</td>\n",
       "      <td>5</td>\n",
       "      <td>228</td>\n",
       "      <td>2.0</td>\n",
       "      <td>2</td>\n",
       "      <td>5208</td>\n",
       "    </tr>\n",
       "    <tr>\n",
       "      <th>6996</th>\n",
       "      <td>3</td>\n",
       "      <td>2</td>\n",
       "      <td>3</td>\n",
       "      <td>1</td>\n",
       "      <td>300</td>\n",
       "      <td>5.0</td>\n",
       "      <td>1</td>\n",
       "      <td>1787</td>\n",
       "    </tr>\n",
       "    <tr>\n",
       "      <th>6997</th>\n",
       "      <td>0</td>\n",
       "      <td>1</td>\n",
       "      <td>3</td>\n",
       "      <td>1</td>\n",
       "      <td>232</td>\n",
       "      <td>2.0</td>\n",
       "      <td>2</td>\n",
       "      <td>4719</td>\n",
       "    </tr>\n",
       "    <tr>\n",
       "      <th>6998</th>\n",
       "      <td>0</td>\n",
       "      <td>2</td>\n",
       "      <td>3</td>\n",
       "      <td>3</td>\n",
       "      <td>262</td>\n",
       "      <td>7.0</td>\n",
       "      <td>0</td>\n",
       "      <td>5097</td>\n",
       "    </tr>\n",
       "  </tbody>\n",
       "</table>\n",
       "<p>6897 rows × 8 columns</p>\n",
       "</div>"
      ],
      "text/plain": [
       "      Warehouse_block  Mode_of_Shipment  Customer_care_calls  Customer_rating  \\\n",
       "0                   2                 2                    2                2   \n",
       "1                   4                 0                    5                3   \n",
       "2                   4                 2                    3                1   \n",
       "3                   4                 2                    3                2   \n",
       "4                   3                 0                    4                1   \n",
       "...               ...               ...                  ...              ...   \n",
       "6994                3                 2                    4                2   \n",
       "6995                4                 2                    3                5   \n",
       "6996                3                 2                    3                1   \n",
       "6997                0                 1                    3                1   \n",
       "6998                0                 2                    3                3   \n",
       "\n",
       "      Cost_of_the_Product  Prior_purchases  Product_importance  Weight_in_gms  \n",
       "0                     135              3.0                   1           1339  \n",
       "1                     225              5.0                   1           1082  \n",
       "2                     229              3.0                   1           4971  \n",
       "3                     228              3.0                   2           5640  \n",
       "4                     195              6.0                   0           4944  \n",
       "...                   ...              ...                 ...            ...  \n",
       "6994                  232              5.0                   2           1783  \n",
       "6995                  228              2.0                   2           5208  \n",
       "6996                  300              5.0                   1           1787  \n",
       "6997                  232              2.0                   2           4719  \n",
       "6998                  262              7.0                   0           5097  \n",
       "\n",
       "[6897 rows x 8 columns]"
      ]
     },
     "execution_count": 200,
     "metadata": {},
     "output_type": "execute_result"
    }
   ],
   "source": [
    "input = train.iloc[:,:-1]\n",
    "target = train.iloc[:,-1]\n",
    "\n",
    "input"
   ]
  },
  {
   "cell_type": "code",
   "execution_count": 232,
   "id": "0bfdebe6",
   "metadata": {},
   "outputs": [
    {
     "name": "stdout",
     "output_type": "stream",
     "text": [
      "0.6415458937198067\n",
      "0.7180851063829787\n"
     ]
    },
    {
     "data": {
      "text/plain": [
       "array([[383, 449],\n",
       "       [293, 945]], dtype=int64)"
      ]
     },
     "execution_count": 232,
     "metadata": {},
     "output_type": "execute_result"
    }
   ],
   "source": [
    "x_train, x_test, y_train, y_test = train_test_split(input, target, test_size=0.3, random_state=42)\n",
    "\n",
    "for column in object_columns:\n",
    "    dummy = pd.get_dummies(x_train[column], prefix=column)\n",
    "    x_train = pd.concat([x_train, dummy], axis = 1)\n",
    "    x_train.drop(column, axis = 1, inplace=True)\n",
    "\n",
    "for column in object_columns:\n",
    "    dummy = pd.get_dummies(x_test[column], prefix=column)\n",
    "    x_test = pd.concat([x_test, dummy], axis = 1)\n",
    "    x_test.drop(column, axis = 1, inplace=True)\n",
    "\n",
    "ss = MinMaxScaler()\n",
    "x_train_ss = ss.fit_transform(x_train)\n",
    "x_test_ss = ss.transform(x_test)\n",
    "\n",
    "svc = SVC(random_state=42)\n",
    "svc.fit(x_train_ss, y_train)\n",
    "pred = svc.predict(x_test_ss)\n",
    "print(accuracy_score(y_test, pred))\n",
    "print(f1_score(y_test, pred))\n",
    "\n",
    "from sklearn.metrics import confusion_matrix\n",
    "confusion_matrix(y_test, pred)"
   ]
  },
  {
   "cell_type": "code",
   "execution_count": 228,
   "id": "37faf80c",
   "metadata": {},
   "outputs": [
    {
     "name": "stdout",
     "output_type": "stream",
     "text": [
      "0.5971014492753624\n",
      "0.7435424354243543\n"
     ]
    }
   ],
   "source": [
    "x_train, x_test, y_train, y_test = train_test_split(input, target, test_size=0.3, random_state=42)\n",
    "\n",
    "for column in object_columns:\n",
    "    dummy = pd.get_dummies(x_train[column], prefix=column)\n",
    "    x_train = pd.concat([x_train, dummy], axis = 1)\n",
    "    x_train.drop(column, axis = 1, inplace=True)\n",
    "\n",
    "for column in object_columns:\n",
    "    dummy = pd.get_dummies(x_test[column], prefix=column)\n",
    "    x_test = pd.concat([x_test, dummy], axis = 1)\n",
    "    x_test.drop(column, axis = 1, inplace=True)\n",
    "\n",
    "ss = MinMaxScaler()\n",
    "x_train_ss = ss.fit_transform(x_train)\n",
    "x_test_ss = ss.transform(x_test)\n",
    "\n",
    "svc = SVC(C=0.1, gamma=10, random_state=42)\n",
    "svc.fit(x_train_ss, y_train)\n",
    "pred = svc.predict(x_test_ss)\n",
    "print(accuracy_score(y_test, pred))\n",
    "print(f1_score(y_test, pred))"
   ]
  },
  {
   "cell_type": "code",
   "execution_count": 229,
   "id": "c4f85929",
   "metadata": {},
   "outputs": [
    {
     "data": {
      "text/plain": [
       "array([[  27,  805],\n",
       "       [  29, 1209]], dtype=int64)"
      ]
     },
     "execution_count": 229,
     "metadata": {},
     "output_type": "execute_result"
    }
   ],
   "source": [
    "from sklearn.metrics import confusion_matrix\n",
    "confusion_matrix(y_test, pred)"
   ]
  },
  {
   "cell_type": "code",
   "execution_count": 351,
   "id": "ec63f013",
   "metadata": {},
   "outputs": [
    {
     "name": "stdout",
     "output_type": "stream",
     "text": [
      "0.6352657004830918\n",
      "0.7024044146629878\n"
     ]
    }
   ],
   "source": [
    "x_train, x_test, y_train, y_test = train_test_split(input, target, test_size=0.3, random_state=42)\n",
    "\n",
    "for column in object_columns:\n",
    "    dummy = pd.get_dummies(x_train[column], prefix=column)\n",
    "    x_train = pd.concat([x_train, dummy], axis = 1)\n",
    "    x_train.drop(column, axis = 1, inplace=True)\n",
    "\n",
    "for column in object_columns:\n",
    "    dummy = pd.get_dummies(x_test[column], prefix=column)\n",
    "    x_test = pd.concat([x_test, dummy], axis = 1)\n",
    "    x_test.drop(column, axis = 1, inplace=True)\n",
    "\n",
    "ss = MinMaxScaler()\n",
    "x_train_ss = ss.fit_transform(x_train)\n",
    "x_test_ss = ss.transform(x_test)\n",
    "\n",
    "svc = SVC(C=100, gamma=0.01, random_state=42)\n",
    "svc.fit(x_train_ss, y_train)\n",
    "pred = svc.predict(x_test_ss)\n",
    "print(accuracy_score(y_test, pred))\n",
    "print(f1_score(y_test, pred))"
   ]
  },
  {
   "cell_type": "code",
   "execution_count": 231,
   "id": "ec3d50f6",
   "metadata": {},
   "outputs": [
    {
     "data": {
      "text/plain": [
       "array([[441, 391],\n",
       "       [357, 881]], dtype=int64)"
      ]
     },
     "execution_count": 231,
     "metadata": {},
     "output_type": "execute_result"
    }
   ],
   "source": [
    "from sklearn.metrics import confusion_matrix\n",
    "confusion_matrix(y_test, pred)"
   ]
  },
  {
   "cell_type": "code",
   "execution_count": null,
   "id": "8a3c9b43",
   "metadata": {},
   "outputs": [],
   "source": [
    "param_grid = {'C': [0.001, 0.01, 0.1, 1, 10, 100],\n",
    "             'gamma': [0.001, 0.01, 0.1, 1, 10, 100] }\n",
    "from sklearn.model_selection import GridSearchCV\n",
    "svc_grid = GridSearchCV(SVC, param_grid, scoring='accuracy')\n",
    "svc_grid.fit(x_train_ss, y_train)\n",
    "print(f'best f1 : {svc_grid.best_score_}')\n",
    "print('best param : ', svc_grid.best_params_)"
   ]
  },
  {
   "cell_type": "code",
   "execution_count": 222,
   "id": "e65aa8ec",
   "metadata": {},
   "outputs": [
    {
     "name": "stdout",
     "output_type": "stream",
     "text": [
      "best f1 : 0.6434628133749557\n",
      "best param :  {'C': 100, 'gamma': 0.01}\n"
     ]
    }
   ],
   "source": [
    "x_train, x_test, y_train, y_test = train_test_split(input, target, test_size=0.3, random_state=42)\n",
    "\n",
    "for column in object_columns:\n",
    "    dummy = pd.get_dummies(x_train[column], prefix=column)\n",
    "    x_train = pd.concat([x_train, dummy], axis = 1)\n",
    "    x_train.drop(column, axis = 1, inplace=True)\n",
    "\n",
    "for column in object_columns:\n",
    "    dummy = pd.get_dummies(x_test[column], prefix=column)\n",
    "    x_test = pd.concat([x_test, dummy], axis = 1)\n",
    "    x_test.drop(column, axis = 1, inplace=True)\n",
    "\n",
    "ss = MinMaxScaler()\n",
    "x_train_ss = ss.fit_transform(x_train)\n",
    "x_test_ss = ss.transform(x_test)\n",
    "\n",
    "svc = SVC(random_state=42)\n",
    "\n",
    "param_grid = {'C': [0.001, 0.01, 0.1, 1, 10, 100],\n",
    "             'gamma': [0.001, 0.01, 0.1, 1, 10, 100] }\n",
    "from sklearn.model_selection import GridSearchCV\n",
    "svc_grid = GridSearchCV(svc, param_grid, scoring='accuracy')\n",
    "svc_grid.fit(x_train_ss, y_train)\n",
    "print(f'best f1 : {svc_grid.best_score_}')\n",
    "print('best param : ', svc_grid.best_params_)"
   ]
  },
  {
   "cell_type": "markdown",
   "id": "e16cd4ba",
   "metadata": {},
   "source": [
    "## mlp"
   ]
  },
  {
   "cell_type": "code",
   "execution_count": 236,
   "id": "aa5de5a0",
   "metadata": {},
   "outputs": [
    {
     "name": "stdout",
     "output_type": "stream",
     "text": [
      "0.6256038647342995\n",
      "0.7339512530037762\n"
     ]
    },
    {
     "data": {
      "text/plain": [
       "array([[ 226,  606],\n",
       "       [ 169, 1069]], dtype=int64)"
      ]
     },
     "execution_count": 236,
     "metadata": {},
     "output_type": "execute_result"
    }
   ],
   "source": [
    "x_train, x_test, y_train, y_test = train_test_split(input, target, test_size=0.3, random_state=42)\n",
    "\n",
    "for column in object_columns:\n",
    "    dummy = pd.get_dummies(x_train[column], prefix=column)\n",
    "    x_train = pd.concat([x_train, dummy], axis = 1)\n",
    "    x_train.drop(column, axis = 1, inplace=True)\n",
    "\n",
    "for column in object_columns:\n",
    "    dummy = pd.get_dummies(x_test[column], prefix=column)\n",
    "    x_test = pd.concat([x_test, dummy], axis = 1)\n",
    "    x_test.drop(column, axis = 1, inplace=True)\n",
    "\n",
    "ss = MinMaxScaler()\n",
    "x_train_ss = ss.fit_transform(x_train)\n",
    "x_test_ss = ss.transform(x_test)\n",
    "\n",
    "mp = MLPClassifier(activation='tanh', hidden_layer_sizes=100, solver='adam', alpha=1, max_iter=1000)\n",
    "mp.fit(x_train_ss, y_train)\n",
    "# param_grid={'hidden_layer_sizes': [10, 30, 50, 100], 'solver': ['sgd', 'adam'], \n",
    "#              'activation': ['tanh', 'relu']}\n",
    "# from sklearn.model_selection import GridSearchCV\n",
    "# mp_grid = grid_search=GridSearchCV(mp, param_grid, scoring='f1')\n",
    "# mp_grid.fit(x_train_ss, y_train)\n",
    "# print(f'best f1 : {mp_grid.best_score_}')\n",
    "# print('best param : ', mp_grid.best_params_)\n",
    "pred = mp.predict(x_test_ss)\n",
    "print(accuracy_score(y_test, pred))\n",
    "print(f1_score(y_test, pred))\n",
    "\n",
    "from sklearn.metrics import confusion_matrix\n",
    "confusion_matrix(y_test, pred)"
   ]
  },
  {
   "cell_type": "code",
   "execution_count": 237,
   "id": "d0b3b2ba",
   "metadata": {},
   "outputs": [
    {
     "name": "stdout",
     "output_type": "stream",
     "text": [
      "best accuracy : 0.6627249809588174\n",
      "best param :  {'activation': 'tanh', 'alpha': 0.0001, 'hidden_layer_sizes': 100, 'learning_rate_init': 0.01, 'solver': 'adam'}\n"
     ]
    },
    {
     "data": {
      "text/plain": [
       "array([[637, 195],\n",
       "       [503, 735]], dtype=int64)"
      ]
     },
     "execution_count": 237,
     "metadata": {},
     "output_type": "execute_result"
    }
   ],
   "source": [
    "x_train, x_test, y_train, y_test = train_test_split(input, target, test_size=0.3, random_state=42)\n",
    "\n",
    "for column in object_columns:\n",
    "    dummy = pd.get_dummies(x_train[column], prefix=column)\n",
    "    x_train = pd.concat([x_train, dummy], axis = 1)\n",
    "    x_train.drop(column, axis = 1, inplace=True)\n",
    "\n",
    "for column in object_columns:\n",
    "    dummy = pd.get_dummies(x_test[column], prefix=column)\n",
    "    x_test = pd.concat([x_test, dummy], axis = 1)\n",
    "    x_test.drop(column, axis = 1, inplace=True)\n",
    "\n",
    "ss = MinMaxScaler()\n",
    "x_train_ss = ss.fit_transform(x_train)\n",
    "x_test_ss = ss.transform(x_test)\n",
    "\n",
    "mp = MLPClassifier(activation='tanh', hidden_layer_sizes=100, solver='adam', alpha=1, max_iter=1000)\n",
    "param_grid={'hidden_layer_sizes': [50, 100], 'solver': ['adam'], \n",
    "             'activation': ['tanh', 'relu'], 'alpha': ([0.01,0.001, 0.0001]),   'learning_rate_init': [0.01, 0.001]}\n",
    "from sklearn.model_selection import GridSearchCV\n",
    "mp_grid = GridSearchCV(mp, param_grid, scoring='accuracy')\n",
    "mp_grid.fit(x_train_ss, y_train)\n",
    "print(f'best accuracy : {mp_grid.best_score_}')\n",
    "print('best param : ', mp_grid.best_params_)\n",
    "pred = mp_grid.predict(x_test_ss)\n",
    "confusion_matrix(y_test, pred)"
   ]
  },
  {
   "cell_type": "code",
   "execution_count": 352,
   "id": "f481fe2c",
   "metadata": {
    "scrolled": true
   },
   "outputs": [
    {
     "name": "stdout",
     "output_type": "stream",
     "text": [
      "0.6483091787439613\n",
      "0.6767317939609236\n"
     ]
    },
    {
     "data": {
      "text/plain": [
       "array([[580, 252],\n",
       "       [476, 762]], dtype=int64)"
      ]
     },
     "execution_count": 352,
     "metadata": {},
     "output_type": "execute_result"
    }
   ],
   "source": [
    "## mean\n",
    "x_train, x_test, y_train, y_test = train_test_split(input, target, test_size=0.3, random_state=42)\n",
    "object_columns = train.select_dtypes('object').columns\n",
    "\n",
    "for column in object_columns:\n",
    "    dummy = pd.get_dummies(x_train[column], prefix=column)\n",
    "    x_train = pd.concat([x_train, dummy], axis = 1)\n",
    "    x_train.drop(column, axis = 1, inplace=True)\n",
    "\n",
    "for column in object_columns:\n",
    "    dummy = pd.get_dummies(x_test[column], prefix=column)\n",
    "    x_test = pd.concat([x_test, dummy], axis = 1)\n",
    "    x_test.drop(column, axis = 1, inplace=True)\n",
    "\n",
    "ss = MinMaxScaler()\n",
    "x_train_ss = ss.fit_transform(x_train)\n",
    "x_test_ss = ss.transform(x_test)\n",
    "\n",
    "mp = MLPClassifier(activation='tanh', hidden_layer_sizes=100, solver='adam', \n",
    "                   alpha=0.0001, max_iter=1000, learning_rate_init=0.01, random_state=42)\n",
    "mp.fit(x_train_ss, y_train)\n",
    "pred = mp.predict(x_test_ss)\n",
    "print(accuracy_score(y_test, pred))\n",
    "print(f1_score(y_test, pred))\n",
    "\n",
    "from sklearn.metrics import confusion_matrix\n",
    "confusion_matrix(y_test, pred)"
   ]
  },
  {
   "cell_type": "code",
   "execution_count": 286,
   "id": "858c54f4",
   "metadata": {},
   "outputs": [
    {
     "name": "stdout",
     "output_type": "stream",
     "text": [
      "0.6483091787439613\n",
      "0.6767317939609236\n"
     ]
    },
    {
     "data": {
      "text/plain": [
       "array([[580, 252],\n",
       "       [476, 762]], dtype=int64)"
      ]
     },
     "execution_count": 286,
     "metadata": {},
     "output_type": "execute_result"
    }
   ],
   "source": [
    "## median\n",
    "x_train, x_test, y_train, y_test = train_test_split(input, target, test_size=0.3, random_state=42)\n",
    "object_columns = train.select_dtypes('object').columns\n",
    "\n",
    "for column in object_columns:\n",
    "    dummy = pd.get_dummies(x_train[column], prefix=column)\n",
    "    x_train = pd.concat([x_train, dummy], axis = 1)\n",
    "    x_train.drop(column, axis = 1, inplace=True)\n",
    "\n",
    "for column in object_columns:\n",
    "    dummy = pd.get_dummies(x_test[column], prefix=column)\n",
    "    x_test = pd.concat([x_test, dummy], axis = 1)\n",
    "    x_test.drop(column, axis = 1, inplace=True)\n",
    "\n",
    "ss = MinMaxScaler()\n",
    "x_train_ss = ss.fit_transform(x_train)\n",
    "x_test_ss = ss.transform(x_test)\n",
    "\n",
    "mp = MLPClassifier(activation='tanh', hidden_layer_sizes=100, solver='adam', \n",
    "                   alpha=0.0001, max_iter=1000, learning_rate_init=0.01, random_state=42)\n",
    "mp.fit(x_train_ss, y_train)\n",
    "pred = mp.predict(x_test_ss)\n",
    "print(accuracy_score(y_test, pred))\n",
    "print(f1_score(y_test, pred))\n",
    "\n",
    "from sklearn.metrics import confusion_matrix\n",
    "confusion_matrix(y_test, pred)"
   ]
  },
  {
   "cell_type": "markdown",
   "id": "3715e190",
   "metadata": {},
   "source": [
    "### 일단 svm 모델이 가장 높아보이니 시도"
   ]
  },
  {
   "cell_type": "code",
   "execution_count": 367,
   "id": "7fd89a29",
   "metadata": {},
   "outputs": [
    {
     "name": "stdout",
     "output_type": "stream",
     "text": [
      "<class 'pandas.core.frame.DataFrame'>\n",
      "Int64Index: 6897 entries, 0 to 6998\n",
      "Data columns (total 9 columns):\n",
      " #   Column               Non-Null Count  Dtype  \n",
      "---  ------               --------------  -----  \n",
      " 0   Warehouse_block      6897 non-null   object \n",
      " 1   Mode_of_Shipment     6897 non-null   object \n",
      " 2   Customer_care_calls  6897 non-null   int64  \n",
      " 3   Customer_rating      6897 non-null   int64  \n",
      " 4   Cost_of_the_Product  6897 non-null   int64  \n",
      " 5   Prior_purchases      6897 non-null   float64\n",
      " 6   Product_importance   6897 non-null   object \n",
      " 7   Weight_in_gms        6897 non-null   int64  \n",
      " 8   Reached.on.Time_Y.N  6897 non-null   int64  \n",
      "dtypes: float64(1), int64(5), object(3)\n",
      "memory usage: 538.8+ KB\n"
     ]
    }
   ],
   "source": [
    "train = pd.read_csv(\"./smhrd_data/Train.csv\")\n",
    "train.drop(['ID', 'Gender', 'Discount_offered'], axis=1, inplace=True)\n",
    "# 결측치의 형태가 ?인 데이터를 NA로 대체\n",
    "train = train.replace('?', pd.NA)\n",
    "\n",
    "# Warehouse_block 컬럼 이름에 공백들어가 있어서 재설정\n",
    "train.columns = ['Warehouse_block', 'Mode_of_Shipment', 'Customer_care_calls',\n",
    "       'Customer_rating', 'Cost_of_the_Product', 'Prior_purchases',\n",
    "       'Product_importance', 'Weight_in_gms', 'Reached.on.Time_Y.N']\n",
    "\n",
    "# 연속형 변수중에서 이상치 제거 (개수가 많지 않을뿐더러 5개를 채우려고 하는 것은 비효율적이라고 생각하기 때문)\n",
    "train = train[(train['Customer_rating']!=99) & (train['Cost_of_the_Product']!=9999)]\n",
    "\n",
    "# Mode_of_Shipment에서 끝에 zk가 붙은 이상치 수정\n",
    "train['Mode_of_Shipment'] = train['Mode_of_Shipment'].apply(lambda x: x.replace('zk', '') if pd.notna(x) else x)\n",
    "train = train[train['Product_importance'].notnull()]\n",
    "\n",
    "# Product_importance에서 끝에 m이 하나씩 더붙은 이상치 수정\n",
    "train['Product_importance'] = train['Product_importance'].apply(lambda x: x[:-1] if x[-1]==x[-2] else x)\n",
    "\n",
    "train['Weight_in_gms'] = train['Weight_in_gms'].apply(lambda x: int(x) if str(x).isdigit() else x)\n",
    "train['Mode_of_Shipment'].fillna(' Ship', inplace=True)\n",
    "\n",
    "def fill_calls(row) :\n",
    "    if np.isnan(row['Customer_care_calls']):\n",
    "        return pt1.loc[(row['Customer_rating'], row['Mode_of_Shipment'])]\n",
    "    else:\n",
    "        return row['Customer_care_calls']\n",
    "\n",
    "pt1 = train[['Customer_care_calls', 'Customer_rating', 'Mode_of_Shipment']].groupby(['Customer_rating', 'Mode_of_Shipment']).agg(lambda x: x.mode().iloc[0])\n",
    "train['Customer_care_calls'] = train.apply(fill_calls, axis = 1).astype('int64')\n",
    "\n",
    "def fill_gms(row) :\n",
    "    if pd.isnull(row['Weight_in_gms']):\n",
    "        return pt2.loc[(row['Mode_of_Shipment'])]\n",
    "    else:\n",
    "        return row['Weight_in_gms']\n",
    "pt2 = train[['Mode_of_Shipment', 'Weight_in_gms']].groupby(['Mode_of_Shipment']).median()\n",
    "train['Weight_in_gms'] = train.apply(fill_gms, axis = 1).astype('int64')\n",
    "\n",
    "train['Prior_purchases'] = train['Prior_purchases'].apply(lambda x: 3 if pd.isnull(x) else x)\n",
    "train.info()"
   ]
  },
  {
   "cell_type": "code",
   "execution_count": 368,
   "id": "63c1a199",
   "metadata": {},
   "outputs": [
    {
     "name": "stdout",
     "output_type": "stream",
     "text": [
      "<class 'pandas.core.frame.DataFrame'>\n",
      "RangeIndex: 4000 entries, 0 to 3999\n",
      "Data columns (total 8 columns):\n",
      " #   Column               Non-Null Count  Dtype  \n",
      "---  ------               --------------  -----  \n",
      " 0   Warehouse_block      4000 non-null   object \n",
      " 1   Mode_of_Shipment     4000 non-null   object \n",
      " 2   Customer_care_calls  4000 non-null   int64  \n",
      " 3   Customer_rating      4000 non-null   int64  \n",
      " 4   Cost_of_the_Product  4000 non-null   int64  \n",
      " 5   Prior_purchases      4000 non-null   float64\n",
      " 6   Product_importance   4000 non-null   object \n",
      " 7   Weight_in_gms        4000 non-null   int64  \n",
      "dtypes: float64(1), int64(4), object(3)\n",
      "memory usage: 250.1+ KB\n"
     ]
    }
   ],
   "source": [
    "test = pd.read_csv(\"./smhrd_data/test.csv\")\n",
    "\n",
    "test.drop(['ID', 'Gender', 'Discount_offered'], axis=1, inplace=True)\n",
    "# 결측치의 형태가 ?인 데이터를 NA로 대체\n",
    "test = test.replace('?', pd.NA)\n",
    "\n",
    "# Warehouse_block 컬럼 이름에 공백들어가 있어서 재설정\n",
    "test.columns = ['Warehouse_block', 'Mode_of_Shipment', 'Customer_care_calls',\n",
    "       'Customer_rating', 'Cost_of_the_Product', 'Prior_purchases',\n",
    "       'Product_importance', 'Weight_in_gms']\n",
    "\n",
    "# 연속형 변수중에서 이상치 제거 (개수가 많지 않을뿐더러 5개를 채우려고 하는 것은 비효율적이라고 생각하기 때문)\n",
    "# test = test[(test['Customer_rating']!=99) & (test['Cost_of_the_Product']!=9999)]\n",
    "\n",
    "# Mode_of_Shipment에서 끝에 zk가 붙은 이상치 수정\n",
    "test['Mode_of_Shipment'] = test['Mode_of_Shipment'].apply(lambda x: x.replace('zk', '') if pd.notna(x) else x)\n",
    "test['Product_importance'].fillna('low', inplace=True)\n",
    "\n",
    "# Product_importance에서 끝에 m이 하나씩 더붙은 이상치 수정\n",
    "test['Product_importance'] = test['Product_importance'].apply(lambda x: x[:-1] if x[-1]==x[-2] else x)\n",
    "\n",
    "test['Weight_in_gms'] = test['Weight_in_gms'].apply(lambda x: int(x) if str(x).isdigit() else x)\n",
    "test['Mode_of_Shipment'].fillna(' Ship', inplace=True)\n",
    "\n",
    "def fill_calls(row) :\n",
    "    if np.isnan(row['Customer_care_calls']):\n",
    "        return pt1.loc[(row['Customer_rating'], row['Mode_of_Shipment'])]\n",
    "    else:\n",
    "        return row['Customer_care_calls']\n",
    "\n",
    "pt1 = train[['Customer_care_calls', 'Customer_rating', 'Mode_of_Shipment']].groupby(['Customer_rating', 'Mode_of_Shipment']).agg(lambda x: x.mode().iloc[0])\n",
    "test['Customer_care_calls'] = test.apply(fill_calls, axis = 1).astype('int64')\n",
    "\n",
    "def fill_gms(row) :\n",
    "    if pd.isnull(row['Weight_in_gms']):\n",
    "        return pt2.loc[(row['Mode_of_Shipment'])]\n",
    "    else:\n",
    "        return row['Weight_in_gms']\n",
    "pt2 = train[['Mode_of_Shipment', 'Weight_in_gms']].groupby(['Mode_of_Shipment']).median()\n",
    "test['Weight_in_gms'] = test.apply(fill_gms, axis = 1).astype('int64')\n",
    "\n",
    "test['Prior_purchases'] = test['Prior_purchases'].apply(lambda x: 3 if pd.isnull(x) else x)\n",
    "test.info()"
   ]
  },
  {
   "cell_type": "code",
   "execution_count": 369,
   "id": "a861bc52",
   "metadata": {},
   "outputs": [],
   "source": [
    "# object_columns = train.select_dtypes('object').columns\n",
    "\n",
    "# for i in object_columns:\n",
    "\n",
    "#     lb = LabelEncoder()\n",
    "#     lb.fit(train[i])\n",
    "#     train[i] = lb.transform(train[i])\n",
    "#     test[i] = lb.transform(test[i])\n",
    "    \n",
    "#     print(f'train category : {np.unique(train[i])}\\nclasses : {lb.classes_}\\n')\n",
    "#     print(f'test category : {np.unique(test[i])}\\nclasses : {lb.classes_}\\n')\n",
    "\n",
    "input = train.iloc[:,:-1]\n",
    "target = train.iloc[:,-1]"
   ]
  },
  {
   "cell_type": "code",
   "execution_count": 480,
   "id": "cf7a8574",
   "metadata": {},
   "outputs": [],
   "source": [
    "ss = StandardScaler()\n",
    "input_ss = ss.fit_transform(input)\n",
    "test_ss = ss.transform(test)\n",
    "\n",
    "svc = SVC(random_state=42)\n",
    "svc.fit(input_ss, target)\n",
    "pred_svc = svc.predict(test_ss)"
   ]
  },
  {
   "cell_type": "code",
   "execution_count": 433,
   "id": "a631c4a7",
   "metadata": {},
   "outputs": [],
   "source": [
    "result = pd.read_csv('./smhrd_data/sampleSubmission.csv')\n",
    "result['Reached.on.Time_Y.N'] = pred_svc\n",
    "result.to_csv('result.csv', index=False)"
   ]
  },
  {
   "cell_type": "markdown",
   "id": "6dccda89",
   "metadata": {},
   "source": [
    "## mlp 시도 추가"
   ]
  },
  {
   "cell_type": "code",
   "execution_count": 255,
   "id": "67102614",
   "metadata": {},
   "outputs": [],
   "source": [
    "object_columns = train.select_dtypes('object').columns\n",
    "for column in object_columns:\n",
    "    dummy = pd.get_dummies(input[column], prefix=column)\n",
    "    input = pd.concat([input, dummy], axis = 1)\n",
    "    input.drop(column, axis = 1, inplace=True)\n",
    "\n",
    "for column in object_columns:\n",
    "    dummy = pd.get_dummies(test[column], prefix=column)\n",
    "    test = pd.concat([test, dummy], axis = 1)\n",
    "    test.drop(column, axis = 1, inplace=True)"
   ]
  },
  {
   "cell_type": "code",
   "execution_count": 256,
   "id": "51873ae6",
   "metadata": {},
   "outputs": [],
   "source": [
    "ss = StandardScaler()\n",
    "input_ss = ss.fit_transform(input)\n",
    "test_ss = ss.transform(test)\n",
    "\n",
    "mp = MLPClassifier(activation='tanh', hidden_layer_sizes=100, solver='adam', alpha=0.0001, max_iter=1000, learning_rate_init=0.01)\n",
    "mp.fit(input_ss, target)\n",
    "pred = mp.predict(test_ss)"
   ]
  },
  {
   "cell_type": "code",
   "execution_count": 257,
   "id": "610152ab",
   "metadata": {},
   "outputs": [
    {
     "name": "stdout",
     "output_type": "stream",
     "text": [
      "4000\n"
     ]
    }
   ],
   "source": [
    "result = pd.read_csv('result_mlp_01.csv')\n",
    "result['Reached.on.Time_Y.N'] = pred\n",
    "count = 0\n",
    "for i in range(len(pred)):\n",
    "    if result['Reached.on.Time_Y.N'][i]==pred[i]:\n",
    "        count += 1\n",
    "        \n",
    "print(count)"
   ]
  },
  {
   "cell_type": "code",
   "execution_count": 37,
   "id": "1b778b08",
   "metadata": {},
   "outputs": [
    {
     "data": {
      "text/plain": [
       "0       1\n",
       "1       1\n",
       "2       0\n",
       "3       1\n",
       "4       0\n",
       "       ..\n",
       "3995    1\n",
       "3996    1\n",
       "3997    1\n",
       "3998    1\n",
       "3999    1\n",
       "Name: Reached.on.Time_Y.N, Length: 4000, dtype: int64"
      ]
     },
     "execution_count": 37,
     "metadata": {},
     "output_type": "execute_result"
    }
   ],
   "source": [
    "result['Reached.on.Time_Y.N']"
   ]
  },
  {
   "cell_type": "markdown",
   "id": "401ba722",
   "metadata": {},
   "source": [
    "## gbm"
   ]
  },
  {
   "cell_type": "code",
   "execution_count": 370,
   "id": "272f042b",
   "metadata": {},
   "outputs": [],
   "source": [
    "object_columns = train.select_dtypes('object').columns\n",
    "for column in object_columns:\n",
    "    dummy = pd.get_dummies(input[column], prefix=column)\n",
    "    input = pd.concat([input, dummy], axis = 1)\n",
    "    input.drop(column, axis = 1, inplace=True)\n",
    "\n",
    "for column in object_columns:\n",
    "    dummy = pd.get_dummies(test[column], prefix=column)\n",
    "    test = pd.concat([test, dummy], axis = 1)\n",
    "    test.drop(column, axis = 1, inplace=True)\n",
    "    \n",
    "ss = MinMaxScaler()\n",
    "input_ss = ss.fit_transform(input)\n",
    "test_ss = ss.transform(test)\n",
    "\n",
    "gb = GradientBoostingClassifier(learning_rate=0.01, max_depth=4, n_estimators=500, subsample=0.7, random_state=42)\n",
    "gb.fit(input_ss, target)\n",
    "pred = gb.predict(test_ss)"
   ]
  },
  {
   "cell_type": "code",
   "execution_count": 372,
   "id": "a1956560",
   "metadata": {},
   "outputs": [],
   "source": [
    "result = pd.read_csv('./smhrd_data/sampleSubmission.csv')\n",
    "result['Reached.on.Time_Y.N'] = pred\n",
    "result.to_csv('result_gbm01.csv', index=False)"
   ]
  },
  {
   "cell_type": "code",
   "execution_count": 371,
   "id": "bcbe2c34",
   "metadata": {},
   "outputs": [
    {
     "name": "stdout",
     "output_type": "stream",
     "text": [
      "3160\n"
     ]
    }
   ],
   "source": [
    "result = pd.read_csv('result_mlp_01.csv')\n",
    "count = 0\n",
    "for i in range(len(pred)):\n",
    "    if result['Reached.on.Time_Y.N'][i]==pred[i]:\n",
    "        count += 1\n",
    "        \n",
    "print(count)"
   ]
  },
  {
   "cell_type": "code",
   "execution_count": null,
   "id": "08b4129c",
   "metadata": {},
   "outputs": [],
   "source": []
  }
 ],
 "metadata": {
  "kernelspec": {
   "display_name": "Python 3 (ipykernel)",
   "language": "python",
   "name": "python3"
  },
  "language_info": {
   "codemirror_mode": {
    "name": "ipython",
    "version": 3
   },
   "file_extension": ".py",
   "mimetype": "text/x-python",
   "name": "python",
   "nbconvert_exporter": "python",
   "pygments_lexer": "ipython3",
   "version": "3.10.9"
  }
 },
 "nbformat": 4,
 "nbformat_minor": 5
}
