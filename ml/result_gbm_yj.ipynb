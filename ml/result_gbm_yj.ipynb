{
 "cells": [
  {
   "cell_type": "code",
   "execution_count": 1,
   "id": "3e7ea39d",
   "metadata": {},
   "outputs": [],
   "source": [
    "import pandas as pd\n",
    "import numpy as np\n",
    "import seaborn as sns\n",
    "from sklearn.tree import DecisionTreeClassifier\n",
    "from sklearn.model_selection import train_test_split, cross_val_score\n",
    "from catboost import  CatBoostClassifier\n",
    "from sklearn.preprocessing import  StandardScaler, MinMaxScaler\n",
    "from sklearn.metrics import accuracy_score, f1_score,recall_score, precision_score\n",
    "from sklearn.ensemble import RandomForestClassifier, AdaBoostClassifier, GradientBoostingClassifier\n",
    "from sklearn.svm import SVC\n",
    "from sklearn.neural_network import MLPClassifier\n",
    "from xgboost import XGBClassifier\n",
    "from imblearn.under_sampling import OneSidedSelection, TomekLinks\n",
    "from xgboost import XGBClassifier\n",
    "from imblearn.over_sampling import SMOTE, ADASYN, BorderlineSMOTE\n",
    "from imblearn.combine import SMOTETomek, SMOTEENN\n",
    "from lightgbm import LGBMClassifier\n",
    "from sklearn.metrics import confusion_matrix\n",
    "from sklearn.ensemble import VotingClassifier\n",
    "from pycaret.classification import *"
   ]
  },
  {
   "cell_type": "code",
   "execution_count": 2,
   "id": "2b5e77c8",
   "metadata": {
    "scrolled": true
   },
   "outputs": [
    {
     "name": "stdout",
     "output_type": "stream",
     "text": [
      "<class 'pandas.core.frame.DataFrame'>\n",
      "Int64Index: 6897 entries, 0 to 6998\n",
      "Data columns (total 9 columns):\n",
      " #   Column               Non-Null Count  Dtype  \n",
      "---  ------               --------------  -----  \n",
      " 0   Warehouse_block      6897 non-null   object \n",
      " 1   Mode_of_Shipment     6897 non-null   object \n",
      " 2   Customer_care_calls  6897 non-null   int64  \n",
      " 3   Customer_rating      6897 non-null   int64  \n",
      " 4   Cost_of_the_Product  6897 non-null   int64  \n",
      " 5   Prior_purchases      6897 non-null   float64\n",
      " 6   Product_importance   6897 non-null   object \n",
      " 7   Weight_in_gms        6897 non-null   int64  \n",
      " 8   Reached.on.Time_Y.N  6897 non-null   int64  \n",
      "dtypes: float64(1), int64(5), object(3)\n",
      "memory usage: 538.8+ KB\n"
     ]
    }
   ],
   "source": [
    "train = pd.read_csv(\"./smhrd_data/Train.csv\")\n",
    "train.drop(['ID', 'Gender', 'Discount_offered'], axis=1, inplace=True)\n",
    "# 결측치의 형태가 ?인 데이터를 NA로 대체\n",
    "train = train.replace('?', pd.NA)\n",
    "\n",
    "# Warehouse_block 컬럼 이름에 공백들어가 있어서 재설정\n",
    "train.columns = ['Warehouse_block', 'Mode_of_Shipment', 'Customer_care_calls',\n",
    "       'Customer_rating', 'Cost_of_the_Product', 'Prior_purchases',\n",
    "       'Product_importance', 'Weight_in_gms', 'Reached.on.Time_Y.N']\n",
    "\n",
    "# 연속형 변수중에서 이상치 제거 (개수가 많지 않을뿐더러 5개를 채우려고 하는 것은 비효율적이라고 생각하기 때문)\n",
    "train = train[(train['Customer_rating']!=99) & (train['Cost_of_the_Product']!=9999)]\n",
    "\n",
    "# Mode_of_Shipment에서 끝에 zk가 붙은 이상치 수정\n",
    "train['Mode_of_Shipment'] = train['Mode_of_Shipment'].apply(lambda x: x.replace('zk', '') if pd.notna(x) else x)\n",
    "train = train[train['Product_importance'].notnull()]\n",
    "\n",
    "# Product_importance에서 끝에 m이 하나씩 더붙은 이상치 수정\n",
    "train['Product_importance'] = train['Product_importance'].apply(lambda x: x[:-1] if x[-1]==x[-2] else x)\n",
    "\n",
    "train['Weight_in_gms'] = train['Weight_in_gms'].apply(lambda x: int(x) if str(x).isdigit() else x)\n",
    "train['Mode_of_Shipment'].fillna(' Ship', inplace=True)\n",
    "\n",
    "def fill_calls(row) :\n",
    "    if np.isnan(row['Customer_care_calls']):\n",
    "        return pt1.loc[(row['Customer_rating'], row['Mode_of_Shipment'])]\n",
    "    else:\n",
    "        return row['Customer_care_calls']\n",
    "\n",
    "pt1 = train[['Customer_care_calls', 'Customer_rating', 'Mode_of_Shipment']].groupby(['Customer_rating', 'Mode_of_Shipment']).agg(lambda x: x.mode().iloc[0])\n",
    "train['Customer_care_calls'] = train.apply(fill_calls, axis = 1).astype('int64')\n",
    "\n",
    "train['Weight_in_gms'].fillna(3424, inplace=True)\n",
    "\n",
    "train['Weight_in_gms'] = train['Weight_in_gms'].apply(lambda x:int(x))\n",
    "\n",
    "train['Prior_purchases'] = train['Prior_purchases'].apply(lambda x: 3 if pd.isnull(x) else x)\n",
    "train.info()\n"
   ]
  },
  {
   "cell_type": "code",
   "execution_count": 3,
   "id": "d32fe594",
   "metadata": {},
   "outputs": [
    {
     "name": "stdout",
     "output_type": "stream",
     "text": [
      "<class 'pandas.core.frame.DataFrame'>\n",
      "RangeIndex: 4000 entries, 0 to 3999\n",
      "Data columns (total 8 columns):\n",
      " #   Column               Non-Null Count  Dtype  \n",
      "---  ------               --------------  -----  \n",
      " 0   Warehouse_block      4000 non-null   object \n",
      " 1   Mode_of_Shipment     4000 non-null   object \n",
      " 2   Customer_care_calls  4000 non-null   int64  \n",
      " 3   Customer_rating      4000 non-null   int64  \n",
      " 4   Cost_of_the_Product  4000 non-null   int64  \n",
      " 5   Prior_purchases      4000 non-null   float64\n",
      " 6   Product_importance   4000 non-null   object \n",
      " 7   Weight_in_gms        4000 non-null   int64  \n",
      "dtypes: float64(1), int64(4), object(3)\n",
      "memory usage: 250.1+ KB\n"
     ]
    }
   ],
   "source": [
    "test = pd.read_csv(\"./smhrd_data/test.csv\")\n",
    "\n",
    "test.drop(['ID', 'Gender', 'Discount_offered'], axis=1, inplace=True)\n",
    "# 결측치의 형태가 ?인 데이터를 NA로 대체\n",
    "test = test.replace('?', pd.NA)\n",
    "\n",
    "# Warehouse_block 컬럼 이름에 공백들어가 있어서 재설정\n",
    "test.columns = ['Warehouse_block', 'Mode_of_Shipment', 'Customer_care_calls',\n",
    "       'Customer_rating', 'Cost_of_the_Product', 'Prior_purchases',\n",
    "       'Product_importance', 'Weight_in_gms']\n",
    "\n",
    "# 연속형 변수중에서 이상치 제거 (개수가 많지 않을뿐더러 5개를 채우려고 하는 것은 비효율적이라고 생각하기 때문)\n",
    "# test = test[(test['Customer_rating']!=99) & (test['Cost_of_the_Product']!=9999)]\n",
    "\n",
    "# Mode_of_Shipment에서 끝에 zk가 붙은 이상치 수정\n",
    "test['Mode_of_Shipment'] = test['Mode_of_Shipment'].apply(lambda x: x.replace('zk', '') if pd.notna(x) else x)\n",
    "test['Product_importance'].fillna('low', inplace=True)\n",
    "\n",
    "# Product_importance에서 끝에 m이 하나씩 더붙은 이상치 수정\n",
    "test['Product_importance'] = test['Product_importance'].apply(lambda x: x[:-1] if x[-1]==x[-2] else x)\n",
    "\n",
    "test['Weight_in_gms'] = test['Weight_in_gms'].apply(lambda x: int(x) if str(x).isdigit() else x)\n",
    "test['Mode_of_Shipment'].fillna(' Ship', inplace=True)\n",
    "\n",
    "def fill_calls(row) :\n",
    "    if np.isnan(row['Customer_care_calls']):\n",
    "        return pt1.loc[(row['Customer_rating'], row['Mode_of_Shipment'])]\n",
    "    else:\n",
    "        return row['Customer_care_calls']\n",
    "\n",
    "pt1 = train[['Customer_care_calls', 'Customer_rating', 'Mode_of_Shipment']].groupby(['Customer_rating', 'Mode_of_Shipment']).agg(lambda x: x.mode().iloc[0])\n",
    "test['Customer_care_calls'] = test.apply(fill_calls, axis = 1).astype('int64')\n",
    "\n",
    "test['Weight_in_gms'].fillna(3424, inplace=True)\n",
    "\n",
    "test['Weight_in_gms'] = test['Weight_in_gms'].apply(lambda x:int(x))\n",
    "\n",
    "test['Prior_purchases'] = test['Prior_purchases'].apply(lambda x: 3 if pd.isnull(x) else x)\n",
    "test.info()"
   ]
  },
  {
   "cell_type": "code",
   "execution_count": 4,
   "id": "b618d31f",
   "metadata": {},
   "outputs": [],
   "source": [
    "input = train.iloc[:,:-1]\n",
    "target = train.iloc[:,-1]"
   ]
  },
  {
   "cell_type": "markdown",
   "id": "00a9a9fb",
   "metadata": {},
   "source": [
    "### 0.68892 GBM "
   ]
  },
  {
   "cell_type": "code",
   "execution_count": 5,
   "id": "60674c07",
   "metadata": {},
   "outputs": [
    {
     "name": "stdout",
     "output_type": "stream",
     "text": [
      "0.6710144927536232\n",
      "0.6792275082430522\n",
      "0.5823909531502424\n",
      "0.8146892655367232\n"
     ]
    },
    {
     "data": {
      "text/plain": [
       "array([[668, 164],\n",
       "       [517, 721]], dtype=int64)"
      ]
     },
     "execution_count": 5,
     "metadata": {},
     "output_type": "execute_result"
    }
   ],
   "source": [
    "object_columns = train.select_dtypes('object').columns\n",
    "x_train, x_test, y_train, y_test = train_test_split(input, target, test_size=0.3, random_state=42)\n",
    "\n",
    "for column in object_columns:\n",
    "    dummy = pd.get_dummies(x_train[column], prefix=column)\n",
    "    x_train = pd.concat([x_train, dummy], axis = 1)\n",
    "    x_train.drop(column, axis = 1, inplace=True)\n",
    "\n",
    "for column in object_columns:\n",
    "    dummy = pd.get_dummies(x_test[column], prefix=column)\n",
    "    x_test = pd.concat([x_test, dummy], axis = 1)\n",
    "    x_test.drop(column, axis = 1, inplace=True)\n",
    "\n",
    "ss = MinMaxScaler()\n",
    "x_train_ss = ss.fit_transform(x_train)\n",
    "x_test_ss = ss.transform(x_test)\n",
    "gb = GradientBoostingClassifier(learning_rate=0.01, max_depth=4, n_estimators=500, subsample=0.7, random_state=42)\n",
    "gb.fit(x_train_ss, y_train)\n",
    "pred = gb.predict(x_test_ss)\n",
    "print(accuracy_score(y_test, pred))\n",
    "print(f1_score(y_test, pred))\n",
    "print(recall_score(y_test, pred))\n",
    "print(precision_score(y_test, pred))\n",
    "from sklearn.metrics import confusion_matrix\n",
    "confusion_matrix(y_test, pred)"
   ]
  },
  {
   "cell_type": "code",
   "execution_count": 19,
   "id": "ab5108d8",
   "metadata": {},
   "outputs": [],
   "source": [
    "object_columns = train.select_dtypes('object').columns\n",
    "for column in object_columns:\n",
    "    dummy = pd.get_dummies(input[column], prefix=column)\n",
    "    input = pd.concat([input, dummy], axis = 1)\n",
    "    input.drop(column, axis = 1, inplace=True)\n",
    "    dummy = pd.get_dummies(test[column], prefix=column)\n",
    "    test = pd.concat([test, dummy], axis = 1)\n",
    "    test.drop(column, axis = 1, inplace=True)\n",
    "\n",
    "\n",
    "ss = MinMaxScaler()\n",
    "input_ss = ss.fit_transform(input)\n",
    "test_ss = ss.transform(test)\n",
    "\n",
    "gb = GradientBoostingClassifier(learning_rate=0.01, max_depth=4, n_estimators=500, subsample=0.7, random_state=42)\n",
    "gb.fit(input_ss, target)\n",
    "pred = gb.predict(test_ss)"
   ]
  },
  {
   "cell_type": "code",
   "execution_count": 7,
   "id": "cbc200fd",
   "metadata": {},
   "outputs": [],
   "source": [
    "result = pd.read_csv('./smhrd_data/sampleSubmission.csv')\n",
    "result['Reached.on.Time_Y.N'] = pred\n",
    "result.to_csv('result_gbm_yj.csv', index=False)"
   ]
  },
  {
   "cell_type": "code",
   "execution_count": null,
   "id": "6dbbfba8",
   "metadata": {},
   "outputs": [],
   "source": [
    "result = pd.read_csv('result_gbm_yj.csv')\n",
    "count = 0\n",
    "for i in range(len(pred)):\n",
    "    if result['Reached.on.Time_Y.N'][i]==pred[i]:\n",
    "        count += 1\n",
    "        \n",
    "print(count)"
   ]
  },
  {
   "cell_type": "markdown",
   "id": "38702e75",
   "metadata": {},
   "source": [
    "## 여기아래부터는 recall-precision관련 테스트용 모델이니 상관쓰지 않아도 o"
   ]
  },
  {
   "cell_type": "code",
   "execution_count": 12,
   "id": "6c6ea311",
   "metadata": {},
   "outputs": [],
   "source": [
    "object_columns = train.select_dtypes('object').columns\n",
    "for column in object_columns:\n",
    "    dummy = pd.get_dummies(input[column], prefix=column)\n",
    "    input = pd.concat([input, dummy], axis = 1)\n",
    "    input.drop(column, axis = 1, inplace=True)\n",
    "    dummy = pd.get_dummies(test[column], prefix=column)\n",
    "    test = pd.concat([test, dummy], axis = 1)\n",
    "    test.drop(column, axis = 1, inplace=True)\n",
    "\n",
    "# for column in object_columns:\n",
    "#     dummy = pd.get_dummies(test[column], prefix=column)\n",
    "#     test = pd.concat([test, dummy], axis = 1)\n",
    "#     test.drop(column, axis = 1, inplace=True)\n",
    "    \n",
    "    \n",
    "ss = MinMaxScaler()\n",
    "input_ss = ss.fit_transform(input)\n",
    "test_ss = ss.transform(test)\n",
    "\n",
    "# gb = GradientBoostingClassifier(ccp_alpha=0.0, criterion='friedman_mse', init=None,\n",
    "#                            learning_rate=0.1, loss='log_loss', max_depth=3,\n",
    "#                            max_features=None, max_leaf_nodes=None,\n",
    "#                            min_impurity_decrease=0.0, min_samples_leaf=1,\n",
    "#                            min_samples_split=2, min_weight_fraction_leaf=0.0,\n",
    "#                            n_estimators=100, n_iter_no_change=None,\n",
    "#                            random_state=42, subsample=1.0, tol=0.0001,\n",
    "#                            validation_fraction=0.1, verbose=0,\n",
    "#                            warm_start=False)\n",
    "gb = GradientBoostingClassifier(ccp_alpha=0.0, criterion='friedman_mse', init=None,\n",
    "                           learning_rate=0.1, loss='log_loss', max_depth=3,\n",
    "                           max_features=None, max_leaf_nodes=None,\n",
    "                           min_impurity_decrease=0.0, min_samples_leaf=5,\n",
    "                           min_samples_split=5, min_weight_fraction_leaf=0.0,\n",
    "                           n_estimators=50, n_iter_no_change=None,\n",
    "                           random_state=42, subsample=1.0, tol=0.0001,\n",
    "                           validation_fraction=0.1, verbose=0,\n",
    "                           warm_start=False)\n",
    "gb.fit(input_ss, target)\n",
    "pred = gb.predict(test_ss)"
   ]
  },
  {
   "cell_type": "code",
   "execution_count": 13,
   "id": "a27aaf91",
   "metadata": {},
   "outputs": [],
   "source": [
    "result = pd.read_csv('./smhrd_data/sampleSubmission.csv')\n",
    "result['Reached.on.Time_Y.N'] = pred\n",
    "result.to_csv('result_gbm_yj02.csv', index=False)"
   ]
  },
  {
   "cell_type": "code",
   "execution_count": 14,
   "id": "30f2f036",
   "metadata": {},
   "outputs": [
    {
     "name": "stdout",
     "output_type": "stream",
     "text": [
      "4000\n"
     ]
    }
   ],
   "source": [
    "result = pd.read_csv('result_gbm_yj02.csv')\n",
    "count = 0\n",
    "for i in range(len(pred)):\n",
    "    if result['Reached.on.Time_Y.N'][i]==pred[i]:\n",
    "        count += 1\n",
    "        \n",
    "print(count)"
   ]
  },
  {
   "cell_type": "code",
   "execution_count": null,
   "id": "1bec6405",
   "metadata": {},
   "outputs": [],
   "source": []
  }
 ],
 "metadata": {
  "kernelspec": {
   "display_name": "Python 3 (ipykernel)",
   "language": "python",
   "name": "python3"
  },
  "language_info": {
   "codemirror_mode": {
    "name": "ipython",
    "version": 3
   },
   "file_extension": ".py",
   "mimetype": "text/x-python",
   "name": "python",
   "nbconvert_exporter": "python",
   "pygments_lexer": "ipython3",
   "version": "3.10.12"
  }
 },
 "nbformat": 4,
 "nbformat_minor": 5
}
