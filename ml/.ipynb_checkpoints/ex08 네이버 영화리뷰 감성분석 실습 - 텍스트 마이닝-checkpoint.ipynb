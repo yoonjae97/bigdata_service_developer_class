{
 "cells": [
  {
   "cell_type": "markdown",
   "id": "38ceb3c7",
   "metadata": {},
   "source": [
    "### 환경 설정"
   ]
  },
  {
   "cell_type": "code",
   "execution_count": 1,
   "id": "472e8d35",
   "metadata": {},
   "outputs": [
    {
     "name": "stdout",
     "output_type": "stream",
     "text": [
      "True\n"
     ]
    }
   ],
   "source": [
    "# 1. java 설치(version 1.7 이상)\n",
    "# cmd 창에서 java --version으로 확인\n",
    "# 2. 환경 변수 설정\n",
    "# 제어판 > 시스템 > 고급 시스템 설정 > 고급 > 환경 변수\n",
    "import os\n",
    "print(\"JAVA_HOME\" in os.environ)"
   ]
  },
  {
   "cell_type": "code",
   "execution_count": 2,
   "id": "f4a8d31d",
   "metadata": {},
   "outputs": [
    {
     "name": "stdout",
     "output_type": "stream",
     "text": [
      "Requirement already satisfied: jpype1 in c:\\users\\user21\\anaconda3\\lib\\site-packages (1.4.1)\n",
      "Requirement already satisfied: packaging in c:\\users\\user21\\anaconda3\\lib\\site-packages (from jpype1) (23.0)\n"
     ]
    }
   ],
   "source": [
    "!pip install jpype1"
   ]
  },
  {
   "cell_type": "code",
   "execution_count": 3,
   "id": "5663377c",
   "metadata": {},
   "outputs": [
    {
     "name": "stdout",
     "output_type": "stream",
     "text": [
      "Requirement already satisfied: konlpy in c:\\users\\user21\\anaconda3\\lib\\site-packages (0.6.0)\n",
      "Requirement already satisfied: JPype1>=0.7.0 in c:\\users\\user21\\anaconda3\\lib\\site-packages (from konlpy) (1.4.1)\n",
      "Requirement already satisfied: lxml>=4.1.0 in c:\\users\\user21\\anaconda3\\lib\\site-packages (from konlpy) (4.9.2)\n",
      "Requirement already satisfied: numpy>=1.6 in c:\\users\\user21\\anaconda3\\lib\\site-packages (from konlpy) (1.23.5)\n",
      "Requirement already satisfied: packaging in c:\\users\\user21\\anaconda3\\lib\\site-packages (from JPype1>=0.7.0->konlpy) (23.0)\n"
     ]
    }
   ],
   "source": [
    "# 한국어 형태소 분석기 konlpy\n",
    "!pip install konlpy"
   ]
  },
  {
   "cell_type": "code",
   "execution_count": 4,
   "id": "e38bf364",
   "metadata": {},
   "outputs": [],
   "source": [
    "from konlpy.tag import Kkma"
   ]
  },
  {
   "cell_type": "code",
   "execution_count": 5,
   "id": "23e6a3e4",
   "metadata": {},
   "outputs": [],
   "source": [
    "kkma = Kkma()"
   ]
  },
  {
   "cell_type": "markdown",
   "id": "a8d525be",
   "metadata": {},
   "source": [
    "### 목표 설정\n",
    "- 네이버 영화리뷰 데이터 셋을 이용해서 긍정/부정 분류기를 만들어보자.\n",
    "- tf-idf 토큰화 방법을 사용해보자.\n",
    "- konlpy 한국어 형태소 분석기를 사용해보자.(설치 및 활용)\n",
    "- 단어별 긍/부정 정보를 시각화 해서 확인"
   ]
  },
  {
   "cell_type": "markdown",
   "id": "651f611b",
   "metadata": {},
   "source": [
    "### 네이버 데이터 로딩"
   ]
  },
  {
   "cell_type": "code",
   "execution_count": 6,
   "id": "3435e05e",
   "metadata": {},
   "outputs": [],
   "source": [
    "# 필요한 라이브러리 불러오기\n",
    "import pandas as pd\n",
    "import numpy as np\n",
    "import matplotlib.pyplot as plt"
   ]
  },
  {
   "cell_type": "code",
   "execution_count": 7,
   "id": "ce106f01",
   "metadata": {},
   "outputs": [],
   "source": [
    "# 데이터 불러오기\n",
    "train_df = pd.read_csv('./data/ratings_train.csv')\n",
    "test_df = pd.read_csv('./data/ratings_test.csv')"
   ]
  },
  {
   "cell_type": "code",
   "execution_count": 8,
   "id": "3232dfd9",
   "metadata": {},
   "outputs": [],
   "source": [
    "# 판다스 데이터프레임 설정\n",
    "# pd.set_option('display.max_colwidth', None)\n",
    "# pd.set_option('display.max_rows', None)"
   ]
  },
  {
   "cell_type": "markdown",
   "id": "ec2f1128",
   "metadata": {},
   "source": [
    "**컬럼 정리**\n",
    "- id : 사용자 교유 식별 번호\n",
    "- document : 실제 리뷰 내용\n",
    "- label : 긍정/부정 구분 "
   ]
  },
  {
   "cell_type": "code",
   "execution_count": 9,
   "id": "a4b90312",
   "metadata": {},
   "outputs": [
    {
     "name": "stdout",
     "output_type": "stream",
     "text": [
      "<class 'pandas.core.frame.DataFrame'>\n",
      "RangeIndex: 150000 entries, 0 to 149999\n",
      "Data columns (total 3 columns):\n",
      " #   Column    Non-Null Count   Dtype \n",
      "---  ------    --------------   ----- \n",
      " 0   id        150000 non-null  int64 \n",
      " 1   document  149995 non-null  object\n",
      " 2   label     150000 non-null  int64 \n",
      "dtypes: int64(2), object(1)\n",
      "memory usage: 3.4+ MB\n"
     ]
    }
   ],
   "source": [
    "# 데이터 프레임 확인 - info()\n",
    "# train의 정보 확인\n",
    "train_df.info()"
   ]
  },
  {
   "cell_type": "code",
   "execution_count": 10,
   "id": "6d3cc490",
   "metadata": {},
   "outputs": [
    {
     "name": "stdout",
     "output_type": "stream",
     "text": [
      "<class 'pandas.core.frame.DataFrame'>\n",
      "RangeIndex: 50000 entries, 0 to 49999\n",
      "Data columns (total 3 columns):\n",
      " #   Column    Non-Null Count  Dtype \n",
      "---  ------    --------------  ----- \n",
      " 0   id        50000 non-null  int64 \n",
      " 1   document  49997 non-null  object\n",
      " 2   label     50000 non-null  int64 \n",
      "dtypes: int64(2), object(1)\n",
      "memory usage: 1.1+ MB\n"
     ]
    }
   ],
   "source": [
    "# test의 정보 확인\n",
    "test_df.info()"
   ]
  },
  {
   "cell_type": "markdown",
   "id": "c9a9aaf9",
   "metadata": {},
   "source": [
    "- train 데이터 : 총 데이터 개수 : 15만개 / 결측치 5개\n",
    "- test 데이터 : 총 데이터 개수 : 5만개 / 결측치 3개\n",
    "- 데이터 볼륨에 비해 결측치의 양이 적다.\n",
    "- 실제 리뷰 데이터 채워주기엔 무리가 있다.\n",
    "- 결측치가 있는 부분을 삭제 하도록 하자"
   ]
  },
  {
   "cell_type": "code",
   "execution_count": 11,
   "id": "8731994d",
   "metadata": {},
   "outputs": [],
   "source": [
    "# 결측치 데이터 삭제\n",
    "\n",
    "train_df.dropna(inplace=True)\n",
    "test_df.dropna(inplace=True)"
   ]
  },
  {
   "cell_type": "code",
   "execution_count": 12,
   "id": "ebb6aeb9",
   "metadata": {
    "scrolled": false
   },
   "outputs": [
    {
     "name": "stdout",
     "output_type": "stream",
     "text": [
      "<class 'pandas.core.frame.DataFrame'>\n",
      "Int64Index: 149995 entries, 0 to 149999\n",
      "Data columns (total 3 columns):\n",
      " #   Column    Non-Null Count   Dtype \n",
      "---  ------    --------------   ----- \n",
      " 0   id        149995 non-null  int64 \n",
      " 1   document  149995 non-null  object\n",
      " 2   label     149995 non-null  int64 \n",
      "dtypes: int64(2), object(1)\n",
      "memory usage: 4.6+ MB\n"
     ]
    }
   ],
   "source": [
    "train_df.info()"
   ]
  },
  {
   "cell_type": "code",
   "execution_count": 14,
   "id": "0a5314a9",
   "metadata": {},
   "outputs": [],
   "source": [
    "from sklearn.model_selection import train_test_split\n",
    "x_train = train_df['document']\n",
    "x_test =  test_df['document']\n",
    "y_train = train_df['label']\n",
    "y_test = test_df['label']"
   ]
  },
  {
   "cell_type": "code",
   "execution_count": 15,
   "id": "d1d297ed",
   "metadata": {},
   "outputs": [
    {
     "data": {
      "text/plain": [
       "((149995,), (49997,), (149995,), (49997,))"
      ]
     },
     "execution_count": 15,
     "metadata": {},
     "output_type": "execute_result"
    }
   ],
   "source": [
    "# 데이터 분할 확인\n",
    "x_train.shape, x_test.shape, y_train.shape, y_test.shape"
   ]
  },
  {
   "cell_type": "markdown",
   "id": "e2afe9ce",
   "metadata": {},
   "source": [
    "**Vectorizer**\n",
    "- Vectorizer는 말 그대로 어떠한 대상으로 벡터화 시켜주는 도구다\n",
    "- 수치값으로 바꿔주는 도구\n"
   ]
  },
  {
   "cell_type": "markdown",
   "id": "00b29655",
   "metadata": {},
   "source": [
    "### BOW - 단어가방\n",
    "- 문서를 벡터로 변환하는 가장 기본적인 방법으로 문서 내부에 모든 단어를 모아서 하나의 가방을 만들고, 특정 문서에 어떤 단어가 있는지 리스트의 형태로 순서 - 숫자 형태로 나타내는 방법"
   ]
  },
  {
   "cell_type": "code",
   "execution_count": 16,
   "id": "b7ac34cd",
   "metadata": {},
   "outputs": [],
   "source": [
    "# tf-idf vectorizer import\n",
    "# 사이킷런에 있는 특성 추출 도구 중에서 텍스트 추출 도구를 가져올거고\n",
    "from sklearn.feature_extraction.text import TfidfVectorizer"
   ]
  },
  {
   "cell_type": "code",
   "execution_count": 17,
   "id": "63675e1f",
   "metadata": {},
   "outputs": [
    {
     "data": {
      "text/plain": [
       "dict_keys(['더빙', '진짜', '짜증나네요', '목소리', '포스터보고', '초딩영화줄', '오버연기조차', '가볍지', '않구나', '너무재밓었다그래서보는것을추천한다'])"
      ]
     },
     "execution_count": 17,
     "metadata": {},
     "output_type": "execute_result"
    }
   ],
   "source": [
    "tf_idf_vect = TfidfVectorizer()\n",
    "\n",
    "tf_idf_vect.fit(x_train[:3])\n",
    "\n",
    "tf_idf_vect.vocabulary_.keys()"
   ]
  },
  {
   "cell_type": "code",
   "execution_count": 18,
   "id": "9620ed24",
   "metadata": {},
   "outputs": [],
   "source": [
    "from konlpy.tag import Kkma\n",
    "# Hannanum, Kkma, Okt, Komoran, Mecab"
   ]
  },
  {
   "cell_type": "markdown",
   "id": "e95ede62",
   "metadata": {},
   "source": [
    "**Kkma 라이브러리 알아괴**\n",
    "- Kkma : 꼬꼬마\n",
    "- nouns() : 명사 추출\n",
    "- morphs() : 형태소 추출\n",
    "- pos() : 형태소 추출 + 품사 태그 부착"
   ]
  },
  {
   "cell_type": "code",
   "execution_count": 19,
   "id": "15be8477",
   "metadata": {},
   "outputs": [],
   "source": [
    "# 한국어 형태소 분석기 객체 생성\n",
    "kkma = Kkma()"
   ]
  },
  {
   "cell_type": "code",
   "execution_count": 21,
   "id": "96d03f07",
   "metadata": {},
   "outputs": [
    {
     "data": {
      "text/plain": [
       "'아 더빙.. 진짜 짜증나네요 목소리'"
      ]
     },
     "execution_count": 21,
     "metadata": {},
     "output_type": "execute_result"
    }
   ],
   "source": [
    "x_train[0]"
   ]
  },
  {
   "cell_type": "code",
   "execution_count": 22,
   "id": "969a9e65",
   "metadata": {},
   "outputs": [
    {
     "data": {
      "text/plain": [
       "['더빙', '목소리']"
      ]
     },
     "execution_count": 22,
     "metadata": {},
     "output_type": "execute_result"
    }
   ],
   "source": [
    "# 명사 추출 : nouns()\n",
    "kkma.nouns(x_train[0])"
   ]
  },
  {
   "cell_type": "code",
   "execution_count": 23,
   "id": "93e08eee",
   "metadata": {},
   "outputs": [],
   "source": [
    "def myTokenizer(text):\n",
    "    return kkma.nouns(text)"
   ]
  },
  {
   "cell_type": "code",
   "execution_count": 26,
   "id": "1d3f42df",
   "metadata": {},
   "outputs": [
    {
     "data": {
      "text/plain": [
       "dict_keys(['더빙', '목소리', '흠', '포스터', '포스터보고', '보고', '초', '초딩영화줄', '딩', '영화', '줄', '오버', '오버연기', '연기', '재', '재밓', '밓', '추천'])"
      ]
     },
     "execution_count": 26,
     "metadata": {},
     "output_type": "execute_result"
    }
   ],
   "source": [
    "temp_tf_idf = TfidfVectorizer(tokenizer=myTokenizer)\n",
    "\n",
    "temp_tf_idf.fit(x_train[0:3])\n",
    "\n",
    "temp_tf_idf.vocabulary_.keys()"
   ]
  },
  {
   "cell_type": "code",
   "execution_count": 27,
   "id": "67e9ea2e",
   "metadata": {},
   "outputs": [
    {
     "data": {
      "text/plain": [
       "{'더빙': 0,\n",
       " '목소리': 2,\n",
       " '흠': 17,\n",
       " '포스터': 15,\n",
       " '포스터보고': 16,\n",
       " '보고': 4,\n",
       " '초': 12,\n",
       " '초딩영화줄': 13,\n",
       " '딩': 1,\n",
       " '영화': 6,\n",
       " '줄': 11,\n",
       " '오버': 7,\n",
       " '오버연기': 8,\n",
       " '연기': 5,\n",
       " '재': 9,\n",
       " '재밓': 10,\n",
       " '밓': 3,\n",
       " '추천': 14}"
      ]
     },
     "execution_count": 27,
     "metadata": {},
     "output_type": "execute_result"
    }
   ],
   "source": [
    "temp_tf_idf.vocabulary_"
   ]
  },
  {
   "cell_type": "markdown",
   "id": "85598f98",
   "metadata": {},
   "source": [
    "### pos tagging  활용\n",
    "- 형태소를 추출해서 품사 태깅까지 부착해주는 기능"
   ]
  },
  {
   "cell_type": "code",
   "execution_count": 28,
   "id": "0e9757a1",
   "metadata": {},
   "outputs": [
    {
     "data": {
      "text/plain": [
       "{'EC': '연결 어미',\n",
       " 'ECD': '의존적 연결 어미',\n",
       " 'ECE': '대등 연결 어미',\n",
       " 'ECS': '보조적 연결 어미',\n",
       " 'EF': '종결 어미',\n",
       " 'EFA': '청유형 종결 어미',\n",
       " 'EFI': '감탄형 종결 어미',\n",
       " 'EFN': '평서형 종결 어미',\n",
       " 'EFO': '명령형 종결 어미',\n",
       " 'EFQ': '의문형 종결 어미',\n",
       " 'EFR': '존칭형 종결 어미',\n",
       " 'EP': '선어말 어미',\n",
       " 'EPH': '존칭 선어말 어미',\n",
       " 'EPP': '공손 선어말 어미',\n",
       " 'EPT': '시제 선어말 어미',\n",
       " 'ET': '전성 어미',\n",
       " 'ETD': '관형형 전성 어미',\n",
       " 'ETN': '명사형 전성 어미',\n",
       " 'IC': '감탄사',\n",
       " 'JC': '접속 조사',\n",
       " 'JK': '조사',\n",
       " 'JKC': '보격 조사',\n",
       " 'JKG': '관형격 조사',\n",
       " 'JKI': '호격 조사',\n",
       " 'JKM': '부사격 조사',\n",
       " 'JKO': '목적격 조사',\n",
       " 'JKQ': '인용격 조사',\n",
       " 'JKS': '주격 조사',\n",
       " 'JX': '보조사',\n",
       " 'MA': '부사',\n",
       " 'MAC': '접속 부사',\n",
       " 'MAG': '일반 부사',\n",
       " 'MD': '관형사',\n",
       " 'MDN': '수 관형사',\n",
       " 'MDT': '일반 관형사',\n",
       " 'NN': '명사',\n",
       " 'NNB': '일반 의존 명사',\n",
       " 'NNG': '보통명사',\n",
       " 'NNM': '단위 의존 명사',\n",
       " 'NNP': '고유명사',\n",
       " 'NP': '대명사',\n",
       " 'NR': '수사',\n",
       " 'OH': '한자',\n",
       " 'OL': '외국어',\n",
       " 'ON': '숫자',\n",
       " 'SE': '줄임표',\n",
       " 'SF': '마침표, 물음표, 느낌표',\n",
       " 'SO': '붙임표(물결,숨김,빠짐)',\n",
       " 'SP': '쉼표,가운뎃점,콜론,빗금',\n",
       " 'SS': '따옴표,괄호표,줄표',\n",
       " 'SW': '기타기호 (논리수학기호,화폐기호)',\n",
       " 'UN': '명사추정범주',\n",
       " 'VA': '형용사',\n",
       " 'VC': '지정사',\n",
       " 'VCN': \"부정 지정사, 형용사 '아니다'\",\n",
       " 'VCP': \"긍정 지정사, 서술격 조사 '이다'\",\n",
       " 'VV': '동사',\n",
       " 'VX': '보조 용언',\n",
       " 'VXA': '보조 형용사',\n",
       " 'VXV': '보조 동사',\n",
       " 'XP': '접두사',\n",
       " 'XPN': '체언 접두사',\n",
       " 'XPV': '용언 접두사',\n",
       " 'XR': '어근',\n",
       " 'XSA': '형용사 파생 접미사',\n",
       " 'XSN': '명사파생 접미사',\n",
       " 'XSV': '동사 파생 접미사'}"
      ]
     },
     "execution_count": 28,
     "metadata": {},
     "output_type": "execute_result"
    }
   ],
   "source": [
    "# 품사 태그 종류 출력해보기\n",
    "kkma.tagset"
   ]
  },
  {
   "cell_type": "code",
   "execution_count": 29,
   "id": "61891593",
   "metadata": {},
   "outputs": [
    {
     "data": {
      "text/plain": [
       "['먹',\n",
       " '다',\n",
       " '먹',\n",
       " '는',\n",
       " '다',\n",
       " '먹',\n",
       " '었',\n",
       " '다',\n",
       " '아름답',\n",
       " '다',\n",
       " '멋지',\n",
       " '다',\n",
       " '안경',\n",
       " '마스크',\n",
       " '사진',\n",
       " '모자']"
      ]
     },
     "execution_count": 29,
     "metadata": {},
     "output_type": "execute_result"
    }
   ],
   "source": [
    "# 단순 형태소 추출\n",
    "data = '먹다 먹는다 먹었다 아름답다 멋지다 안경 마스크 사진 모자'\n",
    "kkma.morphs(data)"
   ]
  },
  {
   "cell_type": "code",
   "execution_count": 30,
   "id": "adae4c74",
   "metadata": {},
   "outputs": [
    {
     "data": {
      "text/plain": [
       "[('먹', 'VV'),\n",
       " ('다', 'ECS'),\n",
       " ('먹', 'VV'),\n",
       " ('는', 'EPT'),\n",
       " ('다', 'ECS'),\n",
       " ('먹', 'VV'),\n",
       " ('었', 'EPT'),\n",
       " ('다', 'ECS'),\n",
       " ('아름답', 'VA'),\n",
       " ('다', 'ECS'),\n",
       " ('멋지', 'VA'),\n",
       " ('다', 'ECS'),\n",
       " ('안경', 'NNG'),\n",
       " ('마스크', 'NNG'),\n",
       " ('사진', 'NNG'),\n",
       " ('모자', 'NNG')]"
      ]
     },
     "execution_count": 30,
     "metadata": {},
     "output_type": "execute_result"
    }
   ],
   "source": [
    "kkma.pos(data)"
   ]
  },
  {
   "cell_type": "code",
   "execution_count": 31,
   "id": "9fc9f56b",
   "metadata": {},
   "outputs": [],
   "source": [
    "d = pd.DataFrame(kkma.pos(data), columns=['morphs', 'tag'])\n",
    "d.set_index('tag', inplace=True)"
   ]
  },
  {
   "cell_type": "code",
   "execution_count": 32,
   "id": "0f5afb78",
   "metadata": {},
   "outputs": [
    {
     "data": {
      "text/html": [
       "<div>\n",
       "<style scoped>\n",
       "    .dataframe tbody tr th:only-of-type {\n",
       "        vertical-align: middle;\n",
       "    }\n",
       "\n",
       "    .dataframe tbody tr th {\n",
       "        vertical-align: top;\n",
       "    }\n",
       "\n",
       "    .dataframe thead th {\n",
       "        text-align: right;\n",
       "    }\n",
       "</style>\n",
       "<table border=\"1\" class=\"dataframe\">\n",
       "  <thead>\n",
       "    <tr style=\"text-align: right;\">\n",
       "      <th></th>\n",
       "      <th>morphs</th>\n",
       "    </tr>\n",
       "    <tr>\n",
       "      <th>tag</th>\n",
       "      <th></th>\n",
       "    </tr>\n",
       "  </thead>\n",
       "  <tbody>\n",
       "    <tr>\n",
       "      <th>VV</th>\n",
       "      <td>먹</td>\n",
       "    </tr>\n",
       "    <tr>\n",
       "      <th>ECS</th>\n",
       "      <td>다</td>\n",
       "    </tr>\n",
       "    <tr>\n",
       "      <th>VV</th>\n",
       "      <td>먹</td>\n",
       "    </tr>\n",
       "    <tr>\n",
       "      <th>EPT</th>\n",
       "      <td>는</td>\n",
       "    </tr>\n",
       "    <tr>\n",
       "      <th>ECS</th>\n",
       "      <td>다</td>\n",
       "    </tr>\n",
       "    <tr>\n",
       "      <th>VV</th>\n",
       "      <td>먹</td>\n",
       "    </tr>\n",
       "    <tr>\n",
       "      <th>EPT</th>\n",
       "      <td>었</td>\n",
       "    </tr>\n",
       "    <tr>\n",
       "      <th>ECS</th>\n",
       "      <td>다</td>\n",
       "    </tr>\n",
       "    <tr>\n",
       "      <th>VA</th>\n",
       "      <td>아름답</td>\n",
       "    </tr>\n",
       "    <tr>\n",
       "      <th>ECS</th>\n",
       "      <td>다</td>\n",
       "    </tr>\n",
       "    <tr>\n",
       "      <th>VA</th>\n",
       "      <td>멋지</td>\n",
       "    </tr>\n",
       "    <tr>\n",
       "      <th>ECS</th>\n",
       "      <td>다</td>\n",
       "    </tr>\n",
       "    <tr>\n",
       "      <th>NNG</th>\n",
       "      <td>안경</td>\n",
       "    </tr>\n",
       "    <tr>\n",
       "      <th>NNG</th>\n",
       "      <td>마스크</td>\n",
       "    </tr>\n",
       "    <tr>\n",
       "      <th>NNG</th>\n",
       "      <td>사진</td>\n",
       "    </tr>\n",
       "    <tr>\n",
       "      <th>NNG</th>\n",
       "      <td>모자</td>\n",
       "    </tr>\n",
       "  </tbody>\n",
       "</table>\n",
       "</div>"
      ],
      "text/plain": [
       "    morphs\n",
       "tag       \n",
       "VV       먹\n",
       "ECS      다\n",
       "VV       먹\n",
       "EPT      는\n",
       "ECS      다\n",
       "VV       먹\n",
       "EPT      었\n",
       "ECS      다\n",
       "VA     아름답\n",
       "ECS      다\n",
       "VA      멋지\n",
       "ECS      다\n",
       "NNG     안경\n",
       "NNG    마스크\n",
       "NNG     사진\n",
       "NNG     모자"
      ]
     },
     "execution_count": 32,
     "metadata": {},
     "output_type": "execute_result"
    }
   ],
   "source": [
    "d"
   ]
  },
  {
   "cell_type": "code",
   "execution_count": null,
   "id": "6db19588",
   "metadata": {},
   "outputs": [],
   "source": []
  }
 ],
 "metadata": {
  "kernelspec": {
   "display_name": "Python 3 (ipykernel)",
   "language": "python",
   "name": "python3"
  },
  "language_info": {
   "codemirror_mode": {
    "name": "ipython",
    "version": 3
   },
   "file_extension": ".py",
   "mimetype": "text/x-python",
   "name": "python",
   "nbconvert_exporter": "python",
   "pygments_lexer": "ipython3",
   "version": "3.10.12"
  }
 },
 "nbformat": 4,
 "nbformat_minor": 5
}
