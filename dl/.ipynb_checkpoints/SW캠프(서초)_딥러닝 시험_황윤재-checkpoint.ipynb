{
 "cells": [
  {
   "cell_type": "markdown",
   "id": "52a672e2",
   "metadata": {},
   "source": [
    "# 문제 1-1\n",
    "- 선형 회귀란 y = ax + b의 1차식의 형태로 연속적인 실수 값을 예측해내는 것을 의미한다. 여기서 x는 특성값 a는 가중치, b는 바이어스를 의미하며 예측값과 실제값의 차이를 최소로 하는 방향으로 a, b를 수정하는 방식이다.\n",
    "- 로지스틱 회귀란 이름은 회귀이지만 0, 1로 분류하는 분류 방식이며 선형 회귀를 기반으로 데이터 클래스를 가장 잘 분류하는 최적의 기준선을 찾아내는 과정을 말한다."
   ]
  },
  {
   "cell_type": "markdown",
   "id": "b05903dd",
   "metadata": {},
   "source": [
    "# 문제 1-2\n",
    "- 회귀분석의 평가지표 중 하나로 개별 데이터의 예측값과 실제값의 차이를 제곱하여 평균을 낸 값"
   ]
  },
  {
   "cell_type": "markdown",
   "id": "4a17bc92",
   "metadata": {},
   "source": [
    "# 문제 1-3\n",
    "- 딥러닝에서 좋은 성능을 보이는 가중치를 찾기 위해 사용되며 손실함수의 기울기를 구하여 낮아지는 방향으로 계속 이동하여 파라미터 값을 최적화 시키는 방법"
   ]
  },
  {
   "cell_type": "markdown",
   "id": "f6c90429",
   "metadata": {},
   "source": [
    "# 문제 1-4\n",
    "- 분류에서의 출력함수 중 하나로 출력층에서 사용되며 0에 가까울 수록 클래스가 0이라는 것을 1에 가까울 수록 클래스 1에 가깝다는 것을 나타내며 이진분류에서 사용된다."
   ]
  },
  {
   "cell_type": "markdown",
   "id": "50782cc2",
   "metadata": {},
   "source": [
    "# 문제 2-1\n",
    "- 퍼셉트론이란 신경망을 구성하는 가장 기본 단위로 인간의 뇌구조를 모방하여 만든 것이다. y= w1x1 + w2x2 + b와 같은 형태로 구성되어 있다. w는 각 입력 신호가 결과에 주는 영향력을 조절하는 매개변수인 가중치라고 한다. b는 편향으로 뉴런이 얼마나 쉽게 활성화하느냐를 조절하는 매개변수이다."
   ]
  },
  {
   "cell_type": "markdown",
   "id": "d1119fa5",
   "metadata": {},
   "source": [
    "# 문제 2-2\n",
    "- XOR 문제는 하나라도 X일 경우를 1로 분류하는 문제이다. 초기의 딥러닝에서는 선형 회귀를 이용할경우 하나의 선만으로는 XOR들을 분류해내지 못했다. 이 문제를 단층 퍼셉트론의 차원수를 확장시켜 여러 개의 층으로 구성함으로써 해결할 수 있었다. 예를 들자면 2차원에서는 하나의 선으로 XOR을 분류해내지 못했지만 3차원으로 문제를 이동하면 선하나로도 분류가 가능해졌다."
   ]
  },
  {
   "cell_type": "markdown",
   "id": "3c52380e",
   "metadata": {},
   "source": [
    "# 문제 2-3\n",
    "- 순전파와는 달리 출력층에서 발생한 에러를 입력층 쪽으로 전파시키면서 최적의 결과를 위해 신경망의 가중치를 학습해나가는 과정을 의미하며 신경망 학습 과정에서는 loss함수의 미분을 사용한다."
   ]
  },
  {
   "cell_type": "markdown",
   "id": "8bb67162",
   "metadata": {},
   "source": [
    "# 문제 2-4\n",
    "- 기울기 소실이란 출력층으로 SIgmoid를 사용했을 경우 미분 값이 최대 0.3정도로 매우 작아져 역전파과정에서 손실함수의 미분값이 점점 작아지면서 0에 수렴하고 개선이 되지 않는 경우를 의미한다. 이를 해결하기 위해서 위 아래로 값을 더 늘려보는 하이퍼볼릭 탄젠트나 0보다 큰 경우에만 값을 보존하고 0이하면 다 0으로 처리하는 렐루 활성화함수등을 이용한다."
   ]
  },
  {
   "cell_type": "markdown",
   "id": "1f480629",
   "metadata": {},
   "source": [
    "# 문제 2-5\n",
    "- 학습할 데이터의 양이 부족하거나 모델(신경망)의 층이 많아져 복잡해지면 학습시 과대적합되기 쉽다. 이를 방지하기 위해 학습할 데이터의 양을 늘리거나 모델 중간중간에 Dropout을 넣어줌으로써 랜덤으로 특정 노드의 값을 0으로 만들어 과대적합을 방지할 수 있다. 또한 직접 은닉층의 수를 줄여 모델의 복잡성을 낮춤으로써 과대적합을 해결하는 방법도 있다."
   ]
  },
  {
   "cell_type": "markdown",
   "id": "8fbdd3e8",
   "metadata": {},
   "source": [
    "# 문제 2-6\n",
    "- 자극에 대한 반응 여부와 그 정도를 결정하는 함수로 인간처럼 사고하고 행동하는 인공지능 기술 실현을 위해 인간과 유사하게 역치이상의 자극만 전달하도록 설계되어있다. 선형 모델을 기반으로 하는 딥러닝 신경망에서 분류 문제를 해결하기 위해 비선형 활성화 함수가 필요한데 이는 여러개의 층을 쌓아도 활성화 함수로 선형함수를 사용하게 된다면 하나의 선형함수를 사용하는 것과 차이가 없기 때문이다."
   ]
  },
  {
   "cell_type": "markdown",
   "id": "ab69cdc9",
   "metadata": {},
   "source": [
    "# 문제 3-1\n",
    "model = Sequential()\n",
    "\n",
    "model.add(Dense(32, input_dim=10, activation='relu'))\n",
    "model.add(Dense(16, activation='relu'))\n",
    "model.add(Dense(8, activation='relu'))\n",
    "model.add(Dense(3, activation='softmax'))\n",
    "\n",
    "model.summary()"
   ]
  },
  {
   "cell_type": "markdown",
   "id": "9d886ab0",
   "metadata": {},
   "source": [
    "# 문제 3-2\n",
    "model.compile(loss = 'categorical_crossentropy',\n",
    "              optimizer='Adam',\n",
    "              metrics=['acc'])\n",
    "              \n",
    "h = model.fit(X_train, y_train,\n",
    "            epochs=100,\n",
    "            batch_size=20,\n",
    "            validation_split=0.25)"
   ]
  },
  {
   "cell_type": "markdown",
   "id": "eb81de2b",
   "metadata": {},
   "source": [
    "# 문제 3-3\n",
    "model.evaluate(X_test, y_test)\n",
    "\n",
    "- 또는\n",
    "pre = model.predict(X_test)\n",
    "print(classification_report(y_test, np.argmax(pre, axis=1)))"
   ]
  },
  {
   "cell_type": "markdown",
   "id": "b0889b07",
   "metadata": {},
   "source": []
  },
  {
   "cell_type": "markdown",
   "id": "cb88af53",
   "metadata": {},
   "source": []
  },
  {
   "cell_type": "code",
   "execution_count": null,
   "id": "7646b9d0",
   "metadata": {},
   "outputs": [],
   "source": []
  }
 ],
 "metadata": {
  "kernelspec": {
   "display_name": "Python 3 (ipykernel)",
   "language": "python",
   "name": "python3"
  },
  "language_info": {
   "codemirror_mode": {
    "name": "ipython",
    "version": 3
   },
   "file_extension": ".py",
   "mimetype": "text/x-python",
   "name": "python",
   "nbconvert_exporter": "python",
   "pygments_lexer": "ipython3",
   "version": "3.10.12"
  }
 },
 "nbformat": 4,
 "nbformat_minor": 5
}
